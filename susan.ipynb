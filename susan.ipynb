{
 "cells": [
  {
   "cell_type": "markdown",
   "id": "48c19d4b",
   "metadata": {},
   "source": [
    "# Analysis of the Film Industry for Business Expansion\n",
    "##  Project Overview\n",
    "\n",
    "In response to the growing trend of major corporations producing original content, our company is launching a data-driven initiative to establish a successful movie studio. Given our limited experience in film production, this project relies on a comprehensive analysis of film industry datasets to extract actionable insights.\n",
    "\n",
    "Our primary goal is to understand which aspects of the film industry—genres, directors, languages, and markets—are most closely associated with critical acclaim and financial success. These insights will inform a strategy that aligns creative projects with business objectives.\n",
    "\n",
    "\n",
    "##  Business Objective\n",
    "\n",
    "The film production landscape is increasingly influenced by streaming platforms, international markets, and digital distribution. To navigate this complexity, we must identify the key factors behind successful films using reliable, data-backed evidence.\n",
    "\n",
    "Through this analysis, we aim to:\n",
    "\n",
    "- Identify **genres** consistently praised by critics.\n",
    "- Determine **genres** with the highest **Return on Investment (ROI)** potential.\n",
    "- Recognize **directors** whose films perform well in **international markets**.\n",
    "- Discover **languages** most commonly associated with successful films.\n",
    "\n",
    "\n",
    "## Strategic Impact\n",
    "\n",
    "By answering these core questions, we will equip our studio team with the knowledge to:\n",
    "\n",
    "- Prioritize projects that are both critically and commercially promising.\n",
    "- Invest wisely in film concepts with high audience appeal and strong market potential.\n",
    "- Build a foundation for long-term success in the competitive entertainment industry.\n",
    "\n",
    "Let’s begin by exploring the data and uncovering the stories behind the numbers."
   ]
  },
  {
   "cell_type": "markdown",
   "id": "61568e37",
   "metadata": {},
   "source": [
    "# Loading and Exploring Datasets\n",
    "\n",
    "Before diving into analysis, it is essential to thoroughly explore each of the datasets and database tables we are working with. Our data sources span multiple reputable platforms, providing a comprehensive view of the film industry from both commercial and critical perspectives.\n",
    "\n",
    "### Datasets in Use:\n",
    "\n",
    "- **Box Office Mojo**\n",
    "- **IMDb**\n",
    "- **Rotten Tomatoes (Movies)**\n",
    "- **Rotten Tomatoes (Critic Reviews)**\n",
    "- **TheMovieDB**\n",
    "- **The Numbers**\n",
    "- **im.db** (SQLite database)\n",
    "\n",
    "\n",
    "###  Why Data Exploration Matters\n",
    "\n",
    "Data exploration is a critical step in any data-driven project. It helps us:\n",
    "\n",
    "- Understand the **structure, quality, and characteristics** of each dataset.\n",
    "- Identify and address issues such as **missing values**, **duplicates**, and **inconsistent formatting**.\n",
    "- Analyze **distributions** and **relationships** between variables to uncover initial patterns.\n",
    "- Develop an informed plan for **data cleaning**, **transformation**, and **integration**.\n",
    "\n",
    "By doing this, we reduce the risk of errors."
   ]
  },
  {
   "cell_type": "code",
   "execution_count": 11,
   "id": "5b2b56ac",
   "metadata": {},
   "outputs": [],
   "source": [
    "# import the necessary libraries\n",
    "import numpy as np\n",
    "import pandas as pd \n",
    "import sqlite3\n",
    "import matplotlib.pyplot as plt\n",
    "import seaborn as sns"
   ]
  },
  {
   "cell_type": "markdown",
   "id": "5e0a1b87",
   "metadata": {},
   "source": [
    "Load all datasets into pandas dataframes"
   ]
  },
  {
   "cell_type": "code",
   "execution_count": 12,
   "id": "694d9e59",
   "metadata": {},
   "outputs": [
    {
     "data": {
      "application/vnd.microsoft.datawrangler.viewer.v0+json": {
       "columns": [
        {
         "name": "index",
         "rawType": "int64",
         "type": "integer"
        },
        {
         "name": "title",
         "rawType": "object",
         "type": "string"
        },
        {
         "name": "studio",
         "rawType": "object",
         "type": "string"
        },
        {
         "name": "domestic_gross",
         "rawType": "float64",
         "type": "float"
        },
        {
         "name": "foreign_gross",
         "rawType": "object",
         "type": "string"
        },
        {
         "name": "year",
         "rawType": "int64",
         "type": "integer"
        }
       ],
       "ref": "5ae1fdf6-2f06-4f6f-93a0-43ed263ded4c",
       "rows": [
        [
         "0",
         "Toy Story 3",
         "BV",
         "415000000.0",
         "652000000",
         "2010"
        ],
        [
         "1",
         "Alice in Wonderland (2010)",
         "BV",
         "334200000.0",
         "691300000",
         "2010"
        ],
        [
         "2",
         "Harry Potter and the Deathly Hallows Part 1",
         "WB",
         "296000000.0",
         "664300000",
         "2010"
        ],
        [
         "3",
         "Inception",
         "WB",
         "292600000.0",
         "535700000",
         "2010"
        ],
        [
         "4",
         "Shrek Forever After",
         "P/DW",
         "238700000.0",
         "513900000",
         "2010"
        ]
       ],
       "shape": {
        "columns": 5,
        "rows": 5
       }
      },
      "text/html": [
       "<div>\n",
       "<style scoped>\n",
       "    .dataframe tbody tr th:only-of-type {\n",
       "        vertical-align: middle;\n",
       "    }\n",
       "\n",
       "    .dataframe tbody tr th {\n",
       "        vertical-align: top;\n",
       "    }\n",
       "\n",
       "    .dataframe thead th {\n",
       "        text-align: right;\n",
       "    }\n",
       "</style>\n",
       "<table border=\"1\" class=\"dataframe\">\n",
       "  <thead>\n",
       "    <tr style=\"text-align: right;\">\n",
       "      <th></th>\n",
       "      <th>title</th>\n",
       "      <th>studio</th>\n",
       "      <th>domestic_gross</th>\n",
       "      <th>foreign_gross</th>\n",
       "      <th>year</th>\n",
       "    </tr>\n",
       "  </thead>\n",
       "  <tbody>\n",
       "    <tr>\n",
       "      <th>0</th>\n",
       "      <td>Toy Story 3</td>\n",
       "      <td>BV</td>\n",
       "      <td>415000000.0</td>\n",
       "      <td>652000000</td>\n",
       "      <td>2010</td>\n",
       "    </tr>\n",
       "    <tr>\n",
       "      <th>1</th>\n",
       "      <td>Alice in Wonderland (2010)</td>\n",
       "      <td>BV</td>\n",
       "      <td>334200000.0</td>\n",
       "      <td>691300000</td>\n",
       "      <td>2010</td>\n",
       "    </tr>\n",
       "    <tr>\n",
       "      <th>2</th>\n",
       "      <td>Harry Potter and the Deathly Hallows Part 1</td>\n",
       "      <td>WB</td>\n",
       "      <td>296000000.0</td>\n",
       "      <td>664300000</td>\n",
       "      <td>2010</td>\n",
       "    </tr>\n",
       "    <tr>\n",
       "      <th>3</th>\n",
       "      <td>Inception</td>\n",
       "      <td>WB</td>\n",
       "      <td>292600000.0</td>\n",
       "      <td>535700000</td>\n",
       "      <td>2010</td>\n",
       "    </tr>\n",
       "    <tr>\n",
       "      <th>4</th>\n",
       "      <td>Shrek Forever After</td>\n",
       "      <td>P/DW</td>\n",
       "      <td>238700000.0</td>\n",
       "      <td>513900000</td>\n",
       "      <td>2010</td>\n",
       "    </tr>\n",
       "  </tbody>\n",
       "</table>\n",
       "</div>"
      ],
      "text/plain": [
       "                                         title studio  domestic_gross  \\\n",
       "0                                  Toy Story 3     BV     415000000.0   \n",
       "1                   Alice in Wonderland (2010)     BV     334200000.0   \n",
       "2  Harry Potter and the Deathly Hallows Part 1     WB     296000000.0   \n",
       "3                                    Inception     WB     292600000.0   \n",
       "4                          Shrek Forever After   P/DW     238700000.0   \n",
       "\n",
       "  foreign_gross  year  \n",
       "0     652000000  2010  \n",
       "1     691300000  2010  \n",
       "2     664300000  2010  \n",
       "3     535700000  2010  \n",
       "4     513900000  2010  "
      ]
     },
     "execution_count": 12,
     "metadata": {},
     "output_type": "execute_result"
    }
   ],
   "source": [
    "bom_df = pd.read_csv(\"bom.movie_gross.csv\")\n",
    "bom_df.head()\n"
   ]
  },
  {
   "cell_type": "code",
   "execution_count": 13,
   "id": "b661194f",
   "metadata": {},
   "outputs": [
    {
     "data": {
      "application/vnd.microsoft.datawrangler.viewer.v0+json": {
       "columns": [
        {
         "name": "index",
         "rawType": "int64",
         "type": "integer"
        },
        {
         "name": "rotten_tomatoes_link",
         "rawType": "object",
         "type": "string"
        },
        {
         "name": "critic_name",
         "rawType": "object",
         "type": "string"
        },
        {
         "name": "top_critic",
         "rawType": "bool",
         "type": "boolean"
        },
        {
         "name": "publisher_name",
         "rawType": "object",
         "type": "string"
        },
        {
         "name": "review_type",
         "rawType": "object",
         "type": "string"
        },
        {
         "name": "review_score",
         "rawType": "object",
         "type": "string"
        },
        {
         "name": "review_date",
         "rawType": "object",
         "type": "string"
        },
        {
         "name": "review_content",
         "rawType": "object",
         "type": "string"
        }
       ],
       "ref": "6e1d05b3-99fa-4834-8c5f-80d6ce3469f1",
       "rows": [
        [
         "0",
         "m/0814255",
         "Andrew L. Urban",
         "False",
         "Urban Cinefile",
         "Fresh",
         null,
         "2010-02-06",
         "A fantasy adventure that fuses Greek mythology to contemporary American places and values. Anyone around 15 (give or take a couple of years) will thrill to the visual spectacle"
        ],
        [
         "1",
         "m/0814255",
         "Louise Keller",
         "False",
         "Urban Cinefile",
         "Fresh",
         null,
         "2010-02-06",
         "Uma Thurman as Medusa, the gorgon with a coiffure of writhing snakes and stone-inducing hypnotic gaze is one of the highlights of this bewitching fantasy"
        ],
        [
         "2",
         "m/0814255",
         null,
         "False",
         "FILMINK (Australia)",
         "Fresh",
         null,
         "2010-02-09",
         "With a top-notch cast and dazzling special effects, this will tide the teens over until the next Harry Potter instalment."
        ],
        [
         "3",
         "m/0814255",
         "Ben McEachen",
         "False",
         "Sunday Mail (Australia)",
         "Fresh",
         "3.5/5",
         "2010-02-09",
         "Whether audiences will get behind The Lightning Thief is hard to predict. Overall, it's an entertaining introduction to a promising new world -- but will the consuming shadow of Potter be too big to break free of?"
        ],
        [
         "4",
         "m/0814255",
         "Ethan Alter",
         "True",
         "Hollywood Reporter",
         "Rotten",
         null,
         "2010-02-10",
         "What's really lacking in The Lightning Thief is a genuine sense of wonder, the same thing that brings viewers back to Hogwarts over and over again."
        ]
       ],
       "shape": {
        "columns": 8,
        "rows": 5
       }
      },
      "text/html": [
       "<div>\n",
       "<style scoped>\n",
       "    .dataframe tbody tr th:only-of-type {\n",
       "        vertical-align: middle;\n",
       "    }\n",
       "\n",
       "    .dataframe tbody tr th {\n",
       "        vertical-align: top;\n",
       "    }\n",
       "\n",
       "    .dataframe thead th {\n",
       "        text-align: right;\n",
       "    }\n",
       "</style>\n",
       "<table border=\"1\" class=\"dataframe\">\n",
       "  <thead>\n",
       "    <tr style=\"text-align: right;\">\n",
       "      <th></th>\n",
       "      <th>rotten_tomatoes_link</th>\n",
       "      <th>critic_name</th>\n",
       "      <th>top_critic</th>\n",
       "      <th>publisher_name</th>\n",
       "      <th>review_type</th>\n",
       "      <th>review_score</th>\n",
       "      <th>review_date</th>\n",
       "      <th>review_content</th>\n",
       "    </tr>\n",
       "  </thead>\n",
       "  <tbody>\n",
       "    <tr>\n",
       "      <th>0</th>\n",
       "      <td>m/0814255</td>\n",
       "      <td>Andrew L. Urban</td>\n",
       "      <td>False</td>\n",
       "      <td>Urban Cinefile</td>\n",
       "      <td>Fresh</td>\n",
       "      <td>NaN</td>\n",
       "      <td>2010-02-06</td>\n",
       "      <td>A fantasy adventure that fuses Greek mythology...</td>\n",
       "    </tr>\n",
       "    <tr>\n",
       "      <th>1</th>\n",
       "      <td>m/0814255</td>\n",
       "      <td>Louise Keller</td>\n",
       "      <td>False</td>\n",
       "      <td>Urban Cinefile</td>\n",
       "      <td>Fresh</td>\n",
       "      <td>NaN</td>\n",
       "      <td>2010-02-06</td>\n",
       "      <td>Uma Thurman as Medusa, the gorgon with a coiff...</td>\n",
       "    </tr>\n",
       "    <tr>\n",
       "      <th>2</th>\n",
       "      <td>m/0814255</td>\n",
       "      <td>NaN</td>\n",
       "      <td>False</td>\n",
       "      <td>FILMINK (Australia)</td>\n",
       "      <td>Fresh</td>\n",
       "      <td>NaN</td>\n",
       "      <td>2010-02-09</td>\n",
       "      <td>With a top-notch cast and dazzling special eff...</td>\n",
       "    </tr>\n",
       "    <tr>\n",
       "      <th>3</th>\n",
       "      <td>m/0814255</td>\n",
       "      <td>Ben McEachen</td>\n",
       "      <td>False</td>\n",
       "      <td>Sunday Mail (Australia)</td>\n",
       "      <td>Fresh</td>\n",
       "      <td>3.5/5</td>\n",
       "      <td>2010-02-09</td>\n",
       "      <td>Whether audiences will get behind The Lightnin...</td>\n",
       "    </tr>\n",
       "    <tr>\n",
       "      <th>4</th>\n",
       "      <td>m/0814255</td>\n",
       "      <td>Ethan Alter</td>\n",
       "      <td>True</td>\n",
       "      <td>Hollywood Reporter</td>\n",
       "      <td>Rotten</td>\n",
       "      <td>NaN</td>\n",
       "      <td>2010-02-10</td>\n",
       "      <td>What's really lacking in The Lightning Thief i...</td>\n",
       "    </tr>\n",
       "  </tbody>\n",
       "</table>\n",
       "</div>"
      ],
      "text/plain": [
       "  rotten_tomatoes_link      critic_name  top_critic           publisher_name  \\\n",
       "0            m/0814255  Andrew L. Urban       False           Urban Cinefile   \n",
       "1            m/0814255    Louise Keller       False           Urban Cinefile   \n",
       "2            m/0814255              NaN       False      FILMINK (Australia)   \n",
       "3            m/0814255     Ben McEachen       False  Sunday Mail (Australia)   \n",
       "4            m/0814255      Ethan Alter        True       Hollywood Reporter   \n",
       "\n",
       "  review_type review_score review_date  \\\n",
       "0       Fresh          NaN  2010-02-06   \n",
       "1       Fresh          NaN  2010-02-06   \n",
       "2       Fresh          NaN  2010-02-09   \n",
       "3       Fresh        3.5/5  2010-02-09   \n",
       "4      Rotten          NaN  2010-02-10   \n",
       "\n",
       "                                      review_content  \n",
       "0  A fantasy adventure that fuses Greek mythology...  \n",
       "1  Uma Thurman as Medusa, the gorgon with a coiff...  \n",
       "2  With a top-notch cast and dazzling special eff...  \n",
       "3  Whether audiences will get behind The Lightnin...  \n",
       "4  What's really lacking in The Lightning Thief i...  "
      ]
     },
     "execution_count": 13,
     "metadata": {},
     "output_type": "execute_result"
    }
   ],
   "source": [
    "rt_reviews_df = pd.read_csv(\"rotten_tomatoes_critic_reviews.csv\")\n",
    "rt_reviews_df.head()"
   ]
  },
  {
   "cell_type": "code",
   "execution_count": 14,
   "id": "020c9f05",
   "metadata": {},
   "outputs": [
    {
     "data": {
      "application/vnd.microsoft.datawrangler.viewer.v0+json": {
       "columns": [
        {
         "name": "index",
         "rawType": "int64",
         "type": "integer"
        },
        {
         "name": "Unnamed: 0",
         "rawType": "int64",
         "type": "integer"
        },
        {
         "name": "genre_ids",
         "rawType": "object",
         "type": "string"
        },
        {
         "name": "id",
         "rawType": "int64",
         "type": "integer"
        },
        {
         "name": "original_language",
         "rawType": "object",
         "type": "string"
        },
        {
         "name": "original_title",
         "rawType": "object",
         "type": "string"
        },
        {
         "name": "popularity",
         "rawType": "float64",
         "type": "float"
        },
        {
         "name": "release_date",
         "rawType": "object",
         "type": "string"
        },
        {
         "name": "title",
         "rawType": "object",
         "type": "string"
        },
        {
         "name": "vote_average",
         "rawType": "float64",
         "type": "float"
        },
        {
         "name": "vote_count",
         "rawType": "int64",
         "type": "integer"
        }
       ],
       "ref": "17038ddd-412d-40e3-8cbe-8f475cac4d67",
       "rows": [
        [
         "0",
         "0",
         "[12, 14, 10751]",
         "12444",
         "en",
         "Harry Potter and the Deathly Hallows: Part 1",
         "33.533",
         "2010-11-19",
         "Harry Potter and the Deathly Hallows: Part 1",
         "7.7",
         "10788"
        ],
        [
         "1",
         "1",
         "[14, 12, 16, 10751]",
         "10191",
         "en",
         "How to Train Your Dragon",
         "28.734",
         "2010-03-26",
         "How to Train Your Dragon",
         "7.7",
         "7610"
        ],
        [
         "2",
         "2",
         "[12, 28, 878]",
         "10138",
         "en",
         "Iron Man 2",
         "28.515",
         "2010-05-07",
         "Iron Man 2",
         "6.8",
         "12368"
        ],
        [
         "3",
         "3",
         "[16, 35, 10751]",
         "862",
         "en",
         "Toy Story",
         "28.005",
         "1995-11-22",
         "Toy Story",
         "7.9",
         "10174"
        ],
        [
         "4",
         "4",
         "[28, 878, 12]",
         "27205",
         "en",
         "Inception",
         "27.92",
         "2010-07-16",
         "Inception",
         "8.3",
         "22186"
        ]
       ],
       "shape": {
        "columns": 10,
        "rows": 5
       }
      },
      "text/html": [
       "<div>\n",
       "<style scoped>\n",
       "    .dataframe tbody tr th:only-of-type {\n",
       "        vertical-align: middle;\n",
       "    }\n",
       "\n",
       "    .dataframe tbody tr th {\n",
       "        vertical-align: top;\n",
       "    }\n",
       "\n",
       "    .dataframe thead th {\n",
       "        text-align: right;\n",
       "    }\n",
       "</style>\n",
       "<table border=\"1\" class=\"dataframe\">\n",
       "  <thead>\n",
       "    <tr style=\"text-align: right;\">\n",
       "      <th></th>\n",
       "      <th>Unnamed: 0</th>\n",
       "      <th>genre_ids</th>\n",
       "      <th>id</th>\n",
       "      <th>original_language</th>\n",
       "      <th>original_title</th>\n",
       "      <th>popularity</th>\n",
       "      <th>release_date</th>\n",
       "      <th>title</th>\n",
       "      <th>vote_average</th>\n",
       "      <th>vote_count</th>\n",
       "    </tr>\n",
       "  </thead>\n",
       "  <tbody>\n",
       "    <tr>\n",
       "      <th>0</th>\n",
       "      <td>0</td>\n",
       "      <td>[12, 14, 10751]</td>\n",
       "      <td>12444</td>\n",
       "      <td>en</td>\n",
       "      <td>Harry Potter and the Deathly Hallows: Part 1</td>\n",
       "      <td>33.533</td>\n",
       "      <td>2010-11-19</td>\n",
       "      <td>Harry Potter and the Deathly Hallows: Part 1</td>\n",
       "      <td>7.7</td>\n",
       "      <td>10788</td>\n",
       "    </tr>\n",
       "    <tr>\n",
       "      <th>1</th>\n",
       "      <td>1</td>\n",
       "      <td>[14, 12, 16, 10751]</td>\n",
       "      <td>10191</td>\n",
       "      <td>en</td>\n",
       "      <td>How to Train Your Dragon</td>\n",
       "      <td>28.734</td>\n",
       "      <td>2010-03-26</td>\n",
       "      <td>How to Train Your Dragon</td>\n",
       "      <td>7.7</td>\n",
       "      <td>7610</td>\n",
       "    </tr>\n",
       "    <tr>\n",
       "      <th>2</th>\n",
       "      <td>2</td>\n",
       "      <td>[12, 28, 878]</td>\n",
       "      <td>10138</td>\n",
       "      <td>en</td>\n",
       "      <td>Iron Man 2</td>\n",
       "      <td>28.515</td>\n",
       "      <td>2010-05-07</td>\n",
       "      <td>Iron Man 2</td>\n",
       "      <td>6.8</td>\n",
       "      <td>12368</td>\n",
       "    </tr>\n",
       "    <tr>\n",
       "      <th>3</th>\n",
       "      <td>3</td>\n",
       "      <td>[16, 35, 10751]</td>\n",
       "      <td>862</td>\n",
       "      <td>en</td>\n",
       "      <td>Toy Story</td>\n",
       "      <td>28.005</td>\n",
       "      <td>1995-11-22</td>\n",
       "      <td>Toy Story</td>\n",
       "      <td>7.9</td>\n",
       "      <td>10174</td>\n",
       "    </tr>\n",
       "    <tr>\n",
       "      <th>4</th>\n",
       "      <td>4</td>\n",
       "      <td>[28, 878, 12]</td>\n",
       "      <td>27205</td>\n",
       "      <td>en</td>\n",
       "      <td>Inception</td>\n",
       "      <td>27.920</td>\n",
       "      <td>2010-07-16</td>\n",
       "      <td>Inception</td>\n",
       "      <td>8.3</td>\n",
       "      <td>22186</td>\n",
       "    </tr>\n",
       "  </tbody>\n",
       "</table>\n",
       "</div>"
      ],
      "text/plain": [
       "   Unnamed: 0            genre_ids     id original_language  \\\n",
       "0           0      [12, 14, 10751]  12444                en   \n",
       "1           1  [14, 12, 16, 10751]  10191                en   \n",
       "2           2        [12, 28, 878]  10138                en   \n",
       "3           3      [16, 35, 10751]    862                en   \n",
       "4           4        [28, 878, 12]  27205                en   \n",
       "\n",
       "                                 original_title  popularity release_date  \\\n",
       "0  Harry Potter and the Deathly Hallows: Part 1      33.533   2010-11-19   \n",
       "1                      How to Train Your Dragon      28.734   2010-03-26   \n",
       "2                                    Iron Man 2      28.515   2010-05-07   \n",
       "3                                     Toy Story      28.005   1995-11-22   \n",
       "4                                     Inception      27.920   2010-07-16   \n",
       "\n",
       "                                          title  vote_average  vote_count  \n",
       "0  Harry Potter and the Deathly Hallows: Part 1           7.7       10788  \n",
       "1                      How to Train Your Dragon           7.7        7610  \n",
       "2                                    Iron Man 2           6.8       12368  \n",
       "3                                     Toy Story           7.9       10174  \n",
       "4                                     Inception           8.3       22186  "
      ]
     },
     "execution_count": 14,
     "metadata": {},
     "output_type": "execute_result"
    }
   ],
   "source": [
    "tmdb_df = pd.read_csv('tmdb.movies.csv')\n",
    "tmdb_df.head()"
   ]
  },
  {
   "cell_type": "code",
   "execution_count": 15,
   "id": "263c4ea4",
   "metadata": {},
   "outputs": [
    {
     "data": {
      "application/vnd.microsoft.datawrangler.viewer.v0+json": {
       "columns": [
        {
         "name": "index",
         "rawType": "int64",
         "type": "integer"
        },
        {
         "name": "id",
         "rawType": "int64",
         "type": "integer"
        },
        {
         "name": "release_date",
         "rawType": "object",
         "type": "string"
        },
        {
         "name": "movie",
         "rawType": "object",
         "type": "string"
        },
        {
         "name": "production_budget",
         "rawType": "object",
         "type": "string"
        },
        {
         "name": "domestic_gross",
         "rawType": "object",
         "type": "string"
        },
        {
         "name": "worldwide_gross",
         "rawType": "object",
         "type": "string"
        }
       ],
       "ref": "89fe441b-9039-41fc-8b11-09e476c4de31",
       "rows": [
        [
         "0",
         "1",
         "Dec 18, 2009",
         "Avatar",
         "$425,000,000",
         "$760,507,625",
         "$2,776,345,279"
        ],
        [
         "1",
         "2",
         "May 20, 2011",
         "Pirates of the Caribbean: On Stranger Tides",
         "$410,600,000",
         "$241,063,875",
         "$1,045,663,875"
        ],
        [
         "2",
         "3",
         "Jun 7, 2019",
         "Dark Phoenix",
         "$350,000,000",
         "$42,762,350",
         "$149,762,350"
        ],
        [
         "3",
         "4",
         "May 1, 2015",
         "Avengers: Age of Ultron",
         "$330,600,000",
         "$459,005,868",
         "$1,403,013,963"
        ],
        [
         "4",
         "5",
         "Dec 15, 2017",
         "Star Wars Ep. VIII: The Last Jedi",
         "$317,000,000",
         "$620,181,382",
         "$1,316,721,747"
        ],
        [
         "5",
         "6",
         "Dec 18, 2015",
         "Star Wars Ep. VII: The Force Awakens",
         "$306,000,000",
         "$936,662,225",
         "$2,053,311,220"
        ],
        [
         "6",
         "7",
         "Apr 27, 2018",
         "Avengers: Infinity War",
         "$300,000,000",
         "$678,815,482",
         "$2,048,134,200"
        ],
        [
         "7",
         "8",
         "May 24, 2007",
         "Pirates of the Caribbean: At Worldâs End",
         "$300,000,000",
         "$309,420,425",
         "$963,420,425"
        ],
        [
         "8",
         "9",
         "Nov 17, 2017",
         "Justice League",
         "$300,000,000",
         "$229,024,295",
         "$655,945,209"
        ],
        [
         "9",
         "10",
         "Nov 6, 2015",
         "Spectre",
         "$300,000,000",
         "$200,074,175",
         "$879,620,923"
        ],
        [
         "10",
         "11",
         "Jul 20, 2012",
         "The Dark Knight Rises",
         "$275,000,000",
         "$448,139,099",
         "$1,084,439,099"
        ],
        [
         "11",
         "12",
         "May 25, 2018",
         "Solo: A Star Wars Story",
         "$275,000,000",
         "$213,767,512",
         "$393,151,347"
        ],
        [
         "12",
         "13",
         "Jul 2, 2013",
         "The Lone Ranger",
         "$275,000,000",
         "$89,302,115",
         "$260,002,115"
        ],
        [
         "13",
         "14",
         "Mar 9, 2012",
         "John Carter",
         "$275,000,000",
         "$73,058,679",
         "$282,778,100"
        ],
        [
         "14",
         "15",
         "Nov 24, 2010",
         "Tangled",
         "$260,000,000",
         "$200,821,936",
         "$586,477,240"
        ],
        [
         "15",
         "16",
         "May 4, 2007",
         "Spider-Man 3",
         "$258,000,000",
         "$336,530,303",
         "$894,860,230"
        ],
        [
         "16",
         "17",
         "May 6, 2016",
         "Captain America: Civil War",
         "$250,000,000",
         "$408,084,349",
         "$1,140,069,413"
        ],
        [
         "17",
         "18",
         "Mar 25, 2016",
         "Batman v Superman: Dawn of Justice",
         "$250,000,000",
         "$330,360,194",
         "$867,500,281"
        ],
        [
         "18",
         "19",
         "Dec 14, 2012",
         "The Hobbit: An Unexpected Journey",
         "$250,000,000",
         "$303,003,568",
         "$1,017,003,568"
        ],
        [
         "19",
         "20",
         "Jul 15, 2009",
         "Harry Potter and the Half-Blood Prince",
         "$250,000,000",
         "$302,089,278",
         "$935,213,767"
        ],
        [
         "20",
         "21",
         "Dec 13, 2013",
         "The Hobbit: The Desolation of Smaug",
         "$250,000,000",
         "$258,366,855",
         "$960,366,855"
        ],
        [
         "21",
         "22",
         "Dec 17, 2014",
         "The Hobbit: The Battle of the Five Armies",
         "$250,000,000",
         "$255,119,788",
         "$945,577,621"
        ],
        [
         "22",
         "23",
         "Apr 14, 2017",
         "The Fate of the Furious",
         "$250,000,000",
         "$225,764,765",
         "$1,234,846,267"
        ],
        [
         "23",
         "24",
         "Jun 28, 2006",
         "Superman Returns",
         "$232,000,000",
         "$200,120,000",
         "$374,085,065"
        ],
        [
         "24",
         "25",
         "May 26, 2017",
         "Pirates of the Caribbean: Dead Men Tell No Tales",
         "$230,000,000",
         "$172,558,876",
         "$788,241,137"
        ],
        [
         "25",
         "26",
         "Nov 14, 2008",
         "Quantum of Solace",
         "$230,000,000",
         "$169,368,427",
         "$591,692,078"
        ],
        [
         "26",
         "27",
         "May 4, 2012",
         "The Avengers",
         "$225,000,000",
         "$623,279,547",
         "$1,517,935,897"
        ],
        [
         "27",
         "28",
         "Jul 7, 2006",
         "Pirates of the Caribbean: Dead Manâs Chest",
         "$225,000,000",
         "$423,315,812",
         "$1,066,215,812"
        ],
        [
         "28",
         "29",
         "Jun 14, 2013",
         "Man of Steel",
         "$225,000,000",
         "$291,045,518",
         "$667,999,518"
        ],
        [
         "29",
         "30",
         "May 16, 2008",
         "The Chronicles of Narnia: Prince Caspian",
         "$225,000,000",
         "$141,621,490",
         "$417,341,288"
        ],
        [
         "30",
         "31",
         "Jul 3, 2012",
         "The Amazing Spider-Man",
         "$220,000,000",
         "$262,030,663",
         "$757,890,267"
        ],
        [
         "31",
         "32",
         "May 18, 2012",
         "Battleship",
         "$220,000,000",
         "$65,233,400",
         "$313,477,717"
        ],
        [
         "32",
         "33",
         "Jun 21, 2017",
         "Transformers: The Last Knight",
         "$217,000,000",
         "$130,168,683",
         "$602,893,340"
        ],
        [
         "33",
         "34",
         "Jun 12, 2015",
         "Jurassic World",
         "$215,000,000",
         "$652,270,625",
         "$1,648,854,864"
        ],
        [
         "34",
         "35",
         "May 25, 2012",
         "Men in Black 3",
         "$215,000,000",
         "$179,020,854",
         "$654,213,485"
        ],
        [
         "35",
         "36",
         "Jun 24, 2009",
         "Transformers: Revenge of the Fallen",
         "$210,000,000",
         "$402,111,870",
         "$836,519,699"
        ],
        [
         "36",
         "37",
         "Jun 27, 2014",
         "Transformers: Age of Extinction",
         "$210,000,000",
         "$245,439,076",
         "$1,104,039,076"
        ],
        [
         "37",
         "38",
         "May 26, 2006",
         "X-Men: The Last Stand",
         "$210,000,000",
         "$234,362,462",
         "$459,260,946"
        ],
        [
         "38",
         "39",
         "May 14, 2010",
         "Robin Hood",
         "$210,000,000",
         "$105,487,148",
         "$322,459,006"
        ],
        [
         "39",
         "40",
         "Dec 14, 2005",
         "King Kong",
         "$207,000,000",
         "$218,080,025",
         "$550,517,357"
        ],
        [
         "40",
         "41",
         "Dec 7, 2007",
         "The Golden Compass",
         "$205,000,000",
         "$70,107,728",
         "$367,262,558"
        ],
        [
         "41",
         "42",
         "Feb 16, 2018",
         "Black Panther",
         "$200,000,000",
         "$700,059,566",
         "$1,348,258,224"
        ],
        [
         "42",
         "43",
         "Dec 19, 1997",
         "Titanic",
         "$200,000,000",
         "$659,363,944",
         "$2,208,208,395"
        ],
        [
         "43",
         "44",
         "Jun 15, 2018",
         "Incredibles 2",
         "$200,000,000",
         "$608,581,744",
         "$1,242,520,711"
        ],
        [
         "44",
         "45",
         "Dec 16, 2016",
         "Rogue One: A Star Wars Story",
         "$200,000,000",
         "$532,177,324",
         "$1,049,102,856"
        ],
        [
         "45",
         "46",
         "Jun 17, 2016",
         "Finding Dory",
         "$200,000,000",
         "$486,295,561",
         "$1,021,215,193"
        ],
        [
         "46",
         "47",
         "Jun 18, 2010",
         "Toy Story 3",
         "$200,000,000",
         "$415,004,880",
         "$1,068,879,522"
        ],
        [
         "47",
         "48",
         "May 3, 2013",
         "Iron Man 3",
         "$200,000,000",
         "$408,992,272",
         "$1,215,392,272"
        ],
        [
         "48",
         "49",
         "May 5, 2017",
         "Guardians of the Galaxy Vol 2",
         "$200,000,000",
         "$389,813,101",
         "$862,316,233"
        ],
        [
         "49",
         "50",
         "Jun 30, 2004",
         "Spider-Man 2",
         "$200,000,000",
         "$373,524,485",
         "$795,110,670"
        ]
       ],
       "shape": {
        "columns": 6,
        "rows": 5782
       }
      },
      "text/html": [
       "<div>\n",
       "<style scoped>\n",
       "    .dataframe tbody tr th:only-of-type {\n",
       "        vertical-align: middle;\n",
       "    }\n",
       "\n",
       "    .dataframe tbody tr th {\n",
       "        vertical-align: top;\n",
       "    }\n",
       "\n",
       "    .dataframe thead th {\n",
       "        text-align: right;\n",
       "    }\n",
       "</style>\n",
       "<table border=\"1\" class=\"dataframe\">\n",
       "  <thead>\n",
       "    <tr style=\"text-align: right;\">\n",
       "      <th></th>\n",
       "      <th>id</th>\n",
       "      <th>release_date</th>\n",
       "      <th>movie</th>\n",
       "      <th>production_budget</th>\n",
       "      <th>domestic_gross</th>\n",
       "      <th>worldwide_gross</th>\n",
       "    </tr>\n",
       "  </thead>\n",
       "  <tbody>\n",
       "    <tr>\n",
       "      <th>0</th>\n",
       "      <td>1</td>\n",
       "      <td>Dec 18, 2009</td>\n",
       "      <td>Avatar</td>\n",
       "      <td>$425,000,000</td>\n",
       "      <td>$760,507,625</td>\n",
       "      <td>$2,776,345,279</td>\n",
       "    </tr>\n",
       "    <tr>\n",
       "      <th>1</th>\n",
       "      <td>2</td>\n",
       "      <td>May 20, 2011</td>\n",
       "      <td>Pirates of the Caribbean: On Stranger Tides</td>\n",
       "      <td>$410,600,000</td>\n",
       "      <td>$241,063,875</td>\n",
       "      <td>$1,045,663,875</td>\n",
       "    </tr>\n",
       "    <tr>\n",
       "      <th>2</th>\n",
       "      <td>3</td>\n",
       "      <td>Jun 7, 2019</td>\n",
       "      <td>Dark Phoenix</td>\n",
       "      <td>$350,000,000</td>\n",
       "      <td>$42,762,350</td>\n",
       "      <td>$149,762,350</td>\n",
       "    </tr>\n",
       "    <tr>\n",
       "      <th>3</th>\n",
       "      <td>4</td>\n",
       "      <td>May 1, 2015</td>\n",
       "      <td>Avengers: Age of Ultron</td>\n",
       "      <td>$330,600,000</td>\n",
       "      <td>$459,005,868</td>\n",
       "      <td>$1,403,013,963</td>\n",
       "    </tr>\n",
       "    <tr>\n",
       "      <th>4</th>\n",
       "      <td>5</td>\n",
       "      <td>Dec 15, 2017</td>\n",
       "      <td>Star Wars Ep. VIII: The Last Jedi</td>\n",
       "      <td>$317,000,000</td>\n",
       "      <td>$620,181,382</td>\n",
       "      <td>$1,316,721,747</td>\n",
       "    </tr>\n",
       "    <tr>\n",
       "      <th>...</th>\n",
       "      <td>...</td>\n",
       "      <td>...</td>\n",
       "      <td>...</td>\n",
       "      <td>...</td>\n",
       "      <td>...</td>\n",
       "      <td>...</td>\n",
       "    </tr>\n",
       "    <tr>\n",
       "      <th>5777</th>\n",
       "      <td>78</td>\n",
       "      <td>Dec 31, 2018</td>\n",
       "      <td>Red 11</td>\n",
       "      <td>$7,000</td>\n",
       "      <td>$0</td>\n",
       "      <td>$0</td>\n",
       "    </tr>\n",
       "    <tr>\n",
       "      <th>5778</th>\n",
       "      <td>79</td>\n",
       "      <td>Apr 2, 1999</td>\n",
       "      <td>Following</td>\n",
       "      <td>$6,000</td>\n",
       "      <td>$48,482</td>\n",
       "      <td>$240,495</td>\n",
       "    </tr>\n",
       "    <tr>\n",
       "      <th>5779</th>\n",
       "      <td>80</td>\n",
       "      <td>Jul 13, 2005</td>\n",
       "      <td>Return to the Land of Wonders</td>\n",
       "      <td>$5,000</td>\n",
       "      <td>$1,338</td>\n",
       "      <td>$1,338</td>\n",
       "    </tr>\n",
       "    <tr>\n",
       "      <th>5780</th>\n",
       "      <td>81</td>\n",
       "      <td>Sep 29, 2015</td>\n",
       "      <td>A Plague So Pleasant</td>\n",
       "      <td>$1,400</td>\n",
       "      <td>$0</td>\n",
       "      <td>$0</td>\n",
       "    </tr>\n",
       "    <tr>\n",
       "      <th>5781</th>\n",
       "      <td>82</td>\n",
       "      <td>Aug 5, 2005</td>\n",
       "      <td>My Date With Drew</td>\n",
       "      <td>$1,100</td>\n",
       "      <td>$181,041</td>\n",
       "      <td>$181,041</td>\n",
       "    </tr>\n",
       "  </tbody>\n",
       "</table>\n",
       "<p>5782 rows × 6 columns</p>\n",
       "</div>"
      ],
      "text/plain": [
       "      id  release_date                                        movie  \\\n",
       "0      1  Dec 18, 2009                                       Avatar   \n",
       "1      2  May 20, 2011  Pirates of the Caribbean: On Stranger Tides   \n",
       "2      3   Jun 7, 2019                                 Dark Phoenix   \n",
       "3      4   May 1, 2015                      Avengers: Age of Ultron   \n",
       "4      5  Dec 15, 2017            Star Wars Ep. VIII: The Last Jedi   \n",
       "...   ..           ...                                          ...   \n",
       "5777  78  Dec 31, 2018                                       Red 11   \n",
       "5778  79   Apr 2, 1999                                    Following   \n",
       "5779  80  Jul 13, 2005                Return to the Land of Wonders   \n",
       "5780  81  Sep 29, 2015                         A Plague So Pleasant   \n",
       "5781  82   Aug 5, 2005                            My Date With Drew   \n",
       "\n",
       "     production_budget domestic_gross worldwide_gross  \n",
       "0         $425,000,000   $760,507,625  $2,776,345,279  \n",
       "1         $410,600,000   $241,063,875  $1,045,663,875  \n",
       "2         $350,000,000    $42,762,350    $149,762,350  \n",
       "3         $330,600,000   $459,005,868  $1,403,013,963  \n",
       "4         $317,000,000   $620,181,382  $1,316,721,747  \n",
       "...                ...            ...             ...  \n",
       "5777            $7,000             $0              $0  \n",
       "5778            $6,000        $48,482        $240,495  \n",
       "5779            $5,000         $1,338          $1,338  \n",
       "5780            $1,400             $0              $0  \n",
       "5781            $1,100       $181,041        $181,041  \n",
       "\n",
       "[5782 rows x 6 columns]"
      ]
     },
     "execution_count": 15,
     "metadata": {},
     "output_type": "execute_result"
    }
   ],
   "source": [
    "tn_budget_df = pd.read_csv('tn.movie_budgets.csv')\n",
    "tn_budget_df"
   ]
  },
  {
   "cell_type": "code",
   "execution_count": 16,
   "id": "70b3cbf1",
   "metadata": {},
   "outputs": [
    {
     "data": {
      "application/vnd.microsoft.datawrangler.viewer.v0+json": {
       "columns": [
        {
         "name": "index",
         "rawType": "int64",
         "type": "integer"
        },
        {
         "name": "rotten_tomatoes_link",
         "rawType": "object",
         "type": "string"
        },
        {
         "name": "movie_title",
         "rawType": "object",
         "type": "string"
        },
        {
         "name": "movie_info",
         "rawType": "object",
         "type": "string"
        },
        {
         "name": "critics_consensus",
         "rawType": "object",
         "type": "string"
        },
        {
         "name": "content_rating",
         "rawType": "object",
         "type": "string"
        },
        {
         "name": "genres",
         "rawType": "object",
         "type": "string"
        },
        {
         "name": "directors",
         "rawType": "object",
         "type": "string"
        },
        {
         "name": "authors",
         "rawType": "object",
         "type": "string"
        },
        {
         "name": "actors",
         "rawType": "object",
         "type": "string"
        },
        {
         "name": "original_release_date",
         "rawType": "object",
         "type": "string"
        },
        {
         "name": "streaming_release_date",
         "rawType": "object",
         "type": "string"
        },
        {
         "name": "runtime",
         "rawType": "float64",
         "type": "float"
        },
        {
         "name": "production_company",
         "rawType": "object",
         "type": "string"
        },
        {
         "name": "tomatometer_status",
         "rawType": "object",
         "type": "string"
        },
        {
         "name": "tomatometer_rating",
         "rawType": "float64",
         "type": "float"
        },
        {
         "name": "tomatometer_count",
         "rawType": "float64",
         "type": "float"
        },
        {
         "name": "audience_status",
         "rawType": "object",
         "type": "string"
        },
        {
         "name": "audience_rating",
         "rawType": "float64",
         "type": "float"
        },
        {
         "name": "audience_count",
         "rawType": "float64",
         "type": "float"
        },
        {
         "name": "tomatometer_top_critics_count",
         "rawType": "int64",
         "type": "integer"
        },
        {
         "name": "tomatometer_fresh_critics_count",
         "rawType": "int64",
         "type": "integer"
        },
        {
         "name": "tomatometer_rotten_critics_count",
         "rawType": "int64",
         "type": "integer"
        }
       ],
       "ref": "41180ed0-a947-4660-9429-8900a20825bd",
       "rows": [
        [
         "0",
         "m/0814255",
         "Percy Jackson & the Olympians: The Lightning Thief",
         "Always trouble-prone, the life of teenager Percy Jackson (Logan Lerman) gets a lot more complicated when he learns he's the son of the Greek god Poseidon. At a training ground for the children of deities, Percy learns to harness his divine powers and prepare for the adventure of a lifetime: he must prevent a feud among the Olympians from erupting into a devastating war on Earth, and rescue his mother from the clutches of Hades, god of the underworld.",
         "Though it may seem like just another Harry Potter knockoff, Percy Jackson benefits from a strong supporting cast, a speedy plot, and plenty of fun with Greek mythology.",
         "PG",
         "Action & Adventure, Comedy, Drama, Science Fiction & Fantasy",
         "Chris Columbus",
         "Craig Titley, Chris Columbus, Rick Riordan",
         "Logan Lerman, Brandon T. Jackson, Alexandra Daddario, Jake Abel, Sean Bean, Pierce Brosnan, Steve Coogan, Rosario Dawson, Melina Kanakaredes, Catherine Keener, Kevin Mckidd, Joe Pantoliano, Uma Thurman, Ray Winstone, Julian Richings, Bonita Friedericy, Annie Ilonzeh, Tania Saulnier, Marie Avgeropoulos, Luisa D'Oliveira, Christie Laing, Marielle Jaffe, Elisa King, Chrystal Tisiga, Alexis Knapp, Charlie Gallant, Chelan Simmons, Andrea Brooks, Natassia Malthe, Max Van Ville, Serinda Swan, Dimitri Lekkos, Ona Grauer, Stefanie von Pfetten, Conrad Coates, Erica Cerra, Dylan Neal, Luke Camilleri, Holly Hougham, Ina Geraldine, Raquel Riskin, Yusleidis Oquendo, Janine Edwards, Valerie Tian, Violet Columbus, Sarah Smyth, Merritt Patterson, Julie Luck, Andrea Day, John Stewart, Suzanne Ristic, Deejay Jackson, Matthew Garrick, Stan Carp, Suzanna Ristic, Richard Harmon, Maria Olsen, Robin Lemon, Doyle Devereux, Tom Pickett, VJ Delos-Reyes, Tim Aas, Keith Dallas, Spencer Atkinson, Maya Washington, Loyd Bateman, Victor Ayala, Zane Holtz, Eli Zagoudakis, Matt Reimer, Rob Hayter, Lloyd Bateman, Shawn Beaton, Jarod Joseph, Reilly Dolman, Paul Cummings, Julie Brar, Dejan Loyola, Damian Arman, Mario Casoria, Dorla Bell, Carolyn Adair (II), Jade Pawluk, G. Patrick Currie, Darian Arman, Mariela Zapata, David L. Smith",
         "2010-02-12",
         "2015-11-25",
         "119.0",
         "20th Century Fox",
         "Rotten",
         "49.0",
         "149.0",
         "Spilled",
         "53.0",
         "254421.0",
         "43",
         "73",
         "76"
        ],
        [
         "1",
         "m/0878835",
         "Please Give",
         "Kate (Catherine Keener) and her husband Alex (Oliver Platt) are wealthy New Yorkers who prowl estate sales and make a tidy profit reselling items they bought cheaply. They buy the apartment next door and plan to remodel just as soon as its current occupant, a cranky old woman, dies. Kate is troubled by the way she and her husband earn a living, and tries to assuage her guilt by befriending her tenant and the woman's granddaughters, but her overtures lead to unexpected consequences.",
         "Nicole Holofcener's newest might seem slight in places, but its rendering of complex characters in a conflicted economic landscape is varied, natural, and touching all the same.",
         "R",
         "Comedy",
         "Nicole Holofcener",
         "Nicole Holofcener",
         "Catherine Keener, Amanda Peet, Oliver Platt, Rebecca Hall, Sarah Steele, Ann Morgan Guilbert, Kevin Corrigan, Lois Smith",
         "2010-04-30",
         "2012-09-04",
         "90.0",
         "Sony Pictures Classics",
         "Certified-Fresh",
         "87.0",
         "142.0",
         "Upright",
         "64.0",
         "11574.0",
         "44",
         "123",
         "19"
        ],
        [
         "2",
         "m/10",
         "10",
         "A successful, middle-aged Hollywood songwriter falls hopelessly in love with the woman of his dreams, and even follows the girl and her new husband to their Mexican honeymoon resort. While his behavior seems sure to land him in trouble, out of the blue fate plays into his hands.",
         "Blake Edwards' bawdy comedy may not score a perfect 10, but Dudley Moore's self-deprecating performance makes this midlife crisis persistently funny.",
         "R",
         "Comedy, Romance",
         "Blake Edwards",
         "Blake Edwards",
         "Dudley Moore, Bo Derek, Julie Andrews, Robert Webber, Dee Wallace, Sam Jones III, Sam J. Jones, Brian Dennehy, Max Showalter, Rad Daly, Nedra Volz, James Noble, Virginia Kiser, John Hawker, Deborah Rush, Don Calfa, Walter George Alton, Annette Martin, John Hancock, Lorry Goldman, Arthur Rosenberg, Mari Gorman, Marcy Hanson, Julia Jennings, Senilo Tanney, Kitty DeCarlo, William Lucking, Owen Sullivan, Debbie White, Laurence Carr, Camila Ashland, Adrian Aron, Gail Bowman, Burke Byrnes, Michael Champion, Doug Sheehan, J. Victor Lopez, Gregory Chase, Jon Linton, Ellen Clark, Antonia Ellis, John Chappell, Lynn Farrell, Art Kassul, Denise Crosby, Jeanetta Arnette",
         "1979-10-05",
         "2014-07-24",
         "122.0",
         "Waner Bros.",
         "Fresh",
         "67.0",
         "24.0",
         "Spilled",
         "53.0",
         "14684.0",
         "2",
         "16",
         "8"
        ],
        [
         "3",
         "m/1000013-12_angry_men",
         "12 Angry Men (Twelve Angry Men)",
         "Following the closing arguments in a murder trial, the 12 members of the jury must deliberate, with a guilty verdict meaning death for the accused, an inner-city teen. As the dozen men try to reach a unanimous decision while sequestered in a room, one juror (Henry Fonda) casts considerable doubt on elements of the case. Personal issues soon rise to the surface, and conflict threatens to derail the delicate process that will decide one boy's fate.",
         "Sidney Lumet's feature debut is a superbly written, dramatically effective courtroom thriller that rightfully stands as a modern classic.",
         "NR",
         "Classics, Drama",
         "Sidney Lumet",
         "Reginald Rose",
         "Martin Balsam, John Fiedler, Lee J. Cobb, E.G. Marshall, Jack Klugman, Edward Binns, Jack Warden, Henry Fonda, Joseph Sweeney, Ed Begley Sr., George Voskovec, Robert Webber, Rudy Bond, James A. Kelly, Billy Nelson, John Savoca",
         "1957-04-13",
         "2017-01-13",
         "95.0",
         "Criterion Collection",
         "Certified-Fresh",
         "100.0",
         "54.0",
         "Upright",
         "97.0",
         "105386.0",
         "6",
         "54",
         "0"
        ],
        [
         "4",
         "m/1000079-20000_leagues_under_the_sea",
         "20,000 Leagues Under The Sea",
         "In 1866, Professor Pierre M. Aronnax (Paul Lukas) and his assistant Conseil (Peter Lorre), stranded in San Francisco by reports of a giant sea monster attacking ships in the Pacific Ocean, are invited to join an expedition to search for the creature. During the search, they and harpooner Ned Land (Kirk Douglas) are thrown overboard during an attack, eventually discovering that the supposed monster is actually a submarine piloted by the brilliant but haunted Captain Nemo (James Mason).",
         "One of Disney's finest live-action adventures, 20,000 Leagues Under the Sea brings Jules Verne's classic sci-fi tale to vivid life, and features an awesome giant squid.",
         "G",
         "Action & Adventure, Drama, Kids & Family",
         "Richard Fleischer",
         "Earl Felton",
         "James Mason, Kirk Douglas, Paul Lukas, Peter Lorre, Robert J. Wilke, Carleton Young, Bob Wilke, Ted de Corsia, Percy Helton, Ted Cooper, Eddie Marr, Fred Graham, Esmeralda, J.M. Kerrigan, Harry Harvey, Herb Vigran",
         "1954-01-01",
         "2016-06-10",
         "127.0",
         "Disney",
         "Fresh",
         "89.0",
         "27.0",
         "Upright",
         "74.0",
         "68918.0",
         "5",
         "24",
         "3"
        ],
        [
         "5",
         "m/10000_bc",
         "10,000 B.C.",
         "Mammoth hunter D'Leh (Steven Strait) has long been in love with a beautiful, blue-eyed tribeswoman named Evolet (Camilla Belle). After horseback-riding raiders kidnap most of his D'Leh's fellow tribesmen as well as Evolet, he sets out on a dangerous trek to rescue her from her captors.",
         "With attention strictly paid to style instead of substance, or historical accuracy, 10,000 B.C. is a visually impressive but narratively flimsy epic.",
         "PG-13",
         "Action & Adventure, Classics, Drama",
         "Roland Emmerich",
         "Harald Kloser, Roland Emmerich",
         "Steven Strait, Camilla Belle, Cliff Curtis, Joel Virgel, Affif Ben Badra, Mo Zainal, Nathanael Baring, Marco Khan, Reece Ritchie, Joel Fry, Junior Oliphant, Louise Tu'u, David Dennis, Kristian Beazley, Mona Hammond, Jacob Renton, Grayson Hunt Urwin, Fahruq Valley-Omar, Boubacar Badaine, Joe Vaz, Charles Baloyi, Tim Barlow, Gabriel Malema, Mark Simmons, Hannah Westbury, Affif Ben Badra, Mo Zinal, Omar Sharif, Farouk Valley-Omar",
         "2008-03-07",
         "2013-06-22",
         "109.0",
         "Warner Bros. Pictures",
         "Rotten",
         "8.0",
         "149.0",
         "Spilled",
         "37.0",
         "411140.0",
         "37",
         "12",
         "137"
        ],
        [
         "6",
         "m/1000121-39_steps",
         "The 39 Steps",
         "While on vacation in London, Canadian Richard Hannay (Robert Donat) becomes embroiled in an international spy ring related to the mysterious \"39 steps.\" Then he meets agent Annabella Smith (Lucie Mannheim), who is soon killed in his apartment. He must elude the police, who are hunting him for murder, while he tries to stop Professor Jordan (Godfrey Tearle) from sending secrets out of the country. Hannay is assisted by Pamela (Madeleine Carroll), an unwilling accomplice who discovers the truth.",
         "Packed with twists and turns, this essential early Alfred Hitchcock feature hints at the dazzling heights he'd reach later in his career.",
         "NR",
         "Action & Adventure, Classics, Mystery & Suspense",
         "Alfred Hitchcock",
         "Alma Reville, Charles Bennett, Ian Hay, Alfred Hitchcock",
         "Robert Donat, Madeleine Carroll, Godfrey Tearle, Lucie Mannheim, Peggy Ashcroft, John Laurie, Helen Haye, Wylie Watson, Frank Cellier, Peggy Simpson, Gus McNaughton, Jerry Verno, Miles Malleson, Marianne Stone",
         "1935-08-01",
         "2017-01-12",
         "80.0",
         "Gaumont British Distributors",
         "Certified-Fresh",
         "96.0",
         "51.0",
         "Upright",
         "86.0",
         "23890.0",
         "8",
         "49",
         "2"
        ],
        [
         "7",
         "m/1000123-310_to_yuma",
         "3:10 to Yuma",
         "Dan Evans (Van Heflin), a drought-plagued Arizona rancher, volunteers to take captured stagecoach robber and murderer Ben Wade (Glenn Ford) from Bisbee to Contention City, where the criminal will be put aboard the 3:10 train to Yuma for his trial. Accompanied only by the town drunk, Alex Potter (Henry Jones), Dan battles Wade's henchman (Richard Jaeckel), the murder victim's revenge-minded brother, and the temptation of the large bribe Wade offers in exchange for his freedom.",
         null,
         "NR",
         "Classics, Drama, Western",
         "Delmer Daves",
         "Halsted Welles",
         "Glenn Ford, Van Heflin, Felicia Farr, Leora Dana, Henry Jones, Richard Jaeckel, Robert Emhardt, Sheridan Comerate, George Mitchell, Robert Ellenstein, Ford Rainey, Barry Curtis, Jerry Hartleben, Woodrow Chambliss",
         "1957-08-07",
         "2012-04-16",
         "92.0",
         "Columbia Pictures",
         "Fresh",
         "96.0",
         "28.0",
         "Upright",
         "79.0",
         "9243.0",
         "6",
         "27",
         "1"
        ],
        [
         "8",
         "m/10002008-charly",
         "Charly (A Heartbeat Away)",
         "Cultural differences, past loves and personal crises threaten the emerging romance between a free spirit (Heather Beers) and her conventional beau (Jeremy Elliott).",
         null,
         "PG",
         "Comedy, Drama, Romance",
         "Adam Thomas Anderegg",
         "Jack Weyland, Janine Whetton Gilbert",
         "Heather Beers, Gary Neilson, Lisa McCammon, Jackie Winterrose-Fullerup, Jeremy Elliott, Randy King",
         "2002-09-27",
         "2017-05-22",
         "103.0",
         "Excel Entertainment",
         "Rotten",
         "20.0",
         "10.0",
         "Upright",
         "87.0",
         "4819.0",
         "0",
         "2",
         "8"
        ],
        [
         "9",
         "m/1000204-abraham_lincoln",
         "Abraham Lincoln",
         "The 16th U.S. president (Walter Huston) is portrayed as a lawyer, orator, husband and Civil War commander.",
         null,
         "NR",
         "Classics, Drama",
         "D.W. Griffith",
         "Gerrit J. Lloyd, Stephen Vincent Benét",
         "Walter Huston, Una Merkel, Kay Hammond, Ian Keith, Jason Robards Sr., E. Alyn Warren, Hobart Bosworth, Fred Warren, Henry B. Walthall, Frank Campeau, Francis Ford, William L. Thorne, Lucille La Verne, Helen Freeman, Oscar Apfel, Otto Hoffman, Edgar Dearing, Russell Simpson, Helen Ware, Charles Crockett, Jason Robards Sr., Gordon Thorpe, James Bradbury Sr., Cameron Prud'Homme, James Eagles, Hank Bell, James Bradbury Jr, Carl Stockdale, George MacQuarrie, Ralph Lewis, Mary Forbes, Robert Brower, Henry Kolker, Robert E. Homans",
         "1930-11-08",
         "2013-12-03",
         "97.0",
         "United Artists",
         "Fresh",
         "82.0",
         "11.0",
         "Spilled",
         "40.0",
         "457.0",
         "4",
         "9",
         "2"
        ],
        [
         "10",
         "m/10002114-dark_water",
         "Dark Water",
         "In this moody Japanese horror film, newly-single mom Yoshimi Matsubara (Hitomi Kuroki) is enduring a bitter divorce and struggling to keep custody of her young daughter, Ikuko (Rio Kanno). As the unstable Yoshimi tries to make a fresh start in a new apartment, strange occurrences in the building gradually begin to take their toll. When Yoshimi and Ikuko both start seeing unsettling visions of a ghostly little girl, it's clear that they're being drawn toward the supernatural.",
         null,
         "PG-13",
         "Art House & International, Horror, Mystery & Suspense",
         "Hideo Nakata",
         "Hideo Hakata, Takashige Ichise, Yoshihiro Nakamura, Ken-ichi Suzuki",
         "Hitomi Kuroki, Rio Kanno, Shigemitsu Ogi, Mirei Oguchi, Asami Mizukawa, Yu Tokui, Fumiyo Kohinata, Isao Yatsu",
         "2002-01-19",
         "2017-03-23",
         "100.0",
         "Toho Company Ltd",
         "Fresh",
         "80.0",
         "15.0",
         "Upright",
         "66.0",
         "21475.0",
         "3",
         "12",
         "3"
        ],
        [
         "11",
         "m/1000224-accused",
         "The Accused",
         "Out drinking one night after a fight with her boyfriend, Sarah Tobias (Jodie Foster) is brutally raped by three men in a bar while people watch and cheer. District Attorney Kathryn Murphy (Kelly McGillis) takes the case, however allows the rapists to receive a mild sentence. A distraught Sarah decides to seek punishment for the men who witnessed and encouraged the rape. To get justice, Sarah must take the stand and revisit the night of her attack in this drama based on true events.",
         null,
         "R",
         "Drama, Mystery & Suspense",
         "Jonathan Kaplan",
         "Tom Topor",
         "Jodie Foster, Kelly McGillis, Bernie Coulson, Leo Rossi, Ann Hearn, Steve Antin, Tom O'Brien, Allan Lysell, Carmen Argenziano, Terry David Mulligan, Woody Brown, Peter Van Norden, Scott Paulin, Kim Kondrashoff, Stephen E. Miller, Andrew Kavadas, Tom McBeath, Rose Weaver, Linda Darlow, Veena Sood, Anthony Holland, Kevin McNulty, Jerry Wasserman, Barney O'Sullivan, Christianne Hirt, Frances Flanagan, Mike Winlaw, Deryl Hayes, Dana Still, Denalda Williams, Babs Chula, Rebecca Toolan, Stephen Dimopoulos, Freda Perry, Dave Sheridan, Gary Chalk, Garwin Sanford, Gloria Lee, Michelle Goodger, Thomas Heaton, Pamela Sue Martin, Wally Marsh",
         "1988-10-14",
         "2016-10-04",
         "110.0",
         "Paramount Pictures",
         "Fresh",
         "91.0",
         "22.0",
         "Upright",
         "79.0",
         "20821.0",
         "1",
         "20",
         "2"
        ],
        [
         "12",
         "m/10002516-lost_city",
         "The Lost City",
         "Fico Fellove (Andy Garcia), an apolitical Havana club owner, gets caught in the middle when Fidel Castro's Communist Revolution sweeps through Cuba. He tries to keep the strife outside the walls of his popular establishment, but his family becomes divided when his brothers (Nestor Carbonell, Enrique Murciano) join the fight against Batista.",
         "Its heart is in the right place, but what starts as a promising exercise devolves into an overlong, unevenly directed disappointment.",
         "R",
         "Drama",
         "Andy Garcia",
         "G. Cabrera Infante, Guillermo Cabrera Infante",
         "Andy Garcia, Dustin Hoffman, Bill Murray, Inés Sastre, Tomás Milian, Elizabeth Peña, Jsu Garcia, Nestor Carbonell, Lorena Feijoo, Millie Perkins, Enrique Murciano Jr., Richard Bradford, Dominik García-Lorido, Steven Bauer, Tony Plana, Juan Fernández, Sergio Carlo, William Marquez, Julio Oscar Mechoso, Daniel Pino, Ruben Rabasa, Victor Rivers, Waldemar Kalinowski",
         "2005-09-03",
         "2017-03-23",
         "143.0",
         "Magnolia Pictures",
         "Rotten",
         "25.0",
         "83.0",
         "Upright",
         "64.0",
         "25944.0",
         "37",
         "21",
         "62"
        ],
        [
         "13",
         "m/10002519-breaking_point",
         "The Breaking Point",
         "A charter-boat captain winds up in the middle of a syndicate shootout after transporting illegal immigrants.",
         null,
         "NR",
         "Drama",
         "Michael Curtiz",
         "Ranald MacDougall",
         "John Garfield, Patricia Neal, Phyllis Thaxter, Juano Hernandez, Wallace Ford, Edmon Ryan, Ralph Dumke, Guy Thomajan, William Campbell, Sherry Jackson, Donna Jo Boyce, Victor Sen Yung, Peter Brocco, John Doucette, James Griffith, Norman Field, Juan Duval, Spencer Chan, Helen Hatch, Bob McLean, Beverly Mook, John Close, Alex Gerry, Mary Carroll, Glen Turnbull, John Chapin Morgan, John Alvin, David McMahon, Paul McGuire, Len Hendry",
         "1950-10-06",
         "2016-08-25",
         "97.0",
         "Warner Home Video",
         "Fresh",
         "100.0",
         "10.0",
         "Upright",
         "86.0",
         "335.0",
         "1",
         "10",
         "0"
        ],
        [
         "14",
         "m/1000253-adams_rib",
         "Adam's Rib",
         "A courtroom rivalry finds its way into the household when prosecuting lawyer Adam Bonner (Spencer Tracy) faces off against his wife, Amanda (Katharine Hepburn), who happens to be a defense attorney. Working on opposite sides of a lawsuit where a woman (Judy Holliday) has shot her cheating husband (Tom Ewell), Adam and Amanda are both determined to win the case, and their home becomes the setting for comical showdowns, with neither spouse willing to relent.",
         "Matched by Garson Kanin's witty, sophisticated screenplay, George Cukor, Spencer Tracy, and Katherine Hepburn are all in top form in the classic comedy Adam's Rib.",
         "NR",
         "Classics, Comedy, Romance",
         "George Cukor",
         "Garson Kanin, Ruth Gordon",
         "Spencer Tracy, Katharine Hepburn, Judy Holliday, Tom Ewell, David Wayne, Jean Hagen, Hope Emerson, Eve March, Clarence Kolb, Emerson Treacy, Polly Moran, Will Wright, Elizabeth Flournoy, Janna Da Loos, Marvin Kaplan, John Maxwell Sholes, David Clarke, Gracille LaVinder, William Self, Paula Raymond, Tommy Noonan, John Maxwell, Ray Walker, Bill Self, Sidney Dubin, Madge Blake, Marjorie Wood, Lester Luther, De Forrest Lawrence, John Fell, David Roger Harris, Anna Q. Nilsson, Rex Evans, Louis Mason, Charles Bastin, James Nolan, E. Bradley Coleman, Glen B. Gallagher, Joseph E. Bernard, Gil Patric, Harry Cody, George Magrill, Bert Davidson",
         "1949-11-18",
         "2008-05-01",
         "101.0",
         "MGM Home Entertainment",
         "Fresh",
         "96.0",
         "28.0",
         "Upright",
         "86.0",
         "10563.0",
         "6",
         "27",
         "1"
        ],
        [
         "15",
         "m/10002635-bridge_of_san_luis_rey",
         "The Bridge of San Luis Rey",
         "During the Spanish Inquisition, Franciscan monk Brother Juniper (Gabriel Byrne) witnesses the collapse of a bridge in Lima, Peru, and wonders why God has chosen to let five people perish. At a tribunal led by the imperious archbishop of Peru (Robert De Niro), the monk gives evidence about the tragedy's victims, including a marquesa (Kathy Bates) rejected by her daughter (Émilie Dequenne) and the beautiful mistress (Pilar López de Ayala) of a local nobleman (F. Murray Abraham).",
         "Despite an all-star cast and some impressive visuals, The Bridge of San Luis Rey is a lifeless, slow-going adaptation of Thornton Wilder's classic novel.",
         "PG",
         "Art House & International, Drama, Faith & Spirituality",
         "Mary McGuckian",
         "Mary McGuckian",
         "Gabriel Byrne, F. Murray Abraham, Kathy Bates, Geraldine Chaplin, Robert De Niro, Émilie Dequenne, Adriana Domínguez, Harvey Keitel, Samuel Le Bihan, Pilar López de Ayala, John Lynch, Dominique Pinon, Mark Polish, Michael Polish, Jim Sheridan",
         "2005-06-10",
         "2014-07-24",
         "124.0",
         "Fine Line Features",
         "Rotten",
         "4.0",
         "24.0",
         "Spilled",
         "35.0",
         "1935.0",
         "13",
         "1",
         "23"
        ],
        [
         "16",
         "m/10002673-prowler",
         "The Prowler (Cost of Living )",
         "After being frightened by a peeping Tom at her mansion in the suburbs, the beautiful Susan Gilvray (Evelyn Keyes) calls the police for help. When a policeman, Webb Garwood (Van Heflin), arrives, he becomes infatuated with Susan, and the two engage in an affair. Susan soon ends their relationship, choosing to remain with her husband, John (Sherry Hall). However, Webb's obsession with her continues to grow, until he begins plotting to kill John and cash in on his life insurance policy.",
         null,
         "PG",
         "Drama, Mystery & Suspense",
         "Joseph Losey",
         "Robert Thoeren, Hugo Butler, Dalton Trumbo",
         "Van Heflin, Evelyn Keyes, Katherine Warren, John Maxwell, Emerson Treacy, Madge Blake, Wheaton Chambers, Robert Osterloh, Sherry Hall, Louise Lorimer, George Nader, Benny Burt, Louise M. Bates, Steve Carruthers, Betty Jane Howarth, Fred Hoose, Alan Harris, Tiny Jones",
         "1951-12-03",
         "2016-12-05",
         "92.0",
         "VCI Entertainment",
         "Fresh",
         "100.0",
         "18.0",
         "Upright",
         "86.0",
         "286.0",
         "6",
         "18",
         "0"
        ],
        [
         "17",
         "m/10003276-criminal",
         "Criminal",
         "Needing a new partner capable of intricate cons, Richard Gaddis (John C. Reilly), recruits Rodrigo (Diego Luna), a crook with a perfect poker face. The two plan a big-time scam: selling a fake Silver Certificate to currency collector William Hannigan (Peter Mullan). Rodrigo distrusts his new associate, but needs money to help out his ill father. The situation becomes more complicated when Rodrigo falls for Gaddis' sister, Valerie (Maggie Gyllenhaal), drawing another player into the game.",
         "If you saw Nine Queens, it may feel redundant, but the snappy performances make it fun to watch.",
         "R",
         "Drama, Mystery & Suspense",
         "Greggory Jacobs, Gregory Jacobs, Greg Jacobs",
         "Gregory Jacobs, Fabián Bielinsky, Steven Soderbergh, Sam Lowry, Greggory Jacobs, Greg Jacobs",
         "John C. Reilly, Diego Luna, Maggie Gyllenhaal, Jonathan Tucker, Peter Mullan, Zitto Kazann, Maeve Quinlan, Laura Cerón, Soledad St. Hilaire, Brandon Keener, Gary Mack, Ellen Geer, Brent Sexton, Enrico Colantoni, Nick Anavio, Deborah Van Valkenburgh, Malik Yoba, Lillian Hurst, Jack Conley, Juan Carlos Cantu, Manuel G. Jimenez, Luis Contreras, Patricia Belcher, Paul Norwood",
         "2004-09-24",
         "2016-04-27",
         "87.0",
         "Warner Bros. Pictures",
         "Fresh",
         "69.0",
         "124.0",
         "Spilled",
         "57.0",
         "6711.0",
         "35",
         "85",
         "39"
        ],
        [
         "18",
         "m/1000334-adventures_of_mark_twain",
         "The Adventures of Mark Twain",
         "In this claymation film, celebrated author Mark Twain (James Whitmore), displeased with the state of humanity, sets off in a hot-air balloon to meet his celestial destiny: Halley's Comet. Stowed away on the craft are beloved characters from Twain's stories -- Tom Sawyer (Chris Ritchie), Becky Thatcher (Michele Mariana) and Huckleberry Finn (Gary Krug). As Twain's balloon ascends ever higher to its ultimate goal, his literary creations try to persuade him of the essential goodness of man.",
         null,
         "G",
         "Action & Adventure, Animation, Kids & Family",
         "Will Vinton",
         "Susan Shadburne",
         "James Whitmore, Michele Mariana, Gary Krug, Chris Ritchie, Carol Edelman, John Hennigan",
         "1985-03-01",
         "2017-02-04",
         "86.0",
         "Eureka Entertainment Ltd",
         "Fresh",
         "80.0",
         "5.0",
         "Upright",
         "82.0",
         "1046.0",
         "1",
         "4",
         "1"
        ],
        [
         "19",
         "m/10003437-deep_blue",
         "Deep Blue",
         "This nature documentary shows the lives of different animals in and near the oceans that make up two-thirds of the planet's surface. Gray whales make their migratory journeys despite being menaced by killer whiles, while smaller fish struggle to stay alive. In the Arctic, penguins and polar bears endure the winter, while on beaches crabs emerge to feed. Meanwhile, five miles under the water, unusual forms of life thrive -- many of them in places less explored than the moon.",
         "Full of visually striking footage, Deep Blue may be too intense for younger viewers, but fans of nature documentaries will find much to enjoy.",
         "G",
         "Documentary, Special Interest",
         "Andy Byatt, Alastair Fothergill",
         "Alastair Fothergill, Andy Byatt, Tim Ecott",
         "Pierce Brosnan, Michael Gambon",
         "2005-06-17",
         "2016-12-07",
         "90.0",
         "Miramax Flims",
         "Fresh",
         "67.0",
         "52.0",
         "Upright",
         "80.0",
         "4692.0",
         "18",
         "35",
         "17"
        ],
        [
         "20",
         "m/1000355-adventures_of_robin_hood",
         "The Adventures of Robin Hood",
         "When King Richard the Lionheart is captured, his scheming brother Prince John (Claude Rains) plots to reach the throne, to the outrage of Sir Robin of Locksley (Errol Flynn), the bandit king of Sherwood Forest. Rounding up his band of men and eventually winning the support of the lovely Maid Marian (Olivia de Havilland), Robin accuses Prince John of treachery and, when the escaped Richard returns covertly to England, joins forces with the king to prevent Prince John from taking the crown.",
         "Errol Flynn thrills as the legendary title character, and the film embodies the type of imaginative family adventure tailor-made for the silver screen.",
         "PG",
         "Action & Adventure, Classics, Romance",
         "Michael Curtiz, William Keighley",
         "Norman Reilly Raine, Seton I. Miller, Michael Curtiz, William Keighley",
         "Errol Flynn, Olivia de Havilland, Basil Rathbone, Claude Rains, Eugene Pallette, Alan Hale, Una O'Connor, Patric Knowles, Melville Cooper, Herbert Mundin, Montagu Love, Ian Hunter, Robert Warwick, Leonard Willey, Harry Cording, Howard Hill, Robert Noble, Kenneth Hunter, Colin Kenny, Lester Matthews, Ivan Simpson, James Baker, Charles McNaughton, Wilfred Lucas, Lionel Belmore, Janet Shaw, Reginald Sheffield, Crauford Kent, Austin Fairman, Hal Brazeale, Holmes Herbert, Leonard Mudie, Herbert Evans, Alec Harford, Peter Hobbes, Leyland Hodgson, Olaf Hytten, Marten Lamont, Val Stanton, John Sutton",
         "1938-05-14",
         "2014-01-23",
         "102.0",
         "Warner Bros.",
         "Certified-Fresh",
         "100.0",
         "48.0",
         "Upright",
         "89.0",
         "33946.0",
         "8",
         "48",
         "0"
        ],
        [
         "21",
         "m/10003876-man_hunt",
         "Man Hunt",
         "Renowned big-game hunter Captain Thorndike (Walter Pidgeon) is hunting in the Bavarian forest when he stumbles upon Adolf Hitler's vacation residence. Tempted by the idea of assassinating the dictator, he's apprehended and beaten before escaping and stowing away on a steamship back to England. Onboard, Thorndike has his identity stolen by the smooth-talking con man Mr. Jones (John Carradine). Both men soon discover that Gestapo agents are swarming London, looking for the would-be assassin.",
         null,
         "NR",
         "Classics, Drama, Mystery & Suspense",
         "Fritz Lang",
         "Dudley Nichols",
         "Walter Pidgeon, Joan Bennett, George Sanders, John Carradine, Roddy McDowall, Ludwig Stossel, Heather Thatcher, Frederic Worlock, Roger Imhof, Egon Brecher, Holmes Herbert, Fredrik Vogeding, Lucien Prival, Herbert Evans, Edgar Licho, Eily Malyon, John Rogers, Lester Matthews, Arno Frey, Keith Hitchcock, Walter Bonn, Otto Reichow, Robert Stephenson, William Haade, Adolph Milar, Sven Hugo Borg, Hans Joby, Douglas Gerrard, Clifford Severn, Charles Bennett, Bobby Hale, Frank Benson, Cyril Delevanti, Bruce Lister, Carl Ekberg, Olaf Hytten, William Von Brincken, Virginia McDowall, Bruce Lester, Richard Fraser, Kurt Kreuger",
         "1941-01-01",
         "2014-03-01",
         "100.0",
         "Twentieth Century Fox",
         "Fresh",
         "92.0",
         "12.0",
         "Upright",
         "75.0",
         "554.0",
         "0",
         "11",
         "1"
        ],
        [
         "22",
         "m/10003925-dead_end",
         "Dead End",
         "When a family en route to a Christmas Eve gathering decides to takes a shortcut down a wooded road, an eerie sequence of events signals trouble ahead. After nearly colliding with an oncoming car, father Frank (Ray Wise) picks up a ghostly hitchhiker (Amber Smith) and her infant child. With the sudden appearance of their new passengers, the route becomes dark and treacherous -- and the family's numbers rapidly begin to dwindle in a series of seemingly connected, grisly roadside accidents.",
         null,
         "R",
         "Comedy, Horror, Mystery & Suspense",
         "Jean-Baptiste Andrea, Fabrice Canepa, Jean-Bapiste Andrea",
         "Jean-Baptiste Andrea, Fabrice Canepa",
         "Ray Wise, Lin Shaye, Mick Cain, Alexandra Holden, Billy Asher, Amber Smith, Steve Valentine, Karen S. Gregan, Clement Blake, Jimmie F. Skaggs, Ivan Kraljevic",
         "2003-09-26",
         "2018-12-11",
         "83.0",
         "LionsGate Entertainment",
         "Fresh",
         "75.0",
         "8.0",
         "Upright",
         "60.0",
         "10373.0",
         "1",
         "6",
         "2"
        ],
        [
         "23",
         "m/10004050-bandwagon",
         "Bandwagon",
         "When Tony (Lee Holmes) loses his job, he decides to focus on singing and writing songs. He then starts a band with his friends: Wynn (Kevin Corrigan) plays guitar, Eric (Steve Parlavecchio) is on bass and Charlie (Matthew Hennessey) mans the drums. Though an encounter with a loan shark almost ends the group's career before it starts, they soon team up with manager Chester (Doug MacMillan) and hit the road, where they learn that the rock 'n' roll lifestyle isn't everything it's cracked up to be.",
         null,
         "R",
         "Comedy",
         "John Schultz",
         "John Schultz",
         "Matthew Hennessey, Kevin Corrigan, Steve Parlavecchio, Lee Holmes, Doug MacMillan, Lisa Keller, Steve Robinson, Douglas McCallie, Doug McCallie, Steph Robinson, Mary Ellen Williams, Sally Nussbaumer, Beth Cameron, Rob Munk, Ed Slanker, Joe Ventura, Jac Cain, Jenny Fields, Eddie Oaks, Andrew Coffing, Slayde Barnes, John Bailey, Jeff Holler, K.D. Kennedy, Edward Marshall, Matthew Huggler, Robert Healy, Diane Eidman, David Palmer, Knox White, Rafael Clements, William McClain, Jeffrey Pillars, Tina Meinhart, John Wayne Shafer, Helen Crisp, Perry L. Brown, Mark Filliaci, Marguerite Lowell",
         "1997-09-12",
         null,
         "103.0",
         "Avalanche Entertainment",
         "Fresh",
         "80.0",
         "5.0",
         "Upright",
         "91.0",
         "386.0",
         "1",
         "4",
         "1"
        ],
        [
         "24",
         "m/10004069-whore",
         "Whore",
         "Encouraged by her neighbor (Daryl Hannah), a financially strapped graduate student (Denise Richards) turns to prostitution to make ends meet.",
         null,
         "R",
         "Art House & International, Drama",
         "María Lidón",
         "Adela Ibañez, Isabel Pisano",
         "Daryl Hannah, Denise Richards, Joaquim de Almeida, María Jiménez, Conrad Son, Pierre Woodman, Dora Venter, Rita Faltoyano, Carol Fonda, Africa",
         "2004-04-16",
         "2014-02-04",
         "77.0",
         "Dolores Pictures LLC",
         "Rotten",
         "0.0",
         "6.0",
         "Upright",
         "63.0",
         "914.0",
         "4",
         "0",
         "6"
        ],
        [
         "25",
         "m/10004209-tristan_and_isolde",
         "Tristan & Isolde",
         "After the fall of the Roman Empire, English orphan Tristan meets and falls in love with Irish princess Isolde, however she is set to marry Lord Marke, who raised Tristan. While unaware of her identity, he has won her hand in marriage for his lord and future king of the two countries, but now the passion of the two young people causes a rift leading to a devastating battle.",
         "Competent but somewhat static, Tristan & Isolde doesn't achieve the sweeping romanticism that it aims for.",
         "PG-13",
         "Drama, Science Fiction & Fantasy, Romance",
         "Kevin Reynolds",
         "Dean Georgaris",
         "James Franco, Sophia Myles, Rufus Sewell, David O'Hara, Henry Cavill, JB Blanc, Tiffany Knight, Jamie Thomas King, Leo Gregory, Richard Dillane, Mark Strong (II), Graham Mullins, Bronagh Gallagher, Ronan Vibert, Lucy Russell, Thomas Sangster, Dexter Fletcher, Wolfgang Muller, Cheyenne Rushing, Thomas Morris, Barbara Kodetova, Isobel Moynihan, Gordon Truefitt, Myles Taylor, Jack Montgomery, Marek Vasut, David Fisher, Kevin Flood, Philip O'Sullivan, Nevan Finnegan, Jon Olafsson, Bronwen Bonner-Davies, Todd Kramer, Winter Ave Zoli, Mirek Simunek, Nevan Finegan, Bronwen Davies, Jón ??lafsson, Hans Martin Stier",
         "2006-01-13",
         "2015-11-25",
         "126.0",
         "20th Century Fox",
         "Rotten",
         "31.0",
         "121.0",
         "Upright",
         "71.0",
         "220956.0",
         "36",
         "38",
         "83"
        ],
        [
         "26",
         "m/10004226-wild_side",
         "Wild Side",
         "Along with one (Edouard Nikitine) of her live-in lovers, a woman (Stéphanie Michelini) returns to her home village to visit her dying mother.",
         null,
         "NR",
         "Art House & International, Drama",
         "Sébastien Lifshitz",
         "Sébastien Lifshitz, Stéphane Bouquet",
         "Stéphanie Michelini, Josiane Stoleru, Yasmine Belmadi, Edouard Nikitine, Josiane Storelu, Corentin Carinos, Perrine Stevenard, Benoît Verhaert, Fabrice Rodriguez, Jacques Hery",
         "2005-06-10",
         "2005-10-25",
         "94.0",
         "Wellspring",
         "Fresh",
         "63.0",
         "16.0",
         "Upright",
         "80.0",
         "867.0",
         "4",
         "10",
         "6"
        ],
        [
         "27",
         "m/10004232-10004232-tale_of_two_pizzas",
         "A Tale of Two Pizzas",
         "The offspring of rival pizzeria owners (Vincent Pastore, Frank Vincent) fall in love as their fathers battle over who makes the best pie.",
         null,
         "PG",
         "Comedy",
         "Vincent Sassone",
         "Vincent Sassone",
         "Vincent Pastore, Vincent Sassone, Frank Vincent, Angela Pietropinto, Conor Dubin, Patti D'Arbanville, Frankie J. Galasso, Kelly Karbacz, Melissa Marsala, Robin Paul, Michael Carbonaro, Mikey Romano, Mary Ellen Ashley, Louis Guss, Nick Gianguilio",
         "2003-11-07",
         "2018-01-16",
         "82.0",
         null,
         "Rotten",
         "38.0",
         "8.0",
         null,
         null,
         null,
         "5",
         "3",
         "5"
        ],
        [
         "28",
         "m/10004288-running_scared",
         "Running Scared",
         "Mafia flunky Joey Gazelle (Paul Walker) is ordered to dispose of the guns that killed a pair of policemen. He hides them in his basement, where they are found by Oleg (Cameron Bright), the kid from next door, who uses one to shoot his brutal stepfather, a Russian mobster. The boy runs off, and Joey pursues him into the criminal underworld, desperate to retrieve the incriminating weapon. Meanwhile, corrupt detective Rydell (Chazz Palminteri) is following Joey's trail with his own agenda.",
         "This film runs with frenetic energy punctuated by gratuitous violence but sorely lacks in plot, character development and stylistic flair.",
         "R",
         "Action & Adventure, Drama, Mystery & Suspense",
         "Wayne Kramer",
         "Wayne Kramer",
         "Paul Walker, Cameron Bright, Vera Farmiga, Karel Roden, Johnny Messner, Ivana Milicevic, Chazz Palminteri, Alex Neuberger, Michael Cudlitz, Bruce Altman, Elizabeth Mitchell, Arthur J. Nascarella, John Noble, Idalis DeLeon, David Warshofsky, Jim Tooey, Thomas Rosales Jr., Morgan Johnson, Jamba Mulimbwe, Maurice Lee, Viktor Cervenka, Oakley Lehman, Jan Kohout, Jeffrey Smith, Karen Cifarelli, Brian Caspe, Ryan James, Ellen Savaria",
         "2006-02-24",
         "2008-10-01",
         "121.0",
         "New Line Cinema",
         "Rotten",
         "41.0",
         "131.0",
         "Upright",
         "79.0",
         "135400.0",
         "39",
         "54",
         "77"
        ],
        [
         "29",
         "m/10004352-going_the_distance",
         "Going the Distance",
         "Nick (Christopher Jacot) is a successful young man whose comfortable West Coast life couldn't be better. However, when his girlfriend falls under the influence of lecherous music producer Lenny Swackhammer (Jason Priestley), Nick impulsively decides to travel to Toronto to intervene. Nick's buddies Tyler (Shawn Roberts) and Dime (Ryan Belleville) opt to turn the quest into a cross-country road trip that's complete with wacky antics and encounters with beautiful women.",
         null,
         "R",
         "Comedy",
         "Mark Griffiths",
         "Eric Goodman, Kelly Senecal",
         "Christopher Jacot, Shawn Roberts, Ryan Belleville, Joanne Kelly, Mayko Nguyen, Jason Priestley, Matt Frewer, Katheryn Winnick, August Schellenberg, Jackie Burroughs, Andrew Airlie, Lynda Boyd, Jay Brazeau, Andy Jones, Christie Laing, Miles Meadows, Devin Douglas Drewitz, Avril Lavigne",
         "2004-08-20",
         "2017-03-10",
         "93.0",
         "Séville Pictures",
         "Rotten",
         "0.0",
         "5.0",
         "Upright",
         "61.0",
         "13033.0",
         "2",
         "0",
         "5"
        ],
        [
         "30",
         "m/10004504-ultraviolet",
         "Ultraviolet",
         "In the late 21st-century, a vampiric disease modifies some people, imbuing each of them with superhuman strength, intelligence and speed. Worldwide civil war looms as normal people, feeling threatened by their enhanced brethren, demand the extermination of the group. One such transformed female (Milla Jovovich) finds herself caught in the crossfire when she becomes the protector of a boy who is perceived to be a threat to humanity.",
         "An incomprehensible and forgettable sci-fi thriller, Ultraviolet is inept in every regard.",
         "PG-13",
         "Action & Adventure, Drama, Horror, Science Fiction & Fantasy",
         "Kurt Wimmer",
         "Kurt Wimmer",
         "Milla Jovovich, Cameron Bright, Nick Chinlund, William Fichtner, Sebastien Andrieu, Ida Martin, David Collier, Kieran O'Rorke, Digger Mesch, Ryan Martin, Steven Calcote, Ricardo Mamood, Mike Smith, Clay Cullen, Jennifer Caputo, Jack Murphy, Diego Swing, Ted Thomas, Abraham Boyd, Matthew Sturgess, Alexander Key, Peter Spurrier, Russell Wait, Youlia Galenko, Luke Jackson, Christopher Garner, Duc Luu, Kurt Wimmer, Gilad Lotan, Phillip Moore, Robert Alonzo, Mitchell Gould, Daniel Hawe, Scott Piper",
         "2006-03-03",
         "2012-04-16",
         "88.0",
         "Sony Pictures",
         "Rotten",
         "8.0",
         "83.0",
         "Spilled",
         "30.0",
         "279994.0",
         "21",
         "7",
         "76"
        ],
        [
         "31",
         "m/10004635-home_of_the_brave",
         "Home of the Brave",
         "In 1965, Klansmen murder a civil-rights worker named Viola Liuzzo who was driving with a black passenger.",
         null,
         "R",
         "Action & Adventure, Documentary, Drama, Special Interest",
         "Paola di Florio",
         "Paola di Florio",
         "Mary Liuzzo, Tony Liuzzo, Sally Liuzzo, Penny Liuzzo, Sue Liuzzo, Rose Mary Liuzzo, J.L. Chesnut, John Lewis, Gloria Steinem, Eric Jacobs, Joanne Bland, Alice West, Gary May, Spider Martin, James Turner, Phyllis Chesler, Mary Stanton, Warren Hanson, Nicholas Katzenbach, Leroy Moton, Judge William Webster, Murray Fromson, Stockard Channing",
         "2004-05-11",
         "2016-04-03",
         "75.0",
         "Emerging Pictures",
         "Fresh",
         "93.0",
         "15.0",
         "Spilled",
         "48.0",
         "866.0",
         "7",
         "14",
         "1"
        ],
        [
         "32",
         "m/10004659-arthur",
         "Arthur and the Invisibles (Arthur and the Minimoys)",
         "Ten-year-old Arthur must find a way to keep the home of his beloved grandmother from being destroyed by a developer with other plans. Remembering his grandfather's story of a treasure, he enters the world of tiny beings who live in perfect harmony with nature. Together with Princess Selenia and her young brother, Betameche, Arthur goes in search of the treasure and -- along the way -- discovers that his long-absent grandfather may not be missing after all.",
         "Arthur wastes its big-name voice talent on a predictable script and substandard CG animation.",
         "PG",
         "Animation, Kids & Family, Science Fiction & Fantasy",
         "Luc Besson",
         "Luc Besson, Celine Garcia",
         "Freddie Highmore, Mia Farrow, Penny Balfour, Doug Rand, David Bowie, Madonna, Snoop Dogg, Jimmy Fallon, Robert De Niro, Anthony Anderson, Chazz Palminteri, Jason Bateman, Adam LeFevre, Harvey Keitel, Emilio Estevez, Ron Crawford, Jean Bejote Njamba, Serge Blumental, Erik Per Sullivan, Rob Corddry, Nathan Corddry",
         "2007-01-12",
         "2016-08-10",
         "94.0",
         "MGM",
         "Rotten",
         "22.0",
         "92.0",
         "Spilled",
         "56.0",
         "134483.0",
         "30",
         "20",
         "72"
        ],
        [
         "33",
         "m/10004684-malevolence",
         "Malevolence",
         "Bank robbers (Brandon Johnson, Heather Magee) take two hostages to a rural farmhouse where a serial killer lurks.",
         null,
         "R",
         "Horror",
         "Stevan Mena",
         "Stevan Mena",
         "Samantha Dark, R. Brandon Johnson, Heather Magee, Richard Glover, Courtney Bertolone, John Richard Ingram, Keith Chambers, Mia Lotringer, Kevin McKelvy",
         "2004-09-10",
         "2017-03-30",
         "90.0",
         "Anchor Bay Entertainment",
         "Rotten",
         "33.0",
         "18.0",
         "Upright",
         "83.0",
         "2622.0",
         "4",
         "6",
         "12"
        ],
        [
         "34",
         "m/10004697-eternal",
         "Eternal",
         "A detective's (Conrad Pla) search for his missing wife leads him to a wealthy woman (Caroline Néron) who may have supernatural powers.",
         "Even by the standards of camp, Eternal fails to entertain.",
         "R",
         "Horror, Mystery & Suspense",
         "Wilhelm Liebenberg, Federico Sanchez",
         "Wilhelm Liebenberg, Federico Sanchez",
         "Sarah Manninen, Caroline Neron, Victoria Sanchez, Conrad Pla, Ilona Elkin, Nick Baillie, Luke Belanger, Liane Balaban, John Dunn-Hill, Arthur Holden, Kathleen Munroe, Romano Orzari, John Dunhill, Yves Corbeil, Jennifer Morehouse, Ella, Suzanne Jaquart, Cristina Bertini, Ted Rusoff",
         "2004-08-26",
         "2016-09-23",
         "108.0",
         "Regent Releasing",
         "Rotten",
         "21.0",
         "34.0",
         "Spilled",
         "39.0",
         "1295.0",
         "10",
         "7",
         "27"
        ],
        [
         "35",
         "m/10004835-farewell_to_arms",
         "A Farewell To Arms",
         "Based on the Ernest Hemingway novel, this World War I drama follows American soldier Lt. Frederick Henry (Rock Hudson) and his romance with a nurse, Catherine Barkley (Jennifer Jones). While fighting alongside the Italian army, Frederick is separated from Catherine, who is pregnant with his child. After helping locals escape to freedom, Frederick searches for Catherine while enemy forces hunt him across Italy. But Catherine's poor health may prevent Frederick from reaching her in time.",
         null,
         "NR",
         "Classics, Drama, Romance",
         "Charles Vidor, John Hudson, John Huston",
         "Ben Hecht",
         "Rock Hudson, Jennifer Jones, Vittorio De Sica, Alberto Sordi, Mercedes McCambridge, Kurt Kasznar, Oscar Homolka, Elaine Stritch, Leopoldo Trieste, Franco Interlenghi, José Nieto, Georges Brehat, Memmo Carotenuto, Victor Francen, Joan Shawlee, Guido Martufi, Umberto Spadaro, Umberto Sacripante, Albert D'Amario, Giacomo Rossi-Stuart, Bud Spencer, Alex Revides, Franco Mancinelli, Patrick Crean, Guidarino Guidi, Diana King, Clelia Matania, Eduard Linkers, Johanna Hofer, Luigi Barzini, Carlo Licari, Angelo Galassi, Carlo Hintermann, Tiberio Mitri, Peter Illing, Sam Levene, Eva Kotthaus, Gisella Mathews, Vittorio Jannitti, Gisella Matthews",
         "1957-12-14",
         "2012-09-18",
         "150.0",
         "Fox",
         "Rotten",
         "0.0",
         "12.0",
         "Spilled",
         "37.0",
         "1460.0",
         "6",
         "0",
         "12"
        ],
        [
         "36",
         "m/10004890-narrow_margin",
         "The Narrow Margin",
         "Tense story of a tough cop attempting to transport the widow of a gangster to the trial in which she'll testify. They undertake a rail journey from Chicago to Los Angeles with their lives constantly under threat from hit men on the train, who will stop at nothing to prevent her from testifying.",
         null,
         "NR",
         "Classics, Drama, Mystery & Suspense",
         "Richard Fleischer",
         "Earl Felton, Martin Goldsmith",
         "Charlie MacGraw, Charles McGraw, Marie Windsor, Jacqueline White, Gordon Gebert, Queenie Leonard, David Clarke, Peter Virgo, Don Beddoe, Paul Maxey, Harry Harvey, Michael Lally, Donald Dillaway, George Sawaya, Tony Merrill, Howard Mitchell, Milton Kibbee, Don Haggerty, Johnny Lee, Ivan Browning, Clarence Hargrave, Edgar Murray, Napoleon Whiting, Bobbie Johnson, Will Lee, Franklin Parker, Jasper Weldon",
         "1952-05-04",
         "2012-08-20",
         "71.0",
         "Warner Home Video",
         "Fresh",
         "100.0",
         "11.0",
         "Upright",
         "88.0",
         "1135.0",
         "0",
         "11",
         "0"
        ],
        [
         "37",
         "m/10004925-matador",
         "The Matador",
         "Salesman Danny Wright (Greg Kinnear) is working through his shaky marriage and the untimely death of his child when he bumps into the similarly dispirited Julian Noble (Pierce Brosnan) in a Mexican dive bar. After they develop an unusual but meaningful bond, the brash Julian reveals that he is a contract killer, which doesn't bother Danny. Months later, a desperate Julian shows up at Danny's home and asks for a life-changing favor that truly puts their friendship to the test.",
         "This humorously amoral, oddball comic thriller features strong performances by Pierce Brosnan and Greg Kinnear as a flamboyant, aging hit-man and an out of work suburban businessman, respectively.",
         "R",
         "Action & Adventure, Comedy, Drama, Mystery & Suspense",
         "Bob Yari, Richard Shepard",
         "Richard Shepard, Richard Shepherd",
         "Pierce Brosnan, Greg Kinnear, Hope Davis, Philip Baker Hall, Adam Scott, Dylan Baker, Arlin Miller, Roberto Sosa, Azucena Medina, Portia Dawson, Israel Tellez, Claudia Lobo, Arturo Echeverria, Ramon Valverde, Jonah Meyerson",
         "2006-01-27",
         "2016-11-18",
         "97.0",
         "The Weinstein Company",
         "Certified-Fresh",
         "75.0",
         "156.0",
         "Upright",
         "65.0",
         "73701.0",
         "39",
         "117",
         "39"
        ],
        [
         "38",
         "m/10005057-smile",
         "Smile",
         "While visiting China, an American high-school student (Mika Boorem) befriends a teenager (Yi Ding) who has a facial deformity.",
         null,
         "PG-13",
         "Art House & International, Comedy, Drama",
         "Jeff Kramer, Jeffrey Kramer",
         "Jeff Kramer, Jeffrey Kramer",
         "Mika Boorem, Wang Luoyong, Yi Ding (II), Beau Bridges, Linda Hamilton, Cheri Oteri, Sean Astin, Shuai Chi, Jonathon Trent, Erik von Detten, Jia Song, Essie Shure",
         "2005-04-08",
         "2016-11-18",
         "107.0",
         "Dark Forest Releasing",
         "Rotten",
         "15.0",
         "13.0",
         "Upright",
         "66.0",
         "2059.0",
         "6",
         "2",
         "11"
        ],
        [
         "39",
         "m/10005104-intruder",
         "The Intruder (L'Intrus)",
         "After receiving a heart transplant, an enigmatic loner (Michel Subor) journeys to Tahiti to reconnect with the son he fathered many years earlier.",
         "The impressionistic narrative may confound the viewer, but Denis crafts wonderfully poetic, dreamlike imagery.",
         "G",
         "Art House & International, Drama",
         "Claire Denis",
         "Claire Denis, Jean-Pol Fargeau",
         "Beatrice Dalle, Michael Subor, Jean-Marc Teriipaia, Florence Loiret-Caille, Bambou, Yekatarina Golueva, Grégoire Colin, Michel Subor, Edwin Alin, Katya Golubeva, Henri Tetainanuarii, Dong-ho Kim, Chang Se-tak, Park Hong-suk, Anna Tetuaveroa, Henri tetu Tetainanuarii, Karin Bambourough, Alex Descas, Lolita Chammah",
         "2005-12-23",
         "2006-04-25",
         "130.0",
         "Wellspring",
         "Fresh",
         "87.0",
         "30.0",
         "Upright",
         "73.0",
         "9701.0",
         "10",
         "26",
         "4"
        ],
        [
         "40",
         "m/10005178-saint_ralph",
         "Saint Ralph",
         "The year 1954 finds teen outcast Ralph Walker (Adam Butcher) getting in trouble at the Catholic school he attends in Ontario, Canada. When the headmaster (Gordon Pinsent) catches Ralph smoking, he puts the boy on the school's cross-county team to force him to put his time to better use. When Ralph discovers that his hospitalized mother has slipped into a coma, he decides to run in the Boston Marathon, hoping that, if he wins, God will grant him a miracle and make his mother well again.",
         "Saint Ralph is an amiable tear-jerker that walks a fine line between being inspirational and being hokum.",
         "PG-13",
         "Comedy, Drama",
         "Michael McGowan",
         "Michael McGowan",
         "Adam Butcher, Campbell Scott, Gordon Pinsent, Gordon Pincsent, Jennifer Tilly, Shauna MacDonald, Tamara Hope, Frank Crudele, Michael Kanev, Chris Ploszczansky, Paulette Sinclair, Lubica Kucerova, Ben Gans, Jock McLeod, Jeff Baxter, Daniel Karasik, Jonathan Walker, Keir Gilchrist, Jonathan Wilson, Rob Smith, Joan Massiah, Gerard Parkes, Boyd Banks, Henry Alessandroni, Fiona Highet, Brandon Barre, John Blakey, Naomi Emmerson, Barry Stillwell, Jonathan Higgins, Michael David Brown",
         "2005-08-05",
         "2017-05-11",
         "98.0",
         "IDP",
         "Fresh",
         "64.0",
         "69.0",
         "Upright",
         "85.0",
         "6203.0",
         "26",
         "44",
         "25"
        ],
        [
         "41",
         "m/10005403-the_baxter",
         "The Baxter",
         "Elliot Sherman (Michael Showalter) has had terrible luck with women during his life, losing three of them to ex-boyfriends in outlandish situations. Now, a week before he is to marry Caroline (Elizabeth Banks), she mentions an old high-school boyfriend, Bradley (Justin Theroux), and Elliot worries that the curse is about to strike again. A co-worker named Cecil (Michelle Williams) attempts to reassure him, but trying not to give in to anxiety only makes things worse.",
         "The Baxter is good-natured, but there are simply not enough laughs to fuel this comedy.",
         "PG-13",
         "Comedy, Romance",
         "Michael Showalter",
         "Michael Showalter",
         "Michael Showalter, Elizabeth Banks, Michelle Williams, Justin Theroux, Zak Orth, Michael Ian Black, Catherine Lloyd Burns, Peter Dinklage, Paul Rudd, Katharine Powell, John DeVries, Donna Mitchell, Haviland Morris, David Wain, Jim DeMarse, Leslie Lyles, A.D. Miles, Joe Lo Truglio, Seth Herzog, Jonathan Marc Sherman, Peter Stadlen, Abby Wathen, Gabriel Millman, Sarah Drew, Chris Spain, Marylouise Burke, Ken Marino, Audrie J. Neenan, Bobby Tisdale, Michael Portnoy, Maya Goldsmith, Jenny Maguire, Melisa McGregor, Madeleine Dauzart, Andrea Rosen",
         "2005-08-26",
         "2018-07-02",
         "91.0",
         "IFC Films",
         "Rotten",
         "32.0",
         "75.0",
         "Upright",
         "75.0",
         "7436.0",
         "25",
         "24",
         "51"
        ],
        [
         "42",
         "m/10005499-oliver_twist",
         "Oliver Twist",
         "An orphan (Barney Clark) in 19th-century London falls in with a gang of young pickpockets who steal for their villainous master (Ben Kingsley).",
         "Polanski's version of Dickens' classic won't have audiences asking for more because while polished and directed with skill, the movie's a very impersonal experience.",
         "PG-13",
         "Drama, Kids & Family",
         "Roman Polanski",
         "Ronald Harwood",
         "Ben Kingsley, Barney Clark, Leanne Rowe, Mark Strong (II), Jamie Foreman, Harry Eden, Edward Hardwicke, Ian McNeice, Jeremy Swift, Frances Cuka, Michael Heath, Gillian Hanna, Alun Armstrong, Andy de la Tour, Andrew de la Tour, Peter Copley, Andreas Papadopoulos, Laurie Athey, Filip Hess, Lewis Chase, Jack Curran, Chris Overton, Richard Durden, Timothy Bateson, Joseph Tremain, Andy Linden, John Nettleton, Tony Noble, Teresa Churcher, Gerard Horan, Morgane Polanski, Liz Smith, Levi Hayes, Ophelia Lovibond, Elvis Polanski, Patrick Godfrey, Anezka Novak, Andy Camm, Frank Mills, Turbo, David Meeking, Paul Brooke, Kaeren Revell, Andrea Miltner, Kay Raven, Lizzy Le Quesne, Robert Orr, Paul Eden, Nick Stringer, James Babson, Richard Ridings",
         "2005-09-30",
         "2012-04-16",
         "130.0",
         "Sony Pictures",
         "Fresh",
         "61.0",
         "143.0",
         "Upright",
         "63.0",
         "23294.0",
         "39",
         "87",
         "56"
        ],
        [
         "43",
         "m/1000560-alamo",
         "The Alamo",
         "In 1836, the Mexican army, led by General Santa Anna, is invading Texas. Hoping to create a diversion for Santa Anna's forces, General Sam Houston (Richard Boone) orders Colonel William B. Travis (Laurence Harvey), joined by Colonels Jim Bowie (Richard Widmark) and Davy Crockett (John Wayne), to lead a small, heroic band of American and Texican fighters in a resistance battle at the Alamo mission. The carnage at the Alamo further spurs the Republic of Texas toward freedom.",
         "John Wayne proves to be less compelling behind the camera than he is before it in The Alamo, a blustery dramatization of the fort's last stand that feels more like a first draft.",
         "NR",
         "Action & Adventure, Classics, Drama, Western",
         "John Wayne",
         "James Edward Grant",
         "John Wayne, Richard Widmark, Laurence Harvey, Richard Boone, Frankie Avalon, Patrick Wayne, Linda Cristal, Joan O'Brien, Chill Wills, Joseph Calleia, Ken Curtis, Carlos Arruza, Jester Hairston, Veda Ann Borg, John Dierkes, Denver Pyle, Aissa Wayne, Hank Worden, William Henry, Bill Daniel, Wesley Lau, Chuck Roberson, Guinn 'Big Boy' Williams, Olive Carey, Ruben Padilla, Jack Pennick, Carol Baxter, Fred Graham, Cy Malis, Boyd 'Red' Morgan, Gil Perkins, Chuck Hayward, Buff Brady, Bill Shannon, Ted White, Jim Burk, Mickey Finn, Dean Smith, George Ross, Big John Hamilton, Robert H. Harris, Jim Wright, Leroy Johnson, Jim Walker, Jack Miller, Danny Borzage, Tap Canutt, Jack Williams, Alfred Taylor, Ed Carter, Miguel Garza, Jerry Phillips, Charles Sanders, Charles Akins, Joe Jackson, Ronald Lee, Joe Graham, Rudy Robbins, Jim Brewer",
         "1960-10-24",
         "2016-11-30",
         "192.0",
         "Batjac Productions",
         "Rotten",
         "52.0",
         "21.0",
         "Upright",
         "63.0",
         "7337.0",
         "4",
         "11",
         "10"
        ],
        [
         "44",
         "m/10005755-g",
         "G",
         "Summer G (Richard T. Jones), an aspiring rapper, finds himself enamored with a young woman named Sky Hightower (Chenoa Maxwell), an ambitious social climber who is wary of Summer's low-class status. Although she rejects him for Chip (Blair Underwood), who works in the lucrative world of finance, that only pushes Summer to work even harder to make himself a wealthy and important man -- someone Sky will love. However, he encounters problems from both the old money guard and from Sky herself.",
         "Race and class struggles come to the Hamptons in this reworking of The Great Gatsby with a hip-hop flavor. Unfortunately, too many subplots and a lack of believable characters spoil an otherwise novel concept.",
         "R",
         "Drama, Romance",
         "Christopher Scott Cherot",
         "Charles E. Drew, Christopher Scott Cherot, Charles E. Drew Jr.",
         "Richard T. Jones, Blair Underwood, Chenoa Maxwell, Andre Royo, Andrew Lauren, Laz Alonso, Lalanya Masters, Nicoye Banks, Laz Alonzo, Jillian Lindsey, Sonja Sohn, Marcia Wright, Damian Young, Alex Carr, Renet Kyles, Johnny Russo, Lisa Ferreira, Miko Tam, Brian d'Arcy James, Beth Dover, Linda Marie Larson, Michael Quinlan, Sarah Schoenberg, Tara Ashley, Christopher Michael Gerrard",
         "2005-09-16",
         "2018-04-10",
         "96.0",
         "Slow Hand Cinema",
         "Rotten",
         "24.0",
         "29.0",
         "Upright",
         "60.0",
         "1143.0",
         "17",
         "7",
         "22"
        ],
        [
         "45",
         "m/1000580-alexander_the_great",
         "Alexander the Great",
         "The son of Philip of Macedonia (Fredric March) and Olympias (Danielle Darrieux), Alexander the Great (Richard Burton) is one of the most legendary leaders throughout history. As the Macedonian king, Alexander successfully unites all the ancient Greek tribes and leads them to defeat the imposing Persian Empire. With the fall of Babylon, Alexander continues to conquer most of the known world. Eventually, he achieves the status of unparalleled ruler atop his newly formed Greek empire.",
         null,
         "G",
         "Classics",
         "Robert Rossen",
         "Robert Rossen",
         "Richard Burton, Fredric March, Claire Bloom, Danielle Darrieux, Harry Andrews, Stanley Baker, Niall MacGinnis, Peter Cushing, Michael Hordern, Barry Jones, Marisa de Leza, Gustavo Rojo, Rubén Rojo, William Squire, Helmut Dantine, Frederick Ledebur, Peter Wyngarde, Virgilio Texeira, Teresa Del Rio, Julio Peña, José Nieto, Carlos Martinez Baena, Larry Taylor, José Marco, Ricardo Valle, Carmen Carulla, Jesús Luque, Ramsay Ames, Mario De Barros, Ellen Rossen, Juan Carlos Acevedo, Virgilio Teixeira, Riccardo Valle",
         "1956-03-28",
         "2017-01-17",
         "141.0",
         "United Artists",
         "Rotten",
         "0.0",
         "8.0",
         "Spilled",
         "42.0",
         "5383.0",
         "1",
         "0",
         "8"
        ],
        [
         "46",
         "m/1000581-alfie",
         "Alfie",
         "Set in postwar London, \"Alfie\" features Michael Caine as a chauffeur bent on promiscuity. After impregnating his girlfriend he takes off on vacation. He continues his life of womanizing, but he can't hide forever. A misfortune strikes and Alfie is forced to face the product of his ways.",
         "Anchored by Michael Caine's charmingly droll performance, Alfie is an equally raucous and heart-rending portrait of romance in the Swinging '60s.",
         "PG",
         "Classics, Comedy, Drama, Romance",
         "Lewis Gilbert",
         "Bill Naughton",
         "Michael Caine, Millicent Martin, Julia Foster, Shirley Ann Field, Vivien Merchant, Shelley Winters, Jane Asher, Eleanor Bron, Denholm Elliott, Alfie Bass, Graham Stark, Murray Melvin, Sydney Tafler, Julia Asher, Virginia Wetherell, Millicent Martin",
         "1966-08-24",
         "2013-08-01",
         "114.0",
         "Paramount Pictures",
         "Fresh",
         "96.0",
         "27.0",
         "Upright",
         "76.0",
         "14669.0",
         "6",
         "26",
         "1"
        ],
        [
         "47",
         "m/10005819-10005819-neverwas",
         "Neverwas",
         "Dr. Zach Riley (Aaron Eckhart) begins practicing at the Millwood Psychiatric Clinic -- a mental health retreat where his deceased father, renowned children's book author T.L. Pierson (Nick Nolte), was once interned. Riley finds an unlikely friend in Gabriel Finch (Ian McKellen), a disarming patient who forces him to examine himself. When Finch suggests that the fantastic land in Pierson's classic book \"Neverwas\" is real, Riley begins a spellbinding investigation into his father's work.",
         null,
         "PG-13",
         "Drama, Mystery & Suspense",
         "Joshua Michael Stern",
         "Joshua Michael Stern",
         "Aaron Eckhart, Ian McKellen, Brittany Murphy, William Hurt, Nick Nolte, Alan Cumming, Jessica Lange, Bill Bellamy, Vera Farmiga, Michael Moriarty, Cynthia Stevenson, Ryan Drescher, Suzanne Bastien, Lorena Gale, Tim Henry, Camille Sullivan, Mark Tisdale",
         "2005-09-09",
         "2016-04-19",
         "102.0",
         "Senator Film",
         "Rotten",
         "14.0",
         "7.0",
         "Upright",
         "65.0",
         "4059.0",
         "1",
         "1",
         "6"
        ],
        [
         "48",
         "m/10006007-the_second_chance",
         "The Second Chance",
         "Two pastors, one from a wealthy parish in a predominantly white suburb, the other, the head of an inner-city church, must learn to bridge the gap between their different philosophies and their individual prejudices. Together they look for common ground through faith and fight to save one's struggling urban church and the people it serves.",
         null,
         "PG-13",
         "Drama, Faith & Spirituality",
         "Steve Taylor",
         "Steve Taylor, Chip Arnold, Ben Pearson, Henry O. Arnold",
         "Michael W. Smith, Jeff Obafemi Carr, Jonathan Thomas, J. Don Ferguson, Lisa Arrindell, David Alford, Henry Haggard, Jonathan Taylor Thomas, Kenda Benward, Calvin Hobson, Bobby Daniels, Shirley Cody, Peggy Walton-Walker, Villa Steele, Vilia Steele, Kobie Jarmon, Erin Hemphill, Yuri Cunza, Vincent Ndikumana, Rico Moody, Robert Fitzgerald, JD Parker, Helen Shute-Pettaway, Todd Matt Chiorini, Henry O. Arnold, Big Fella, Dale Thompson",
         "2006-02-17",
         "2006-07-18",
         "104.0",
         "Sony Pictures",
         "Rotten",
         "44.0",
         "16.0",
         "Upright",
         "78.0",
         "79542.0",
         "8",
         "7",
         "9"
        ],
        [
         "49",
         "m/10006057-moonlight",
         "Moonlight",
         "Claire, a Dutch girl, discovers a wounded boy hiding in the garden shed behind her adoptive parents' luxurious home. The boy is a narcotics courier from Afghanistan, who was left for dead after being shot by drug dealers once his services were no longer needed. Claire nurses the boy back to health and develops deep feelings for him as their relationship grows. The drug dealers discover the boy is still alive, prompting Claire to leave her family and run away with the boy she now loves.",
         null,
         "R",
         "Drama, Mystery & Suspense",
         "Paula Van der Oest",
         "Carel Donck",
         "Laurien Van Den Broeck, Hunter Bussemaker, Johan Leysen, Jemma Redgrave, Andrew Howard, David Bustard, Elvir Sabanovic",
         "2003-10-17",
         "2020-03-13",
         "90.0",
         "Indican Pictures",
         "Fresh",
         "60.0",
         "10.0",
         "Upright",
         "67.0",
         "1430.0",
         "6",
         "6",
         "4"
        ]
       ],
       "shape": {
        "columns": 22,
        "rows": 17712
       }
      },
      "text/html": [
       "<div>\n",
       "<style scoped>\n",
       "    .dataframe tbody tr th:only-of-type {\n",
       "        vertical-align: middle;\n",
       "    }\n",
       "\n",
       "    .dataframe tbody tr th {\n",
       "        vertical-align: top;\n",
       "    }\n",
       "\n",
       "    .dataframe thead th {\n",
       "        text-align: right;\n",
       "    }\n",
       "</style>\n",
       "<table border=\"1\" class=\"dataframe\">\n",
       "  <thead>\n",
       "    <tr style=\"text-align: right;\">\n",
       "      <th></th>\n",
       "      <th>rotten_tomatoes_link</th>\n",
       "      <th>movie_title</th>\n",
       "      <th>movie_info</th>\n",
       "      <th>critics_consensus</th>\n",
       "      <th>content_rating</th>\n",
       "      <th>genres</th>\n",
       "      <th>directors</th>\n",
       "      <th>authors</th>\n",
       "      <th>actors</th>\n",
       "      <th>original_release_date</th>\n",
       "      <th>...</th>\n",
       "      <th>production_company</th>\n",
       "      <th>tomatometer_status</th>\n",
       "      <th>tomatometer_rating</th>\n",
       "      <th>tomatometer_count</th>\n",
       "      <th>audience_status</th>\n",
       "      <th>audience_rating</th>\n",
       "      <th>audience_count</th>\n",
       "      <th>tomatometer_top_critics_count</th>\n",
       "      <th>tomatometer_fresh_critics_count</th>\n",
       "      <th>tomatometer_rotten_critics_count</th>\n",
       "    </tr>\n",
       "  </thead>\n",
       "  <tbody>\n",
       "    <tr>\n",
       "      <th>0</th>\n",
       "      <td>m/0814255</td>\n",
       "      <td>Percy Jackson &amp; the Olympians: The Lightning T...</td>\n",
       "      <td>Always trouble-prone, the life of teenager Per...</td>\n",
       "      <td>Though it may seem like just another Harry Pot...</td>\n",
       "      <td>PG</td>\n",
       "      <td>Action &amp; Adventure, Comedy, Drama, Science Fic...</td>\n",
       "      <td>Chris Columbus</td>\n",
       "      <td>Craig Titley, Chris Columbus, Rick Riordan</td>\n",
       "      <td>Logan Lerman, Brandon T. Jackson, Alexandra Da...</td>\n",
       "      <td>2010-02-12</td>\n",
       "      <td>...</td>\n",
       "      <td>20th Century Fox</td>\n",
       "      <td>Rotten</td>\n",
       "      <td>49.0</td>\n",
       "      <td>149.0</td>\n",
       "      <td>Spilled</td>\n",
       "      <td>53.0</td>\n",
       "      <td>254421.0</td>\n",
       "      <td>43</td>\n",
       "      <td>73</td>\n",
       "      <td>76</td>\n",
       "    </tr>\n",
       "    <tr>\n",
       "      <th>1</th>\n",
       "      <td>m/0878835</td>\n",
       "      <td>Please Give</td>\n",
       "      <td>Kate (Catherine Keener) and her husband Alex (...</td>\n",
       "      <td>Nicole Holofcener's newest might seem slight i...</td>\n",
       "      <td>R</td>\n",
       "      <td>Comedy</td>\n",
       "      <td>Nicole Holofcener</td>\n",
       "      <td>Nicole Holofcener</td>\n",
       "      <td>Catherine Keener, Amanda Peet, Oliver Platt, R...</td>\n",
       "      <td>2010-04-30</td>\n",
       "      <td>...</td>\n",
       "      <td>Sony Pictures Classics</td>\n",
       "      <td>Certified-Fresh</td>\n",
       "      <td>87.0</td>\n",
       "      <td>142.0</td>\n",
       "      <td>Upright</td>\n",
       "      <td>64.0</td>\n",
       "      <td>11574.0</td>\n",
       "      <td>44</td>\n",
       "      <td>123</td>\n",
       "      <td>19</td>\n",
       "    </tr>\n",
       "    <tr>\n",
       "      <th>2</th>\n",
       "      <td>m/10</td>\n",
       "      <td>10</td>\n",
       "      <td>A successful, middle-aged Hollywood songwriter...</td>\n",
       "      <td>Blake Edwards' bawdy comedy may not score a pe...</td>\n",
       "      <td>R</td>\n",
       "      <td>Comedy, Romance</td>\n",
       "      <td>Blake Edwards</td>\n",
       "      <td>Blake Edwards</td>\n",
       "      <td>Dudley Moore, Bo Derek, Julie Andrews, Robert ...</td>\n",
       "      <td>1979-10-05</td>\n",
       "      <td>...</td>\n",
       "      <td>Waner Bros.</td>\n",
       "      <td>Fresh</td>\n",
       "      <td>67.0</td>\n",
       "      <td>24.0</td>\n",
       "      <td>Spilled</td>\n",
       "      <td>53.0</td>\n",
       "      <td>14684.0</td>\n",
       "      <td>2</td>\n",
       "      <td>16</td>\n",
       "      <td>8</td>\n",
       "    </tr>\n",
       "    <tr>\n",
       "      <th>3</th>\n",
       "      <td>m/1000013-12_angry_men</td>\n",
       "      <td>12 Angry Men (Twelve Angry Men)</td>\n",
       "      <td>Following the closing arguments in a murder tr...</td>\n",
       "      <td>Sidney Lumet's feature debut is a superbly wri...</td>\n",
       "      <td>NR</td>\n",
       "      <td>Classics, Drama</td>\n",
       "      <td>Sidney Lumet</td>\n",
       "      <td>Reginald Rose</td>\n",
       "      <td>Martin Balsam, John Fiedler, Lee J. Cobb, E.G....</td>\n",
       "      <td>1957-04-13</td>\n",
       "      <td>...</td>\n",
       "      <td>Criterion Collection</td>\n",
       "      <td>Certified-Fresh</td>\n",
       "      <td>100.0</td>\n",
       "      <td>54.0</td>\n",
       "      <td>Upright</td>\n",
       "      <td>97.0</td>\n",
       "      <td>105386.0</td>\n",
       "      <td>6</td>\n",
       "      <td>54</td>\n",
       "      <td>0</td>\n",
       "    </tr>\n",
       "    <tr>\n",
       "      <th>4</th>\n",
       "      <td>m/1000079-20000_leagues_under_the_sea</td>\n",
       "      <td>20,000 Leagues Under The Sea</td>\n",
       "      <td>In 1866, Professor Pierre M. Aronnax (Paul Luk...</td>\n",
       "      <td>One of Disney's finest live-action adventures,...</td>\n",
       "      <td>G</td>\n",
       "      <td>Action &amp; Adventure, Drama, Kids &amp; Family</td>\n",
       "      <td>Richard Fleischer</td>\n",
       "      <td>Earl Felton</td>\n",
       "      <td>James Mason, Kirk Douglas, Paul Lukas, Peter L...</td>\n",
       "      <td>1954-01-01</td>\n",
       "      <td>...</td>\n",
       "      <td>Disney</td>\n",
       "      <td>Fresh</td>\n",
       "      <td>89.0</td>\n",
       "      <td>27.0</td>\n",
       "      <td>Upright</td>\n",
       "      <td>74.0</td>\n",
       "      <td>68918.0</td>\n",
       "      <td>5</td>\n",
       "      <td>24</td>\n",
       "      <td>3</td>\n",
       "    </tr>\n",
       "    <tr>\n",
       "      <th>...</th>\n",
       "      <td>...</td>\n",
       "      <td>...</td>\n",
       "      <td>...</td>\n",
       "      <td>...</td>\n",
       "      <td>...</td>\n",
       "      <td>...</td>\n",
       "      <td>...</td>\n",
       "      <td>...</td>\n",
       "      <td>...</td>\n",
       "      <td>...</td>\n",
       "      <td>...</td>\n",
       "      <td>...</td>\n",
       "      <td>...</td>\n",
       "      <td>...</td>\n",
       "      <td>...</td>\n",
       "      <td>...</td>\n",
       "      <td>...</td>\n",
       "      <td>...</td>\n",
       "      <td>...</td>\n",
       "      <td>...</td>\n",
       "      <td>...</td>\n",
       "    </tr>\n",
       "    <tr>\n",
       "      <th>17707</th>\n",
       "      <td>m/zoot_suit</td>\n",
       "      <td>Zoot Suit</td>\n",
       "      <td>Mexican-American gangster Henry Reyna (Daniel ...</td>\n",
       "      <td>NaN</td>\n",
       "      <td>R</td>\n",
       "      <td>Drama, Musical &amp; Performing Arts</td>\n",
       "      <td>Luis Valdez</td>\n",
       "      <td>Luis Valdez</td>\n",
       "      <td>Daniel Valdez, Edward James Olmos, Charles Aid...</td>\n",
       "      <td>1981-10-02</td>\n",
       "      <td>...</td>\n",
       "      <td>MCA Universal Home Video</td>\n",
       "      <td>Rotten</td>\n",
       "      <td>56.0</td>\n",
       "      <td>9.0</td>\n",
       "      <td>Upright</td>\n",
       "      <td>74.0</td>\n",
       "      <td>1195.0</td>\n",
       "      <td>2</td>\n",
       "      <td>5</td>\n",
       "      <td>4</td>\n",
       "    </tr>\n",
       "    <tr>\n",
       "      <th>17708</th>\n",
       "      <td>m/zootopia</td>\n",
       "      <td>Zootopia</td>\n",
       "      <td>From the largest elephant to the smallest shre...</td>\n",
       "      <td>The brilliantly well-rounded Zootopia offers a...</td>\n",
       "      <td>PG</td>\n",
       "      <td>Action &amp; Adventure, Animation, Comedy</td>\n",
       "      <td>Byron Howard, Rich Moore, Jared Bush</td>\n",
       "      <td>Jared Bush, Phil Johnston</td>\n",
       "      <td>J.K. Simmons, Kristen Bell, Octavia Spencer, A...</td>\n",
       "      <td>2016-03-04</td>\n",
       "      <td>...</td>\n",
       "      <td>Walt Disney Animation Studios</td>\n",
       "      <td>Certified-Fresh</td>\n",
       "      <td>98.0</td>\n",
       "      <td>291.0</td>\n",
       "      <td>Upright</td>\n",
       "      <td>92.0</td>\n",
       "      <td>101511.0</td>\n",
       "      <td>50</td>\n",
       "      <td>285</td>\n",
       "      <td>7</td>\n",
       "    </tr>\n",
       "    <tr>\n",
       "      <th>17709</th>\n",
       "      <td>m/zorba_the_greek</td>\n",
       "      <td>Zorba the Greek</td>\n",
       "      <td>Traveling to inspect an abandoned mine his fat...</td>\n",
       "      <td>NaN</td>\n",
       "      <td>NR</td>\n",
       "      <td>Action &amp; Adventure, Art House &amp; International,...</td>\n",
       "      <td>NaN</td>\n",
       "      <td>NaN</td>\n",
       "      <td>Anthony Quinn, Alan Bates, Irene Papas, Lila K...</td>\n",
       "      <td>1964-12-17</td>\n",
       "      <td>...</td>\n",
       "      <td>Fox</td>\n",
       "      <td>Fresh</td>\n",
       "      <td>80.0</td>\n",
       "      <td>10.0</td>\n",
       "      <td>Upright</td>\n",
       "      <td>86.0</td>\n",
       "      <td>7146.0</td>\n",
       "      <td>0</td>\n",
       "      <td>8</td>\n",
       "      <td>2</td>\n",
       "    </tr>\n",
       "    <tr>\n",
       "      <th>17710</th>\n",
       "      <td>m/zulu</td>\n",
       "      <td>Zulu</td>\n",
       "      <td>In 1879, the Zulu nation hands colonial Britis...</td>\n",
       "      <td>Zulu patiently establishes a cast of colorful ...</td>\n",
       "      <td>PG</td>\n",
       "      <td>Classics, Drama</td>\n",
       "      <td>Cy Endfield, Cyril Endfield</td>\n",
       "      <td>Cy Endfield, John Prebble</td>\n",
       "      <td>Stanley Baker, Jack Hawkins, Ulla Jacobsson, J...</td>\n",
       "      <td>1964-06-17</td>\n",
       "      <td>...</td>\n",
       "      <td>Paramount Pictures</td>\n",
       "      <td>Fresh</td>\n",
       "      <td>96.0</td>\n",
       "      <td>23.0</td>\n",
       "      <td>Upright</td>\n",
       "      <td>91.0</td>\n",
       "      <td>30193.0</td>\n",
       "      <td>6</td>\n",
       "      <td>22</td>\n",
       "      <td>1</td>\n",
       "    </tr>\n",
       "    <tr>\n",
       "      <th>17711</th>\n",
       "      <td>m/zulu_dawn</td>\n",
       "      <td>Zulu Dawn</td>\n",
       "      <td>Sir Henry Bartle Frere's (John Mills) vastly o...</td>\n",
       "      <td>NaN</td>\n",
       "      <td>PG</td>\n",
       "      <td>Action &amp; Adventure, Art House &amp; International,...</td>\n",
       "      <td>Douglas Hickox</td>\n",
       "      <td>Cy Endfield, Anthony Storey</td>\n",
       "      <td>Burt Lancaster, Peter O'Toole, Simon Ward, Joh...</td>\n",
       "      <td>1979-12-14</td>\n",
       "      <td>...</td>\n",
       "      <td>Tango Entertainment</td>\n",
       "      <td>Rotten</td>\n",
       "      <td>50.0</td>\n",
       "      <td>8.0</td>\n",
       "      <td>Upright</td>\n",
       "      <td>62.0</td>\n",
       "      <td>4469.0</td>\n",
       "      <td>0</td>\n",
       "      <td>4</td>\n",
       "      <td>4</td>\n",
       "    </tr>\n",
       "  </tbody>\n",
       "</table>\n",
       "<p>17712 rows × 22 columns</p>\n",
       "</div>"
      ],
      "text/plain": [
       "                        rotten_tomatoes_link  \\\n",
       "0                                  m/0814255   \n",
       "1                                  m/0878835   \n",
       "2                                       m/10   \n",
       "3                     m/1000013-12_angry_men   \n",
       "4      m/1000079-20000_leagues_under_the_sea   \n",
       "...                                      ...   \n",
       "17707                            m/zoot_suit   \n",
       "17708                             m/zootopia   \n",
       "17709                      m/zorba_the_greek   \n",
       "17710                                 m/zulu   \n",
       "17711                            m/zulu_dawn   \n",
       "\n",
       "                                             movie_title  \\\n",
       "0      Percy Jackson & the Olympians: The Lightning T...   \n",
       "1                                            Please Give   \n",
       "2                                                     10   \n",
       "3                        12 Angry Men (Twelve Angry Men)   \n",
       "4                           20,000 Leagues Under The Sea   \n",
       "...                                                  ...   \n",
       "17707                                          Zoot Suit   \n",
       "17708                                           Zootopia   \n",
       "17709                                    Zorba the Greek   \n",
       "17710                                               Zulu   \n",
       "17711                                          Zulu Dawn   \n",
       "\n",
       "                                              movie_info  \\\n",
       "0      Always trouble-prone, the life of teenager Per...   \n",
       "1      Kate (Catherine Keener) and her husband Alex (...   \n",
       "2      A successful, middle-aged Hollywood songwriter...   \n",
       "3      Following the closing arguments in a murder tr...   \n",
       "4      In 1866, Professor Pierre M. Aronnax (Paul Luk...   \n",
       "...                                                  ...   \n",
       "17707  Mexican-American gangster Henry Reyna (Daniel ...   \n",
       "17708  From the largest elephant to the smallest shre...   \n",
       "17709  Traveling to inspect an abandoned mine his fat...   \n",
       "17710  In 1879, the Zulu nation hands colonial Britis...   \n",
       "17711  Sir Henry Bartle Frere's (John Mills) vastly o...   \n",
       "\n",
       "                                       critics_consensus content_rating  \\\n",
       "0      Though it may seem like just another Harry Pot...             PG   \n",
       "1      Nicole Holofcener's newest might seem slight i...              R   \n",
       "2      Blake Edwards' bawdy comedy may not score a pe...              R   \n",
       "3      Sidney Lumet's feature debut is a superbly wri...             NR   \n",
       "4      One of Disney's finest live-action adventures,...              G   \n",
       "...                                                  ...            ...   \n",
       "17707                                                NaN              R   \n",
       "17708  The brilliantly well-rounded Zootopia offers a...             PG   \n",
       "17709                                                NaN             NR   \n",
       "17710  Zulu patiently establishes a cast of colorful ...             PG   \n",
       "17711                                                NaN             PG   \n",
       "\n",
       "                                                  genres  \\\n",
       "0      Action & Adventure, Comedy, Drama, Science Fic...   \n",
       "1                                                 Comedy   \n",
       "2                                        Comedy, Romance   \n",
       "3                                        Classics, Drama   \n",
       "4               Action & Adventure, Drama, Kids & Family   \n",
       "...                                                  ...   \n",
       "17707                   Drama, Musical & Performing Arts   \n",
       "17708              Action & Adventure, Animation, Comedy   \n",
       "17709  Action & Adventure, Art House & International,...   \n",
       "17710                                    Classics, Drama   \n",
       "17711  Action & Adventure, Art House & International,...   \n",
       "\n",
       "                                  directors  \\\n",
       "0                            Chris Columbus   \n",
       "1                         Nicole Holofcener   \n",
       "2                             Blake Edwards   \n",
       "3                              Sidney Lumet   \n",
       "4                         Richard Fleischer   \n",
       "...                                     ...   \n",
       "17707                           Luis Valdez   \n",
       "17708  Byron Howard, Rich Moore, Jared Bush   \n",
       "17709                                   NaN   \n",
       "17710           Cy Endfield, Cyril Endfield   \n",
       "17711                        Douglas Hickox   \n",
       "\n",
       "                                          authors  \\\n",
       "0      Craig Titley, Chris Columbus, Rick Riordan   \n",
       "1                               Nicole Holofcener   \n",
       "2                                   Blake Edwards   \n",
       "3                                   Reginald Rose   \n",
       "4                                     Earl Felton   \n",
       "...                                           ...   \n",
       "17707                                 Luis Valdez   \n",
       "17708                   Jared Bush, Phil Johnston   \n",
       "17709                                         NaN   \n",
       "17710                   Cy Endfield, John Prebble   \n",
       "17711                 Cy Endfield, Anthony Storey   \n",
       "\n",
       "                                                  actors  \\\n",
       "0      Logan Lerman, Brandon T. Jackson, Alexandra Da...   \n",
       "1      Catherine Keener, Amanda Peet, Oliver Platt, R...   \n",
       "2      Dudley Moore, Bo Derek, Julie Andrews, Robert ...   \n",
       "3      Martin Balsam, John Fiedler, Lee J. Cobb, E.G....   \n",
       "4      James Mason, Kirk Douglas, Paul Lukas, Peter L...   \n",
       "...                                                  ...   \n",
       "17707  Daniel Valdez, Edward James Olmos, Charles Aid...   \n",
       "17708  J.K. Simmons, Kristen Bell, Octavia Spencer, A...   \n",
       "17709  Anthony Quinn, Alan Bates, Irene Papas, Lila K...   \n",
       "17710  Stanley Baker, Jack Hawkins, Ulla Jacobsson, J...   \n",
       "17711  Burt Lancaster, Peter O'Toole, Simon Ward, Joh...   \n",
       "\n",
       "      original_release_date  ...             production_company  \\\n",
       "0                2010-02-12  ...               20th Century Fox   \n",
       "1                2010-04-30  ...         Sony Pictures Classics   \n",
       "2                1979-10-05  ...                    Waner Bros.   \n",
       "3                1957-04-13  ...           Criterion Collection   \n",
       "4                1954-01-01  ...                         Disney   \n",
       "...                     ...  ...                            ...   \n",
       "17707            1981-10-02  ...       MCA Universal Home Video   \n",
       "17708            2016-03-04  ...  Walt Disney Animation Studios   \n",
       "17709            1964-12-17  ...                            Fox   \n",
       "17710            1964-06-17  ...             Paramount Pictures   \n",
       "17711            1979-12-14  ...            Tango Entertainment   \n",
       "\n",
       "       tomatometer_status tomatometer_rating tomatometer_count  \\\n",
       "0                  Rotten               49.0             149.0   \n",
       "1         Certified-Fresh               87.0             142.0   \n",
       "2                   Fresh               67.0              24.0   \n",
       "3         Certified-Fresh              100.0              54.0   \n",
       "4                   Fresh               89.0              27.0   \n",
       "...                   ...                ...               ...   \n",
       "17707              Rotten               56.0               9.0   \n",
       "17708     Certified-Fresh               98.0             291.0   \n",
       "17709               Fresh               80.0              10.0   \n",
       "17710               Fresh               96.0              23.0   \n",
       "17711              Rotten               50.0               8.0   \n",
       "\n",
       "       audience_status  audience_rating audience_count  \\\n",
       "0              Spilled             53.0       254421.0   \n",
       "1              Upright             64.0        11574.0   \n",
       "2              Spilled             53.0        14684.0   \n",
       "3              Upright             97.0       105386.0   \n",
       "4              Upright             74.0        68918.0   \n",
       "...                ...              ...            ...   \n",
       "17707          Upright             74.0         1195.0   \n",
       "17708          Upright             92.0       101511.0   \n",
       "17709          Upright             86.0         7146.0   \n",
       "17710          Upright             91.0        30193.0   \n",
       "17711          Upright             62.0         4469.0   \n",
       "\n",
       "       tomatometer_top_critics_count  tomatometer_fresh_critics_count  \\\n",
       "0                                 43                               73   \n",
       "1                                 44                              123   \n",
       "2                                  2                               16   \n",
       "3                                  6                               54   \n",
       "4                                  5                               24   \n",
       "...                              ...                              ...   \n",
       "17707                              2                                5   \n",
       "17708                             50                              285   \n",
       "17709                              0                                8   \n",
       "17710                              6                               22   \n",
       "17711                              0                                4   \n",
       "\n",
       "       tomatometer_rotten_critics_count  \n",
       "0                                    76  \n",
       "1                                    19  \n",
       "2                                     8  \n",
       "3                                     0  \n",
       "4                                     3  \n",
       "...                                 ...  \n",
       "17707                                 4  \n",
       "17708                                 7  \n",
       "17709                                 2  \n",
       "17710                                 1  \n",
       "17711                                 4  \n",
       "\n",
       "[17712 rows x 22 columns]"
      ]
     },
     "execution_count": 16,
     "metadata": {},
     "output_type": "execute_result"
    }
   ],
   "source": [
    "rt_info_df = pd.read_csv('rotten_tomatoes_movies.csv')\n",
    "rt_info_df"
   ]
  },
  {
   "cell_type": "code",
   "execution_count": 17,
   "id": "162a0587",
   "metadata": {},
   "outputs": [],
   "source": [
    "# establish a connection to the database\n",
    "path = (\"Data\\im.db\\im.db\")\n",
    "conn = sqlite3.connect(path)"
   ]
  },
  {
   "cell_type": "code",
   "execution_count": 18,
   "id": "7e9ec8b4",
   "metadata": {},
   "outputs": [],
   "source": [
    "#create a cursor \n",
    "cursor = conn.cursor()"
   ]
  },
  {
   "cell_type": "code",
   "execution_count": 19,
   "id": "ecfbd22b",
   "metadata": {},
   "outputs": [
    {
     "data": {
      "application/vnd.microsoft.datawrangler.viewer.v0+json": {
       "columns": [
        {
         "name": "index",
         "rawType": "int64",
         "type": "integer"
        },
        {
         "name": "name",
         "rawType": "object",
         "type": "string"
        }
       ],
       "ref": "6c3c3114-8736-4f74-93df-6488f8b44720",
       "rows": [
        [
         "0",
         "movie_basics"
        ],
        [
         "1",
         "directors"
        ],
        [
         "2",
         "known_for"
        ],
        [
         "3",
         "movie_akas"
        ],
        [
         "4",
         "movie_ratings"
        ],
        [
         "5",
         "persons"
        ],
        [
         "6",
         "principals"
        ],
        [
         "7",
         "writers"
        ]
       ],
       "shape": {
        "columns": 1,
        "rows": 8
       }
      },
      "text/html": [
       "<div>\n",
       "<style scoped>\n",
       "    .dataframe tbody tr th:only-of-type {\n",
       "        vertical-align: middle;\n",
       "    }\n",
       "\n",
       "    .dataframe tbody tr th {\n",
       "        vertical-align: top;\n",
       "    }\n",
       "\n",
       "    .dataframe thead th {\n",
       "        text-align: right;\n",
       "    }\n",
       "</style>\n",
       "<table border=\"1\" class=\"dataframe\">\n",
       "  <thead>\n",
       "    <tr style=\"text-align: right;\">\n",
       "      <th></th>\n",
       "      <th>name</th>\n",
       "    </tr>\n",
       "  </thead>\n",
       "  <tbody>\n",
       "    <tr>\n",
       "      <th>0</th>\n",
       "      <td>movie_basics</td>\n",
       "    </tr>\n",
       "    <tr>\n",
       "      <th>1</th>\n",
       "      <td>directors</td>\n",
       "    </tr>\n",
       "    <tr>\n",
       "      <th>2</th>\n",
       "      <td>known_for</td>\n",
       "    </tr>\n",
       "    <tr>\n",
       "      <th>3</th>\n",
       "      <td>movie_akas</td>\n",
       "    </tr>\n",
       "    <tr>\n",
       "      <th>4</th>\n",
       "      <td>movie_ratings</td>\n",
       "    </tr>\n",
       "    <tr>\n",
       "      <th>5</th>\n",
       "      <td>persons</td>\n",
       "    </tr>\n",
       "    <tr>\n",
       "      <th>6</th>\n",
       "      <td>principals</td>\n",
       "    </tr>\n",
       "    <tr>\n",
       "      <th>7</th>\n",
       "      <td>writers</td>\n",
       "    </tr>\n",
       "  </tbody>\n",
       "</table>\n",
       "</div>"
      ],
      "text/plain": [
       "            name\n",
       "0   movie_basics\n",
       "1      directors\n",
       "2      known_for\n",
       "3     movie_akas\n",
       "4  movie_ratings\n",
       "5        persons\n",
       "6     principals\n",
       "7        writers"
      ]
     },
     "execution_count": 19,
     "metadata": {},
     "output_type": "execute_result"
    }
   ],
   "source": [
    "# Query the SQLite database to list all table names\n",
    "pd.read_sql_query(\"SELECT name FROM sqlite_master WHERE type='table';\", conn)"
   ]
  },
  {
   "cell_type": "code",
   "execution_count": 20,
   "id": "6b4746db",
   "metadata": {},
   "outputs": [],
   "source": [
    "#close connection\n",
    "conn.close()"
   ]
  },
  {
   "cell_type": "markdown",
   "id": "b4b30579",
   "metadata": {},
   "source": [
    "# Data Exploration.\n",
    "\n",
    "To begin our analysis, we used two powerful Visual Studio Code extensions—**Data Wrangler** and **SQLite Viewer**—to streamline initial data understanding and cleaning.\n",
    "\n",
    "###  Data Wrangler\n",
    "- Visual summaries of column distributions and data types  \n",
    "- Automatic detection of missing values, duplicates, and outliers  \n",
    "- Quick, no‑code filtering, sorting, and grouping  \n",
    "- Dataset profiling with cleaning/transformation suggestions  \n",
    "\n",
    "###  SQLite Viewer\n",
    "- Instant previews of table structures, columns, and sample data  \n",
    "- Easy navigation between related tables  \n",
    "- Hands‑on insight into schemas, data completeness, and record volumes  \n",
    "\n",
    "**Outcome**: With these tools, we rapidly uncovered key patterns, inconsistencies, and relationships—without manual coding.\n",
    "\n",
    "\n",
    "##  Selected Columns for Analysis\n",
    "###  Rotten Tomatoes\n",
    "- `movie_title`, `genres`, `tomatometer_rating`, `audience_rating` – to assess both critic and audience reception across genres  \n",
    "###  TMDB\n",
    "- `language`, `popularity` – to explore how film language impacts engagement and potential reach  \n",
    "### The Numbers\n",
    "- `movie`, `production_budget`, `worldwide_gross` – to calculate ROI and investigate profitability trends  \n",
    "### IM.db\n",
    "- Data extracted from `directors`, `persons`, and `movie_akas` – to match directors with films for evaluating worldwide box‑office impact  \n",
    "These fields exhibit minimal to no missing values and have high entry uniqueness, ensuring data reliability.\n",
    "\n",
    "## Important Notes on Data Usage\n",
    "\n",
    "- **Rotten Tomatoes Dataset**: we replaced the original rotten tomato datasets with a more complete version from [Kaggle](https://www.kaggle.com/datasets/stefanoleone992/rotten-tomatoes-movies-and-critic-reviews-dataset?select=rotten_tomatoes_movies.csv) due to missing `movie_title` in the original dataset  which was a requirement in our analysis.\n",
    "- **Excluded Datasets**:\n",
    "  - *Box Office Mojo*: Data overlap with The Numbers movie budget dataset, which has more comprehensive financials. \n",
    "  - *Rotten Tomatoes Critic Reviews*: Unnecessary, as essential rating data is present in the Movies Info dataset. "
   ]
  },
  {
   "cell_type": "markdown",
   "id": "46a231fc",
   "metadata": {},
   "source": [
    "# Data Preparation & Cleaning\n",
    "\n",
    "Before conducting meaningful analysis, it is essential to prepare and clean the data appropriately. Although our earlier exploration suggests that the datasets are relatively high quality, they originate from diverse sources and therefore require alignment for consistency and accuracy.\n",
    "\n",
    "Data preparation involves:\n",
    "\n",
    "- Filtering relevant columns\n",
    "- Renaming fields for consistency\n",
    "- Handling duplicates or inconsistencies\n",
    "- Parsing multi-value fields\n",
    "- Merging datasets where necessary\n",
    "\n",
    "This step ensures that our analysis is based on a reliable, well-structured foundation.\n",
    "\n",
    "\n",
    "\n",
    "## Preparing Rotten Tomatoes Ratings and Genres Data\n",
    "\n",
    "To explore the relationship between **movie genres**, **ratings**, and **success metrics**, we focus first on preparing the **Rotten Tomatoes Movies** dataset. This dataset offers rich metadata for a wide array of films, including elements crucial to understanding **audience perception** and **genre trends**.\n",
    "\n",
    "Our objectives here are to:\n",
    "\n",
    "- Extract key attributes that reflect critical and audience reception\n",
    "- Standardize genre information for analytical use\n",
    "- Enable cross-comparison with financial and market performance data\n",
    "\n",
    "\n",
    "\n",
    "## Extracting Ratings and Genres\n",
    "\n",
    "We will extract and clean the following key columns from the dataset:\n",
    "\n",
    "- **`movie_title`** – The title of the movie as listed on Rotten Tomatoes.\n",
    "- **`genres`** – A comma-separated list of genres assigned to each movie (e.g., *Drama, Comedy, Action*).\n",
    "- **`audience_rating`** – The average rating given by audiences, usually on a scale of 0 to 100.\n",
    "- **`tomatometer_rating`** – The percentage of positive critic reviews (Tomatometer score).\n",
    "\n",
    "> **Note**: Since many movies belong to **multiple genres**, genre parsing must be handled carefully to allow accurate aggregation and trend analysis.\n",
    "\n",
    "By preparing this data effectively, we enable deeper insights into how **genre** and **reception** correlate with **film success**, supporting the strategic decision-making goals of our new studio."
   ]
  },
  {
   "cell_type": "code",
   "execution_count": 21,
   "id": "9c67366d",
   "metadata": {},
   "outputs": [
    {
     "data": {
      "application/vnd.microsoft.datawrangler.viewer.v0+json": {
       "columns": [
        {
         "name": "index",
         "rawType": "int64",
         "type": "integer"
        },
        {
         "name": "genres",
         "rawType": "object",
         "type": "string"
        },
        {
         "name": "movie_title",
         "rawType": "object",
         "type": "string"
        },
        {
         "name": "audience_rating",
         "rawType": "float64",
         "type": "float"
        },
        {
         "name": "tomatometer_rating",
         "rawType": "float64",
         "type": "float"
        }
       ],
       "ref": "9298bb02-201b-4b4a-bfc0-4a195659b3cf",
       "rows": [
        [
         "0",
         "Action & Adventure",
         "Percy Jackson & the Olympians: The Lightning Thief",
         "53.0",
         "49.0"
        ],
        [
         "1",
         "Comedy",
         "Percy Jackson & the Olympians: The Lightning Thief",
         "53.0",
         "49.0"
        ],
        [
         "2",
         "Drama",
         "Percy Jackson & the Olympians: The Lightning Thief",
         "53.0",
         "49.0"
        ],
        [
         "3",
         "Science Fiction & Fantasy",
         "Percy Jackson & the Olympians: The Lightning Thief",
         "53.0",
         "49.0"
        ],
        [
         "4",
         "Comedy",
         "Please Give",
         "64.0",
         "87.0"
        ]
       ],
       "shape": {
        "columns": 4,
        "rows": 5
       }
      },
      "text/html": [
       "<div>\n",
       "<style scoped>\n",
       "    .dataframe tbody tr th:only-of-type {\n",
       "        vertical-align: middle;\n",
       "    }\n",
       "\n",
       "    .dataframe tbody tr th {\n",
       "        vertical-align: top;\n",
       "    }\n",
       "\n",
       "    .dataframe thead th {\n",
       "        text-align: right;\n",
       "    }\n",
       "</style>\n",
       "<table border=\"1\" class=\"dataframe\">\n",
       "  <thead>\n",
       "    <tr style=\"text-align: right;\">\n",
       "      <th></th>\n",
       "      <th>genres</th>\n",
       "      <th>movie_title</th>\n",
       "      <th>audience_rating</th>\n",
       "      <th>tomatometer_rating</th>\n",
       "    </tr>\n",
       "  </thead>\n",
       "  <tbody>\n",
       "    <tr>\n",
       "      <th>0</th>\n",
       "      <td>Action &amp; Adventure</td>\n",
       "      <td>Percy Jackson &amp; the Olympians: The Lightning T...</td>\n",
       "      <td>53.0</td>\n",
       "      <td>49.0</td>\n",
       "    </tr>\n",
       "    <tr>\n",
       "      <th>1</th>\n",
       "      <td>Comedy</td>\n",
       "      <td>Percy Jackson &amp; the Olympians: The Lightning T...</td>\n",
       "      <td>53.0</td>\n",
       "      <td>49.0</td>\n",
       "    </tr>\n",
       "    <tr>\n",
       "      <th>2</th>\n",
       "      <td>Drama</td>\n",
       "      <td>Percy Jackson &amp; the Olympians: The Lightning T...</td>\n",
       "      <td>53.0</td>\n",
       "      <td>49.0</td>\n",
       "    </tr>\n",
       "    <tr>\n",
       "      <th>3</th>\n",
       "      <td>Science Fiction &amp; Fantasy</td>\n",
       "      <td>Percy Jackson &amp; the Olympians: The Lightning T...</td>\n",
       "      <td>53.0</td>\n",
       "      <td>49.0</td>\n",
       "    </tr>\n",
       "    <tr>\n",
       "      <th>4</th>\n",
       "      <td>Comedy</td>\n",
       "      <td>Please Give</td>\n",
       "      <td>64.0</td>\n",
       "      <td>87.0</td>\n",
       "    </tr>\n",
       "  </tbody>\n",
       "</table>\n",
       "</div>"
      ],
      "text/plain": [
       "                      genres  \\\n",
       "0         Action & Adventure   \n",
       "1                     Comedy   \n",
       "2                      Drama   \n",
       "3  Science Fiction & Fantasy   \n",
       "4                     Comedy   \n",
       "\n",
       "                                         movie_title  audience_rating  \\\n",
       "0  Percy Jackson & the Olympians: The Lightning T...             53.0   \n",
       "1  Percy Jackson & the Olympians: The Lightning T...             53.0   \n",
       "2  Percy Jackson & the Olympians: The Lightning T...             53.0   \n",
       "3  Percy Jackson & the Olympians: The Lightning T...             53.0   \n",
       "4                                        Please Give             64.0   \n",
       "\n",
       "   tomatometer_rating  \n",
       "0                49.0  \n",
       "1                49.0  \n",
       "2                49.0  \n",
       "3                49.0  \n",
       "4                87.0  "
      ]
     },
     "execution_count": 21,
     "metadata": {},
     "output_type": "execute_result"
    }
   ],
   "source": [
    "# Extracting the relevant columns\n",
    "df_rt = rt_info_df[[\"movie_title\",\"genres\",\"audience_rating\",\"tomatometer_rating\"]].copy()\n",
    "\n",
    "# Convert the comma-separated string into a list\n",
    "df_rt['genres'] = df_rt['genres'].str.split(', ')\n",
    "# Expanding the genres\n",
    "rt_movies_expanded = df_rt.apply(\n",
    "    lambda x: pd.Series(x['genres']), axis=1\n",
    ").stack().reset_index(level=1, drop=True).to_frame('genres').join(\n",
    "    df_rt.drop('genres', axis=1), how='left'\n",
    ").reset_index(drop=True)\n",
    "rt_movies_expanded.head()"
   ]
  },
  {
   "cell_type": "markdown",
   "id": "6e2ffcf9",
   "metadata": {},
   "source": [
    "By using apply() with pd.Series and reset_index(drop=True), we effectively transform a DataFrame with list-like entries in a column into a more analysis-friendly format with one entry per row and a clean index."
   ]
  },
  {
   "cell_type": "code",
   "execution_count": 22,
   "id": "cd55c379",
   "metadata": {},
   "outputs": [
    {
     "name": "stdout",
     "output_type": "stream",
     "text": [
      "main: 17712 rows\n",
      "expanded: 39369 rows\n"
     ]
    }
   ],
   "source": [
    "# Comparing the number of rows for main df and the expanded df \n",
    "print(f\"main: {rt_info_df.shape[0]} rows\")\n",
    "print(f\"expanded: {rt_movies_expanded.shape[0]} rows\")"
   ]
  },
  {
   "cell_type": "markdown",
   "id": "2449b19d",
   "metadata": {},
   "source": [
    "By comparing the row counts before and after expanding the DataFrame’s list-like column, we can verify that each movie’s multiple genres have been successfully separated into individual rows. A higher row count in the expanded version confirms the transformation worked as intended."
   ]
  },
  {
   "cell_type": "code",
   "execution_count": 23,
   "id": "441f03ab",
   "metadata": {},
   "outputs": [
    {
     "name": "stdout",
     "output_type": "stream",
     "text": [
      "expanded: 17087 unique values\n",
      "main df: 17106 unique values\n"
     ]
    }
   ],
   "source": [
    "# Seeing if the number of unique movie_title values matches with the main\n",
    "print(f\"expanded: {len(rt_movies_expanded['movie_title'].unique())} unique values\")\n",
    "print(f\"main df: {len(rt_info_df['movie_title'].unique())} unique values\")"
   ]
  },
  {
   "cell_type": "markdown",
   "id": "df245cac",
   "metadata": {},
   "source": [
    "## DATA CLEANING \n",
    "Our data exploration confirms that there are no duplicates and each column has distinct values, indicating a well-structured dataset. There are some missing values, but since they are minimal, we can remove the affected rows without compromising data integrity. Dropping these few records is unlikely to impact the overall accuracy of our cleaned dataset."
   ]
  },
  {
   "cell_type": "code",
   "execution_count": 24,
   "id": "6d132371",
   "metadata": {},
   "outputs": [
    {
     "name": "stdout",
     "output_type": "stream",
     "text": [
      "<class 'pandas.core.frame.DataFrame'>\n",
      "RangeIndex: 39369 entries, 0 to 39368\n",
      "Data columns (total 4 columns):\n",
      " #   Column              Non-Null Count  Dtype  \n",
      "---  ------              --------------  -----  \n",
      " 0   genres              39369 non-null  object \n",
      " 1   movie_title         39369 non-null  object \n",
      " 2   audience_rating     38880 non-null  float64\n",
      " 3   tomatometer_rating  39277 non-null  float64\n",
      "dtypes: float64(2), object(2)\n",
      "memory usage: 1.2+ MB\n"
     ]
    },
    {
     "data": {
      "application/vnd.microsoft.datawrangler.viewer.v0+json": {
       "columns": [
        {
         "name": "index",
         "rawType": "object",
         "type": "string"
        },
        {
         "name": "0",
         "rawType": "float64",
         "type": "float"
        }
       ],
       "ref": "217abf27-c53f-4135-b8c4-0271dd8b66f0",
       "rows": [
        [
         "genres",
         "0.0"
        ],
        [
         "movie_title",
         "0.0"
        ],
        [
         "audience_rating",
         "1.2421"
        ],
        [
         "tomatometer_rating",
         "0.2337"
        ]
       ],
       "shape": {
        "columns": 1,
        "rows": 4
       }
      },
      "text/plain": [
       "genres                0.0000\n",
       "movie_title           0.0000\n",
       "audience_rating       1.2421\n",
       "tomatometer_rating    0.2337\n",
       "dtype: float64"
      ]
     },
     "execution_count": 24,
     "metadata": {},
     "output_type": "execute_result"
    }
   ],
   "source": [
    "#  Checking if missing values align with data exploration findings\n",
    "missing_counts = rt_movies_expanded.isna().sum()\n",
    "total_rows = rt_movies_expanded.shape[0]\n",
    "missing_percentages = (missing_counts / total_rows) * 100\n",
    "\n",
    "# Using info() method (shows similar info)\n",
    "rt_movies_expanded.info()\n",
    "\n",
    "# Round to 4 decimal places\n",
    "(rt_movies_expanded.isna().sum()/len(rt_movies_expanded)*100).round(4)"
   ]
  },
  {
   "cell_type": "markdown",
   "id": "73461b76",
   "metadata": {},
   "source": [
    "Our check confirms that the missing values 0% to 1%. We can now proceed with dropping the rows containing missing values."
   ]
  },
  {
   "cell_type": "code",
   "execution_count": 25,
   "id": "58083a26",
   "metadata": {},
   "outputs": [
    {
     "data": {
      "application/vnd.microsoft.datawrangler.viewer.v0+json": {
       "columns": [
        {
         "name": "index",
         "rawType": "object",
         "type": "string"
        },
        {
         "name": "0",
         "rawType": "int64",
         "type": "integer"
        }
       ],
       "ref": "eb337420-5af8-4e68-8ccd-307b49ec398b",
       "rows": [
        [
         "genres",
         "0"
        ],
        [
         "movie_title",
         "0"
        ],
        [
         "audience_rating",
         "0"
        ],
        [
         "tomatometer_rating",
         "0"
        ]
       ],
       "shape": {
        "columns": 1,
        "rows": 4
       }
      },
      "text/plain": [
       "genres                0\n",
       "movie_title           0\n",
       "audience_rating       0\n",
       "tomatometer_rating    0\n",
       "dtype: int64"
      ]
     },
     "execution_count": 25,
     "metadata": {},
     "output_type": "execute_result"
    }
   ],
   "source": [
    "# Dropping rows with missing values under'audience_rating' and 'tomatometer_rating'\n",
    "rt_movies_expanded_cleaned = (\n",
    "    rt_movies_expanded\n",
    "    .dropna(subset=[ \"audience_rating\", \"tomatometer_rating\"])\n",
    "    .reset_index(drop=True)\n",
    ")\n",
    "\n",
    "# Checking if there are any missing values left\n",
    "rt_movies_expanded_cleaned.isna().sum()"
   ]
  },
  {
   "cell_type": "markdown",
   "id": "832c6d38",
   "metadata": {},
   "source": [
    "### Standardizing text columns\n",
    "To prevent mismatches during grouping, filtering, or searching—such as treating “Comedy” and “comedy” as different categories—we standardize text by converting both the movie_title and genres columns to lowercase."
   ]
  },
  {
   "cell_type": "code",
   "execution_count": 26,
   "id": "ca0ef60d",
   "metadata": {},
   "outputs": [
    {
     "data": {
      "application/vnd.microsoft.datawrangler.viewer.v0+json": {
       "columns": [
        {
         "name": "index",
         "rawType": "int64",
         "type": "integer"
        },
        {
         "name": "genres",
         "rawType": "object",
         "type": "string"
        },
        {
         "name": "movie_title",
         "rawType": "object",
         "type": "string"
        },
        {
         "name": "audience_rating",
         "rawType": "float64",
         "type": "float"
        },
        {
         "name": "tomatometer_rating",
         "rawType": "float64",
         "type": "float"
        }
       ],
       "ref": "a1a6348d-5868-46f0-9a52-336cdc53b6b5",
       "rows": [
        [
         "0",
         "action & adventure",
         "percy jackson & the olympians: the lightning thief",
         "53.0",
         "49.0"
        ],
        [
         "1",
         "comedy",
         "percy jackson & the olympians: the lightning thief",
         "53.0",
         "49.0"
        ],
        [
         "2",
         "drama",
         "percy jackson & the olympians: the lightning thief",
         "53.0",
         "49.0"
        ],
        [
         "3",
         "science fiction & fantasy",
         "percy jackson & the olympians: the lightning thief",
         "53.0",
         "49.0"
        ],
        [
         "4",
         "comedy",
         "please give",
         "64.0",
         "87.0"
        ]
       ],
       "shape": {
        "columns": 4,
        "rows": 5
       }
      },
      "text/html": [
       "<div>\n",
       "<style scoped>\n",
       "    .dataframe tbody tr th:only-of-type {\n",
       "        vertical-align: middle;\n",
       "    }\n",
       "\n",
       "    .dataframe tbody tr th {\n",
       "        vertical-align: top;\n",
       "    }\n",
       "\n",
       "    .dataframe thead th {\n",
       "        text-align: right;\n",
       "    }\n",
       "</style>\n",
       "<table border=\"1\" class=\"dataframe\">\n",
       "  <thead>\n",
       "    <tr style=\"text-align: right;\">\n",
       "      <th></th>\n",
       "      <th>genres</th>\n",
       "      <th>movie_title</th>\n",
       "      <th>audience_rating</th>\n",
       "      <th>tomatometer_rating</th>\n",
       "    </tr>\n",
       "  </thead>\n",
       "  <tbody>\n",
       "    <tr>\n",
       "      <th>0</th>\n",
       "      <td>action &amp; adventure</td>\n",
       "      <td>percy jackson &amp; the olympians: the lightning t...</td>\n",
       "      <td>53.0</td>\n",
       "      <td>49.0</td>\n",
       "    </tr>\n",
       "    <tr>\n",
       "      <th>1</th>\n",
       "      <td>comedy</td>\n",
       "      <td>percy jackson &amp; the olympians: the lightning t...</td>\n",
       "      <td>53.0</td>\n",
       "      <td>49.0</td>\n",
       "    </tr>\n",
       "    <tr>\n",
       "      <th>2</th>\n",
       "      <td>drama</td>\n",
       "      <td>percy jackson &amp; the olympians: the lightning t...</td>\n",
       "      <td>53.0</td>\n",
       "      <td>49.0</td>\n",
       "    </tr>\n",
       "    <tr>\n",
       "      <th>3</th>\n",
       "      <td>science fiction &amp; fantasy</td>\n",
       "      <td>percy jackson &amp; the olympians: the lightning t...</td>\n",
       "      <td>53.0</td>\n",
       "      <td>49.0</td>\n",
       "    </tr>\n",
       "    <tr>\n",
       "      <th>4</th>\n",
       "      <td>comedy</td>\n",
       "      <td>please give</td>\n",
       "      <td>64.0</td>\n",
       "      <td>87.0</td>\n",
       "    </tr>\n",
       "  </tbody>\n",
       "</table>\n",
       "</div>"
      ],
      "text/plain": [
       "                      genres  \\\n",
       "0         action & adventure   \n",
       "1                     comedy   \n",
       "2                      drama   \n",
       "3  science fiction & fantasy   \n",
       "4                     comedy   \n",
       "\n",
       "                                         movie_title  audience_rating  \\\n",
       "0  percy jackson & the olympians: the lightning t...             53.0   \n",
       "1  percy jackson & the olympians: the lightning t...             53.0   \n",
       "2  percy jackson & the olympians: the lightning t...             53.0   \n",
       "3  percy jackson & the olympians: the lightning t...             53.0   \n",
       "4                                        please give             64.0   \n",
       "\n",
       "   tomatometer_rating  \n",
       "0                49.0  \n",
       "1                49.0  \n",
       "2                49.0  \n",
       "3                49.0  \n",
       "4                87.0  "
      ]
     },
     "execution_count": 26,
     "metadata": {},
     "output_type": "execute_result"
    }
   ],
   "source": [
    "# Making sure to work on a copy to avoid the SettingWithCopyWarning\n",
    "rt_movies_expanded_cleaned = rt_movies_expanded_cleaned.copy()\n",
    "\n",
    "# Standardizing columns to lowercase\n",
    "rt_movies_expanded_cleaned[\"genres\"] = rt_movies_expanded_cleaned[\"genres\"].str.lower()\n",
    "rt_movies_expanded_cleaned[\"movie_title\"] = rt_movies_expanded_cleaned[\"movie_title\"].str.lower()\n",
    "\n",
    "rt_movies_expanded_cleaned.head()"
   ]
  },
  {
   "cell_type": "markdown",
   "id": "01c68941",
   "metadata": {},
   "source": [
    " ### Aggregating Ratings by Genre\n",
    "We grouped the cleaned DataFrame by genre and calculated the mean audience and Tomatometer ratings. This gives us insight into genre-level trends and preferences, rather than individual movie performance—revealing which genres resonate most with critics and audiences"
   ]
  },
  {
   "cell_type": "code",
   "execution_count": 27,
   "id": "0bee1095",
   "metadata": {},
   "outputs": [
    {
     "data": {
      "application/vnd.microsoft.datawrangler.viewer.v0+json": {
       "columns": [
        {
         "name": "index",
         "rawType": "int64",
         "type": "integer"
        },
        {
         "name": "genres",
         "rawType": "object",
         "type": "string"
        },
        {
         "name": "audience_rating",
         "rawType": "float64",
         "type": "float"
        },
        {
         "name": "tomatometer_rating",
         "rawType": "float64",
         "type": "float"
        }
       ],
       "ref": "06addc2e-0f80-4cc7-bc13-1300166e1f40",
       "rows": [
        [
         "0",
         "action & adventure",
         "57.9",
         "54.2"
        ],
        [
         "1",
         "animation",
         "65.7",
         "64.1"
        ],
        [
         "2",
         "anime & manga",
         "75.0",
         "75.4"
        ],
        [
         "3",
         "art house & international",
         "66.5",
         "71.0"
        ],
        [
         "4",
         "classics",
         "71.0",
         "78.4"
        ],
        [
         "5",
         "comedy",
         "58.4",
         "55.1"
        ],
        [
         "6",
         "cult movies",
         "55.8",
         "60.5"
        ],
        [
         "7",
         "documentary",
         "73.3",
         "80.9"
        ],
        [
         "8",
         "drama",
         "63.1",
         "63.2"
        ],
        [
         "9",
         "faith & spirituality",
         "70.3",
         "63.9"
        ],
        [
         "10",
         "gay & lesbian",
         "61.5",
         "57.6"
        ],
        [
         "11",
         "horror",
         "46.4",
         "51.6"
        ],
        [
         "12",
         "kids & family",
         "60.3",
         "55.7"
        ],
        [
         "13",
         "musical & performing arts",
         "70.9",
         "71.0"
        ],
        [
         "14",
         "mystery & suspense",
         "54.0",
         "55.3"
        ],
        [
         "15",
         "romance",
         "63.4",
         "60.5"
        ],
        [
         "16",
         "science fiction & fantasy",
         "56.7",
         "55.9"
        ],
        [
         "17",
         "special interest",
         "72.0",
         "77.7"
        ],
        [
         "18",
         "sports & fitness",
         "73.4",
         "71.0"
        ],
        [
         "19",
         "television",
         "66.8",
         "72.4"
        ],
        [
         "20",
         "western",
         "64.6",
         "68.5"
        ]
       ],
       "shape": {
        "columns": 3,
        "rows": 21
       }
      },
      "text/html": [
       "<div>\n",
       "<style scoped>\n",
       "    .dataframe tbody tr th:only-of-type {\n",
       "        vertical-align: middle;\n",
       "    }\n",
       "\n",
       "    .dataframe tbody tr th {\n",
       "        vertical-align: top;\n",
       "    }\n",
       "\n",
       "    .dataframe thead th {\n",
       "        text-align: right;\n",
       "    }\n",
       "</style>\n",
       "<table border=\"1\" class=\"dataframe\">\n",
       "  <thead>\n",
       "    <tr style=\"text-align: right;\">\n",
       "      <th></th>\n",
       "      <th>genres</th>\n",
       "      <th>audience_rating</th>\n",
       "      <th>tomatometer_rating</th>\n",
       "    </tr>\n",
       "  </thead>\n",
       "  <tbody>\n",
       "    <tr>\n",
       "      <th>0</th>\n",
       "      <td>action &amp; adventure</td>\n",
       "      <td>57.9</td>\n",
       "      <td>54.2</td>\n",
       "    </tr>\n",
       "    <tr>\n",
       "      <th>1</th>\n",
       "      <td>animation</td>\n",
       "      <td>65.7</td>\n",
       "      <td>64.1</td>\n",
       "    </tr>\n",
       "    <tr>\n",
       "      <th>2</th>\n",
       "      <td>anime &amp; manga</td>\n",
       "      <td>75.0</td>\n",
       "      <td>75.4</td>\n",
       "    </tr>\n",
       "    <tr>\n",
       "      <th>3</th>\n",
       "      <td>art house &amp; international</td>\n",
       "      <td>66.5</td>\n",
       "      <td>71.0</td>\n",
       "    </tr>\n",
       "    <tr>\n",
       "      <th>4</th>\n",
       "      <td>classics</td>\n",
       "      <td>71.0</td>\n",
       "      <td>78.4</td>\n",
       "    </tr>\n",
       "    <tr>\n",
       "      <th>5</th>\n",
       "      <td>comedy</td>\n",
       "      <td>58.4</td>\n",
       "      <td>55.1</td>\n",
       "    </tr>\n",
       "    <tr>\n",
       "      <th>6</th>\n",
       "      <td>cult movies</td>\n",
       "      <td>55.8</td>\n",
       "      <td>60.5</td>\n",
       "    </tr>\n",
       "    <tr>\n",
       "      <th>7</th>\n",
       "      <td>documentary</td>\n",
       "      <td>73.3</td>\n",
       "      <td>80.9</td>\n",
       "    </tr>\n",
       "    <tr>\n",
       "      <th>8</th>\n",
       "      <td>drama</td>\n",
       "      <td>63.1</td>\n",
       "      <td>63.2</td>\n",
       "    </tr>\n",
       "    <tr>\n",
       "      <th>9</th>\n",
       "      <td>faith &amp; spirituality</td>\n",
       "      <td>70.3</td>\n",
       "      <td>63.9</td>\n",
       "    </tr>\n",
       "    <tr>\n",
       "      <th>10</th>\n",
       "      <td>gay &amp; lesbian</td>\n",
       "      <td>61.5</td>\n",
       "      <td>57.6</td>\n",
       "    </tr>\n",
       "    <tr>\n",
       "      <th>11</th>\n",
       "      <td>horror</td>\n",
       "      <td>46.4</td>\n",
       "      <td>51.6</td>\n",
       "    </tr>\n",
       "    <tr>\n",
       "      <th>12</th>\n",
       "      <td>kids &amp; family</td>\n",
       "      <td>60.3</td>\n",
       "      <td>55.7</td>\n",
       "    </tr>\n",
       "    <tr>\n",
       "      <th>13</th>\n",
       "      <td>musical &amp; performing arts</td>\n",
       "      <td>70.9</td>\n",
       "      <td>71.0</td>\n",
       "    </tr>\n",
       "    <tr>\n",
       "      <th>14</th>\n",
       "      <td>mystery &amp; suspense</td>\n",
       "      <td>54.0</td>\n",
       "      <td>55.3</td>\n",
       "    </tr>\n",
       "    <tr>\n",
       "      <th>15</th>\n",
       "      <td>romance</td>\n",
       "      <td>63.4</td>\n",
       "      <td>60.5</td>\n",
       "    </tr>\n",
       "    <tr>\n",
       "      <th>16</th>\n",
       "      <td>science fiction &amp; fantasy</td>\n",
       "      <td>56.7</td>\n",
       "      <td>55.9</td>\n",
       "    </tr>\n",
       "    <tr>\n",
       "      <th>17</th>\n",
       "      <td>special interest</td>\n",
       "      <td>72.0</td>\n",
       "      <td>77.7</td>\n",
       "    </tr>\n",
       "    <tr>\n",
       "      <th>18</th>\n",
       "      <td>sports &amp; fitness</td>\n",
       "      <td>73.4</td>\n",
       "      <td>71.0</td>\n",
       "    </tr>\n",
       "    <tr>\n",
       "      <th>19</th>\n",
       "      <td>television</td>\n",
       "      <td>66.8</td>\n",
       "      <td>72.4</td>\n",
       "    </tr>\n",
       "    <tr>\n",
       "      <th>20</th>\n",
       "      <td>western</td>\n",
       "      <td>64.6</td>\n",
       "      <td>68.5</td>\n",
       "    </tr>\n",
       "  </tbody>\n",
       "</table>\n",
       "</div>"
      ],
      "text/plain": [
       "                       genres  audience_rating  tomatometer_rating\n",
       "0          action & adventure             57.9                54.2\n",
       "1                   animation             65.7                64.1\n",
       "2               anime & manga             75.0                75.4\n",
       "3   art house & international             66.5                71.0\n",
       "4                    classics             71.0                78.4\n",
       "5                      comedy             58.4                55.1\n",
       "6                 cult movies             55.8                60.5\n",
       "7                 documentary             73.3                80.9\n",
       "8                       drama             63.1                63.2\n",
       "9        faith & spirituality             70.3                63.9\n",
       "10              gay & lesbian             61.5                57.6\n",
       "11                     horror             46.4                51.6\n",
       "12              kids & family             60.3                55.7\n",
       "13  musical & performing arts             70.9                71.0\n",
       "14         mystery & suspense             54.0                55.3\n",
       "15                    romance             63.4                60.5\n",
       "16  science fiction & fantasy             56.7                55.9\n",
       "17           special interest             72.0                77.7\n",
       "18           sports & fitness             73.4                71.0\n",
       "19                 television             66.8                72.4\n",
       "20                    western             64.6                68.5"
      ]
     },
     "execution_count": 27,
     "metadata": {},
     "output_type": "execute_result"
    }
   ],
   "source": [
    "# Grouping by genres and aggregating the mean of audience_rating and tomatometer_rating\n",
    "genre_rating_df = rt_movies_expanded_cleaned.groupby('genres').agg({\n",
    "    'audience_rating': 'mean',\n",
    "    'tomatometer_rating': 'mean'\n",
    "}).reset_index()\n",
    "\n",
    "# Formatting the ratings to show only one decimal place\n",
    "genre_rating_df['audience_rating'] = genre_rating_df['audience_rating'].round(1)\n",
    "genre_rating_df['tomatometer_rating'] = genre_rating_df['tomatometer_rating'].round(1)\n",
    "\n",
    "genre_rating_df"
   ]
  },
  {
   "cell_type": "code",
   "execution_count": 28,
   "id": "c188a5c7",
   "metadata": {},
   "outputs": [
    {
     "data": {
      "text/plain": [
       "True"
      ]
     },
     "execution_count": 28,
     "metadata": {},
     "output_type": "execute_result"
    }
   ],
   "source": [
    "# Confirming no genres were lost after aggregation\n",
    "len(rt_movies_expanded_cleaned['genres'].value_counts()) == len(genre_rating_df)"
   ]
  },
  {
   "cell_type": "markdown",
   "id": "fe76a669",
   "metadata": {},
   "source": [
    "### Genre and ROI data.\n",
    "We begin by preparing two key dimensions: `genre` and `Return on Investment (ROI)`. `Genre` data—sourced from rt_movies, while `ROI` derived from tn.movie_budgets using production budgets and worldwide gross—measures each movie’s profitability.We will merge the tn.movie_budgets dataset (which contains production budgets and worldwide gross revenue) with the rt_movies dataset (which includes genre information).  By merging these tables on movie title, we create a comprehensive dataset that enables us to analyze which genres are most financially successful and guide strategic decisions for future productions."
   ]
  },
  {
   "cell_type": "code",
   "execution_count": 29,
   "id": "2755eee9",
   "metadata": {},
   "outputs": [
    {
     "data": {
      "application/vnd.microsoft.datawrangler.viewer.v0+json": {
       "columns": [
        {
         "name": "index",
         "rawType": "int64",
         "type": "integer"
        },
        {
         "name": "id",
         "rawType": "int64",
         "type": "integer"
        },
        {
         "name": "release_date",
         "rawType": "object",
         "type": "string"
        },
        {
         "name": "movie",
         "rawType": "object",
         "type": "string"
        },
        {
         "name": "production_budget",
         "rawType": "object",
         "type": "string"
        },
        {
         "name": "domestic_gross",
         "rawType": "object",
         "type": "string"
        },
        {
         "name": "worldwide_gross",
         "rawType": "object",
         "type": "string"
        },
        {
         "name": "genres",
         "rawType": "object",
         "type": "string"
        }
       ],
       "ref": "e257e53e-7a7a-492d-965e-2127e0ac5293",
       "rows": [
        [
         "0",
         "1",
         "Dec 18, 2009",
         "avatar",
         "$425,000,000",
         "$760,507,625",
         "$2,776,345,279",
         "Action & Adventure, Comedy, Mystery & Suspense, Science Fiction & Fantasy"
        ],
        [
         "1",
         "2",
         "May 20, 2011",
         "pirates of the caribbean: on stranger tides",
         "$410,600,000",
         "$241,063,875",
         "$1,045,663,875",
         "Action & Adventure, Comedy, Science Fiction & Fantasy"
        ],
        [
         "2",
         "3",
         "Jun 7, 2019",
         "dark phoenix",
         "$350,000,000",
         "$42,762,350",
         "$149,762,350",
         "Action & Adventure, Drama, Science Fiction & Fantasy"
        ],
        [
         "3",
         "4",
         "May 1, 2015",
         "avengers: age of ultron",
         "$330,600,000",
         "$459,005,868",
         "$1,403,013,963",
         "Action & Adventure, Science Fiction & Fantasy"
        ],
        [
         "4",
         "5",
         "Dec 15, 2017",
         "star wars ep. viii: the last jedi",
         "$317,000,000",
         "$620,181,382",
         "$1,316,721,747",
         null
        ]
       ],
       "shape": {
        "columns": 7,
        "rows": 5
       }
      },
      "text/html": [
       "<div>\n",
       "<style scoped>\n",
       "    .dataframe tbody tr th:only-of-type {\n",
       "        vertical-align: middle;\n",
       "    }\n",
       "\n",
       "    .dataframe tbody tr th {\n",
       "        vertical-align: top;\n",
       "    }\n",
       "\n",
       "    .dataframe thead th {\n",
       "        text-align: right;\n",
       "    }\n",
       "</style>\n",
       "<table border=\"1\" class=\"dataframe\">\n",
       "  <thead>\n",
       "    <tr style=\"text-align: right;\">\n",
       "      <th></th>\n",
       "      <th>id</th>\n",
       "      <th>release_date</th>\n",
       "      <th>movie</th>\n",
       "      <th>production_budget</th>\n",
       "      <th>domestic_gross</th>\n",
       "      <th>worldwide_gross</th>\n",
       "      <th>genres</th>\n",
       "    </tr>\n",
       "  </thead>\n",
       "  <tbody>\n",
       "    <tr>\n",
       "      <th>0</th>\n",
       "      <td>1</td>\n",
       "      <td>Dec 18, 2009</td>\n",
       "      <td>avatar</td>\n",
       "      <td>$425,000,000</td>\n",
       "      <td>$760,507,625</td>\n",
       "      <td>$2,776,345,279</td>\n",
       "      <td>Action &amp; Adventure, Comedy, Mystery &amp; Suspense...</td>\n",
       "    </tr>\n",
       "    <tr>\n",
       "      <th>1</th>\n",
       "      <td>2</td>\n",
       "      <td>May 20, 2011</td>\n",
       "      <td>pirates of the caribbean: on stranger tides</td>\n",
       "      <td>$410,600,000</td>\n",
       "      <td>$241,063,875</td>\n",
       "      <td>$1,045,663,875</td>\n",
       "      <td>Action &amp; Adventure, Comedy, Science Fiction &amp; ...</td>\n",
       "    </tr>\n",
       "    <tr>\n",
       "      <th>2</th>\n",
       "      <td>3</td>\n",
       "      <td>Jun 7, 2019</td>\n",
       "      <td>dark phoenix</td>\n",
       "      <td>$350,000,000</td>\n",
       "      <td>$42,762,350</td>\n",
       "      <td>$149,762,350</td>\n",
       "      <td>Action &amp; Adventure, Drama, Science Fiction &amp; F...</td>\n",
       "    </tr>\n",
       "    <tr>\n",
       "      <th>3</th>\n",
       "      <td>4</td>\n",
       "      <td>May 1, 2015</td>\n",
       "      <td>avengers: age of ultron</td>\n",
       "      <td>$330,600,000</td>\n",
       "      <td>$459,005,868</td>\n",
       "      <td>$1,403,013,963</td>\n",
       "      <td>Action &amp; Adventure, Science Fiction &amp; Fantasy</td>\n",
       "    </tr>\n",
       "    <tr>\n",
       "      <th>4</th>\n",
       "      <td>5</td>\n",
       "      <td>Dec 15, 2017</td>\n",
       "      <td>star wars ep. viii: the last jedi</td>\n",
       "      <td>$317,000,000</td>\n",
       "      <td>$620,181,382</td>\n",
       "      <td>$1,316,721,747</td>\n",
       "      <td>NaN</td>\n",
       "    </tr>\n",
       "  </tbody>\n",
       "</table>\n",
       "</div>"
      ],
      "text/plain": [
       "   id  release_date                                        movie  \\\n",
       "0   1  Dec 18, 2009                                       avatar   \n",
       "1   2  May 20, 2011  pirates of the caribbean: on stranger tides   \n",
       "2   3   Jun 7, 2019                                 dark phoenix   \n",
       "3   4   May 1, 2015                      avengers: age of ultron   \n",
       "4   5  Dec 15, 2017            star wars ep. viii: the last jedi   \n",
       "\n",
       "  production_budget domestic_gross worldwide_gross  \\\n",
       "0      $425,000,000   $760,507,625  $2,776,345,279   \n",
       "1      $410,600,000   $241,063,875  $1,045,663,875   \n",
       "2      $350,000,000    $42,762,350    $149,762,350   \n",
       "3      $330,600,000   $459,005,868  $1,403,013,963   \n",
       "4      $317,000,000   $620,181,382  $1,316,721,747   \n",
       "\n",
       "                                              genres  \n",
       "0  Action & Adventure, Comedy, Mystery & Suspense...  \n",
       "1  Action & Adventure, Comedy, Science Fiction & ...  \n",
       "2  Action & Adventure, Drama, Science Fiction & F...  \n",
       "3      Action & Adventure, Science Fiction & Fantasy  \n",
       "4                                                NaN  "
      ]
     },
     "execution_count": 29,
     "metadata": {},
     "output_type": "execute_result"
    }
   ],
   "source": [
    "# Prepare movie titles for better matching (remove special characters, lower case)\n",
    "tn_budget_df['movie'] = tn_budget_df['movie'].str.strip().str.lower()\n",
    "rt_info_df['movie_title'] =rt_info_df['movie_title'].str.strip().str.lower()\n",
    "\n",
    "# Merge the datasets on the appropriate columns\n",
    "merged_df = tn_budget_df.merge(rt_info_df[['movie_title', 'genres']], left_on='movie', right_on='movie_title', how='left')\n",
    "\n",
    "# Drop duplicate movie_title column if you want\n",
    "merged_df = merged_df.drop(columns=['movie_title'])\n",
    "\n",
    "merged_df.head()"
   ]
  },
  {
   "cell_type": "markdown",
   "id": "748021f3",
   "metadata": {},
   "source": [
    "### ROI Calculation\n",
    "ROI (Return on Investment) is a vital financial metric that measures the movie’s profitability relative to its production cost.By computing ROI for each film, we can understand the most financially successful movies and use those insights to guide future production decisions.\n",
    "The calculation of ROI will be based on the formula below:\n",
    "\n",
    "**ROI = (Worldwide Gross - Production Budget) ÷ Production Budget × 100**"
   ]
  },
  {
   "cell_type": "code",
   "execution_count": 30,
   "id": "70f0f735",
   "metadata": {},
   "outputs": [
    {
     "data": {
      "application/vnd.microsoft.datawrangler.viewer.v0+json": {
       "columns": [
        {
         "name": "index",
         "rawType": "int64",
         "type": "integer"
        },
        {
         "name": "genres",
         "rawType": "object",
         "type": "string"
        },
        {
         "name": "movie",
         "rawType": "object",
         "type": "string"
        },
        {
         "name": "production_budget",
         "rawType": "float64",
         "type": "float"
        },
        {
         "name": "worldwide_gross",
         "rawType": "float64",
         "type": "float"
        },
        {
         "name": "ROI (%)",
         "rawType": "float64",
         "type": "float"
        }
       ],
       "ref": "c6d98eaa-8cd5-4dd2-afd2-4937b1591fc7",
       "rows": [
        [
         "0",
         "Action & Adventure, Comedy, Mystery & Suspense, Science Fiction & Fantasy",
         "avatar",
         "425000000.0",
         "2776345279.0",
         "553.0"
        ],
        [
         "1",
         "Action & Adventure, Comedy, Science Fiction & Fantasy",
         "pirates of the caribbean: on stranger tides",
         "410600000.0",
         "1045663875.0",
         "155.0"
        ],
        [
         "2",
         "Action & Adventure, Drama, Science Fiction & Fantasy",
         "dark phoenix",
         "350000000.0",
         "149762350.0",
         "-57.0"
        ],
        [
         "3",
         "Action & Adventure, Science Fiction & Fantasy",
         "avengers: age of ultron",
         "330600000.0",
         "1403013963.0",
         "324.0"
        ],
        [
         "4",
         null,
         "star wars ep. viii: the last jedi",
         "317000000.0",
         "1316721747.0",
         "315.0"
        ]
       ],
       "shape": {
        "columns": 5,
        "rows": 5
       }
      },
      "text/html": [
       "<div>\n",
       "<style scoped>\n",
       "    .dataframe tbody tr th:only-of-type {\n",
       "        vertical-align: middle;\n",
       "    }\n",
       "\n",
       "    .dataframe tbody tr th {\n",
       "        vertical-align: top;\n",
       "    }\n",
       "\n",
       "    .dataframe thead th {\n",
       "        text-align: right;\n",
       "    }\n",
       "</style>\n",
       "<table border=\"1\" class=\"dataframe\">\n",
       "  <thead>\n",
       "    <tr style=\"text-align: right;\">\n",
       "      <th></th>\n",
       "      <th>genres</th>\n",
       "      <th>movie</th>\n",
       "      <th>production_budget</th>\n",
       "      <th>worldwide_gross</th>\n",
       "      <th>ROI (%)</th>\n",
       "    </tr>\n",
       "  </thead>\n",
       "  <tbody>\n",
       "    <tr>\n",
       "      <th>0</th>\n",
       "      <td>Action &amp; Adventure, Comedy, Mystery &amp; Suspense...</td>\n",
       "      <td>avatar</td>\n",
       "      <td>425000000.0</td>\n",
       "      <td>2.776345e+09</td>\n",
       "      <td>553.0</td>\n",
       "    </tr>\n",
       "    <tr>\n",
       "      <th>1</th>\n",
       "      <td>Action &amp; Adventure, Comedy, Science Fiction &amp; ...</td>\n",
       "      <td>pirates of the caribbean: on stranger tides</td>\n",
       "      <td>410600000.0</td>\n",
       "      <td>1.045664e+09</td>\n",
       "      <td>155.0</td>\n",
       "    </tr>\n",
       "    <tr>\n",
       "      <th>2</th>\n",
       "      <td>Action &amp; Adventure, Drama, Science Fiction &amp; F...</td>\n",
       "      <td>dark phoenix</td>\n",
       "      <td>350000000.0</td>\n",
       "      <td>1.497624e+08</td>\n",
       "      <td>-57.0</td>\n",
       "    </tr>\n",
       "    <tr>\n",
       "      <th>3</th>\n",
       "      <td>Action &amp; Adventure, Science Fiction &amp; Fantasy</td>\n",
       "      <td>avengers: age of ultron</td>\n",
       "      <td>330600000.0</td>\n",
       "      <td>1.403014e+09</td>\n",
       "      <td>324.0</td>\n",
       "    </tr>\n",
       "    <tr>\n",
       "      <th>4</th>\n",
       "      <td>NaN</td>\n",
       "      <td>star wars ep. viii: the last jedi</td>\n",
       "      <td>317000000.0</td>\n",
       "      <td>1.316722e+09</td>\n",
       "      <td>315.0</td>\n",
       "    </tr>\n",
       "  </tbody>\n",
       "</table>\n",
       "</div>"
      ],
      "text/plain": [
       "                                              genres  \\\n",
       "0  Action & Adventure, Comedy, Mystery & Suspense...   \n",
       "1  Action & Adventure, Comedy, Science Fiction & ...   \n",
       "2  Action & Adventure, Drama, Science Fiction & F...   \n",
       "3      Action & Adventure, Science Fiction & Fantasy   \n",
       "4                                                NaN   \n",
       "\n",
       "                                         movie  production_budget  \\\n",
       "0                                       avatar        425000000.0   \n",
       "1  pirates of the caribbean: on stranger tides        410600000.0   \n",
       "2                                 dark phoenix        350000000.0   \n",
       "3                      avengers: age of ultron        330600000.0   \n",
       "4            star wars ep. viii: the last jedi        317000000.0   \n",
       "\n",
       "   worldwide_gross  ROI (%)  \n",
       "0     2.776345e+09    553.0  \n",
       "1     1.045664e+09    155.0  \n",
       "2     1.497624e+08    -57.0  \n",
       "3     1.403014e+09    324.0  \n",
       "4     1.316722e+09    315.0  "
      ]
     },
     "execution_count": 30,
     "metadata": {},
     "output_type": "execute_result"
    }
   ],
   "source": [
    "# Clean up the dollar signs and commas and convert columns to numeric\n",
    "merged_df['production_budget'] = merged_df['production_budget'].replace([r'[\\$,]'], '', regex=True).astype(float)\n",
    "merged_df['worldwide_gross'] = merged_df['worldwide_gross'].replace([r'[\\$,]'], '', regex=True).astype(float)\n",
    "\n",
    "# Calculate ROI\n",
    "merged_df['ROI (%)'] = ((merged_df['worldwide_gross'] - merged_df['production_budget']) / merged_df['production_budget']) * 100\n",
    "\n",
    "# Round ROI to nearest whole number\n",
    "merged_df['ROI (%)'] = merged_df['ROI (%)'].round()\n",
    "\n",
    "# Group by 'movie' and calculate the mean ROI (though each movie is unique here)\n",
    "roi_grouped = merged_df.groupby('movie')[['ROI (%)']].mean().reset_index()\n",
    "\n",
    "# Final table: Comparison between genres and the grouped movie ROI, while keeping the production_budget and worldwide_gross columns\n",
    "final_table = merged_df[['genres', 'movie', 'production_budget', 'worldwide_gross']].merge(roi_grouped, on='movie')\n",
    "\n",
    "final_table.head()"
   ]
  },
  {
   "cell_type": "markdown",
   "id": "edaccf0d",
   "metadata": {},
   "source": [
    "### Checking for missing values "
   ]
  },
  {
   "cell_type": "code",
   "execution_count": 31,
   "id": "c2124f58",
   "metadata": {},
   "outputs": [
    {
     "data": {
      "application/vnd.microsoft.datawrangler.viewer.v0+json": {
       "columns": [
        {
         "name": "index",
         "rawType": "object",
         "type": "string"
        },
        {
         "name": "0",
         "rawType": "int64",
         "type": "integer"
        }
       ],
       "ref": "aee81aae-bd86-4f02-a8a0-e41f8aac5280",
       "rows": [
        [
         "genres",
         "1264"
        ],
        [
         "movie",
         "0"
        ],
        [
         "production_budget",
         "0"
        ],
        [
         "worldwide_gross",
         "0"
        ],
        [
         "ROI (%)",
         "0"
        ]
       ],
       "shape": {
        "columns": 1,
        "rows": 5
       }
      },
      "text/plain": [
       "genres               1264\n",
       "movie                   0\n",
       "production_budget       0\n",
       "worldwide_gross         0\n",
       "ROI (%)                 0\n",
       "dtype: int64"
      ]
     },
     "execution_count": 31,
     "metadata": {},
     "output_type": "execute_result"
    }
   ],
   "source": [
    "final_table.isna().sum()"
   ]
  },
  {
   "cell_type": "markdown",
   "id": "9c1bb8bc",
   "metadata": {},
   "source": [
    "Because the genres column has 1,264 missing values and is essential to our analysis we will drop those rows. Removing them won’t significantly impact our dataset’s integrity or our ability to draw meaningful insights."
   ]
  },
  {
   "cell_type": "code",
   "execution_count": 32,
   "id": "d3ce50f3",
   "metadata": {},
   "outputs": [],
   "source": [
    "final_table.dropna(subset=['genres'], inplace=True)"
   ]
  },
  {
   "cell_type": "markdown",
   "id": "3dba046d",
   "metadata": {},
   "source": [
    "### Expanding movies into individual genres\n",
    "We expand each movie’s genre information into separate rows—one per genre—to analyze how individual genres influence a film’s success. Since movies often span multiple genres, this breakdown allows us to assess performance at the genre level. This approach helps us identify which genres are the most financially rewarding and supports strategic decisions on what types of films to prioritize in the future."
   ]
  },
  {
   "cell_type": "code",
   "execution_count": 33,
   "id": "ffb3eafe",
   "metadata": {},
   "outputs": [
    {
     "data": {
      "application/vnd.microsoft.datawrangler.viewer.v0+json": {
       "columns": [
        {
         "name": "index",
         "rawType": "int64",
         "type": "integer"
        },
        {
         "name": "genres",
         "rawType": "object",
         "type": "string"
        },
        {
         "name": "movie",
         "rawType": "object",
         "type": "string"
        },
        {
         "name": "production_budget",
         "rawType": "float64",
         "type": "float"
        },
        {
         "name": "worldwide_gross",
         "rawType": "float64",
         "type": "float"
        },
        {
         "name": "ROI (%)",
         "rawType": "float64",
         "type": "float"
        }
       ],
       "ref": "d2d24897-4773-4f2c-8375-4a9bc0d1f599",
       "rows": [
        [
         "0",
         "Action & Adventure",
         "avatar",
         "425000000.0",
         "2776345279.0",
         "553.0"
        ],
        [
         "1",
         "Comedy",
         "avatar",
         "425000000.0",
         "2776345279.0",
         "553.0"
        ],
        [
         "2",
         "Mystery & Suspense",
         "avatar",
         "425000000.0",
         "2776345279.0",
         "553.0"
        ],
        [
         "3",
         "Science Fiction & Fantasy",
         "avatar",
         "425000000.0",
         "2776345279.0",
         "553.0"
        ],
        [
         "4",
         "Action & Adventure",
         "pirates of the caribbean: on stranger tides",
         "410600000.0",
         "1045663875.0",
         "155.0"
        ],
        [
         "5",
         "Comedy",
         "pirates of the caribbean: on stranger tides",
         "410600000.0",
         "1045663875.0",
         "155.0"
        ],
        [
         "6",
         "Science Fiction & Fantasy",
         "pirates of the caribbean: on stranger tides",
         "410600000.0",
         "1045663875.0",
         "155.0"
        ],
        [
         "7",
         "Action & Adventure",
         "dark phoenix",
         "350000000.0",
         "149762350.0",
         "-57.0"
        ],
        [
         "8",
         "Drama",
         "dark phoenix",
         "350000000.0",
         "149762350.0",
         "-57.0"
        ],
        [
         "9",
         "Science Fiction & Fantasy",
         "dark phoenix",
         "350000000.0",
         "149762350.0",
         "-57.0"
        ],
        [
         "10",
         "Action & Adventure",
         "avengers: age of ultron",
         "330600000.0",
         "1403013963.0",
         "324.0"
        ],
        [
         "11",
         "Science Fiction & Fantasy",
         "avengers: age of ultron",
         "330600000.0",
         "1403013963.0",
         "324.0"
        ],
        [
         "12",
         "Action & Adventure",
         "avengers: infinity war",
         "300000000.0",
         "2048134200.0",
         "583.0"
        ],
        [
         "13",
         "Science Fiction & Fantasy",
         "avengers: infinity war",
         "300000000.0",
         "2048134200.0",
         "583.0"
        ],
        [
         "14",
         "Action & Adventure",
         "justice league",
         "300000000.0",
         "655945209.0",
         "119.0"
        ],
        [
         "15",
         "Drama",
         "justice league",
         "300000000.0",
         "655945209.0",
         "119.0"
        ],
        [
         "16",
         "Science Fiction & Fantasy",
         "justice league",
         "300000000.0",
         "655945209.0",
         "119.0"
        ],
        [
         "17",
         "Action & Adventure",
         "spectre",
         "300000000.0",
         "879620923.0",
         "193.0"
        ],
        [
         "18",
         "Action & Adventure",
         "the dark knight rises",
         "275000000.0",
         "1084439099.0",
         "294.0"
        ],
        [
         "19",
         "Drama",
         "the dark knight rises",
         "275000000.0",
         "1084439099.0",
         "294.0"
        ],
        [
         "20",
         "Mystery & Suspense",
         "the dark knight rises",
         "275000000.0",
         "1084439099.0",
         "294.0"
        ],
        [
         "21",
         "Action & Adventure",
         "solo: a star wars story",
         "275000000.0",
         "393151347.0",
         "43.0"
        ],
        [
         "22",
         "Drama",
         "solo: a star wars story",
         "275000000.0",
         "393151347.0",
         "43.0"
        ],
        [
         "23",
         "Science Fiction & Fantasy",
         "solo: a star wars story",
         "275000000.0",
         "393151347.0",
         "43.0"
        ],
        [
         "24",
         "Action & Adventure",
         "the lone ranger",
         "275000000.0",
         "260002115.0",
         "-5.0"
        ],
        [
         "25",
         "Kids & Family",
         "the lone ranger",
         "275000000.0",
         "260002115.0",
         "-5.0"
        ],
        [
         "26",
         "Western",
         "the lone ranger",
         "275000000.0",
         "260002115.0",
         "-5.0"
        ],
        [
         "27",
         "Action & Adventure",
         "john carter",
         "275000000.0",
         "282778100.0",
         "3.0"
        ],
        [
         "28",
         "Horror",
         "john carter",
         "275000000.0",
         "282778100.0",
         "3.0"
        ],
        [
         "29",
         "Kids & Family",
         "john carter",
         "275000000.0",
         "282778100.0",
         "3.0"
        ],
        [
         "30",
         "Science Fiction & Fantasy",
         "john carter",
         "275000000.0",
         "282778100.0",
         "3.0"
        ],
        [
         "31",
         "Animation",
         "tangled",
         "260000000.0",
         "586477240.0",
         "126.0"
        ],
        [
         "32",
         "Comedy",
         "tangled",
         "260000000.0",
         "586477240.0",
         "126.0"
        ],
        [
         "33",
         "Kids & Family",
         "tangled",
         "260000000.0",
         "586477240.0",
         "126.0"
        ],
        [
         "34",
         "Musical & Performing Arts",
         "tangled",
         "260000000.0",
         "586477240.0",
         "126.0"
        ],
        [
         "35",
         "Action & Adventure",
         "spider-man 3",
         "258000000.0",
         "894860230.0",
         "247.0"
        ],
        [
         "36",
         "Mystery & Suspense",
         "spider-man 3",
         "258000000.0",
         "894860230.0",
         "247.0"
        ],
        [
         "37",
         "Science Fiction & Fantasy",
         "spider-man 3",
         "258000000.0",
         "894860230.0",
         "247.0"
        ],
        [
         "38",
         "Action & Adventure",
         "captain america: civil war",
         "250000000.0",
         "1140069413.0",
         "356.0"
        ],
        [
         "39",
         "Science Fiction & Fantasy",
         "captain america: civil war",
         "250000000.0",
         "1140069413.0",
         "356.0"
        ],
        [
         "40",
         "Action & Adventure",
         "batman v superman: dawn of justice",
         "250000000.0",
         "867500281.0",
         "247.0"
        ],
        [
         "41",
         "Science Fiction & Fantasy",
         "batman v superman: dawn of justice",
         "250000000.0",
         "867500281.0",
         "247.0"
        ],
        [
         "42",
         "Action & Adventure",
         "the hobbit: an unexpected journey",
         "250000000.0",
         "1017003568.0",
         "307.0"
        ],
        [
         "43",
         "Science Fiction & Fantasy",
         "the hobbit: an unexpected journey",
         "250000000.0",
         "1017003568.0",
         "307.0"
        ],
        [
         "44",
         "Action & Adventure",
         "harry potter and the half-blood prince",
         "250000000.0",
         "935213767.0",
         "274.0"
        ],
        [
         "45",
         "Drama",
         "harry potter and the half-blood prince",
         "250000000.0",
         "935213767.0",
         "274.0"
        ],
        [
         "46",
         "Kids & Family",
         "harry potter and the half-blood prince",
         "250000000.0",
         "935213767.0",
         "274.0"
        ],
        [
         "47",
         "Mystery & Suspense",
         "harry potter and the half-blood prince",
         "250000000.0",
         "935213767.0",
         "274.0"
        ],
        [
         "48",
         "Science Fiction & Fantasy",
         "harry potter and the half-blood prince",
         "250000000.0",
         "935213767.0",
         "274.0"
        ],
        [
         "49",
         "Action & Adventure",
         "the hobbit: the desolation of smaug",
         "250000000.0",
         "960366855.0",
         "284.0"
        ]
       ],
       "shape": {
        "columns": 5,
        "rows": 10909
       }
      },
      "text/html": [
       "<div>\n",
       "<style scoped>\n",
       "    .dataframe tbody tr th:only-of-type {\n",
       "        vertical-align: middle;\n",
       "    }\n",
       "\n",
       "    .dataframe tbody tr th {\n",
       "        vertical-align: top;\n",
       "    }\n",
       "\n",
       "    .dataframe thead th {\n",
       "        text-align: right;\n",
       "    }\n",
       "</style>\n",
       "<table border=\"1\" class=\"dataframe\">\n",
       "  <thead>\n",
       "    <tr style=\"text-align: right;\">\n",
       "      <th></th>\n",
       "      <th>genres</th>\n",
       "      <th>movie</th>\n",
       "      <th>production_budget</th>\n",
       "      <th>worldwide_gross</th>\n",
       "      <th>ROI (%)</th>\n",
       "    </tr>\n",
       "  </thead>\n",
       "  <tbody>\n",
       "    <tr>\n",
       "      <th>0</th>\n",
       "      <td>Action &amp; Adventure</td>\n",
       "      <td>avatar</td>\n",
       "      <td>425000000.0</td>\n",
       "      <td>2.776345e+09</td>\n",
       "      <td>553.0</td>\n",
       "    </tr>\n",
       "    <tr>\n",
       "      <th>1</th>\n",
       "      <td>Comedy</td>\n",
       "      <td>avatar</td>\n",
       "      <td>425000000.0</td>\n",
       "      <td>2.776345e+09</td>\n",
       "      <td>553.0</td>\n",
       "    </tr>\n",
       "    <tr>\n",
       "      <th>2</th>\n",
       "      <td>Mystery &amp; Suspense</td>\n",
       "      <td>avatar</td>\n",
       "      <td>425000000.0</td>\n",
       "      <td>2.776345e+09</td>\n",
       "      <td>553.0</td>\n",
       "    </tr>\n",
       "    <tr>\n",
       "      <th>3</th>\n",
       "      <td>Science Fiction &amp; Fantasy</td>\n",
       "      <td>avatar</td>\n",
       "      <td>425000000.0</td>\n",
       "      <td>2.776345e+09</td>\n",
       "      <td>553.0</td>\n",
       "    </tr>\n",
       "    <tr>\n",
       "      <th>4</th>\n",
       "      <td>Action &amp; Adventure</td>\n",
       "      <td>pirates of the caribbean: on stranger tides</td>\n",
       "      <td>410600000.0</td>\n",
       "      <td>1.045664e+09</td>\n",
       "      <td>155.0</td>\n",
       "    </tr>\n",
       "    <tr>\n",
       "      <th>...</th>\n",
       "      <td>...</td>\n",
       "      <td>...</td>\n",
       "      <td>...</td>\n",
       "      <td>...</td>\n",
       "      <td>...</td>\n",
       "    </tr>\n",
       "    <tr>\n",
       "      <th>10904</th>\n",
       "      <td>Mystery &amp; Suspense</td>\n",
       "      <td>following</td>\n",
       "      <td>6000.0</td>\n",
       "      <td>2.404950e+05</td>\n",
       "      <td>3908.0</td>\n",
       "    </tr>\n",
       "    <tr>\n",
       "      <th>10905</th>\n",
       "      <td>Comedy</td>\n",
       "      <td>my date with drew</td>\n",
       "      <td>1100.0</td>\n",
       "      <td>1.810410e+05</td>\n",
       "      <td>16358.0</td>\n",
       "    </tr>\n",
       "    <tr>\n",
       "      <th>10906</th>\n",
       "      <td>Documentary</td>\n",
       "      <td>my date with drew</td>\n",
       "      <td>1100.0</td>\n",
       "      <td>1.810410e+05</td>\n",
       "      <td>16358.0</td>\n",
       "    </tr>\n",
       "    <tr>\n",
       "      <th>10907</th>\n",
       "      <td>Special Interest</td>\n",
       "      <td>my date with drew</td>\n",
       "      <td>1100.0</td>\n",
       "      <td>1.810410e+05</td>\n",
       "      <td>16358.0</td>\n",
       "    </tr>\n",
       "    <tr>\n",
       "      <th>10908</th>\n",
       "      <td>Television</td>\n",
       "      <td>my date with drew</td>\n",
       "      <td>1100.0</td>\n",
       "      <td>1.810410e+05</td>\n",
       "      <td>16358.0</td>\n",
       "    </tr>\n",
       "  </tbody>\n",
       "</table>\n",
       "<p>10909 rows × 5 columns</p>\n",
       "</div>"
      ],
      "text/plain": [
       "                          genres                                        movie  \\\n",
       "0             Action & Adventure                                       avatar   \n",
       "1                         Comedy                                       avatar   \n",
       "2             Mystery & Suspense                                       avatar   \n",
       "3      Science Fiction & Fantasy                                       avatar   \n",
       "4             Action & Adventure  pirates of the caribbean: on stranger tides   \n",
       "...                          ...                                          ...   \n",
       "10904         Mystery & Suspense                                    following   \n",
       "10905                     Comedy                            my date with drew   \n",
       "10906                Documentary                            my date with drew   \n",
       "10907           Special Interest                            my date with drew   \n",
       "10908                 Television                            my date with drew   \n",
       "\n",
       "       production_budget  worldwide_gross  ROI (%)  \n",
       "0            425000000.0     2.776345e+09    553.0  \n",
       "1            425000000.0     2.776345e+09    553.0  \n",
       "2            425000000.0     2.776345e+09    553.0  \n",
       "3            425000000.0     2.776345e+09    553.0  \n",
       "4            410600000.0     1.045664e+09    155.0  \n",
       "...                  ...              ...      ...  \n",
       "10904             6000.0     2.404950e+05   3908.0  \n",
       "10905             1100.0     1.810410e+05  16358.0  \n",
       "10906             1100.0     1.810410e+05  16358.0  \n",
       "10907             1100.0     1.810410e+05  16358.0  \n",
       "10908             1100.0     1.810410e+05  16358.0  \n",
       "\n",
       "[10909 rows x 5 columns]"
      ]
     },
     "execution_count": 33,
     "metadata": {},
     "output_type": "execute_result"
    }
   ],
   "source": [
    "def expanded_genres_manual(df):\n",
    "   \n",
    "   # Initialize empty list to store all the new rows\n",
    "   new_rows = []\n",
    "   \n",
    "   # Iterate through each row in the original DataFrame\n",
    "   # idx = index, row = pandas Series containing the row data\n",
    "   for idx, row in df.iterrows():\n",
    "       \n",
    "       # Split the genres column by comma and remove whitespace from each genre\n",
    "       # Example: \"Action, Comedy, Drama\" becomes [\"Action\", \"Comedy\", \"Drama\"]\n",
    "       genres_cleaned = [genre.strip() for genre in row['genres'].split(',')]\n",
    "       \n",
    "       # For each individual genre, create a new row\n",
    "       for genre in genres_cleaned:\n",
    "           \n",
    "           # Convert the pandas Series to a dictionary to make it mutable\n",
    "           # This copies all the original column values\n",
    "           new_row = dict(row)\n",
    "           \n",
    "           # Replace the original comma-separated genres with the single genre\n",
    "           new_row['genres'] = genre\n",
    "           \n",
    "           # Add this new row to our collection\n",
    "           new_rows.append(new_row)\n",
    "   \n",
    "   # Convert the list of dictionaries back into a pandas DataFrame\n",
    "   return pd.DataFrame(new_rows)\n",
    "\n",
    "# Call the function to explode the genres in final_table\n",
    "# This will transform rows with multiple genres into multiple rows with single genres\n",
    "expanded_table = expanded_genres_manual(final_table)\n",
    "expanded_table\n"
   ]
  },
  {
   "cell_type": "markdown",
   "id": "4ea30dcf",
   "metadata": {},
   "source": [
    "### Cleaning, Grouping  ROI by Genre\n",
    "We begin by cleaning the data—removing any rows with missing or invalid values to ensure reliable results—then group the movies by genre to calculate each genre’s average Return on Investment (ROI). Finally, we sort the genres by their mean ROI to reveal the top performers and inform future production strategies."
   ]
  },
  {
   "cell_type": "code",
   "execution_count": 34,
   "id": "d3353c59",
   "metadata": {},
   "outputs": [
    {
     "data": {
      "application/vnd.microsoft.datawrangler.viewer.v0+json": {
       "columns": [
        {
         "name": "index",
         "rawType": "int64",
         "type": "integer"
        },
        {
         "name": "genres",
         "rawType": "object",
         "type": "string"
        },
        {
         "name": "ROI (%)",
         "rawType": "float64",
         "type": "float"
        },
        {
         "name": "production_budget",
         "rawType": "float64",
         "type": "float"
        },
        {
         "name": "worldwide_gross",
         "rawType": "float64",
         "type": "float"
        }
       ],
       "ref": "3d25ce95-c85b-4051-9471-aee2590274b1",
       "rows": [
        [
         "0",
         "Cult Movies",
         "4669.958333333333",
         "25458458.333333332",
         "82534667.79166667"
        ],
        [
         "1",
         "Horror",
         "975.2982171799027",
         "24644058.346839547",
         "77167843.10048622"
        ],
        [
         "2",
         "Special Interest",
         "932.2096774193549",
         "12172355.64516129",
         "32016139.822580647"
        ],
        [
         "3",
         "Documentary",
         "868.5864661654135",
         "13238790.22556391",
         "31994232.69924812"
        ],
        [
         "4",
         "Classics",
         "839.8736842105263",
         "31864089.961403508",
         "103425171.41403508"
        ]
       ],
       "shape": {
        "columns": 4,
        "rows": 5
       }
      },
      "text/html": [
       "<div>\n",
       "<style scoped>\n",
       "    .dataframe tbody tr th:only-of-type {\n",
       "        vertical-align: middle;\n",
       "    }\n",
       "\n",
       "    .dataframe tbody tr th {\n",
       "        vertical-align: top;\n",
       "    }\n",
       "\n",
       "    .dataframe thead th {\n",
       "        text-align: right;\n",
       "    }\n",
       "</style>\n",
       "<table border=\"1\" class=\"dataframe\">\n",
       "  <thead>\n",
       "    <tr style=\"text-align: right;\">\n",
       "      <th></th>\n",
       "      <th>genres</th>\n",
       "      <th>ROI (%)</th>\n",
       "      <th>production_budget</th>\n",
       "      <th>worldwide_gross</th>\n",
       "    </tr>\n",
       "  </thead>\n",
       "  <tbody>\n",
       "    <tr>\n",
       "      <th>0</th>\n",
       "      <td>Cult Movies</td>\n",
       "      <td>4669.958333</td>\n",
       "      <td>2.545846e+07</td>\n",
       "      <td>8.253467e+07</td>\n",
       "    </tr>\n",
       "    <tr>\n",
       "      <th>1</th>\n",
       "      <td>Horror</td>\n",
       "      <td>975.298217</td>\n",
       "      <td>2.464406e+07</td>\n",
       "      <td>7.716784e+07</td>\n",
       "    </tr>\n",
       "    <tr>\n",
       "      <th>2</th>\n",
       "      <td>Special Interest</td>\n",
       "      <td>932.209677</td>\n",
       "      <td>1.217236e+07</td>\n",
       "      <td>3.201614e+07</td>\n",
       "    </tr>\n",
       "    <tr>\n",
       "      <th>3</th>\n",
       "      <td>Documentary</td>\n",
       "      <td>868.586466</td>\n",
       "      <td>1.323879e+07</td>\n",
       "      <td>3.199423e+07</td>\n",
       "    </tr>\n",
       "    <tr>\n",
       "      <th>4</th>\n",
       "      <td>Classics</td>\n",
       "      <td>839.873684</td>\n",
       "      <td>3.186409e+07</td>\n",
       "      <td>1.034252e+08</td>\n",
       "    </tr>\n",
       "  </tbody>\n",
       "</table>\n",
       "</div>"
      ],
      "text/plain": [
       "             genres      ROI (%)  production_budget  worldwide_gross\n",
       "0       Cult Movies  4669.958333       2.545846e+07     8.253467e+07\n",
       "1            Horror   975.298217       2.464406e+07     7.716784e+07\n",
       "2  Special Interest   932.209677       1.217236e+07     3.201614e+07\n",
       "3       Documentary   868.586466       1.323879e+07     3.199423e+07\n",
       "4          Classics   839.873684       3.186409e+07     1.034252e+08"
      ]
     },
     "execution_count": 34,
     "metadata": {},
     "output_type": "execute_result"
    }
   ],
   "source": [
    "# Drop rows with NULLs in important columns\n",
    "expanded_table = expanded_table.dropna(subset=['genres', 'movie', 'ROI (%)'])\n",
    "\n",
    "# Group by 'genres' and calculate average ROI, production_budget, and worldwide_gross\n",
    "grouped_table = expanded_table.groupby('genres').agg({\n",
    "    'ROI (%)': 'mean',              # Average ROI\n",
    "    'production_budget': 'mean',    # Average production_budget\n",
    "    'worldwide_gross': 'mean'       # Average worldwide_gross\n",
    "}).reset_index()\n",
    "\n",
    "# Sort by ROI in descending order\n",
    "grouped_table = grouped_table.sort_values(by='ROI (%)', ascending=False)\n",
    "\n",
    "# Reset index to clean it up\n",
    "grouped_table = grouped_table.reset_index(drop=True)\n",
    "\n",
    "grouped_table.head()"
   ]
  },
  {
   "cell_type": "markdown",
   "id": "f934b908",
   "metadata": {},
   "source": [
    " ### Normalizing ROI Percentages\n",
    "To make genres’ ROI values comparable, we normalize them so their percentages sum to 100%. This is done by dividing each genre’s ROI by the total ROI across all genres and then multiplying by 100 letting us see each genre’s share of the overall ROI."
   ]
  },
  {
   "cell_type": "code",
   "execution_count": 35,
   "id": "4839b11d",
   "metadata": {},
   "outputs": [
    {
     "data": {
      "application/vnd.microsoft.datawrangler.viewer.v0+json": {
       "columns": [
        {
         "name": "index",
         "rawType": "int64",
         "type": "integer"
        },
        {
         "name": "genres",
         "rawType": "object",
         "type": "string"
        },
        {
         "name": "ROI (%)",
         "rawType": "float64",
         "type": "float"
        },
        {
         "name": "production_budget",
         "rawType": "float64",
         "type": "float"
        },
        {
         "name": "worldwide_gross",
         "rawType": "float64",
         "type": "float"
        },
        {
         "name": "normalized_ROI",
         "rawType": "float64",
         "type": "float"
        }
       ],
       "ref": "f7d469bc-d55d-48b8-a93a-1243918945d6",
       "rows": [
        [
         "0",
         "Cult Movies",
         "4669.958333333333",
         "25458458.333333332",
         "82534667.79166667",
         "31.34113933083495"
        ],
        [
         "1",
         "Horror",
         "975.2982171799027",
         "24644058.346839547",
         "77167843.10048622",
         "6.545445404848421"
        ],
        [
         "2",
         "Special Interest",
         "932.2096774193549",
         "12172355.64516129",
         "32016139.822580647",
         "6.256268536061752"
        ],
        [
         "3",
         "Documentary",
         "868.5864661654135",
         "13238790.22556391",
         "31994232.69924812",
         "5.829278874429883"
        ],
        [
         "4",
         "Classics",
         "839.8736842105263",
         "31864089.961403508",
         "103425171.41403508",
         "5.636580945328302"
        ],
        [
         "5",
         "Sports & Fitness",
         "740.6190476190476",
         "25268095.23809524",
         "78229370.38095239",
         "4.970460784803332"
        ],
        [
         "6",
         "Television",
         "695.3703703703703",
         "29038744.444444444",
         "87456792.81481482",
         "4.666786748128462"
        ],
        [
         "7",
         "Faith & Spirituality",
         "652.0869565217391",
         "10103260.869565217",
         "18559545.695652176",
         "4.376302035564473"
        ],
        [
         "8",
         "Animation",
         "527.4457831325301",
         "80960784.124498",
         "296931544.61044174",
         "3.5398071243215194"
        ],
        [
         "9",
         "Musical & Performing Arts",
         "509.46276595744683",
         "27717144.122340426",
         "108662788.16489361",
         "3.419119056753518"
        ],
        [
         "10",
         "Art House & International",
         "481.8189655172414",
         "15737626.064655172",
         "31063435.375",
         "3.2335953027092588"
        ],
        [
         "11",
         "Kids & Family",
         "470.62098501070665",
         "64217155.23340471",
         "216467698.2869379",
         "3.1584431402639943"
        ],
        [
         "12",
         "Mystery & Suspense",
         "411.6010101010101",
         "33895793.85185185",
         "95212962.16414142",
         "2.7623468317072413"
        ],
        [
         "13",
         "Science Fiction & Fantasy",
         "410.49491094147584",
         "68638917.54961832",
         "208612233.7697201",
         "2.754923551798031"
        ],
        [
         "14",
         "Romance",
         "385.5951557093426",
         "29829205.788927335",
         "97880203.7750865",
         "2.5878157015065812"
        ],
        [
         "15",
         "Drama",
         "317.0761285386381",
         "30552827.68133129",
         "80721193.04973221",
         "2.127969119569844"
        ],
        [
         "16",
         "Comedy",
         "309.90546697038724",
         "31649792.18621868",
         "93700290.34111618",
         "2.079845199126982"
        ],
        [
         "17",
         "Action & Adventure",
         "281.02144772117964",
         "61567931.05428954",
         "175550487.84115282",
         "1.8859980580802702"
        ],
        [
         "18",
         "Western",
         "197.36486486486487",
         "34176729.0",
         "60778587.527027026",
         "1.3245599397727266"
        ],
        [
         "19",
         "Gay & Lesbian",
         "171.0",
         "4833333.333333333",
         "21550328.333333332",
         "1.1476194096462908"
        ],
        [
         "20",
         "Anime & Manga",
         "53.0",
         "110000000.0",
         "167910690.0",
         "0.35569490474417204"
        ]
       ],
       "shape": {
        "columns": 5,
        "rows": 21
       }
      },
      "text/html": [
       "<div>\n",
       "<style scoped>\n",
       "    .dataframe tbody tr th:only-of-type {\n",
       "        vertical-align: middle;\n",
       "    }\n",
       "\n",
       "    .dataframe tbody tr th {\n",
       "        vertical-align: top;\n",
       "    }\n",
       "\n",
       "    .dataframe thead th {\n",
       "        text-align: right;\n",
       "    }\n",
       "</style>\n",
       "<table border=\"1\" class=\"dataframe\">\n",
       "  <thead>\n",
       "    <tr style=\"text-align: right;\">\n",
       "      <th></th>\n",
       "      <th>genres</th>\n",
       "      <th>ROI (%)</th>\n",
       "      <th>production_budget</th>\n",
       "      <th>worldwide_gross</th>\n",
       "      <th>normalized_ROI</th>\n",
       "    </tr>\n",
       "  </thead>\n",
       "  <tbody>\n",
       "    <tr>\n",
       "      <th>0</th>\n",
       "      <td>Cult Movies</td>\n",
       "      <td>4669.958333</td>\n",
       "      <td>2.545846e+07</td>\n",
       "      <td>8.253467e+07</td>\n",
       "      <td>31.341139</td>\n",
       "    </tr>\n",
       "    <tr>\n",
       "      <th>1</th>\n",
       "      <td>Horror</td>\n",
       "      <td>975.298217</td>\n",
       "      <td>2.464406e+07</td>\n",
       "      <td>7.716784e+07</td>\n",
       "      <td>6.545445</td>\n",
       "    </tr>\n",
       "    <tr>\n",
       "      <th>2</th>\n",
       "      <td>Special Interest</td>\n",
       "      <td>932.209677</td>\n",
       "      <td>1.217236e+07</td>\n",
       "      <td>3.201614e+07</td>\n",
       "      <td>6.256269</td>\n",
       "    </tr>\n",
       "    <tr>\n",
       "      <th>3</th>\n",
       "      <td>Documentary</td>\n",
       "      <td>868.586466</td>\n",
       "      <td>1.323879e+07</td>\n",
       "      <td>3.199423e+07</td>\n",
       "      <td>5.829279</td>\n",
       "    </tr>\n",
       "    <tr>\n",
       "      <th>4</th>\n",
       "      <td>Classics</td>\n",
       "      <td>839.873684</td>\n",
       "      <td>3.186409e+07</td>\n",
       "      <td>1.034252e+08</td>\n",
       "      <td>5.636581</td>\n",
       "    </tr>\n",
       "    <tr>\n",
       "      <th>5</th>\n",
       "      <td>Sports &amp; Fitness</td>\n",
       "      <td>740.619048</td>\n",
       "      <td>2.526810e+07</td>\n",
       "      <td>7.822937e+07</td>\n",
       "      <td>4.970461</td>\n",
       "    </tr>\n",
       "    <tr>\n",
       "      <th>6</th>\n",
       "      <td>Television</td>\n",
       "      <td>695.370370</td>\n",
       "      <td>2.903874e+07</td>\n",
       "      <td>8.745679e+07</td>\n",
       "      <td>4.666787</td>\n",
       "    </tr>\n",
       "    <tr>\n",
       "      <th>7</th>\n",
       "      <td>Faith &amp; Spirituality</td>\n",
       "      <td>652.086957</td>\n",
       "      <td>1.010326e+07</td>\n",
       "      <td>1.855955e+07</td>\n",
       "      <td>4.376302</td>\n",
       "    </tr>\n",
       "    <tr>\n",
       "      <th>8</th>\n",
       "      <td>Animation</td>\n",
       "      <td>527.445783</td>\n",
       "      <td>8.096078e+07</td>\n",
       "      <td>2.969315e+08</td>\n",
       "      <td>3.539807</td>\n",
       "    </tr>\n",
       "    <tr>\n",
       "      <th>9</th>\n",
       "      <td>Musical &amp; Performing Arts</td>\n",
       "      <td>509.462766</td>\n",
       "      <td>2.771714e+07</td>\n",
       "      <td>1.086628e+08</td>\n",
       "      <td>3.419119</td>\n",
       "    </tr>\n",
       "    <tr>\n",
       "      <th>10</th>\n",
       "      <td>Art House &amp; International</td>\n",
       "      <td>481.818966</td>\n",
       "      <td>1.573763e+07</td>\n",
       "      <td>3.106344e+07</td>\n",
       "      <td>3.233595</td>\n",
       "    </tr>\n",
       "    <tr>\n",
       "      <th>11</th>\n",
       "      <td>Kids &amp; Family</td>\n",
       "      <td>470.620985</td>\n",
       "      <td>6.421716e+07</td>\n",
       "      <td>2.164677e+08</td>\n",
       "      <td>3.158443</td>\n",
       "    </tr>\n",
       "    <tr>\n",
       "      <th>12</th>\n",
       "      <td>Mystery &amp; Suspense</td>\n",
       "      <td>411.601010</td>\n",
       "      <td>3.389579e+07</td>\n",
       "      <td>9.521296e+07</td>\n",
       "      <td>2.762347</td>\n",
       "    </tr>\n",
       "    <tr>\n",
       "      <th>13</th>\n",
       "      <td>Science Fiction &amp; Fantasy</td>\n",
       "      <td>410.494911</td>\n",
       "      <td>6.863892e+07</td>\n",
       "      <td>2.086122e+08</td>\n",
       "      <td>2.754924</td>\n",
       "    </tr>\n",
       "    <tr>\n",
       "      <th>14</th>\n",
       "      <td>Romance</td>\n",
       "      <td>385.595156</td>\n",
       "      <td>2.982921e+07</td>\n",
       "      <td>9.788020e+07</td>\n",
       "      <td>2.587816</td>\n",
       "    </tr>\n",
       "    <tr>\n",
       "      <th>15</th>\n",
       "      <td>Drama</td>\n",
       "      <td>317.076129</td>\n",
       "      <td>3.055283e+07</td>\n",
       "      <td>8.072119e+07</td>\n",
       "      <td>2.127969</td>\n",
       "    </tr>\n",
       "    <tr>\n",
       "      <th>16</th>\n",
       "      <td>Comedy</td>\n",
       "      <td>309.905467</td>\n",
       "      <td>3.164979e+07</td>\n",
       "      <td>9.370029e+07</td>\n",
       "      <td>2.079845</td>\n",
       "    </tr>\n",
       "    <tr>\n",
       "      <th>17</th>\n",
       "      <td>Action &amp; Adventure</td>\n",
       "      <td>281.021448</td>\n",
       "      <td>6.156793e+07</td>\n",
       "      <td>1.755505e+08</td>\n",
       "      <td>1.885998</td>\n",
       "    </tr>\n",
       "    <tr>\n",
       "      <th>18</th>\n",
       "      <td>Western</td>\n",
       "      <td>197.364865</td>\n",
       "      <td>3.417673e+07</td>\n",
       "      <td>6.077859e+07</td>\n",
       "      <td>1.324560</td>\n",
       "    </tr>\n",
       "    <tr>\n",
       "      <th>19</th>\n",
       "      <td>Gay &amp; Lesbian</td>\n",
       "      <td>171.000000</td>\n",
       "      <td>4.833333e+06</td>\n",
       "      <td>2.155033e+07</td>\n",
       "      <td>1.147619</td>\n",
       "    </tr>\n",
       "    <tr>\n",
       "      <th>20</th>\n",
       "      <td>Anime &amp; Manga</td>\n",
       "      <td>53.000000</td>\n",
       "      <td>1.100000e+08</td>\n",
       "      <td>1.679107e+08</td>\n",
       "      <td>0.355695</td>\n",
       "    </tr>\n",
       "  </tbody>\n",
       "</table>\n",
       "</div>"
      ],
      "text/plain": [
       "                       genres      ROI (%)  production_budget  \\\n",
       "0                 Cult Movies  4669.958333       2.545846e+07   \n",
       "1                      Horror   975.298217       2.464406e+07   \n",
       "2            Special Interest   932.209677       1.217236e+07   \n",
       "3                 Documentary   868.586466       1.323879e+07   \n",
       "4                    Classics   839.873684       3.186409e+07   \n",
       "5            Sports & Fitness   740.619048       2.526810e+07   \n",
       "6                  Television   695.370370       2.903874e+07   \n",
       "7        Faith & Spirituality   652.086957       1.010326e+07   \n",
       "8                   Animation   527.445783       8.096078e+07   \n",
       "9   Musical & Performing Arts   509.462766       2.771714e+07   \n",
       "10  Art House & International   481.818966       1.573763e+07   \n",
       "11              Kids & Family   470.620985       6.421716e+07   \n",
       "12         Mystery & Suspense   411.601010       3.389579e+07   \n",
       "13  Science Fiction & Fantasy   410.494911       6.863892e+07   \n",
       "14                    Romance   385.595156       2.982921e+07   \n",
       "15                      Drama   317.076129       3.055283e+07   \n",
       "16                     Comedy   309.905467       3.164979e+07   \n",
       "17         Action & Adventure   281.021448       6.156793e+07   \n",
       "18                    Western   197.364865       3.417673e+07   \n",
       "19              Gay & Lesbian   171.000000       4.833333e+06   \n",
       "20              Anime & Manga    53.000000       1.100000e+08   \n",
       "\n",
       "    worldwide_gross  normalized_ROI  \n",
       "0      8.253467e+07       31.341139  \n",
       "1      7.716784e+07        6.545445  \n",
       "2      3.201614e+07        6.256269  \n",
       "3      3.199423e+07        5.829279  \n",
       "4      1.034252e+08        5.636581  \n",
       "5      7.822937e+07        4.970461  \n",
       "6      8.745679e+07        4.666787  \n",
       "7      1.855955e+07        4.376302  \n",
       "8      2.969315e+08        3.539807  \n",
       "9      1.086628e+08        3.419119  \n",
       "10     3.106344e+07        3.233595  \n",
       "11     2.164677e+08        3.158443  \n",
       "12     9.521296e+07        2.762347  \n",
       "13     2.086122e+08        2.754924  \n",
       "14     9.788020e+07        2.587816  \n",
       "15     8.072119e+07        2.127969  \n",
       "16     9.370029e+07        2.079845  \n",
       "17     1.755505e+08        1.885998  \n",
       "18     6.077859e+07        1.324560  \n",
       "19     2.155033e+07        1.147619  \n",
       "20     1.679107e+08        0.355695  "
      ]
     },
     "execution_count": 35,
     "metadata": {},
     "output_type": "execute_result"
    }
   ],
   "source": [
    "# Normalize ROI values: divide each ROI by the sum of all ROIs, then multiply by 100\n",
    "# This converts absolute ROI values to relative percentages that sum to exactly 100%\n",
    "grouped_table['normalized_ROI'] = (grouped_table['ROI (%)'] / grouped_table['ROI (%)'].sum()) * 100\n",
    "grouped_table"
   ]
  },
  {
   "cell_type": "code",
   "execution_count": 36,
   "id": "cdd231c2",
   "metadata": {},
   "outputs": [],
   "source": [
    "# Check if the sum of normalized ROIs is 100\n",
    "assert abs(grouped_table['normalized_ROI'].sum() - 100) < 1e-2, \"The normalized ROIs don't sum to 100!\""
   ]
  },
  {
   "cell_type": "markdown",
   "id": "cac2bce6",
   "metadata": {},
   "source": [
    "### Preparing Language and Popularity Data\n",
    "To help the company identify the most successful film types at the box office, we focus on two key features from The Movie DB dataset: original_language and popularity. The original_language field gives insight into which language markets (e.g., English, Spanish) perform best commercially, supporting decisions on which languages to target for wider or niche audience reach. Meanwhile, the popularity column reflects audience engagement and interest—making it a strong indicator of a film’s appeal and public traction.\n",
    "\n",
    "Before proceeding, we reviewed the dataset using the Data Wrangler tool to examine these columns. This initial exploration confirmed that both original_language and popularity are complete, with no missing values. As a result, no additional cleaning is needed.\n",
    "\n",
    "We'll keep the dataset as-is and apply specific filters during analysis to extract relevant insights while preserving the original data structure."
   ]
  },
  {
   "cell_type": "code",
   "execution_count": 37,
   "id": "50796174",
   "metadata": {},
   "outputs": [
    {
     "data": {
      "application/vnd.microsoft.datawrangler.viewer.v0+json": {
       "columns": [
        {
         "name": "index",
         "rawType": "int64",
         "type": "integer"
        },
        {
         "name": "Unnamed: 0",
         "rawType": "int64",
         "type": "integer"
        },
        {
         "name": "genre_ids",
         "rawType": "object",
         "type": "string"
        },
        {
         "name": "id",
         "rawType": "int64",
         "type": "integer"
        },
        {
         "name": "original_language",
         "rawType": "object",
         "type": "string"
        },
        {
         "name": "original_title",
         "rawType": "object",
         "type": "string"
        },
        {
         "name": "popularity",
         "rawType": "float64",
         "type": "float"
        },
        {
         "name": "release_date",
         "rawType": "object",
         "type": "string"
        },
        {
         "name": "title",
         "rawType": "object",
         "type": "string"
        },
        {
         "name": "vote_average",
         "rawType": "float64",
         "type": "float"
        },
        {
         "name": "vote_count",
         "rawType": "int64",
         "type": "integer"
        }
       ],
       "ref": "a634c15e-3b64-44da-add1-b7f6426492b2",
       "rows": [
        [
         "0",
         "0",
         "[12, 14, 10751]",
         "12444",
         "en",
         "Harry Potter and the Deathly Hallows: Part 1",
         "33.533",
         "2010-11-19",
         "Harry Potter and the Deathly Hallows: Part 1",
         "7.7",
         "10788"
        ],
        [
         "1",
         "1",
         "[14, 12, 16, 10751]",
         "10191",
         "en",
         "How to Train Your Dragon",
         "28.734",
         "2010-03-26",
         "How to Train Your Dragon",
         "7.7",
         "7610"
        ],
        [
         "2",
         "2",
         "[12, 28, 878]",
         "10138",
         "en",
         "Iron Man 2",
         "28.515",
         "2010-05-07",
         "Iron Man 2",
         "6.8",
         "12368"
        ],
        [
         "3",
         "3",
         "[16, 35, 10751]",
         "862",
         "en",
         "Toy Story",
         "28.005",
         "1995-11-22",
         "Toy Story",
         "7.9",
         "10174"
        ],
        [
         "4",
         "4",
         "[28, 878, 12]",
         "27205",
         "en",
         "Inception",
         "27.92",
         "2010-07-16",
         "Inception",
         "8.3",
         "22186"
        ]
       ],
       "shape": {
        "columns": 10,
        "rows": 5
       }
      },
      "text/html": [
       "<div>\n",
       "<style scoped>\n",
       "    .dataframe tbody tr th:only-of-type {\n",
       "        vertical-align: middle;\n",
       "    }\n",
       "\n",
       "    .dataframe tbody tr th {\n",
       "        vertical-align: top;\n",
       "    }\n",
       "\n",
       "    .dataframe thead th {\n",
       "        text-align: right;\n",
       "    }\n",
       "</style>\n",
       "<table border=\"1\" class=\"dataframe\">\n",
       "  <thead>\n",
       "    <tr style=\"text-align: right;\">\n",
       "      <th></th>\n",
       "      <th>Unnamed: 0</th>\n",
       "      <th>genre_ids</th>\n",
       "      <th>id</th>\n",
       "      <th>original_language</th>\n",
       "      <th>original_title</th>\n",
       "      <th>popularity</th>\n",
       "      <th>release_date</th>\n",
       "      <th>title</th>\n",
       "      <th>vote_average</th>\n",
       "      <th>vote_count</th>\n",
       "    </tr>\n",
       "  </thead>\n",
       "  <tbody>\n",
       "    <tr>\n",
       "      <th>0</th>\n",
       "      <td>0</td>\n",
       "      <td>[12, 14, 10751]</td>\n",
       "      <td>12444</td>\n",
       "      <td>en</td>\n",
       "      <td>Harry Potter and the Deathly Hallows: Part 1</td>\n",
       "      <td>33.533</td>\n",
       "      <td>2010-11-19</td>\n",
       "      <td>Harry Potter and the Deathly Hallows: Part 1</td>\n",
       "      <td>7.7</td>\n",
       "      <td>10788</td>\n",
       "    </tr>\n",
       "    <tr>\n",
       "      <th>1</th>\n",
       "      <td>1</td>\n",
       "      <td>[14, 12, 16, 10751]</td>\n",
       "      <td>10191</td>\n",
       "      <td>en</td>\n",
       "      <td>How to Train Your Dragon</td>\n",
       "      <td>28.734</td>\n",
       "      <td>2010-03-26</td>\n",
       "      <td>How to Train Your Dragon</td>\n",
       "      <td>7.7</td>\n",
       "      <td>7610</td>\n",
       "    </tr>\n",
       "    <tr>\n",
       "      <th>2</th>\n",
       "      <td>2</td>\n",
       "      <td>[12, 28, 878]</td>\n",
       "      <td>10138</td>\n",
       "      <td>en</td>\n",
       "      <td>Iron Man 2</td>\n",
       "      <td>28.515</td>\n",
       "      <td>2010-05-07</td>\n",
       "      <td>Iron Man 2</td>\n",
       "      <td>6.8</td>\n",
       "      <td>12368</td>\n",
       "    </tr>\n",
       "    <tr>\n",
       "      <th>3</th>\n",
       "      <td>3</td>\n",
       "      <td>[16, 35, 10751]</td>\n",
       "      <td>862</td>\n",
       "      <td>en</td>\n",
       "      <td>Toy Story</td>\n",
       "      <td>28.005</td>\n",
       "      <td>1995-11-22</td>\n",
       "      <td>Toy Story</td>\n",
       "      <td>7.9</td>\n",
       "      <td>10174</td>\n",
       "    </tr>\n",
       "    <tr>\n",
       "      <th>4</th>\n",
       "      <td>4</td>\n",
       "      <td>[28, 878, 12]</td>\n",
       "      <td>27205</td>\n",
       "      <td>en</td>\n",
       "      <td>Inception</td>\n",
       "      <td>27.920</td>\n",
       "      <td>2010-07-16</td>\n",
       "      <td>Inception</td>\n",
       "      <td>8.3</td>\n",
       "      <td>22186</td>\n",
       "    </tr>\n",
       "  </tbody>\n",
       "</table>\n",
       "</div>"
      ],
      "text/plain": [
       "   Unnamed: 0            genre_ids     id original_language  \\\n",
       "0           0      [12, 14, 10751]  12444                en   \n",
       "1           1  [14, 12, 16, 10751]  10191                en   \n",
       "2           2        [12, 28, 878]  10138                en   \n",
       "3           3      [16, 35, 10751]    862                en   \n",
       "4           4        [28, 878, 12]  27205                en   \n",
       "\n",
       "                                 original_title  popularity release_date  \\\n",
       "0  Harry Potter and the Deathly Hallows: Part 1      33.533   2010-11-19   \n",
       "1                      How to Train Your Dragon      28.734   2010-03-26   \n",
       "2                                    Iron Man 2      28.515   2010-05-07   \n",
       "3                                     Toy Story      28.005   1995-11-22   \n",
       "4                                     Inception      27.920   2010-07-16   \n",
       "\n",
       "                                          title  vote_average  vote_count  \n",
       "0  Harry Potter and the Deathly Hallows: Part 1           7.7       10788  \n",
       "1                      How to Train Your Dragon           7.7        7610  \n",
       "2                                    Iron Man 2           6.8       12368  \n",
       "3                                     Toy Story           7.9       10174  \n",
       "4                                     Inception           8.3       22186  "
      ]
     },
     "execution_count": 37,
     "metadata": {},
     "output_type": "execute_result"
    }
   ],
   "source": [
    "# checking the first five rows of the data set\n",
    "tmdb_df.head()"
   ]
  },
  {
   "cell_type": "markdown",
   "id": "9095db86",
   "metadata": {},
   "source": [
    " ### Preparing Directors and Foreign Gross Data\n",
    "To analyze the connection between directors and their films’ worldwide gross earnings, we begin by aligning two datasets: the `im.db` tables and the `movie budgets` dataset. Based on prior data exploration, we've confirmed that these datasets contain no missing values in the relevant fields, allowing us to proceed without any imputation. Since they come from different sources with varied structures, careful filtering and merging are necessary to maintain accuracy.\n",
    "\n",
    "#### Extracting Director and Movie Title Data\n",
    "Our first step is to extract a refined dataset containing each `director’s name` alongside their associated `movie title` from the `im.db` database. The challenge here is that the directors table doesn’t directly store names—instead, it references the persons table for director names. Likewise, movie titles are located in the movie_akas table, which maps movies to their alternate regional titles.\n",
    "\n",
    "To ensure data integrity and eliminate duplication caused by variations in title entries, we use a `DISTINCT` query. This helps us obtain unique director–movie pairs based solely on original movie titles, minimizing redundancy and improving the quality of our analysis.\n",
    "\n"
   ]
  },
  {
   "cell_type": "code",
   "execution_count": 38,
   "id": "b488daf4",
   "metadata": {},
   "outputs": [
    {
     "data": {
      "application/vnd.microsoft.datawrangler.viewer.v0+json": {
       "columns": [
        {
         "name": "index",
         "rawType": "int64",
         "type": "integer"
        },
        {
         "name": "director_name",
         "rawType": "object",
         "type": "string"
        },
        {
         "name": "movie_title",
         "rawType": "object",
         "type": "string"
        },
        {
         "name": "start_year",
         "rawType": "int64",
         "type": "integer"
        }
       ],
       "ref": "3006d10a-b93b-4807-ab06-417d602459b2",
       "rows": [
        [
         "0",
         "Colin Trevorrow",
         "Jurassic World",
         "2015"
        ],
        [
         "1",
         "Andrew Stanton",
         "John Carter",
         "2012"
        ],
        [
         "2",
         "Marc Jampolsky",
         "Versailles Rediscovered - The Sun King's Vanished Palace",
         "2019"
        ],
        [
         "3",
         "Sam Zubrycki",
         "Miguelito - Canto a Borinquen",
         "2019"
        ],
        [
         "4",
         "Henning Beckhoff",
         "Thing I Don't Get",
         "2018"
        ]
       ],
       "shape": {
        "columns": 3,
        "rows": 5
       }
      },
      "text/html": [
       "<div>\n",
       "<style scoped>\n",
       "    .dataframe tbody tr th:only-of-type {\n",
       "        vertical-align: middle;\n",
       "    }\n",
       "\n",
       "    .dataframe tbody tr th {\n",
       "        vertical-align: top;\n",
       "    }\n",
       "\n",
       "    .dataframe thead th {\n",
       "        text-align: right;\n",
       "    }\n",
       "</style>\n",
       "<table border=\"1\" class=\"dataframe\">\n",
       "  <thead>\n",
       "    <tr style=\"text-align: right;\">\n",
       "      <th></th>\n",
       "      <th>director_name</th>\n",
       "      <th>movie_title</th>\n",
       "      <th>start_year</th>\n",
       "    </tr>\n",
       "  </thead>\n",
       "  <tbody>\n",
       "    <tr>\n",
       "      <th>0</th>\n",
       "      <td>Colin Trevorrow</td>\n",
       "      <td>Jurassic World</td>\n",
       "      <td>2015</td>\n",
       "    </tr>\n",
       "    <tr>\n",
       "      <th>1</th>\n",
       "      <td>Andrew Stanton</td>\n",
       "      <td>John Carter</td>\n",
       "      <td>2012</td>\n",
       "    </tr>\n",
       "    <tr>\n",
       "      <th>2</th>\n",
       "      <td>Marc Jampolsky</td>\n",
       "      <td>Versailles Rediscovered - The Sun King's Vanis...</td>\n",
       "      <td>2019</td>\n",
       "    </tr>\n",
       "    <tr>\n",
       "      <th>3</th>\n",
       "      <td>Sam Zubrycki</td>\n",
       "      <td>Miguelito - Canto a Borinquen</td>\n",
       "      <td>2019</td>\n",
       "    </tr>\n",
       "    <tr>\n",
       "      <th>4</th>\n",
       "      <td>Henning Beckhoff</td>\n",
       "      <td>Thing I Don't Get</td>\n",
       "      <td>2018</td>\n",
       "    </tr>\n",
       "  </tbody>\n",
       "</table>\n",
       "</div>"
      ],
      "text/plain": [
       "      director_name                                        movie_title  \\\n",
       "0   Colin Trevorrow                                     Jurassic World   \n",
       "1    Andrew Stanton                                        John Carter   \n",
       "2    Marc Jampolsky  Versailles Rediscovered - The Sun King's Vanis...   \n",
       "3      Sam Zubrycki                      Miguelito - Canto a Borinquen   \n",
       "4  Henning Beckhoff                                  Thing I Don't Get   \n",
       "\n",
       "   start_year  \n",
       "0        2015  \n",
       "1        2012  \n",
       "2        2019  \n",
       "3        2019  \n",
       "4        2018  "
      ]
     },
     "execution_count": 38,
     "metadata": {},
     "output_type": "execute_result"
    }
   ],
   "source": [
    "# Connect to the database\n",
    "conn = sqlite3.connect('Data\\im.db\\im.db')\n",
    "\n",
    "# Updated query with DISTINCT\n",
    "query = '''\n",
    "SELECT DISTINCT\n",
    "    p.primary_name AS director_name,\n",
    "    ma.title AS movie_title,\n",
    "    mb.start_year\n",
    "FROM directors d\n",
    "JOIN persons p ON d.person_id = p.person_id\n",
    "JOIN movie_akas ma ON d.movie_id = ma.movie_id\n",
    "JOIN movie_basics mb ON d.movie_id = mb.movie_id\n",
    "WHERE ma.is_original_title = 1\n",
    "'''\n",
    "\n",
    "# Execute the query and load into a DataFrame\n",
    "directors_df = pd.read_sql_query(query, conn)\n",
    "\n",
    "# Close connection\n",
    "conn.close()\n",
    "directors_df.head()"
   ]
  },
  {
   "cell_type": "markdown",
   "id": "144cbeb6",
   "metadata": {},
   "source": [
    "### Merge Directors with Worldwide Gross Data\n",
    "At this point, we will combine the director information with the worldwide gross earnings.\n",
    "This will ensures that each movie in our dataset is matched with both its director and its revenue performance,this will help in having meaningful analysis."
   ]
  },
  {
   "cell_type": "code",
   "execution_count": 39,
   "id": "a8d4febe",
   "metadata": {},
   "outputs": [
    {
     "data": {
      "application/vnd.microsoft.datawrangler.viewer.v0+json": {
       "columns": [
        {
         "name": "index",
         "rawType": "int64",
         "type": "integer"
        },
        {
         "name": "movie",
         "rawType": "object",
         "type": "string"
        },
        {
         "name": "director_name",
         "rawType": "object",
         "type": "string"
        },
        {
         "name": "worldwide_gross",
         "rawType": "object",
         "type": "string"
        },
        {
         "name": "start_year",
         "rawType": "int64",
         "type": "integer"
        }
       ],
       "ref": "b5877f02-5b2b-46d5-bffa-c51f7a2f8b36",
       "rows": [
        [
         "0",
         "akira",
         "A.R. Murugadoss",
         "$19,585",
         "2016"
        ],
        [
         "1",
         "bully",
         "Aaron Alon",
         "$1,381,824",
         "2017"
        ],
        [
         "2",
         "restless",
         "Aaron Boltz",
         "$2,772,511",
         "2012"
        ],
        [
         "3",
         "circle",
         "Aaron Hann",
         "$10,024",
         "2015"
        ],
        [
         "4",
         "teen titans go! to the movies",
         "Aaron Horvath",
         "$51,620,593",
         "2018"
        ],
        [
         "5",
         "vampires suck",
         "Aaron Seltzer",
         "$81,424,988",
         "2010"
        ],
        [
         "6",
         "girls gone dead",
         "Aaron T. Wells",
         "$0",
         "2012"
        ],
        [
         "7",
         "virus",
         "Aashiq Abu",
         "$30,626,690",
         "2019"
        ],
        [
         "8",
         "i feel pretty",
         "Abby Kohn",
         "$91,553,797",
         "2018"
        ],
        [
         "9",
         "duma",
         "Abeer Zeibak Haddad",
         "$994,790",
         "2011"
        ],
        [
         "10",
         "father's day",
         "Adam Brooks",
         "$35,681,080",
         "2011"
        ],
        [
         "11",
         "road hard",
         "Adam Carolla",
         "$113,169",
         "2015"
        ],
        [
         "12",
         "frozen",
         "Adam Green",
         "$1,272,469,910",
         "2010"
        ],
        [
         "13",
         "vice",
         "Adam McKay",
         "$70,883,171",
         "2018"
        ],
        [
         "14",
         "the big short",
         "Adam McKay",
         "$133,162,752",
         "2015"
        ],
        [
         "15",
         "the other guys",
         "Adam McKay",
         "$170,936,470",
         "2010"
        ],
        [
         "16",
         "anchorman 2: the legend continues",
         "Adam McKay",
         "$172,185,754",
         "2013"
        ],
        [
         "17",
         "insidious: the last key",
         "Adam Robitel",
         "$167,885,588",
         "2018"
        ],
        [
         "18",
         "shut in",
         "Adam Schindler",
         "$11,360,665",
         "2015"
        ],
        [
         "19",
         "what men want",
         "Adam Shankman",
         "$69,911,903",
         "2019"
        ],
        [
         "20",
         "rock of ages",
         "Adam Shankman",
         "$61,031,932",
         "2012"
        ],
        [
         "21",
         "the island",
         "Adam Weingrod",
         "$163,018,913",
         "2017"
        ],
        [
         "22",
         "the island",
         "Adam Weingrod",
         "$15,716,828",
         "2017"
        ],
        [
         "23",
         "you're next",
         "Adam Wingard",
         "$26,887,177",
         "2011"
        ],
        [
         "24",
         "blair witch",
         "Adam Wingard",
         "$38,985,577",
         "2016"
        ],
        [
         "25",
         "coco",
         "Adrian Molina",
         "$798,008,101",
         "2017"
        ],
        [
         "26",
         "the importance of being earnest",
         "Adrian Noble",
         "$8,378,141",
         "2015"
        ],
        [
         "27",
         "visages villages",
         "Agnès Varda",
         "$4,015,686",
         "2017"
        ],
        [
         "28",
         "valentine",
         "Agus Pestol",
         "$20,384,136",
         "2017"
        ],
        [
         "29",
         "water",
         "Ahmad Bargouthi",
         "$11,322,573",
         "2012"
        ],
        [
         "30",
         "teefa in trouble",
         "Ahsan Rahim",
         "$98,806",
         "2018"
        ],
        [
         "31",
         "slender man",
         "Aisha Bulahova",
         "$51,723,644",
         "2013"
        ],
        [
         "32",
         "3",
         "Aishwarya Dhanush",
         "$295,492",
         "2012"
        ],
        [
         "33",
         "upside down",
         "Ajay Singh",
         "$26,387,039",
         "2012"
        ],
        [
         "34",
         "le havre",
         "Aki Kaurismäki",
         "$13,480,196",
         "2011"
        ],
        [
         "35",
         "popstar: never stop never stopping",
         "Akiva Schaffer",
         "$9,537,120",
         "2016"
        ],
        [
         "36",
         "the watch",
         "Akiva Schaffer",
         "$67,130,045",
         "2012"
        ],
        [
         "37",
         "teeth and blood",
         "Al Franklin",
         "$0",
         "2015"
        ],
        [
         "38",
         "gerry",
         "Alain Desrochers",
         "$719,699",
         "2011"
        ],
        [
         "39",
         "the back-up plan",
         "Alan Poul",
         "$75,281,179",
         "2010"
        ],
        [
         "40",
         "thor: the dark world",
         "Alan Taylor",
         "$644,602,516",
         "2013"
        ],
        [
         "41",
         "the book of eli",
         "Albert Hughes",
         "$158,750,817",
         "2010"
        ],
        [
         "42",
         "alpha",
         "Albert Hughes",
         "$99,624,873",
         "2018"
        ],
        [
         "43",
         "iris",
         "Albert Maysles",
         "$5,580,479",
         "2014"
        ],
        [
         "44",
         "regression",
         "Alejandro Amenábar",
         "$15,824,374",
         "2015"
        ],
        [
         "45",
         "the revenant",
         "Alejandro G. Iñárritu",
         "$532,938,302",
         "2015"
        ],
        [
         "46",
         "biutiful",
         "Alejandro G. Iñárritu",
         "$24,687,524",
         "2010"
        ],
        [
         "47",
         "birdman or (the unexpected virtue of ignorance)",
         "Alejandro G. Iñárritu",
         "$103,215,094",
         "2014"
        ],
        [
         "48",
         "little boy",
         "Alejandro Monteverde",
         "$17,769,299",
         "2015"
        ],
        [
         "49",
         "hitman: agent 47",
         "Aleksander Bach",
         "$82,182,803",
         "2015"
        ]
       ],
       "shape": {
        "columns": 4,
        "rows": 2448
       }
      },
      "text/html": [
       "<div>\n",
       "<style scoped>\n",
       "    .dataframe tbody tr th:only-of-type {\n",
       "        vertical-align: middle;\n",
       "    }\n",
       "\n",
       "    .dataframe tbody tr th {\n",
       "        vertical-align: top;\n",
       "    }\n",
       "\n",
       "    .dataframe thead th {\n",
       "        text-align: right;\n",
       "    }\n",
       "</style>\n",
       "<table border=\"1\" class=\"dataframe\">\n",
       "  <thead>\n",
       "    <tr style=\"text-align: right;\">\n",
       "      <th></th>\n",
       "      <th>movie</th>\n",
       "      <th>director_name</th>\n",
       "      <th>worldwide_gross</th>\n",
       "      <th>start_year</th>\n",
       "    </tr>\n",
       "  </thead>\n",
       "  <tbody>\n",
       "    <tr>\n",
       "      <th>0</th>\n",
       "      <td>akira</td>\n",
       "      <td>A.R. Murugadoss</td>\n",
       "      <td>$19,585</td>\n",
       "      <td>2016</td>\n",
       "    </tr>\n",
       "    <tr>\n",
       "      <th>1</th>\n",
       "      <td>bully</td>\n",
       "      <td>Aaron Alon</td>\n",
       "      <td>$1,381,824</td>\n",
       "      <td>2017</td>\n",
       "    </tr>\n",
       "    <tr>\n",
       "      <th>2</th>\n",
       "      <td>restless</td>\n",
       "      <td>Aaron Boltz</td>\n",
       "      <td>$2,772,511</td>\n",
       "      <td>2012</td>\n",
       "    </tr>\n",
       "    <tr>\n",
       "      <th>3</th>\n",
       "      <td>circle</td>\n",
       "      <td>Aaron Hann</td>\n",
       "      <td>$10,024</td>\n",
       "      <td>2015</td>\n",
       "    </tr>\n",
       "    <tr>\n",
       "      <th>4</th>\n",
       "      <td>teen titans go! to the movies</td>\n",
       "      <td>Aaron Horvath</td>\n",
       "      <td>$51,620,593</td>\n",
       "      <td>2018</td>\n",
       "    </tr>\n",
       "    <tr>\n",
       "      <th>...</th>\n",
       "      <td>...</td>\n",
       "      <td>...</td>\n",
       "      <td>...</td>\n",
       "      <td>...</td>\n",
       "    </tr>\n",
       "    <tr>\n",
       "      <th>2443</th>\n",
       "      <td>along the roadside</td>\n",
       "      <td>Zoran Lisinac</td>\n",
       "      <td>$3,234</td>\n",
       "      <td>2013</td>\n",
       "    </tr>\n",
       "    <tr>\n",
       "      <th>2444</th>\n",
       "      <td>prophecy</td>\n",
       "      <td>Zuri Rinpoche</td>\n",
       "      <td>$22,673,340</td>\n",
       "      <td>2015</td>\n",
       "    </tr>\n",
       "    <tr>\n",
       "      <th>2445</th>\n",
       "      <td>perfectos desconocidos</td>\n",
       "      <td>Álex de la Iglesia</td>\n",
       "      <td>$31,166,312</td>\n",
       "      <td>2017</td>\n",
       "    </tr>\n",
       "    <tr>\n",
       "      <th>2446</th>\n",
       "      <td>9</td>\n",
       "      <td>Éric Tessier</td>\n",
       "      <td>$48,559,999</td>\n",
       "      <td>2016</td>\n",
       "    </tr>\n",
       "    <tr>\n",
       "      <th>2447</th>\n",
       "      <td>ballerina</td>\n",
       "      <td>Éric Warin</td>\n",
       "      <td>$96,892,829</td>\n",
       "      <td>2016</td>\n",
       "    </tr>\n",
       "  </tbody>\n",
       "</table>\n",
       "<p>2448 rows × 4 columns</p>\n",
       "</div>"
      ],
      "text/plain": [
       "                              movie       director_name worldwide_gross  \\\n",
       "0                             akira     A.R. Murugadoss         $19,585   \n",
       "1                             bully          Aaron Alon      $1,381,824   \n",
       "2                          restless         Aaron Boltz      $2,772,511   \n",
       "3                            circle          Aaron Hann         $10,024   \n",
       "4     teen titans go! to the movies       Aaron Horvath     $51,620,593   \n",
       "...                             ...                 ...             ...   \n",
       "2443             along the roadside       Zoran Lisinac          $3,234   \n",
       "2444                       prophecy       Zuri Rinpoche     $22,673,340   \n",
       "2445         perfectos desconocidos  Álex de la Iglesia     $31,166,312   \n",
       "2446                              9        Éric Tessier     $48,559,999   \n",
       "2447                      ballerina          Éric Warin     $96,892,829   \n",
       "\n",
       "      start_year  \n",
       "0           2016  \n",
       "1           2017  \n",
       "2           2012  \n",
       "3           2015  \n",
       "4           2018  \n",
       "...          ...  \n",
       "2443        2013  \n",
       "2444        2015  \n",
       "2445        2017  \n",
       "2446        2016  \n",
       "2447        2016  \n",
       "\n",
       "[2448 rows x 4 columns]"
      ]
     },
     "execution_count": 39,
     "metadata": {},
     "output_type": "execute_result"
    }
   ],
   "source": [
    "# Create copies and cleaning\n",
    "tn_clean = tn_budget_df.copy()\n",
    "directors_clean = directors_df.rename(columns={'movie_title': 'movie'}).copy()\n",
    "\n",
    "# Apply transformations using map\n",
    "for df in [tn_clean, directors_clean]:\n",
    "    df['movie'] = df['movie'].str.lower()\n",
    "\n",
    "# Merge and process\n",
    "directors_fgross_df = (pd.merge(tn_clean[['movie', 'worldwide_gross']], \n",
    "                               directors_clean, \n",
    "                               on='movie', \n",
    "                               how='inner')\n",
    "                      .reindex(columns=['movie', 'director_name', 'worldwide_gross', 'start_year'])\n",
    "                      .sort_values('director_name')\n",
    "                      .reset_index(drop=True))\n",
    "directors_fgross_df"
   ]
  },
  {
   "cell_type": "markdown",
   "id": "bfec095b",
   "metadata": {},
   "source": [
    "### Aggregating Worldwide Gross by Director\n",
    "Since a director may have multiple films, we consolidate their worldwide gross earnings by summing the gross across all their movies. This aggregation produces a director-level total revenue figure, giving us a clearer view of each director's overall box office impact."
   ]
  },
  {
   "cell_type": "code",
   "execution_count": 40,
   "id": "241e4161",
   "metadata": {},
   "outputs": [
    {
     "data": {
      "application/vnd.microsoft.datawrangler.viewer.v0+json": {
       "columns": [
        {
         "name": "index",
         "rawType": "int64",
         "type": "integer"
        },
        {
         "name": "director_name",
         "rawType": "object",
         "type": "string"
        },
        {
         "name": "worldwide_gross",
         "rawType": "object",
         "type": "string"
        }
       ],
       "ref": "9036a7d8-77fb-4311-bb7f-a65667af047e",
       "rows": [
        [
         "0",
         "Anthony Russo",
         "3,902,605,502"
        ],
        [
         "1",
         "Joe Russo",
         "3,902,605,502"
        ],
        [
         "2",
         "Pierre Coffin",
         "3,713,745,331"
        ],
        [
         "3",
         "Christopher Nolan",
         "3,086,180,484"
        ],
        [
         "4",
         "Joss Whedon",
         "2,992,084,614"
        ],
        [
         "5",
         "Michael Bay",
         "2,911,998,250"
        ],
        [
         "6",
         "Jon Favreau",
         "2,614,568,760"
        ],
        [
         "7",
         "Francis Lawrence",
         "2,543,191,543"
        ],
        [
         "8",
         "Chris Renaud",
         "2,518,783,438"
        ],
        [
         "9",
         "Zack Snyder",
         "2,420,920,114"
        ],
        [
         "10",
         "Bryan Singer",
         "2,383,073,266"
        ],
        [
         "11",
         "Kyle Balda",
         "2,195,063,923"
        ],
        [
         "12",
         "Ridley Scott",
         "2,042,771,249"
        ],
        [
         "13",
         "Rich Moore",
         "2,040,224,832"
        ],
        [
         "14",
         "Sam Mendes",
         "1,990,147,904"
        ],
        [
         "15",
         "Peter Jackson",
         "1,977,370,423"
        ],
        [
         "16",
         "Steven Spielberg",
         "1,969,039,795"
        ],
        [
         "17",
         "Mike Mitchell",
         "1,950,822,209"
        ],
        [
         "18",
         "Guy Ritchie",
         "1,903,527,896"
        ],
        [
         "19",
         "Bill Condon",
         "1,873,785,010"
        ],
        [
         "20",
         "Lee Unkrich",
         "1,866,887,623"
        ],
        [
         "21",
         "David Yates",
         "1,803,524,964"
        ],
        [
         "22",
         "Kenneth Branagh",
         "1,724,769,528"
        ],
        [
         "23",
         "Tim Burton",
         "1,717,166,860"
        ],
        [
         "24",
         "Colin Trevorrow",
         "1,653,277,182"
        ],
        [
         "25",
         "Dean DeBlois",
         "1,628,715,545"
        ],
        [
         "26",
         "Byron Howard",
         "1,605,906,856"
        ],
        [
         "27",
         "Rob Marshall",
         "1,600,308,794"
        ],
        [
         "28",
         "Tom McGrath",
         "1,579,687,241"
        ],
        [
         "29",
         "James Wan",
         "1,564,765,667"
        ],
        [
         "30",
         "Ryan Coogler",
         "1,539,375,450"
        ],
        [
         "31",
         "Marc Webb",
         "1,503,851,259"
        ],
        [
         "32",
         "Brad Bird",
         "1,449,148,229"
        ],
        [
         "33",
         "F. Gary Gray",
         "1,440,129,248"
        ],
        [
         "34",
         "Genndy Tartakovsky",
         "1,375,086,072"
        ],
        [
         "35",
         "J.A. Bayona",
         "1,352,187,329"
        ],
        [
         "36",
         "Don Hall",
         "1,339,790,800"
        ],
        [
         "37",
         "Brad Peyton",
         "1,324,858,400"
        ],
        [
         "38",
         "Jake Kasdan",
         "1,306,014,699"
        ],
        [
         "39",
         "Andrew Stanton",
         "1,303,993,293"
        ],
        [
         "40",
         "James Mangold",
         "1,290,669,616"
        ],
        [
         "41",
         "Chris Williams",
         "1,289,645,193"
        ],
        [
         "42",
         "Mike Thurmeier",
         "1,281,921,819"
        ],
        [
         "43",
         "Jennifer Lee",
         "1,272,469,910"
        ],
        [
         "44",
         "Chris Buck",
         "1,272,469,910"
        ],
        [
         "45",
         "Adam Green",
         "1,272,469,910"
        ],
        [
         "46",
         "Clint Eastwood",
         "1,271,353,836"
        ],
        [
         "47",
         "Carlos Saldanha",
         "1,270,214,030"
        ],
        [
         "48",
         "Matt Reeves",
         "1,228,507,232"
        ],
        [
         "49",
         "Jennifer Yuh Nelson",
         "1,220,798,117"
        ]
       ],
       "shape": {
        "columns": 2,
        "rows": 1688
       }
      },
      "text/html": [
       "<div>\n",
       "<style scoped>\n",
       "    .dataframe tbody tr th:only-of-type {\n",
       "        vertical-align: middle;\n",
       "    }\n",
       "\n",
       "    .dataframe tbody tr th {\n",
       "        vertical-align: top;\n",
       "    }\n",
       "\n",
       "    .dataframe thead th {\n",
       "        text-align: right;\n",
       "    }\n",
       "</style>\n",
       "<table border=\"1\" class=\"dataframe\">\n",
       "  <thead>\n",
       "    <tr style=\"text-align: right;\">\n",
       "      <th></th>\n",
       "      <th>director_name</th>\n",
       "      <th>worldwide_gross</th>\n",
       "    </tr>\n",
       "  </thead>\n",
       "  <tbody>\n",
       "    <tr>\n",
       "      <th>0</th>\n",
       "      <td>Anthony Russo</td>\n",
       "      <td>3,902,605,502</td>\n",
       "    </tr>\n",
       "    <tr>\n",
       "      <th>1</th>\n",
       "      <td>Joe Russo</td>\n",
       "      <td>3,902,605,502</td>\n",
       "    </tr>\n",
       "    <tr>\n",
       "      <th>2</th>\n",
       "      <td>Pierre Coffin</td>\n",
       "      <td>3,713,745,331</td>\n",
       "    </tr>\n",
       "    <tr>\n",
       "      <th>3</th>\n",
       "      <td>Christopher Nolan</td>\n",
       "      <td>3,086,180,484</td>\n",
       "    </tr>\n",
       "    <tr>\n",
       "      <th>4</th>\n",
       "      <td>Joss Whedon</td>\n",
       "      <td>2,992,084,614</td>\n",
       "    </tr>\n",
       "    <tr>\n",
       "      <th>...</th>\n",
       "      <td>...</td>\n",
       "      <td>...</td>\n",
       "    </tr>\n",
       "    <tr>\n",
       "      <th>1683</th>\n",
       "      <td>Christian Sesma</td>\n",
       "      <td>0</td>\n",
       "    </tr>\n",
       "    <tr>\n",
       "      <th>1684</th>\n",
       "      <td>Deepak Rauniyar</td>\n",
       "      <td>0</td>\n",
       "    </tr>\n",
       "    <tr>\n",
       "      <th>1685</th>\n",
       "      <td>Russell Friedenberg</td>\n",
       "      <td>0</td>\n",
       "    </tr>\n",
       "    <tr>\n",
       "      <th>1686</th>\n",
       "      <td>Katie Aselton</td>\n",
       "      <td>0</td>\n",
       "    </tr>\n",
       "    <tr>\n",
       "      <th>1687</th>\n",
       "      <td>Brandon Trost</td>\n",
       "      <td>0</td>\n",
       "    </tr>\n",
       "  </tbody>\n",
       "</table>\n",
       "<p>1688 rows × 2 columns</p>\n",
       "</div>"
      ],
      "text/plain": [
       "            director_name worldwide_gross\n",
       "0           Anthony Russo   3,902,605,502\n",
       "1               Joe Russo   3,902,605,502\n",
       "2           Pierre Coffin   3,713,745,331\n",
       "3       Christopher Nolan   3,086,180,484\n",
       "4             Joss Whedon   2,992,084,614\n",
       "...                   ...             ...\n",
       "1683      Christian Sesma               0\n",
       "1684      Deepak Rauniyar               0\n",
       "1685  Russell Friedenberg               0\n",
       "1686        Katie Aselton               0\n",
       "1687        Brandon Trost               0\n",
       "\n",
       "[1688 rows x 2 columns]"
      ]
     },
     "execution_count": 40,
     "metadata": {},
     "output_type": "execute_result"
    }
   ],
   "source": [
    "# Remove commas, dollar sign and convert to float for calculation\n",
    "directors_fgross_df['worldwide_gross'] = directors_fgross_df['worldwide_gross'].replace(r',', '', regex=True)\n",
    "directors_fgross_df['worldwide_gross'] = directors_fgross_df['worldwide_gross'].replace(r'\\$', '', regex=True).astype(float)\n",
    "\n",
    "# Group by director_name and sum worldwide_gross\n",
    "agg_directors_df = directors_fgross_df.groupby('director_name', as_index=False)['worldwide_gross'].sum()\n",
    "\n",
    "# Sort by worldwide_gross in descending order\n",
    "agg_directors_df = agg_directors_df.sort_values(by='worldwide_gross', ascending=False).reset_index(drop=True)\n",
    "\n",
    "# Format numbers with commas \n",
    "agg_directors_df['worldwide_gross'] = agg_directors_df['worldwide_gross'].apply(lambda x: f\"{int(x):,}\")\n",
    "agg_directors_df"
   ]
  },
  {
   "cell_type": "markdown",
   "id": "b461c479",
   "metadata": {},
   "source": [
    "# DATA ANALYSIS."
   ]
  },
  {
   "cell_type": "markdown",
   "id": "f0bc7238",
   "metadata": {},
   "source": [
    " ### Understanding Genre–Rating Relationships\n",
    "Exploring how genres correlate with critics’ and audiences’ ratings is essential for making informed content decisions. By identifying which genres consistently earn high praise, studios can prioritize productions likely to achieve both critical acclaim and commercial success."
   ]
  },
  {
   "cell_type": "code",
   "execution_count": 41,
   "id": "be84f7b2",
   "metadata": {},
   "outputs": [
    {
     "data": {
      "image/png": "[encoded data removed]",
      "text/plain": [
       "<Figure size 1008x576 with 1 Axes>"
      ]
     },
     "metadata": {},
     "output_type": "display_data"
    }
   ],
   "source": [
    "sns.set(style='darkgrid')\n",
    "# Calculate the average rating of the two columns\n",
    "genre_rating_df['average_rating'] = genre_rating_df[['audience_rating', 'tomatometer_rating']].mean(axis=1)\n",
    "top_genres_df = genre_rating_df.sort_values('average_rating', ascending=False)  \n",
    "\n",
    "# Reshape the data to long format for easy plotting with Seaborn\n",
    "long_df = pd.melt(top_genres_df, id_vars='genres', value_vars=['audience_rating', 'tomatometer_rating'],\n",
    "                  var_name='rating_type', value_name='rating')\n",
    "\n",
    "# Set up the plot\n",
    "plt.figure(figsize=(14, 8))\n",
    "\n",
    "# Define the custom colors from the Blues_d palette\n",
    "custom_palette = {'audience_rating': '#89CFF0', 'tomatometer_rating': '#0047AB'}  # Light blue for audience, dark blue for critic\n",
    "\n",
    "# Plot the horizontal barplot with custom colors\n",
    "sns.barplot(y='genres', x='rating', hue='rating_type', data=long_df, palette=custom_palette, errorbar=None, alpha=0.7)\n",
    "\n",
    "# Customize the plot\n",
    "plt.title('Top Genres by Average Rating (Audience vs Critic)', fontsize=16, weight='bold')\n",
    "plt.xlabel('Rating', fontsize=12)\n",
    "plt.ylabel('Genres', fontsize=12)\n",
    "\n",
    "# Move the legend to the right side of the grid and update legend labels\n",
    "plt.legend(title='Rating Type', labels=['Audience', 'Critic'], loc='center left', bbox_to_anchor=(1, 0.5))\n",
    "\n",
    "sns.despine(left=True, bottom=True)  # Remove top and right spines for a cleaner look\n",
    "\n",
    "# Adjust layout to make room for the legend\n",
    "plt.tight_layout()\n",
    "\n",
    "# Show the plot\n",
    "plt.show()"
   ]
  },
  {
   "cell_type": "markdown",
   "id": "2e8a05e5",
   "metadata": {},
   "source": [
    "The bar chart provides a comparison of average audience and critic ratings across various genres. Key insights include:\n",
    "\n",
    "- `Documentaries` stand out as the highest-rated genre by critics, and they also perform very well with audiences.\n",
    "\n",
    "- `Anime & Manga`, `Special Interest`, and `Classics` are also among the top genres appreciated by both critics and audiences, indicating strong dual-market appeal.\n",
    "\n",
    "- `Television` receives relatively high audience ratings but lower critic scores, suggesting it may appeal more to popular tastes than to critical standards.\n",
    "\n",
    "- `Faith & Spirituality` and `Western` tend to score lower across both metrics, potentially indicating limited broad appeal or niche value.\n",
    "\n",
    "- `Sports & Fitness` shows an interesting case where audience ratings surpass critic scores, implying mass appeal despite critical reservations."
   ]
  },
  {
   "cell_type": "markdown",
   "id": "4878f12a",
   "metadata": {},
   "source": [
    "Below we are checking whether there is a Correlation Between Audience and Critic Ratings;"
   ]
  },
  {
   "cell_type": "code",
   "execution_count": 42,
   "id": "b3bb8f2c",
   "metadata": {},
   "outputs": [
    {
     "data": {
      "image/png": "[encoded data removed]",
      "text/plain": [
       "<Figure size 720x432 with 1 Axes>"
      ]
     },
     "metadata": {},
     "output_type": "display_data"
    }
   ],
   "source": [
    "plt.figure(figsize=(10, 6))\n",
    "\n",
    "# Create the scatterplot with a line of best fit\n",
    "sns.regplot(data=genre_rating_df, x='audience_rating', y='tomatometer_rating', \n",
    "            scatter_kws={'color': '#1f77b4', 'alpha': 0.7}, line_kws={'color': 'red', 'linewidth': 2})\n",
    "\n",
    "# Add a title and labels\n",
    "plt.title('Correlation between Audience Rating and Critic (Tomatometer) Rating', fontsize=16, weight='bold')\n",
    "plt.xlabel('Audience Rating', fontsize=12)\n",
    "plt.ylabel('Critic Rating (Tomatometer)', fontsize=12)\n",
    "\n",
    "# Show the plot\n",
    "plt.tight_layout()\n",
    "plt.show()"
   ]
  },
  {
   "cell_type": "markdown",
   "id": "63bc0fd6",
   "metadata": {},
   "source": [
    "## Genre–Ratings Correlation & Strategic Insights\n",
    "The scatter plot shows a clear positive relationship between audience and critic ratings:\n",
    "\n",
    "- Positive correlation: The regression line slopes upward, indicating that genres favored by viewers often receive strong critic reviews, supporting the idea that appealing to audiences and critics can go hand in hand. \n",
    "\n",
    "- Noticeable variance: Even with similar audience scores, critic ratings vary—highlighting the importance of considering both metrics rather than relying on audience sentiment alone.\n",
    "\n",
    "## Strategic Implications\n",
    "- Focus on dual-appeal genres:\n",
    "Prioritize genres like Documentary, Classics, and Anime & Manga, which consistently outrank the others in both audience and critic reception.\n",
    "- Leverage niche strengths:\n",
    "Films in Special Interest and Musical & Performing Arts may cater to smaller audiences but show high satisfaction among both critics and fans.\n",
    "- Be mindful of underperformers:\n",
    "Genres such as Faith & Spirituality and Western tend to score low across the board—investments here carry greater risk.\n",
    "- Blend genres carefully:\n",
    "Combining high-performing genres (e.g., a documentary-style classic or anime) can be powerful, but requires cautious execution to maintain genre strengths.\n",
    "- Capitalize on audience-driven genres:\n",
    "While Television and Sports & Fitness may not please critics, they often generate solid box office returns when marketed to enthusiastic fans."
   ]
  },
  {
   "cell_type": "markdown",
   "id": "a37e64f9",
   "metadata": {},
   "source": [
    "### Understanding Genre and ROI\n",
    "For any new studio or film investor, knowing which genres deliver the highest ROI is essential for making profitable, risk-aware choices. Unlike total box-office takings, ROI incorporates both revenue and cost—offering a clearer picture of financial efficiency"
   ]
  },
  {
   "cell_type": "code",
   "execution_count": 43,
   "id": "78b0db04",
   "metadata": {},
   "outputs": [
    {
     "data": {
      "image/png": "[encoded data removed]",
      "text/plain": [
       "<Figure size 1080x576 with 1 Axes>"
      ]
     },
     "metadata": {},
     "output_type": "display_data"
    }
   ],
   "source": [
    "# Use seaborn's built-in theming (works with all versions)\n",
    "sns.set_theme(style=\"darkgrid\")  # Use set_theme instead of set\n",
    "\n",
    "# Create figure\n",
    "plt.figure(figsize=(15, 8))\n",
    "\n",
    "# Sort data\n",
    "grouped_sorted = grouped_table.sort_values('normalized_ROI', ascending=False)\n",
    "\n",
    "# Create barplot\n",
    "ax = sns.barplot(data=grouped_sorted, x='normalized_ROI', y='genres', \n",
    "                 palette='Blues_d', alpha=0.8)\n",
    "\n",
    "# Add annotations\n",
    "for i, (roi, genre) in enumerate(zip(grouped_sorted['normalized_ROI'], grouped_sorted['genres'])):\n",
    "    ax.text(roi + 1, i, f'{roi:.1f}%', va='center', ha='left', fontsize=10, color='black')\n",
    "\n",
    "# Styling\n",
    "plt.title('Normalized ROI per Genre', fontsize=16, weight='bold')\n",
    "plt.xlabel('Normalized ROI (%)', fontsize=12)\n",
    "plt.ylabel('Genres', fontsize=12)\n",
    "\n",
    "# Remove spines\n",
    "sns.despine(left=True, bottom=True)\n",
    "\n",
    "plt.tight_layout()\n",
    "plt.show()"
   ]
  },
  {
   "cell_type": "markdown",
   "id": "6d791043",
   "metadata": {},
   "source": [
    "## Genre ROI Insights & Strategic Guidance\n",
    "### Key Observations from the Normalized ROI Chart\n",
    "- Cult Movies dominate with a significantly high normalized ROI (~31.3%), suggesting that niche appeal and dedicated fanbases can drive exceptional returns despite lower budgets.\n",
    "- Genres like Horror (6.5%), Special Interest (6.3%), and Documentary (5.8%) also deliver strong ROI, benefiting from focused audiences and manageable production costs.\n",
    "-Traditional blockbusters—Action & Adventure, Comedy, and Drama—have modest normalized ROI (~2%), likely due to significant production expenditures diluting profitability.\n",
    "-Surrounding the lower end are genres such as Western, Gay & Lesbian, and Anime & Manga, which show minimal ROI, indicating limited appeal or return relative to investment.\n",
    "\n",
    "## Strategic Implications\n",
    "- Embrace High-ROI Genres\n",
    "Cult, horror, and documentary films provide cost-effective, high-return entry points—ideal for new studios building financial momentum.\n",
    "- Balance Artistic Vision and Budget\n",
    "While dramas or action titles might have strong creative appeal, early-stage studios may benefit more from genres with proven ROI and lower costs.\n",
    "- Use Niche Genres Selectively\n",
    "Low-ROI genres might still serve branding or critical acclaim goals—but should be pursued with caution and supported by targeted audience research.\n",
    "- Stay Adaptive to Trends\n",
    "ROI performance can shift due to cultural changes or streaming trends; regular reassessment ensures alignment with emerging opportunities.\n",
    "- Leverage Audience-Driven Genres for Commercial Success\n",
    "Genres with mass appeal (like certain television and sports-themed content) may not win critical acclaim but can be profitable if marketed strategically.\n",
    "\n",
    "### Core Insight\n",
    "Targeting genres with strong ROI and loyal niche audiences allows studios to craft a sustainable production strategy—achieving alignment between artistic goals and financial health."
   ]
  },
  {
   "cell_type": "markdown",
   "id": "1e799e44",
   "metadata": {},
   "source": [
    "### Relationship between Language and Popularity\n",
    "When launching a new movie studio, it is important to analyze the relationship between a film's language and its popularity. Language plays a major role in determining audience reach, cultural accessibility, and commercial success. By identifying which languages dominate film production and how those languages relate to popularity, stakeholders can make informed decisions about language selection in content creation.\n",
    "\n",
    "Which Languages Dominate Movie Production?\n",
    "\n",
    "To start, we analyze the languages with the highest volume of movie production—an important indicator of a large audience base, mature distribution networks, and well-established infrastructure for casting, marketing, and localization.\n",
    "\n",
    "The bar plot below displays the top 15 most common movie languages by production volume"
   ]
  },
  {
   "cell_type": "code",
   "execution_count": 44,
   "id": "506b2797",
   "metadata": {},
   "outputs": [
    {
     "data": {
      "image/png": "[encoded data removed]",
      "text/plain": [
       "<Figure size 1008x504 with 1 Axes>"
      ]
     },
     "metadata": {},
     "output_type": "display_data"
    }
   ],
   "source": [
    "language_counts = tmdb_df['original_language'].value_counts().head(15)\n",
    "\n",
    "# Create the plot\n",
    "plt.figure(figsize=(14, 7))\n",
    "sns.set_palette('Blues_d')\n",
    "ax = sns.barplot(x=language_counts.index, y=language_counts.values)\n",
    "\n",
    "# Customize the plot\n",
    "plt.title('Top 15 Most Common Movie Languages by Production Volume', fontsize=16, pad=20)\n",
    "plt.xlabel('Language Code', fontsize=12)\n",
    "plt.ylabel('Number of Movies', fontsize=12)\n",
    "plt.xticks(rotation=45, ha='right')\n",
    "plt.show()"
   ]
  },
  {
   "cell_type": "markdown",
   "id": "4c5c4f3b",
   "metadata": {},
   "source": [
    "From the chart, we observe that:\n",
    "\n",
    "- English (en) dominates with over 20,000 movies, far exceeding any other language.\n",
    "\n",
    "- French (fr) and Spanish (es) follow as the second and third most common languages.\n",
    "\n",
    "This trend indicates that most studios tend to produce content in English, which may be due to its global acceptance, availability of talent, and ease of distribution. For a new studio, prioritizing English-language productions may align with industry norms and maximize early traction.\n",
    "\n",
    "## Popularity Distribution by Language: Beyond Just Volume\n",
    "\n",
    "While production volume tells us what studios are doing, it doesn’t necessarily reflect what audiences prefer. To gain deeper insight, we analyze how popularity scores vary across languages using a box plot, which also helps us detect outliers — movies that achieve exceptional popularity.\n",
    "\n",
    "Why focus on outliers?\n",
    "\n",
    "Languages with frequent or extreme outliers may occasionally produce global blockbusters.\n",
    "\n",
    "Outliers highlight potential for breakout success, even in languages with low production volume."
   ]
  },
  {
   "cell_type": "code",
   "execution_count": 45,
   "id": "8da91757",
   "metadata": {},
   "outputs": [
    {
     "data": {
      "image/png": "[encoded data removed]",
      "text/plain": [
       "<Figure size 864x432 with 1 Axes>"
      ]
     },
     "metadata": {},
     "output_type": "display_data"
    }
   ],
   "source": [
    "# Get top 20 languages by frequency in the dataset\n",
    "top_languages = tmdb_df['original_language'].value_counts().head(20).index\n",
    "\n",
    "# Create data dictionary mapping each language to its popularity values\n",
    "lang_data = {lang: tmdb_df[tmdb_df['original_language'] == lang]['popularity'].values \n",
    "             for lang in top_languages}\n",
    "\n",
    "# Convert nested dictionary data to a flat DataFrame format suitable for seaborn\n",
    "plot_data = []\n",
    "for lang, popularity_values in lang_data.items():\n",
    "    # Create a row for each movie's popularity score within each language\n",
    "    for pop in popularity_values:\n",
    "        plot_data.append({'original_language': lang, 'popularity': pop})\n",
    "\n",
    "# Convert list of dictionaries to DataFrame\n",
    "plot_df = pd.DataFrame(plot_data)\n",
    "\n",
    "# Create the visualization\n",
    "plt.figure(figsize=(12, 6))  # Set figure size for better readability\n",
    "\n",
    "# Create boxplot showing popularity distribution for each language\n",
    "sns.boxplot(data=plot_df, x='original_language', y='popularity', palette='Blues_d')\n",
    "\n",
    "# Add title and formatting\n",
    "plt.title(\"Popularity Distribution by Top 20 Languages\")\n",
    "plt.yscale('log')  # Use logarithmic scale for better visualization of wide range\n",
    "plt.xticks(rotation=45)  # Rotate x-axis labels for better readability\n",
    "plt.tight_layout()  # Adjust spacing to prevent label cutoff\n",
    "\n",
    "# Display the plot\n",
    "plt.show()"
   ]
  },
  {
   "cell_type": "markdown",
   "id": "dfe5e870",
   "metadata": {},
   "source": [
    "### Language & Popularity Insights\n",
    "From the chart, we draw several key observations:\n",
    "\n",
    "- English (en) leads in production and popularity, with numerous high-performing outliers—indicating its dominance and capacity to produce globally resonant films. \n",
    "academia.edu\n",
    "\n",
    "- Japanese (ja), Spanish (es), French (fr), and Russian (ru) also exhibit strong outliers, suggesting that despite smaller overall production volumes, they can produce standout popular films. \n",
    "academia.edu\n",
    "\n",
    "### Strategic Takeaways\n",
    "- Lead with English: Leveraging English-language production remains the most reliable route for reaching broad audiences and achieving high popularity at scale.\n",
    "- Invest in international outliers: Languages like French, Spanish, Japanese, and Russian are capable of producing high-impact, niche successes—it’s worthwhile for the studio to explore occasional multilingual or international projects.\n",
    "- Stay adaptive: Popularity trends evolve—tracking language-based audience preferences ensures the studio continually aligns content with emerging demand.\n",
    "- By aligning production strategy with both market saturation and popularity impact, the studio can achieve global appeal and a strong competitive advantage right from the outset."
   ]
  },
  {
   "cell_type": "markdown",
   "id": "360f938a",
   "metadata": {},
   "source": [
    " ### Understanding the Link: Directors & Worldwide Gross Earnings\n",
    "“To inform our production strategy, we assess how a director’s involvement affects a film’s financial success. Directors shape the creative vision, which can significantly influence both audience reception and global box office revenue.” \n",
    "academia.edu\n",
    "#### Why This Matters\n",
    "Directors often guide the narrative and tone—factors that can heavily impact a film’s commercial appeal.\n",
    "\n",
    "By analyzing worldwide gross totals per director, we can identify filmmakers who consistently deliver strong financial performance.\n",
    "\n",
    "#### Strategic Takeaway\n",
    "By focusing collaborations on directors with proven high-grossing track records, the studio aligns its output with box office success—advancing its goal of maximizing ROI from the start."
   ]
  },
  {
   "cell_type": "code",
   "execution_count": 47,
   "id": "c9a85806",
   "metadata": {},
   "outputs": [
    {
     "data": {
      "application/vnd.plotly.v1+json": {
       "config": {
        "plotlyServerURL": "https://plot.ly"
       },
       "data": [
        {
         "alignmentgroup": "True",
         "customdata": [
          [
           "3,902,605,502"
          ],
          [
           "3,902,605,502"
          ]
         ],
         "hovertemplate": "<b>%{x}</b><br>Worldwide Gross: $%{y:,.0f}<br><extra></extra>",
         "legendgroup": "3,902,605,502",
         "marker": {
          "color": "#636efa"
         },
         "name": "3,902,605,502",
         "offsetgroup": "3,902,605,502",
         "orientation": "v",
         "showlegend": true,
         "textposition": "auto",
         "type": "bar",
         "x": [
          "Anthony Russo",
          "Joe Russo"
         ],
         "xaxis": "x",
         "y": [
          "3,902,605,502",
          "3,902,605,502"
         ],
         "yaxis": "y"
        },
        {
         "alignmentgroup": "True",
         "customdata": [
          [
           "3,713,745,331"
          ]
         ],
         "hovertemplate": "<b>%{x}</b><br>Worldwide Gross: $%{y:,.0f}<br><extra></extra>",
         "legendgroup": "3,713,745,331",
         "marker": {
          "color": "#EF553B"
         },
         "name": "3,713,745,331",
         "offsetgroup": "3,713,745,331",
         "orientation": "v",
         "showlegend": true,
         "textposition": "auto",
         "type": "bar",
         "x": [
          "Pierre Coffin"
         ],
         "xaxis": "x",
         "y": [
          "3,713,745,331"
         ],
         "yaxis": "y"
        },
        {
         "alignmentgroup": "True",
         "customdata": [
          [
           "3,086,180,484"
          ]
         ],
         "hovertemplate": "<b>%{x}</b><br>Worldwide Gross: $%{y:,.0f}<br><extra></extra>",
         "legendgroup": "3,086,180,484",
         "marker": {
          "color": "#00cc96"
         },
         "name": "3,086,180,484",
         "offsetgroup": "3,086,180,484",
         "orientation": "v",
         "showlegend": true,
         "textposition": "auto",
         "type": "bar",
         "x": [
          "Christopher Nolan"
         ],
         "xaxis": "x",
         "y": [
          "3,086,180,484"
         ],
         "yaxis": "y"
        },
        {
         "alignmentgroup": "True",
         "customdata": [
          [
           "2,992,084,614"
          ]
         ],
         "hovertemplate": "<b>%{x}</b><br>Worldwide Gross: $%{y:,.0f}<br><extra></extra>",
         "legendgroup": "2,992,084,614",
         "marker": {
          "color": "#ab63fa"
         },
         "name": "2,992,084,614",
         "offsetgroup": "2,992,084,614",
         "orientation": "v",
         "showlegend": true,
         "textposition": "auto",
         "type": "bar",
         "x": [
          "Joss Whedon"
         ],
         "xaxis": "x",
         "y": [
          "2,992,084,614"
         ],
         "yaxis": "y"
        },
        {
         "alignmentgroup": "True",
         "customdata": [
          [
           "2,911,998,250"
          ]
         ],
         "hovertemplate": "<b>%{x}</b><br>Worldwide Gross: $%{y:,.0f}<br><extra></extra>",
         "legendgroup": "2,911,998,250",
         "marker": {
          "color": "#FFA15A"
         },
         "name": "2,911,998,250",
         "offsetgroup": "2,911,998,250",
         "orientation": "v",
         "showlegend": true,
         "textposition": "auto",
         "type": "bar",
         "x": [
          "Michael Bay"
         ],
         "xaxis": "x",
         "y": [
          "2,911,998,250"
         ],
         "yaxis": "y"
        },
        {
         "alignmentgroup": "True",
         "customdata": [
          [
           "2,614,568,760"
          ]
         ],
         "hovertemplate": "<b>%{x}</b><br>Worldwide Gross: $%{y:,.0f}<br><extra></extra>",
         "legendgroup": "2,614,568,760",
         "marker": {
          "color": "#19d3f3"
         },
         "name": "2,614,568,760",
         "offsetgroup": "2,614,568,760",
         "orientation": "v",
         "showlegend": true,
         "textposition": "auto",
         "type": "bar",
         "x": [
          "Jon Favreau"
         ],
         "xaxis": "x",
         "y": [
          "2,614,568,760"
         ],
         "yaxis": "y"
        },
        {
         "alignmentgroup": "True",
         "customdata": [
          [
           "2,543,191,543"
          ]
         ],
         "hovertemplate": "<b>%{x}</b><br>Worldwide Gross: $%{y:,.0f}<br><extra></extra>",
         "legendgroup": "2,543,191,543",
         "marker": {
          "color": "#FF6692"
         },
         "name": "2,543,191,543",
         "offsetgroup": "2,543,191,543",
         "orientation": "v",
         "showlegend": true,
         "textposition": "auto",
         "type": "bar",
         "x": [
          "Francis Lawrence"
         ],
         "xaxis": "x",
         "y": [
          "2,543,191,543"
         ],
         "yaxis": "y"
        },
        {
         "alignmentgroup": "True",
         "customdata": [
          [
           "2,518,783,438"
          ]
         ],
         "hovertemplate": "<b>%{x}</b><br>Worldwide Gross: $%{y:,.0f}<br><extra></extra>",
         "legendgroup": "2,518,783,438",
         "marker": {
          "color": "#B6E880"
         },
         "name": "2,518,783,438",
         "offsetgroup": "2,518,783,438",
         "orientation": "v",
         "showlegend": true,
         "textposition": "auto",
         "type": "bar",
         "x": [
          "Chris Renaud"
         ],
         "xaxis": "x",
         "y": [
          "2,518,783,438"
         ],
         "yaxis": "y"
        },
        {
         "alignmentgroup": "True",
         "customdata": [
          [
           "2,420,920,114"
          ]
         ],
         "hovertemplate": "<b>%{x}</b><br>Worldwide Gross: $%{y:,.0f}<br><extra></extra>",
         "legendgroup": "2,420,920,114",
         "marker": {
          "color": "#FF97FF"
         },
         "name": "2,420,920,114",
         "offsetgroup": "2,420,920,114",
         "orientation": "v",
         "showlegend": true,
         "textposition": "auto",
         "type": "bar",
         "x": [
          "Zack Snyder"
         ],
         "xaxis": "x",
         "y": [
          "2,420,920,114"
         ],
         "yaxis": "y"
        }
       ],
       "layout": {
        "barmode": "relative",
        "font": {
         "size": 12
        },
        "height": 600,
        "legend": {
         "title": {
          "text": "worldwide_gross"
         },
         "tracegroupgap": 0
        },
        "template": {
         "data": {
          "bar": [
           {
            "error_x": {
             "color": "#2a3f5f"
            },
            "error_y": {
             "color": "#2a3f5f"
            },
            "marker": {
             "line": {
              "color": "#E5ECF6",
              "width": 0.5
             }
            },
            "type": "bar"
           }
          ],
          "barpolar": [
           {
            "marker": {
             "line": {
              "color": "#E5ECF6",
              "width": 0.5
             }
            },
            "type": "barpolar"
           }
          ],
          "carpet": [
           {
            "aaxis": {
             "endlinecolor": "#2a3f5f",
             "gridcolor": "white",
             "linecolor": "white",
             "minorgridcolor": "white",
             "startlinecolor": "#2a3f5f"
            },
            "baxis": {
             "endlinecolor": "#2a3f5f",
             "gridcolor": "white",
             "linecolor": "white",
             "minorgridcolor": "white",
             "startlinecolor": "#2a3f5f"
            },
            "type": "carpet"
           }
          ],
          "choropleth": [
           {
            "colorbar": {
             "outlinewidth": 0,
             "ticks": ""
            },
            "type": "choropleth"
           }
          ],
          "contour": [
           {
            "colorbar": {
             "outlinewidth": 0,
             "ticks": ""
            },
            "colorscale": [
             [
              0,
              "#0d0887"
             ],
             [
              0.1111111111111111,
              "#46039f"
             ],
             [
              0.2222222222222222,
              "#7201a8"
             ],
             [
              0.3333333333333333,
              "#9c179e"
             ],
             [
              0.4444444444444444,
              "#bd3786"
             ],
             [
              0.5555555555555556,
              "#d8576b"
             ],
             [
              0.6666666666666666,
              "#ed7953"
             ],
             [
              0.7777777777777778,
              "#fb9f3a"
             ],
             [
              0.8888888888888888,
              "#fdca26"
             ],
             [
              1,
              "#f0f921"
             ]
            ],
            "type": "contour"
           }
          ],
          "contourcarpet": [
           {
            "colorbar": {
             "outlinewidth": 0,
             "ticks": ""
            },
            "type": "contourcarpet"
           }
          ],
          "heatmap": [
           {
            "colorbar": {
             "outlinewidth": 0,
             "ticks": ""
            },
            "colorscale": [
             [
              0,
              "#0d0887"
             ],
             [
              0.1111111111111111,
              "#46039f"
             ],
             [
              0.2222222222222222,
              "#7201a8"
             ],
             [
              0.3333333333333333,
              "#9c179e"
             ],
             [
              0.4444444444444444,
              "#bd3786"
             ],
             [
              0.5555555555555556,
              "#d8576b"
             ],
             [
              0.6666666666666666,
              "#ed7953"
             ],
             [
              0.7777777777777778,
              "#fb9f3a"
             ],
             [
              0.8888888888888888,
              "#fdca26"
             ],
             [
              1,
              "#f0f921"
             ]
            ],
            "type": "heatmap"
           }
          ],
          "heatmapgl": [
           {
            "colorbar": {
             "outlinewidth": 0,
             "ticks": ""
            },
            "colorscale": [
             [
              0,
              "#0d0887"
             ],
             [
              0.1111111111111111,
              "#46039f"
             ],
             [
              0.2222222222222222,
              "#7201a8"
             ],
             [
              0.3333333333333333,
              "#9c179e"
             ],
             [
              0.4444444444444444,
              "#bd3786"
             ],
             [
              0.5555555555555556,
              "#d8576b"
             ],
             [
              0.6666666666666666,
              "#ed7953"
             ],
             [
              0.7777777777777778,
              "#fb9f3a"
             ],
             [
              0.8888888888888888,
              "#fdca26"
             ],
             [
              1,
              "#f0f921"
             ]
            ],
            "type": "heatmapgl"
           }
          ],
          "histogram": [
           {
            "marker": {
             "colorbar": {
              "outlinewidth": 0,
              "ticks": ""
             }
            },
            "type": "histogram"
           }
          ],
          "histogram2d": [
           {
            "colorbar": {
             "outlinewidth": 0,
             "ticks": ""
            },
            "colorscale": [
             [
              0,
              "#0d0887"
             ],
             [
              0.1111111111111111,
              "#46039f"
             ],
             [
              0.2222222222222222,
              "#7201a8"
             ],
             [
              0.3333333333333333,
              "#9c179e"
             ],
             [
              0.4444444444444444,
              "#bd3786"
             ],
             [
              0.5555555555555556,
              "#d8576b"
             ],
             [
              0.6666666666666666,
              "#ed7953"
             ],
             [
              0.7777777777777778,
              "#fb9f3a"
             ],
             [
              0.8888888888888888,
              "#fdca26"
             ],
             [
              1,
              "#f0f921"
             ]
            ],
            "type": "histogram2d"
           }
          ],
          "histogram2dcontour": [
           {
            "colorbar": {
             "outlinewidth": 0,
             "ticks": ""
            },
            "colorscale": [
             [
              0,
              "#0d0887"
             ],
             [
              0.1111111111111111,
              "#46039f"
             ],
             [
              0.2222222222222222,
              "#7201a8"
             ],
             [
              0.3333333333333333,
              "#9c179e"
             ],
             [
              0.4444444444444444,
              "#bd3786"
             ],
             [
              0.5555555555555556,
              "#d8576b"
             ],
             [
              0.6666666666666666,
              "#ed7953"
             ],
             [
              0.7777777777777778,
              "#fb9f3a"
             ],
             [
              0.8888888888888888,
              "#fdca26"
             ],
             [
              1,
              "#f0f921"
             ]
            ],
            "type": "histogram2dcontour"
           }
          ],
          "mesh3d": [
           {
            "colorbar": {
             "outlinewidth": 0,
             "ticks": ""
            },
            "type": "mesh3d"
           }
          ],
          "parcoords": [
           {
            "line": {
             "colorbar": {
              "outlinewidth": 0,
              "ticks": ""
             }
            },
            "type": "parcoords"
           }
          ],
          "pie": [
           {
            "automargin": true,
            "type": "pie"
           }
          ],
          "scatter": [
           {
            "marker": {
             "colorbar": {
              "outlinewidth": 0,
              "ticks": ""
             }
            },
            "type": "scatter"
           }
          ],
          "scatter3d": [
           {
            "line": {
             "colorbar": {
              "outlinewidth": 0,
              "ticks": ""
             }
            },
            "marker": {
             "colorbar": {
              "outlinewidth": 0,
              "ticks": ""
             }
            },
            "type": "scatter3d"
           }
          ],
          "scattercarpet": [
           {
            "marker": {
             "colorbar": {
              "outlinewidth": 0,
              "ticks": ""
             }
            },
            "type": "scattercarpet"
           }
          ],
          "scattergeo": [
           {
            "marker": {
             "colorbar": {
              "outlinewidth": 0,
              "ticks": ""
             }
            },
            "type": "scattergeo"
           }
          ],
          "scattergl": [
           {
            "marker": {
             "colorbar": {
              "outlinewidth": 0,
              "ticks": ""
             }
            },
            "type": "scattergl"
           }
          ],
          "scattermapbox": [
           {
            "marker": {
             "colorbar": {
              "outlinewidth": 0,
              "ticks": ""
             }
            },
            "type": "scattermapbox"
           }
          ],
          "scatterpolar": [
           {
            "marker": {
             "colorbar": {
              "outlinewidth": 0,
              "ticks": ""
             }
            },
            "type": "scatterpolar"
           }
          ],
          "scatterpolargl": [
           {
            "marker": {
             "colorbar": {
              "outlinewidth": 0,
              "ticks": ""
             }
            },
            "type": "scatterpolargl"
           }
          ],
          "scatterternary": [
           {
            "marker": {
             "colorbar": {
              "outlinewidth": 0,
              "ticks": ""
             }
            },
            "type": "scatterternary"
           }
          ],
          "surface": [
           {
            "colorbar": {
             "outlinewidth": 0,
             "ticks": ""
            },
            "colorscale": [
             [
              0,
              "#0d0887"
             ],
             [
              0.1111111111111111,
              "#46039f"
             ],
             [
              0.2222222222222222,
              "#7201a8"
             ],
             [
              0.3333333333333333,
              "#9c179e"
             ],
             [
              0.4444444444444444,
              "#bd3786"
             ],
             [
              0.5555555555555556,
              "#d8576b"
             ],
             [
              0.6666666666666666,
              "#ed7953"
             ],
             [
              0.7777777777777778,
              "#fb9f3a"
             ],
             [
              0.8888888888888888,
              "#fdca26"
             ],
             [
              1,
              "#f0f921"
             ]
            ],
            "type": "surface"
           }
          ],
          "table": [
           {
            "cells": {
             "fill": {
              "color": "#EBF0F8"
             },
             "line": {
              "color": "white"
             }
            },
            "header": {
             "fill": {
              "color": "#C8D4E3"
             },
             "line": {
              "color": "white"
             }
            },
            "type": "table"
           }
          ]
         },
         "layout": {
          "annotationdefaults": {
           "arrowcolor": "#2a3f5f",
           "arrowhead": 0,
           "arrowwidth": 1
          },
          "coloraxis": {
           "colorbar": {
            "outlinewidth": 0,
            "ticks": ""
           }
          },
          "colorscale": {
           "diverging": [
            [
             0,
             "#8e0152"
            ],
            [
             0.1,
             "#c51b7d"
            ],
            [
             0.2,
             "#de77ae"
            ],
            [
             0.3,
             "#f1b6da"
            ],
            [
             0.4,
             "#fde0ef"
            ],
            [
             0.5,
             "#f7f7f7"
            ],
            [
             0.6,
             "#e6f5d0"
            ],
            [
             0.7,
             "#b8e186"
            ],
            [
             0.8,
             "#7fbc41"
            ],
            [
             0.9,
             "#4d9221"
            ],
            [
             1,
             "#276419"
            ]
           ],
           "sequential": [
            [
             0,
             "#0d0887"
            ],
            [
             0.1111111111111111,
             "#46039f"
            ],
            [
             0.2222222222222222,
             "#7201a8"
            ],
            [
             0.3333333333333333,
             "#9c179e"
            ],
            [
             0.4444444444444444,
             "#bd3786"
            ],
            [
             0.5555555555555556,
             "#d8576b"
            ],
            [
             0.6666666666666666,
             "#ed7953"
            ],
            [
             0.7777777777777778,
             "#fb9f3a"
            ],
            [
             0.8888888888888888,
             "#fdca26"
            ],
            [
             1,
             "#f0f921"
            ]
           ],
           "sequentialminus": [
            [
             0,
             "#0d0887"
            ],
            [
             0.1111111111111111,
             "#46039f"
            ],
            [
             0.2222222222222222,
             "#7201a8"
            ],
            [
             0.3333333333333333,
             "#9c179e"
            ],
            [
             0.4444444444444444,
             "#bd3786"
            ],
            [
             0.5555555555555556,
             "#d8576b"
            ],
            [
             0.6666666666666666,
             "#ed7953"
            ],
            [
             0.7777777777777778,
             "#fb9f3a"
            ],
            [
             0.8888888888888888,
             "#fdca26"
            ],
            [
             1,
             "#f0f921"
            ]
           ]
          },
          "colorway": [
           "#636efa",
           "#EF553B",
           "#00cc96",
           "#ab63fa",
           "#FFA15A",
           "#19d3f3",
           "#FF6692",
           "#B6E880",
           "#FF97FF",
           "#FECB52"
          ],
          "font": {
           "color": "#2a3f5f"
          },
          "geo": {
           "bgcolor": "white",
           "lakecolor": "white",
           "landcolor": "#E5ECF6",
           "showlakes": true,
           "showland": true,
           "subunitcolor": "white"
          },
          "hoverlabel": {
           "align": "left"
          },
          "hovermode": "closest",
          "mapbox": {
           "style": "light"
          },
          "paper_bgcolor": "white",
          "plot_bgcolor": "#E5ECF6",
          "polar": {
           "angularaxis": {
            "gridcolor": "white",
            "linecolor": "white",
            "ticks": ""
           },
           "bgcolor": "#E5ECF6",
           "radialaxis": {
            "gridcolor": "white",
            "linecolor": "white",
            "ticks": ""
           }
          },
          "scene": {
           "xaxis": {
            "backgroundcolor": "#E5ECF6",
            "gridcolor": "white",
            "gridwidth": 2,
            "linecolor": "white",
            "showbackground": true,
            "ticks": "",
            "zerolinecolor": "white"
           },
           "yaxis": {
            "backgroundcolor": "#E5ECF6",
            "gridcolor": "white",
            "gridwidth": 2,
            "linecolor": "white",
            "showbackground": true,
            "ticks": "",
            "zerolinecolor": "white"
           },
           "zaxis": {
            "backgroundcolor": "#E5ECF6",
            "gridcolor": "white",
            "gridwidth": 2,
            "linecolor": "white",
            "showbackground": true,
            "ticks": "",
            "zerolinecolor": "white"
           }
          },
          "shapedefaults": {
           "line": {
            "color": "#2a3f5f"
           }
          },
          "ternary": {
           "aaxis": {
            "gridcolor": "white",
            "linecolor": "white",
            "ticks": ""
           },
           "baxis": {
            "gridcolor": "white",
            "linecolor": "white",
            "ticks": ""
           },
           "bgcolor": "#E5ECF6",
           "caxis": {
            "gridcolor": "white",
            "linecolor": "white",
            "ticks": ""
           }
          },
          "title": {
           "x": 0.05
          },
          "xaxis": {
           "automargin": true,
           "gridcolor": "white",
           "linecolor": "white",
           "ticks": "",
           "title": {
            "standoff": 15
           },
           "zerolinecolor": "white",
           "zerolinewidth": 2
          },
          "yaxis": {
           "automargin": true,
           "gridcolor": "white",
           "linecolor": "white",
           "ticks": "",
           "title": {
            "standoff": 15
           },
           "zerolinecolor": "white",
           "zerolinewidth": 2
          }
         }
        },
        "title": {
         "font": {
          "size": 16
         },
         "text": "Top 10 Directors by Worldwide Gross"
        },
        "width": 1000,
        "xaxis": {
         "anchor": "y",
         "domain": [
          0,
          1
         ],
         "tickangle": -45,
         "title": {
          "text": "Director Name"
         }
        },
        "yaxis": {
         "anchor": "x",
         "categoryarray": [
          "2,420,920,114",
          "2,518,783,438",
          "2,543,191,543",
          "2,614,568,760",
          "2,911,998,250",
          "2,992,084,614",
          "3,086,180,484",
          "3,713,745,331",
          "3,902,605,502"
         ],
         "categoryorder": "array",
         "domain": [
          0,
          1
         ],
         "tickformat": "$,.0f",
         "title": {
          "standoff": 25,
          "text": "Worldwide Gross ($)"
         }
        }
       }
      }
     },
     "metadata": {},
     "output_type": "display_data"
    }
   ],
   "source": [
    "import plotly.express as px\n",
    "\n",
    "# Select top 10 directors and sort from highest to lowest gross\n",
    "# Note: Remove iloc[::-1] since we want highest to lowest order\n",
    "top_10_directors = agg_directors_df.head(10)\n",
    "\n",
    "# Sort explicitly by worldwide_gross in descending order to ensure highest to lowest\n",
    "top_10_directors = top_10_directors.sort_values('worldwide_gross', ascending=False)\n",
    "\n",
    "# Create interactive bar chart using Plotly Express\n",
    "fig = px.bar(\n",
    "    top_10_directors,                    # DataFrame containing the data\n",
    "    x='director_name',                   # Column for x-axis (director names)\n",
    "    y='worldwide_gross',                 # Column for y-axis (gross earnings)\n",
    "    title='Top 10 Directors by Worldwide Gross',  # Chart title\n",
    "    color='worldwide_gross',             # Color bars based on gross values\n",
    "    color_continuous_scale='Blues',      # Use blue color gradient\n",
    "    hover_data=['worldwide_gross']       # Show gross value on hover\n",
    ")\n",
    "\n",
    "# Customize the layout and appearance\n",
    "fig.update_layout(\n",
    "    width=1000,                         # Set chart width in pixels\n",
    "    height=600,                         # Set chart height in pixels\n",
    "    xaxis_title='Director Name',        # Label for x-axis\n",
    "    yaxis_title='Worldwide Gross ($)',  # Label for y-axis with currency symbol\n",
    "    font=dict(size=12),                 # Set default font size\n",
    "    title_font_size=16,                 # Make title larger\n",
    "    xaxis_tickangle=-45                 # Rotate x-axis labels for better readability\n",
    ")\n",
    "\n",
    "# Format y-axis to show currency values in billions/millions\n",
    "fig.update_layout(\n",
    "    yaxis=dict(\n",
    "        tickformat='$,.0f',             # Format as currency with commas\n",
    "        title_standoff=25               # Add space between axis and title\n",
    "    )\n",
    ")\n",
    "\n",
    "# Update hover template to show formatted currency\n",
    "fig.update_traces(\n",
    "    hovertemplate='<b>%{x}</b><br>' +   # Director name in bold\n",
    "                  'Worldwide Gross: $%{y:,.0f}<br>' +  # Formatted gross amount\n",
    "                  '<extra></extra>'      # Remove default trace box\n",
    ")\n",
    "\n",
    "# Display the interactive chart\n",
    "fig.show()\n",
    "\n"
   ]
  },
  {
   "cell_type": "markdown",
   "id": "707dc7d8",
   "metadata": {},
   "source": [
    "The bar chart highlights the ten most commercially successful directors based on worldwide gross revenue. Key observations include:\n",
    "\n",
    "- Joe Russo and Anthony Russo dominate the chart, both nearing or exceeding the $3.9 billion mark. This reflects their significant contributions to blockbuster franchises, particularly within the Marvel Cinematic Universe.\n",
    "\n",
    "- Pierre Coffin, known for animated films like Despicable Me and Minions, ranks just below, indicating the strong earning potential of animated family films.\n",
    "\n",
    "- Christopher Nolan stands out as the only director in the top tier known for original, high-concept blockbusters, suggesting that originality paired with cinematic scale can also yield massive returns.\n",
    "\n",
    "- Directors like Michael Bay, Joss Whedon, and Jon Favreau reflect the commercial power of action-heavy, effects-driven films and franchise-building.\n",
    "\n",
    "- Overall, the data shows a clear trend: franchise integration, visual spectacle, and genre appeal (especially action, animation, and superhero films) consistently lead to high global box office success including amazing directors.\n",
    "\n",
    "Strategic Implications:\n",
    "\n",
    "- Leverage Proven Commercial Directors: Prioritize collaboration with or emulation of directors who have a proven track record of generating high worldwide gross, such as the Russo brothers, Christopher Nolan, and Michael Bay.\n",
    "\n",
    "- Recognize the Value of Director Branding: Certain directors—especially those associated with major box office hits—carry brand equity that can drive audience interest and investment potential.\n",
    "\n",
    "- Explore High-Grossing Collaboration Models: The presence of both Russo brothers individually suggests that co-directing or creative partnerships can lead to significant commercial outcomes when well executed.\n",
    "\n",
    "- Balance Franchise Experience and Standalone Success: While many directors on the list gained success through major franchises, Christopher Nolan’s presence indicates that original content with strong direction can also achieve global financial success.\n",
    "\n",
    "- Monitor Talent That Aligns With Studio Goals: For a new studio, targeting rising or mid-tier directors with similar styles or genres to those on the list could be a scalable and cost-effective way to replicate success patterns.\n",
    "\n",
    "We should also explore the yearly gross revenues of the top 5 directors to assess whether their commercial success is driven by past achievements or if they are maintaining, declining, or improving over time. This analysis will provide insights into the sustainability of their success and how their recent films compare to earlier ones, highlighting whether their box office appeal remains consistent."
   ]
  },
  {
   "cell_type": "code",
   "execution_count": 48,
   "id": "549766df",
   "metadata": {},
   "outputs": [
    {
     "data": {
      "image/png": "[encoded data removed]",
      "text/plain": [
       "<Figure size 864x432 with 1 Axes>"
      ]
     },
     "metadata": {},
     "output_type": "display_data"
    }
   ],
   "source": [
    "# Data Preparation for Over Time Analysis of Directors\n",
    "# Get top 5 directors (first 5 entries from already sorted agg_directors_df)\n",
    "top_5_directors = agg_directors_df.head(5)['director_name'].tolist()\n",
    "\n",
    "# Filter directors_fgross_df for top 5 directors\n",
    "filtered_df = directors_fgross_df[directors_fgross_df['director_name'].isin(top_5_directors)].copy()\n",
    "\n",
    "# Clean 'worldwide_gross' column (remove $ and commas, convert to float)\n",
    "filtered_df['worldwide_gross'] = (\n",
    "    filtered_df['worldwide_gross']\n",
    "    .replace({r'\\$': '', ',': ''}, regex=True)\n",
    "    .astype(float)\n",
    ")\n",
    "\n",
    "# Group by director and start_year\n",
    "grouped = (\n",
    "    filtered_df\n",
    "    .groupby(['director_name', 'start_year'])['worldwide_gross']\n",
    "    .sum()\n",
    "    .reset_index()\n",
    ")\n",
    "# Plot the line chart\n",
    "\n",
    "plt.figure(figsize=(12, 6))\n",
    "sns.lineplot(\n",
    "    data=grouped,\n",
    "    x='start_year',\n",
    "    y='worldwide_gross',\n",
    "    hue='director_name',\n",
    "    palette='tab10',\n",
    "    marker='o'\n",
    ")\n",
    "\n",
    "# customize \n",
    "plt.title('Yearly Worldwide Gross for Top 5 Directors', fontsize=16)\n",
    "plt.xlabel('Year', fontsize=12)\n",
    "plt.ylabel('Worldwide Gross (USD)', fontsize=12)\n",
    "plt.legend(title='Director', loc='upper left')\n",
    "plt.grid(True)\n",
    "plt.tight_layout()\n",
    "plt.show()"
   ]
  },
  {
   "cell_type": "markdown",
   "id": "9faeab29",
   "metadata": {},
   "source": [
    "##  Yearly Gross Trends: Director Insights & Strategy\n",
    "\n",
    "###  Key Observations\n",
    "\n",
    "- **Franchise Peaks**  \n",
    "  The **Russo Brothers** and **Joss Whedon** see sharp revenue spikes during Marvel film releases, confirming that franchise titles consistently drive blockbuster earnings.\n",
    "\n",
    "- **Animation’s Reliable Growth**  \n",
    "  Directors like **Chris Coffin** demonstrate steady, year-over-year revenue increases, showcasing how animated sequels offer predictable, low-volatility returns unlike many live-action projects.\n",
    "\n",
    "- **Director Consistency**  \n",
    "  **Christopher Nolan** delivers consistently strong annual box office performance with original films, proving that non-franchise movies can still yield high revenue.\n",
    "\n",
    "- **Strategic Release Timing**  \n",
    "  Noticeable revenue dips between franchise film releases (e.g., gaps between Russo Bros’ Marvel movies) underscore the importance of planned release schedules to maintain audience momentum.\n",
    "\n",
    "\n",
    "## Strategic Takeaways\n",
    "\n",
    "1. **Invest in A‑List Directors for Tentpoles**  \n",
    "   Franchise talents like the Russo Brothers and Nolan demand high fees but offer reliable blockbuster returns.\n",
    "\n",
    "2. **Leverage Mid‑Tier Directors for Steady Growth**  \n",
    "   Mid-tier directors specializing in sequels and genre films provide strong returns at more accessible budgets.\n",
    "\n",
    "3. **Balance the Slate**  \n",
    "   A mixed strategy—combining tentpole franchise films with recurring mid-market titles—builds brand strength and financial stability.\n",
    "\n",
    "##  Core Insight\n",
    "\n",
    "By analyzing yearly box office trends—franchise-driven peaks, animated stability, and consistent originals—studios can align talent and production schedules to optimize box office impact and financial sustainability.\n",
    "\n"
   ]
  },
  {
   "cell_type": "markdown",
   "id": "ee19a910",
   "metadata": {},
   "source": [
    "##  4. Business Recommendations\n",
    "\n",
    "Entering the entertainment industry demands strategic, data-driven investment. Our analysis of global film trends in genre performance, language strategy, and creative talent offers a playbook for building a profitable and sustainable production slate.\n",
    "\n",
    "### Focus on High-Impact Genres\n",
    "\n",
    "**Findings**  \n",
    "- **Top Ratings**: Documentary, Classics, Anime & Manga consistently receive strong critical and audience acclaim.  \n",
    "- **Strong ROI**: Cult Films, Horror, and Documentaries deliver excellent returns on smaller budgets.  \n",
    "- **Niche Success**: Special Interest and Musical & Performing Arts perform well in targeted segments.  \n",
    "- **Underperformers**: Faith & Spirituality and Westerns lag in both ratings and revenue.\n",
    "\n",
    "**Recommendations**  \n",
    "- Prioritize genres with both critical and financial strength (e.g., Documentaries, Cult Films).  \n",
    "- Use cost-effective, high-ROI genres like Horror for early-stage projects.  \n",
    "- Skip low-impact genres unless they uniquely serve branding or niche demand.  \n",
    "- Experiment with genre hybrids to innovate while preserving appeal.\n",
    "\n",
    "###  Language Strategy for Global Reach\n",
    "\n",
    "**Findings**  \n",
    "- English dominates global cinema.  \n",
    "- French, Spanish, Japanese, and Russian produce impactful films despite smaller output.\n",
    "\n",
    "**Recommendations**  \n",
    "- Start with English-language production to maximize global exposure.  \n",
    "- Plan multilingual or subtitled content to enter regional markets.  \n",
    "- Monitor language trends to stay adaptive in shifting markets.\n",
    "\n",
    "\n",
    "### Leverage Proven Directorial Talent\n",
    "\n",
    "**Findings**  \n",
    "- Directors such as the Russo Brothers, Nolan, and Michael Bay consistently generate top box office results through both franchise and original films.\n",
    "\n",
    "**Recommendations**  \n",
    "- Partner with high-grossing directors or study their methods for faster success.  \n",
    "- Leverage director branding in marketing to attract investors and audiences.  \n",
    "- Cultivate emerging talent with potential for similar impact at a lower cost.  \n",
    "- Track director-level performance to identify long-term winners.\n",
    "\n",
    "\n",
    "### Balance Ratings with Financial Returns\n",
    "\n",
    "**Findings**  \n",
    "- High ratings don’t always equate to strong ROI.  \n",
    "- Some low-rated genres (e.g., Horror) deliver excellent profits due to cost efficiency and fan loyalty.\n",
    "\n",
    "**Recommendations**  \n",
    "- Evaluate genres through both critical acclaim and ROI before greenlighting.  \n",
    "- Blend high-ROI genres with well-reviewed genres to balance credibility and revenue.  \n",
    "- Stay agile by updating your genre mix as market and rating trends evolve.\n",
    "\n",
    "\n",
    "### 5. Limitations of Our Analysis\n",
    "\n",
    "**Coverage & Bias**  \n",
    "- Some genres, directors, and languages were underrepresented, affecting generalizability.  \n",
    "\n",
    "**Assumed Correlations**  \n",
    "- We inferred connections between popularity, ratings, and ROI without access to profit or return data—future work should incorporate actual financials.  \n",
    "\n",
    "**Genre Attribution**  \n",
    "- We treated multi-genre films equally across all genres. More nuanced weighting could improve accuracy.\n",
    "\n",
    "**Metadata Gaps**  \n",
    "- Terms such as “popularity” lacked clear definitions, leading to interpretive assumptions.\n",
    "\n",
    "**Integration Constraints**  \n",
    "- Inconsistent identifiers across sources limited our ability to analyze director–genre success correlations.\n",
    "\n",
    "\n",
    "### Further Areas for Exploration\n",
    "\n",
    "- Incorporate **audience demographics** and regional preferences for segmentation  \n",
    "- Analyze the impact of **marketing budgets** and distribution channels on ROI  \n",
    "- Study creative contributions from **writers, actors, and producers**  \n",
    "- Track **temporal shifts** (e.g., post-pandemic release trends) in viewing behavior\n"
   ]
  }
 ],
 "metadata": {
  "kernelspec": {
   "display_name": "learn-env",
   "language": "python",
   "name": "python3"
  },
  "language_info": {
   "codemirror_mode": {
    "name": "ipython",
    "version": 3
   },
   "file_extension": ".py",
   "mimetype": "text/x-python",
   "name": "python",
   "nbconvert_exporter": "python",
   "pygments_lexer": "ipython3",
   "version": "3.8.5"
  }
 },
 "nbformat": 4,
 "nbformat_minor": 5
}
