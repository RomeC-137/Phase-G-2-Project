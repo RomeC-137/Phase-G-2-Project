{
 "cells": [
  {
   "cell_type": "markdown",
   "id": "48c19d4b",
   "metadata": {},
   "source": [
    "# Analysis of the Film Industry for Business Expansion\n",
    "##  Project Overview\n",
    "\n",
    "In response to the growing trend of major corporations producing original content, our company is launching a data-driven initiative to establish a successful movie studio. Given our limited experience in film production, this project relies on a comprehensive analysis of film industry datasets to extract actionable insights.\n",
    "\n",
    "Our primary goal is to understand which aspects of the film industry—genres, directors, languages, and markets—are most closely associated with critical acclaim and financial success. These insights will inform a strategy that aligns creative projects with business objectives.\n",
    "\n",
    "\n",
    "##  Business Objective\n",
    "\n",
    "The film production landscape is increasingly influenced by streaming platforms, international markets, and digital distribution. To navigate this complexity, we must identify the key factors behind successful films using reliable, data-backed evidence.\n",
    "\n",
    "Through this analysis, we aim to:\n",
    "\n",
    "- Identify **genres** consistently praised by critics.\n",
    "- Determine **genres** with the highest **Return on Investment (ROI)** potential.\n",
    "- Recognize **directors** whose films perform well in **international markets**.\n",
    "- Discover **languages** most commonly associated with successful films.\n",
    "\n",
    "\n",
    "## Strategic Impact\n",
    "\n",
    "By answering these core questions, we will equip our studio team with the knowledge to:\n",
    "\n",
    "- Prioritize projects that are both critically and commercially promising.\n",
    "- Invest wisely in film concepts with high audience appeal and strong market potential.\n",
    "- Build a foundation for long-term success in the competitive entertainment industry.\n",
    "\n",
    "Let’s begin by exploring the data and uncovering the stories behind the numbers."
   ]
  },
  {
   "cell_type": "markdown",
   "id": "61568e37",
   "metadata": {},
   "source": [
    "# Loading and Exploring Datasets\n",
    "\n",
    "Before diving into analysis, it is essential to thoroughly explore each of the datasets and database tables we are working with. Our data sources span multiple reputable platforms, providing a comprehensive view of the film industry from both commercial and critical perspectives.\n",
    "\n",
    "### Datasets in Use:\n",
    "\n",
    "- **Box Office Mojo**\n",
    "- **IMDb**\n",
    "- **Rotten Tomatoes (Movies)**\n",
    "- **Rotten Tomatoes (Critic Reviews)**\n",
    "- **TheMovieDB**\n",
    "- **The Numbers**\n",
    "- **im.db** (SQLite database)\n",
    "\n",
    "\n",
    "###  Why Data Exploration Matters\n",
    "\n",
    "Data exploration is a critical step in any data-driven project. It helps us:\n",
    "\n",
    "- Understand the **structure, quality, and characteristics** of each dataset.\n",
    "- Identify and address issues such as **missing values**, **duplicates**, and **inconsistent formatting**.\n",
    "- Analyze **distributions** and **relationships** between variables to uncover initial patterns.\n",
    "- Develop an informed plan for **data cleaning**, **transformation**, and **integration**.\n",
    "\n",
    "By doing this, we reduce the risk of errors."
   ]
  },
  {
   "cell_type": "code",
   "execution_count": 27,
   "id": "5b2b56ac",
   "metadata": {},
   "outputs": [
    {
     "name": "stdout",
     "output_type": "stream",
     "text": [
      "c:\\Users\\USER\\Documents\\moringaprojects\\phase 2 project\\Phase-G-2-Project\n"
     ]
    }
   ],
   "source": [
    "# import the necessary libraries\n",
    "import itertools\n",
    "import numpy as np\n",
    "import pandas as pd \n",
    "from numbers import Number\n",
    "import sqlite3\n",
    "from scipy import stats\n",
    "import matplotlib.pyplot as plt\n",
    "import seaborn as sns\n",
    "import warnings\n",
    "from matplotlib.patches import Rectangle\n",
    "from matplotlib.gridspec import GridSpec\n",
    "import matplotlib.patches as mpatches\n",
    "from matplotlib.backends.backend_pdf import PdfPages\n",
    "import io\n",
    "import base64\n",
    "warnings.filterwarnings('ignore')\n",
    "\n",
    "import pickle\n",
    "import os\n",
    "print(os.getcwd())\n",
    "\n",
    "plt.style.use('default')\n",
    "sns.set_palette(\"husl\")\n",
    "plt.rcParams['figure.figsize'] = (12, 8)\n",
    "\n",
    "\n",
    "\n"
   ]
  },
  {
   "cell_type": "markdown",
   "id": "5e0a1b87",
   "metadata": {},
   "source": [
    "Load all datasets into pandas dataframes"
   ]
  },
  {
   "cell_type": "code",
   "execution_count": 19,
   "id": "694d9e59",
   "metadata": {},
   "outputs": [
    {
     "data": {
      "application/vnd.microsoft.datawrangler.viewer.v0+json": {
       "columns": [
        {
         "name": "index",
         "rawType": "int64",
         "type": "integer"
        },
        {
         "name": "title",
         "rawType": "object",
         "type": "string"
        },
        {
         "name": "studio",
         "rawType": "object",
         "type": "string"
        },
        {
         "name": "domestic_gross",
         "rawType": "float64",
         "type": "float"
        },
        {
         "name": "foreign_gross",
         "rawType": "object",
         "type": "string"
        },
        {
         "name": "year",
         "rawType": "int64",
         "type": "integer"
        }
       ],
       "ref": "057843f9-ce55-4461-8907-520240ef2c6d",
       "rows": [
        [
         "0",
         "Toy Story 3",
         "BV",
         "415000000.0",
         "652000000",
         "2010"
        ],
        [
         "1",
         "Alice in Wonderland (2010)",
         "BV",
         "334200000.0",
         "691300000",
         "2010"
        ],
        [
         "2",
         "Harry Potter and the Deathly Hallows Part 1",
         "WB",
         "296000000.0",
         "664300000",
         "2010"
        ],
        [
         "3",
         "Inception",
         "WB",
         "292600000.0",
         "535700000",
         "2010"
        ],
        [
         "4",
         "Shrek Forever After",
         "P/DW",
         "238700000.0",
         "513900000",
         "2010"
        ]
       ],
       "shape": {
        "columns": 5,
        "rows": 5
       }
      },
      "text/html": [
       "<div>\n",
       "<style scoped>\n",
       "    .dataframe tbody tr th:only-of-type {\n",
       "        vertical-align: middle;\n",
       "    }\n",
       "\n",
       "    .dataframe tbody tr th {\n",
       "        vertical-align: top;\n",
       "    }\n",
       "\n",
       "    .dataframe thead th {\n",
       "        text-align: right;\n",
       "    }\n",
       "</style>\n",
       "<table border=\"1\" class=\"dataframe\">\n",
       "  <thead>\n",
       "    <tr style=\"text-align: right;\">\n",
       "      <th></th>\n",
       "      <th>title</th>\n",
       "      <th>studio</th>\n",
       "      <th>domestic_gross</th>\n",
       "      <th>foreign_gross</th>\n",
       "      <th>year</th>\n",
       "    </tr>\n",
       "  </thead>\n",
       "  <tbody>\n",
       "    <tr>\n",
       "      <th>0</th>\n",
       "      <td>Toy Story 3</td>\n",
       "      <td>BV</td>\n",
       "      <td>415000000.0</td>\n",
       "      <td>652000000</td>\n",
       "      <td>2010</td>\n",
       "    </tr>\n",
       "    <tr>\n",
       "      <th>1</th>\n",
       "      <td>Alice in Wonderland (2010)</td>\n",
       "      <td>BV</td>\n",
       "      <td>334200000.0</td>\n",
       "      <td>691300000</td>\n",
       "      <td>2010</td>\n",
       "    </tr>\n",
       "    <tr>\n",
       "      <th>2</th>\n",
       "      <td>Harry Potter and the Deathly Hallows Part 1</td>\n",
       "      <td>WB</td>\n",
       "      <td>296000000.0</td>\n",
       "      <td>664300000</td>\n",
       "      <td>2010</td>\n",
       "    </tr>\n",
       "    <tr>\n",
       "      <th>3</th>\n",
       "      <td>Inception</td>\n",
       "      <td>WB</td>\n",
       "      <td>292600000.0</td>\n",
       "      <td>535700000</td>\n",
       "      <td>2010</td>\n",
       "    </tr>\n",
       "    <tr>\n",
       "      <th>4</th>\n",
       "      <td>Shrek Forever After</td>\n",
       "      <td>P/DW</td>\n",
       "      <td>238700000.0</td>\n",
       "      <td>513900000</td>\n",
       "      <td>2010</td>\n",
       "    </tr>\n",
       "  </tbody>\n",
       "</table>\n",
       "</div>"
      ],
      "text/plain": [
       "                                         title studio  domestic_gross  \\\n",
       "0                                  Toy Story 3     BV     415000000.0   \n",
       "1                   Alice in Wonderland (2010)     BV     334200000.0   \n",
       "2  Harry Potter and the Deathly Hallows Part 1     WB     296000000.0   \n",
       "3                                    Inception     WB     292600000.0   \n",
       "4                          Shrek Forever After   P/DW     238700000.0   \n",
       "\n",
       "  foreign_gross  year  \n",
       "0     652000000  2010  \n",
       "1     691300000  2010  \n",
       "2     664300000  2010  \n",
       "3     535700000  2010  \n",
       "4     513900000  2010  "
      ]
     },
     "execution_count": 19,
     "metadata": {},
     "output_type": "execute_result"
    }
   ],
   "source": [
    "bom_df = pd.read_csv(\"bom.movie_gross.csv\")\n",
    "bom_df.head()\n"
   ]
  },
  {
   "cell_type": "code",
   "execution_count": 30,
   "id": "b661194f",
   "metadata": {},
   "outputs": [
    {
     "data": {
      "application/vnd.microsoft.datawrangler.viewer.v0+json": {
       "columns": [
        {
         "name": "index",
         "rawType": "int64",
         "type": "integer"
        },
        {
         "name": "id",
         "rawType": "int64",
         "type": "integer"
        },
        {
         "name": "review",
         "rawType": "object",
         "type": "string"
        },
        {
         "name": "rating",
         "rawType": "object",
         "type": "string"
        },
        {
         "name": "fresh",
         "rawType": "object",
         "type": "string"
        },
        {
         "name": "critic",
         "rawType": "object",
         "type": "string"
        },
        {
         "name": "top_critic",
         "rawType": "int64",
         "type": "integer"
        },
        {
         "name": "publisher",
         "rawType": "object",
         "type": "string"
        },
        {
         "name": "date",
         "rawType": "object",
         "type": "string"
        }
       ],
       "ref": "58cc56d5-5b4c-4da6-8eb5-9b8875a15954",
       "rows": [
        [
         "0",
         "3",
         "A distinctly gallows take on contemporary financial mores, as one absurdly rich man's limo ride across town for a haircut functions as a state-of-the-nation discourse. ",
         "3/5",
         "fresh",
         "PJ Nabarro",
         "0",
         "Patrick Nabarro",
         "November 10, 2018"
        ],
        [
         "1",
         "3",
         "It's an allegory in search of a meaning that never arrives...It's just old-fashioned bad storytelling.",
         null,
         "rotten",
         "Annalee Newitz",
         "0",
         "io9.com",
         "May 23, 2018"
        ],
        [
         "2",
         "3",
         "... life lived in a bubble in financial dealings and digital communications and brief face-to-face conversations and sexual intermissions in a space shuttle of a limousine creeping through the gridlock of an anonymous New York City.",
         null,
         "fresh",
         "Sean Axmaker",
         "0",
         "Stream on Demand",
         "January 4, 2018"
        ],
        [
         "3",
         "3",
         "Continuing along a line introduced in last year's \"A Dangerous Method\", David Cronenberg pushes his cinema towards a talky abstraction in his uncanny, perversely funny and frighteningly insular adaptation of Don DeLillo, \"Cosmopolis\".",
         null,
         "fresh",
         "Daniel Kasman",
         "0",
         "MUBI",
         "November 16, 2017"
        ],
        [
         "4",
         "3",
         "... a perverse twist on neorealism... ",
         null,
         "fresh",
         null,
         "0",
         "Cinema Scope",
         "October 12, 2017"
        ]
       ],
       "shape": {
        "columns": 8,
        "rows": 5
       }
      },
      "text/html": [
       "<div>\n",
       "<style scoped>\n",
       "    .dataframe tbody tr th:only-of-type {\n",
       "        vertical-align: middle;\n",
       "    }\n",
       "\n",
       "    .dataframe tbody tr th {\n",
       "        vertical-align: top;\n",
       "    }\n",
       "\n",
       "    .dataframe thead th {\n",
       "        text-align: right;\n",
       "    }\n",
       "</style>\n",
       "<table border=\"1\" class=\"dataframe\">\n",
       "  <thead>\n",
       "    <tr style=\"text-align: right;\">\n",
       "      <th></th>\n",
       "      <th>id</th>\n",
       "      <th>review</th>\n",
       "      <th>rating</th>\n",
       "      <th>fresh</th>\n",
       "      <th>critic</th>\n",
       "      <th>top_critic</th>\n",
       "      <th>publisher</th>\n",
       "      <th>date</th>\n",
       "    </tr>\n",
       "  </thead>\n",
       "  <tbody>\n",
       "    <tr>\n",
       "      <th>0</th>\n",
       "      <td>3</td>\n",
       "      <td>A distinctly gallows take on contemporary fina...</td>\n",
       "      <td>3/5</td>\n",
       "      <td>fresh</td>\n",
       "      <td>PJ Nabarro</td>\n",
       "      <td>0</td>\n",
       "      <td>Patrick Nabarro</td>\n",
       "      <td>November 10, 2018</td>\n",
       "    </tr>\n",
       "    <tr>\n",
       "      <th>1</th>\n",
       "      <td>3</td>\n",
       "      <td>It's an allegory in search of a meaning that n...</td>\n",
       "      <td>NaN</td>\n",
       "      <td>rotten</td>\n",
       "      <td>Annalee Newitz</td>\n",
       "      <td>0</td>\n",
       "      <td>io9.com</td>\n",
       "      <td>May 23, 2018</td>\n",
       "    </tr>\n",
       "    <tr>\n",
       "      <th>2</th>\n",
       "      <td>3</td>\n",
       "      <td>... life lived in a bubble in financial dealin...</td>\n",
       "      <td>NaN</td>\n",
       "      <td>fresh</td>\n",
       "      <td>Sean Axmaker</td>\n",
       "      <td>0</td>\n",
       "      <td>Stream on Demand</td>\n",
       "      <td>January 4, 2018</td>\n",
       "    </tr>\n",
       "    <tr>\n",
       "      <th>3</th>\n",
       "      <td>3</td>\n",
       "      <td>Continuing along a line introduced in last yea...</td>\n",
       "      <td>NaN</td>\n",
       "      <td>fresh</td>\n",
       "      <td>Daniel Kasman</td>\n",
       "      <td>0</td>\n",
       "      <td>MUBI</td>\n",
       "      <td>November 16, 2017</td>\n",
       "    </tr>\n",
       "    <tr>\n",
       "      <th>4</th>\n",
       "      <td>3</td>\n",
       "      <td>... a perverse twist on neorealism...</td>\n",
       "      <td>NaN</td>\n",
       "      <td>fresh</td>\n",
       "      <td>NaN</td>\n",
       "      <td>0</td>\n",
       "      <td>Cinema Scope</td>\n",
       "      <td>October 12, 2017</td>\n",
       "    </tr>\n",
       "  </tbody>\n",
       "</table>\n",
       "</div>"
      ],
      "text/plain": [
       "   id                                             review rating   fresh  \\\n",
       "0   3  A distinctly gallows take on contemporary fina...    3/5   fresh   \n",
       "1   3  It's an allegory in search of a meaning that n...    NaN  rotten   \n",
       "2   3  ... life lived in a bubble in financial dealin...    NaN   fresh   \n",
       "3   3  Continuing along a line introduced in last yea...    NaN   fresh   \n",
       "4   3             ... a perverse twist on neorealism...     NaN   fresh   \n",
       "\n",
       "           critic  top_critic         publisher               date  \n",
       "0      PJ Nabarro           0   Patrick Nabarro  November 10, 2018  \n",
       "1  Annalee Newitz           0           io9.com       May 23, 2018  \n",
       "2    Sean Axmaker           0  Stream on Demand    January 4, 2018  \n",
       "3   Daniel Kasman           0              MUBI  November 16, 2017  \n",
       "4             NaN           0      Cinema Scope   October 12, 2017  "
      ]
     },
     "execution_count": 30,
     "metadata": {},
     "output_type": "execute_result"
    }
   ],
   "source": [
    "rt_reviews_df = pd.read_csv(\"rt.reviews.tsv\", sep='\\t',encoding='latin1')\n",
    "rt_reviews_df.head()"
   ]
  },
  {
   "cell_type": "code",
   "execution_count": 31,
   "id": "020c9f05",
   "metadata": {},
   "outputs": [
    {
     "data": {
      "application/vnd.microsoft.datawrangler.viewer.v0+json": {
       "columns": [
        {
         "name": "index",
         "rawType": "int64",
         "type": "integer"
        },
        {
         "name": "Unnamed: 0",
         "rawType": "int64",
         "type": "integer"
        },
        {
         "name": "genre_ids",
         "rawType": "object",
         "type": "string"
        },
        {
         "name": "id",
         "rawType": "int64",
         "type": "integer"
        },
        {
         "name": "original_language",
         "rawType": "object",
         "type": "string"
        },
        {
         "name": "original_title",
         "rawType": "object",
         "type": "string"
        },
        {
         "name": "popularity",
         "rawType": "float64",
         "type": "float"
        },
        {
         "name": "release_date",
         "rawType": "object",
         "type": "string"
        },
        {
         "name": "title",
         "rawType": "object",
         "type": "string"
        },
        {
         "name": "vote_average",
         "rawType": "float64",
         "type": "float"
        },
        {
         "name": "vote_count",
         "rawType": "int64",
         "type": "integer"
        }
       ],
       "ref": "991b15e5-5630-414a-bd1d-25cbb91c1aa3",
       "rows": [
        [
         "0",
         "0",
         "[12, 14, 10751]",
         "12444",
         "en",
         "Harry Potter and the Deathly Hallows: Part 1",
         "33.533",
         "2010-11-19",
         "Harry Potter and the Deathly Hallows: Part 1",
         "7.7",
         "10788"
        ],
        [
         "1",
         "1",
         "[14, 12, 16, 10751]",
         "10191",
         "en",
         "How to Train Your Dragon",
         "28.734",
         "2010-03-26",
         "How to Train Your Dragon",
         "7.7",
         "7610"
        ],
        [
         "2",
         "2",
         "[12, 28, 878]",
         "10138",
         "en",
         "Iron Man 2",
         "28.515",
         "2010-05-07",
         "Iron Man 2",
         "6.8",
         "12368"
        ],
        [
         "3",
         "3",
         "[16, 35, 10751]",
         "862",
         "en",
         "Toy Story",
         "28.005",
         "1995-11-22",
         "Toy Story",
         "7.9",
         "10174"
        ],
        [
         "4",
         "4",
         "[28, 878, 12]",
         "27205",
         "en",
         "Inception",
         "27.92",
         "2010-07-16",
         "Inception",
         "8.3",
         "22186"
        ]
       ],
       "shape": {
        "columns": 10,
        "rows": 5
       }
      },
      "text/html": [
       "<div>\n",
       "<style scoped>\n",
       "    .dataframe tbody tr th:only-of-type {\n",
       "        vertical-align: middle;\n",
       "    }\n",
       "\n",
       "    .dataframe tbody tr th {\n",
       "        vertical-align: top;\n",
       "    }\n",
       "\n",
       "    .dataframe thead th {\n",
       "        text-align: right;\n",
       "    }\n",
       "</style>\n",
       "<table border=\"1\" class=\"dataframe\">\n",
       "  <thead>\n",
       "    <tr style=\"text-align: right;\">\n",
       "      <th></th>\n",
       "      <th>Unnamed: 0</th>\n",
       "      <th>genre_ids</th>\n",
       "      <th>id</th>\n",
       "      <th>original_language</th>\n",
       "      <th>original_title</th>\n",
       "      <th>popularity</th>\n",
       "      <th>release_date</th>\n",
       "      <th>title</th>\n",
       "      <th>vote_average</th>\n",
       "      <th>vote_count</th>\n",
       "    </tr>\n",
       "  </thead>\n",
       "  <tbody>\n",
       "    <tr>\n",
       "      <th>0</th>\n",
       "      <td>0</td>\n",
       "      <td>[12, 14, 10751]</td>\n",
       "      <td>12444</td>\n",
       "      <td>en</td>\n",
       "      <td>Harry Potter and the Deathly Hallows: Part 1</td>\n",
       "      <td>33.533</td>\n",
       "      <td>2010-11-19</td>\n",
       "      <td>Harry Potter and the Deathly Hallows: Part 1</td>\n",
       "      <td>7.7</td>\n",
       "      <td>10788</td>\n",
       "    </tr>\n",
       "    <tr>\n",
       "      <th>1</th>\n",
       "      <td>1</td>\n",
       "      <td>[14, 12, 16, 10751]</td>\n",
       "      <td>10191</td>\n",
       "      <td>en</td>\n",
       "      <td>How to Train Your Dragon</td>\n",
       "      <td>28.734</td>\n",
       "      <td>2010-03-26</td>\n",
       "      <td>How to Train Your Dragon</td>\n",
       "      <td>7.7</td>\n",
       "      <td>7610</td>\n",
       "    </tr>\n",
       "    <tr>\n",
       "      <th>2</th>\n",
       "      <td>2</td>\n",
       "      <td>[12, 28, 878]</td>\n",
       "      <td>10138</td>\n",
       "      <td>en</td>\n",
       "      <td>Iron Man 2</td>\n",
       "      <td>28.515</td>\n",
       "      <td>2010-05-07</td>\n",
       "      <td>Iron Man 2</td>\n",
       "      <td>6.8</td>\n",
       "      <td>12368</td>\n",
       "    </tr>\n",
       "    <tr>\n",
       "      <th>3</th>\n",
       "      <td>3</td>\n",
       "      <td>[16, 35, 10751]</td>\n",
       "      <td>862</td>\n",
       "      <td>en</td>\n",
       "      <td>Toy Story</td>\n",
       "      <td>28.005</td>\n",
       "      <td>1995-11-22</td>\n",
       "      <td>Toy Story</td>\n",
       "      <td>7.9</td>\n",
       "      <td>10174</td>\n",
       "    </tr>\n",
       "    <tr>\n",
       "      <th>4</th>\n",
       "      <td>4</td>\n",
       "      <td>[28, 878, 12]</td>\n",
       "      <td>27205</td>\n",
       "      <td>en</td>\n",
       "      <td>Inception</td>\n",
       "      <td>27.920</td>\n",
       "      <td>2010-07-16</td>\n",
       "      <td>Inception</td>\n",
       "      <td>8.3</td>\n",
       "      <td>22186</td>\n",
       "    </tr>\n",
       "  </tbody>\n",
       "</table>\n",
       "</div>"
      ],
      "text/plain": [
       "   Unnamed: 0            genre_ids     id original_language  \\\n",
       "0           0      [12, 14, 10751]  12444                en   \n",
       "1           1  [14, 12, 16, 10751]  10191                en   \n",
       "2           2        [12, 28, 878]  10138                en   \n",
       "3           3      [16, 35, 10751]    862                en   \n",
       "4           4        [28, 878, 12]  27205                en   \n",
       "\n",
       "                                 original_title  popularity release_date  \\\n",
       "0  Harry Potter and the Deathly Hallows: Part 1      33.533   2010-11-19   \n",
       "1                      How to Train Your Dragon      28.734   2010-03-26   \n",
       "2                                    Iron Man 2      28.515   2010-05-07   \n",
       "3                                     Toy Story      28.005   1995-11-22   \n",
       "4                                     Inception      27.920   2010-07-16   \n",
       "\n",
       "                                          title  vote_average  vote_count  \n",
       "0  Harry Potter and the Deathly Hallows: Part 1           7.7       10788  \n",
       "1                      How to Train Your Dragon           7.7        7610  \n",
       "2                                    Iron Man 2           6.8       12368  \n",
       "3                                     Toy Story           7.9       10174  \n",
       "4                                     Inception           8.3       22186  "
      ]
     },
     "execution_count": 31,
     "metadata": {},
     "output_type": "execute_result"
    }
   ],
   "source": [
    "tmdb_df = pd.read_csv('tmdb.movies.csv')\n",
    "tmdb_df.head()"
   ]
  },
  {
   "cell_type": "code",
   "execution_count": 32,
   "id": "263c4ea4",
   "metadata": {},
   "outputs": [
    {
     "data": {
      "application/vnd.microsoft.datawrangler.viewer.v0+json": {
       "columns": [
        {
         "name": "index",
         "rawType": "int64",
         "type": "integer"
        },
        {
         "name": "id",
         "rawType": "int64",
         "type": "integer"
        },
        {
         "name": "release_date",
         "rawType": "object",
         "type": "string"
        },
        {
         "name": "movie",
         "rawType": "object",
         "type": "string"
        },
        {
         "name": "production_budget",
         "rawType": "object",
         "type": "string"
        },
        {
         "name": "domestic_gross",
         "rawType": "object",
         "type": "string"
        },
        {
         "name": "worldwide_gross",
         "rawType": "object",
         "type": "string"
        }
       ],
       "ref": "15456c9a-a41c-4199-be70-d04398c1dac4",
       "rows": [
        [
         "0",
         "1",
         "Dec 18, 2009",
         "Avatar",
         "$425,000,000",
         "$760,507,625",
         "$2,776,345,279"
        ],
        [
         "1",
         "2",
         "May 20, 2011",
         "Pirates of the Caribbean: On Stranger Tides",
         "$410,600,000",
         "$241,063,875",
         "$1,045,663,875"
        ],
        [
         "2",
         "3",
         "Jun 7, 2019",
         "Dark Phoenix",
         "$350,000,000",
         "$42,762,350",
         "$149,762,350"
        ],
        [
         "3",
         "4",
         "May 1, 2015",
         "Avengers: Age of Ultron",
         "$330,600,000",
         "$459,005,868",
         "$1,403,013,963"
        ],
        [
         "4",
         "5",
         "Dec 15, 2017",
         "Star Wars Ep. VIII: The Last Jedi",
         "$317,000,000",
         "$620,181,382",
         "$1,316,721,747"
        ],
        [
         "5",
         "6",
         "Dec 18, 2015",
         "Star Wars Ep. VII: The Force Awakens",
         "$306,000,000",
         "$936,662,225",
         "$2,053,311,220"
        ],
        [
         "6",
         "7",
         "Apr 27, 2018",
         "Avengers: Infinity War",
         "$300,000,000",
         "$678,815,482",
         "$2,048,134,200"
        ],
        [
         "7",
         "8",
         "May 24, 2007",
         "Pirates of the Caribbean: At Worldâs End",
         "$300,000,000",
         "$309,420,425",
         "$963,420,425"
        ],
        [
         "8",
         "9",
         "Nov 17, 2017",
         "Justice League",
         "$300,000,000",
         "$229,024,295",
         "$655,945,209"
        ],
        [
         "9",
         "10",
         "Nov 6, 2015",
         "Spectre",
         "$300,000,000",
         "$200,074,175",
         "$879,620,923"
        ],
        [
         "10",
         "11",
         "Jul 20, 2012",
         "The Dark Knight Rises",
         "$275,000,000",
         "$448,139,099",
         "$1,084,439,099"
        ],
        [
         "11",
         "12",
         "May 25, 2018",
         "Solo: A Star Wars Story",
         "$275,000,000",
         "$213,767,512",
         "$393,151,347"
        ],
        [
         "12",
         "13",
         "Jul 2, 2013",
         "The Lone Ranger",
         "$275,000,000",
         "$89,302,115",
         "$260,002,115"
        ],
        [
         "13",
         "14",
         "Mar 9, 2012",
         "John Carter",
         "$275,000,000",
         "$73,058,679",
         "$282,778,100"
        ],
        [
         "14",
         "15",
         "Nov 24, 2010",
         "Tangled",
         "$260,000,000",
         "$200,821,936",
         "$586,477,240"
        ],
        [
         "15",
         "16",
         "May 4, 2007",
         "Spider-Man 3",
         "$258,000,000",
         "$336,530,303",
         "$894,860,230"
        ],
        [
         "16",
         "17",
         "May 6, 2016",
         "Captain America: Civil War",
         "$250,000,000",
         "$408,084,349",
         "$1,140,069,413"
        ],
        [
         "17",
         "18",
         "Mar 25, 2016",
         "Batman v Superman: Dawn of Justice",
         "$250,000,000",
         "$330,360,194",
         "$867,500,281"
        ],
        [
         "18",
         "19",
         "Dec 14, 2012",
         "The Hobbit: An Unexpected Journey",
         "$250,000,000",
         "$303,003,568",
         "$1,017,003,568"
        ],
        [
         "19",
         "20",
         "Jul 15, 2009",
         "Harry Potter and the Half-Blood Prince",
         "$250,000,000",
         "$302,089,278",
         "$935,213,767"
        ],
        [
         "20",
         "21",
         "Dec 13, 2013",
         "The Hobbit: The Desolation of Smaug",
         "$250,000,000",
         "$258,366,855",
         "$960,366,855"
        ],
        [
         "21",
         "22",
         "Dec 17, 2014",
         "The Hobbit: The Battle of the Five Armies",
         "$250,000,000",
         "$255,119,788",
         "$945,577,621"
        ],
        [
         "22",
         "23",
         "Apr 14, 2017",
         "The Fate of the Furious",
         "$250,000,000",
         "$225,764,765",
         "$1,234,846,267"
        ],
        [
         "23",
         "24",
         "Jun 28, 2006",
         "Superman Returns",
         "$232,000,000",
         "$200,120,000",
         "$374,085,065"
        ],
        [
         "24",
         "25",
         "May 26, 2017",
         "Pirates of the Caribbean: Dead Men Tell No Tales",
         "$230,000,000",
         "$172,558,876",
         "$788,241,137"
        ],
        [
         "25",
         "26",
         "Nov 14, 2008",
         "Quantum of Solace",
         "$230,000,000",
         "$169,368,427",
         "$591,692,078"
        ],
        [
         "26",
         "27",
         "May 4, 2012",
         "The Avengers",
         "$225,000,000",
         "$623,279,547",
         "$1,517,935,897"
        ],
        [
         "27",
         "28",
         "Jul 7, 2006",
         "Pirates of the Caribbean: Dead Manâs Chest",
         "$225,000,000",
         "$423,315,812",
         "$1,066,215,812"
        ],
        [
         "28",
         "29",
         "Jun 14, 2013",
         "Man of Steel",
         "$225,000,000",
         "$291,045,518",
         "$667,999,518"
        ],
        [
         "29",
         "30",
         "May 16, 2008",
         "The Chronicles of Narnia: Prince Caspian",
         "$225,000,000",
         "$141,621,490",
         "$417,341,288"
        ],
        [
         "30",
         "31",
         "Jul 3, 2012",
         "The Amazing Spider-Man",
         "$220,000,000",
         "$262,030,663",
         "$757,890,267"
        ],
        [
         "31",
         "32",
         "May 18, 2012",
         "Battleship",
         "$220,000,000",
         "$65,233,400",
         "$313,477,717"
        ],
        [
         "32",
         "33",
         "Jun 21, 2017",
         "Transformers: The Last Knight",
         "$217,000,000",
         "$130,168,683",
         "$602,893,340"
        ],
        [
         "33",
         "34",
         "Jun 12, 2015",
         "Jurassic World",
         "$215,000,000",
         "$652,270,625",
         "$1,648,854,864"
        ],
        [
         "34",
         "35",
         "May 25, 2012",
         "Men in Black 3",
         "$215,000,000",
         "$179,020,854",
         "$654,213,485"
        ],
        [
         "35",
         "36",
         "Jun 24, 2009",
         "Transformers: Revenge of the Fallen",
         "$210,000,000",
         "$402,111,870",
         "$836,519,699"
        ],
        [
         "36",
         "37",
         "Jun 27, 2014",
         "Transformers: Age of Extinction",
         "$210,000,000",
         "$245,439,076",
         "$1,104,039,076"
        ],
        [
         "37",
         "38",
         "May 26, 2006",
         "X-Men: The Last Stand",
         "$210,000,000",
         "$234,362,462",
         "$459,260,946"
        ],
        [
         "38",
         "39",
         "May 14, 2010",
         "Robin Hood",
         "$210,000,000",
         "$105,487,148",
         "$322,459,006"
        ],
        [
         "39",
         "40",
         "Dec 14, 2005",
         "King Kong",
         "$207,000,000",
         "$218,080,025",
         "$550,517,357"
        ],
        [
         "40",
         "41",
         "Dec 7, 2007",
         "The Golden Compass",
         "$205,000,000",
         "$70,107,728",
         "$367,262,558"
        ],
        [
         "41",
         "42",
         "Feb 16, 2018",
         "Black Panther",
         "$200,000,000",
         "$700,059,566",
         "$1,348,258,224"
        ],
        [
         "42",
         "43",
         "Dec 19, 1997",
         "Titanic",
         "$200,000,000",
         "$659,363,944",
         "$2,208,208,395"
        ],
        [
         "43",
         "44",
         "Jun 15, 2018",
         "Incredibles 2",
         "$200,000,000",
         "$608,581,744",
         "$1,242,520,711"
        ],
        [
         "44",
         "45",
         "Dec 16, 2016",
         "Rogue One: A Star Wars Story",
         "$200,000,000",
         "$532,177,324",
         "$1,049,102,856"
        ],
        [
         "45",
         "46",
         "Jun 17, 2016",
         "Finding Dory",
         "$200,000,000",
         "$486,295,561",
         "$1,021,215,193"
        ],
        [
         "46",
         "47",
         "Jun 18, 2010",
         "Toy Story 3",
         "$200,000,000",
         "$415,004,880",
         "$1,068,879,522"
        ],
        [
         "47",
         "48",
         "May 3, 2013",
         "Iron Man 3",
         "$200,000,000",
         "$408,992,272",
         "$1,215,392,272"
        ],
        [
         "48",
         "49",
         "May 5, 2017",
         "Guardians of the Galaxy Vol 2",
         "$200,000,000",
         "$389,813,101",
         "$862,316,233"
        ],
        [
         "49",
         "50",
         "Jun 30, 2004",
         "Spider-Man 2",
         "$200,000,000",
         "$373,524,485",
         "$795,110,670"
        ]
       ],
       "shape": {
        "columns": 6,
        "rows": 5782
       }
      },
      "text/html": [
       "<div>\n",
       "<style scoped>\n",
       "    .dataframe tbody tr th:only-of-type {\n",
       "        vertical-align: middle;\n",
       "    }\n",
       "\n",
       "    .dataframe tbody tr th {\n",
       "        vertical-align: top;\n",
       "    }\n",
       "\n",
       "    .dataframe thead th {\n",
       "        text-align: right;\n",
       "    }\n",
       "</style>\n",
       "<table border=\"1\" class=\"dataframe\">\n",
       "  <thead>\n",
       "    <tr style=\"text-align: right;\">\n",
       "      <th></th>\n",
       "      <th>id</th>\n",
       "      <th>release_date</th>\n",
       "      <th>movie</th>\n",
       "      <th>production_budget</th>\n",
       "      <th>domestic_gross</th>\n",
       "      <th>worldwide_gross</th>\n",
       "    </tr>\n",
       "  </thead>\n",
       "  <tbody>\n",
       "    <tr>\n",
       "      <th>0</th>\n",
       "      <td>1</td>\n",
       "      <td>Dec 18, 2009</td>\n",
       "      <td>Avatar</td>\n",
       "      <td>$425,000,000</td>\n",
       "      <td>$760,507,625</td>\n",
       "      <td>$2,776,345,279</td>\n",
       "    </tr>\n",
       "    <tr>\n",
       "      <th>1</th>\n",
       "      <td>2</td>\n",
       "      <td>May 20, 2011</td>\n",
       "      <td>Pirates of the Caribbean: On Stranger Tides</td>\n",
       "      <td>$410,600,000</td>\n",
       "      <td>$241,063,875</td>\n",
       "      <td>$1,045,663,875</td>\n",
       "    </tr>\n",
       "    <tr>\n",
       "      <th>2</th>\n",
       "      <td>3</td>\n",
       "      <td>Jun 7, 2019</td>\n",
       "      <td>Dark Phoenix</td>\n",
       "      <td>$350,000,000</td>\n",
       "      <td>$42,762,350</td>\n",
       "      <td>$149,762,350</td>\n",
       "    </tr>\n",
       "    <tr>\n",
       "      <th>3</th>\n",
       "      <td>4</td>\n",
       "      <td>May 1, 2015</td>\n",
       "      <td>Avengers: Age of Ultron</td>\n",
       "      <td>$330,600,000</td>\n",
       "      <td>$459,005,868</td>\n",
       "      <td>$1,403,013,963</td>\n",
       "    </tr>\n",
       "    <tr>\n",
       "      <th>4</th>\n",
       "      <td>5</td>\n",
       "      <td>Dec 15, 2017</td>\n",
       "      <td>Star Wars Ep. VIII: The Last Jedi</td>\n",
       "      <td>$317,000,000</td>\n",
       "      <td>$620,181,382</td>\n",
       "      <td>$1,316,721,747</td>\n",
       "    </tr>\n",
       "    <tr>\n",
       "      <th>...</th>\n",
       "      <td>...</td>\n",
       "      <td>...</td>\n",
       "      <td>...</td>\n",
       "      <td>...</td>\n",
       "      <td>...</td>\n",
       "      <td>...</td>\n",
       "    </tr>\n",
       "    <tr>\n",
       "      <th>5777</th>\n",
       "      <td>78</td>\n",
       "      <td>Dec 31, 2018</td>\n",
       "      <td>Red 11</td>\n",
       "      <td>$7,000</td>\n",
       "      <td>$0</td>\n",
       "      <td>$0</td>\n",
       "    </tr>\n",
       "    <tr>\n",
       "      <th>5778</th>\n",
       "      <td>79</td>\n",
       "      <td>Apr 2, 1999</td>\n",
       "      <td>Following</td>\n",
       "      <td>$6,000</td>\n",
       "      <td>$48,482</td>\n",
       "      <td>$240,495</td>\n",
       "    </tr>\n",
       "    <tr>\n",
       "      <th>5779</th>\n",
       "      <td>80</td>\n",
       "      <td>Jul 13, 2005</td>\n",
       "      <td>Return to the Land of Wonders</td>\n",
       "      <td>$5,000</td>\n",
       "      <td>$1,338</td>\n",
       "      <td>$1,338</td>\n",
       "    </tr>\n",
       "    <tr>\n",
       "      <th>5780</th>\n",
       "      <td>81</td>\n",
       "      <td>Sep 29, 2015</td>\n",
       "      <td>A Plague So Pleasant</td>\n",
       "      <td>$1,400</td>\n",
       "      <td>$0</td>\n",
       "      <td>$0</td>\n",
       "    </tr>\n",
       "    <tr>\n",
       "      <th>5781</th>\n",
       "      <td>82</td>\n",
       "      <td>Aug 5, 2005</td>\n",
       "      <td>My Date With Drew</td>\n",
       "      <td>$1,100</td>\n",
       "      <td>$181,041</td>\n",
       "      <td>$181,041</td>\n",
       "    </tr>\n",
       "  </tbody>\n",
       "</table>\n",
       "<p>5782 rows × 6 columns</p>\n",
       "</div>"
      ],
      "text/plain": [
       "      id  release_date                                        movie  \\\n",
       "0      1  Dec 18, 2009                                       Avatar   \n",
       "1      2  May 20, 2011  Pirates of the Caribbean: On Stranger Tides   \n",
       "2      3   Jun 7, 2019                                 Dark Phoenix   \n",
       "3      4   May 1, 2015                      Avengers: Age of Ultron   \n",
       "4      5  Dec 15, 2017            Star Wars Ep. VIII: The Last Jedi   \n",
       "...   ..           ...                                          ...   \n",
       "5777  78  Dec 31, 2018                                       Red 11   \n",
       "5778  79   Apr 2, 1999                                    Following   \n",
       "5779  80  Jul 13, 2005                Return to the Land of Wonders   \n",
       "5780  81  Sep 29, 2015                         A Plague So Pleasant   \n",
       "5781  82   Aug 5, 2005                            My Date With Drew   \n",
       "\n",
       "     production_budget domestic_gross worldwide_gross  \n",
       "0         $425,000,000   $760,507,625  $2,776,345,279  \n",
       "1         $410,600,000   $241,063,875  $1,045,663,875  \n",
       "2         $350,000,000    $42,762,350    $149,762,350  \n",
       "3         $330,600,000   $459,005,868  $1,403,013,963  \n",
       "4         $317,000,000   $620,181,382  $1,316,721,747  \n",
       "...                ...            ...             ...  \n",
       "5777            $7,000             $0              $0  \n",
       "5778            $6,000        $48,482        $240,495  \n",
       "5779            $5,000         $1,338          $1,338  \n",
       "5780            $1,400             $0              $0  \n",
       "5781            $1,100       $181,041        $181,041  \n",
       "\n",
       "[5782 rows x 6 columns]"
      ]
     },
     "execution_count": 32,
     "metadata": {},
     "output_type": "execute_result"
    }
   ],
   "source": [
    "tn_budget_df = pd.read_csv('tn.movie_budgets.csv')\n",
    "tn_budget_df"
   ]
  },
  {
   "cell_type": "code",
   "execution_count": 33,
   "id": "70b3cbf1",
   "metadata": {},
   "outputs": [
    {
     "data": {
      "application/vnd.microsoft.datawrangler.viewer.v0+json": {
       "columns": [
        {
         "name": "index",
         "rawType": "int64",
         "type": "integer"
        },
        {
         "name": "id",
         "rawType": "int64",
         "type": "integer"
        },
        {
         "name": "synopsis",
         "rawType": "object",
         "type": "string"
        },
        {
         "name": "rating",
         "rawType": "object",
         "type": "string"
        },
        {
         "name": "genre",
         "rawType": "object",
         "type": "string"
        },
        {
         "name": "director",
         "rawType": "object",
         "type": "string"
        },
        {
         "name": "writer",
         "rawType": "object",
         "type": "string"
        },
        {
         "name": "theater_date",
         "rawType": "object",
         "type": "string"
        },
        {
         "name": "dvd_date",
         "rawType": "object",
         "type": "string"
        },
        {
         "name": "currency",
         "rawType": "object",
         "type": "string"
        },
        {
         "name": "box_office",
         "rawType": "object",
         "type": "string"
        },
        {
         "name": "runtime",
         "rawType": "object",
         "type": "string"
        },
        {
         "name": "studio",
         "rawType": "object",
         "type": "string"
        }
       ],
       "ref": "9aa8db84-1e0f-4428-9f5a-8e534b7d6e76",
       "rows": [
        [
         "0",
         "1",
         "This gritty, fast-paced, and innovative police drama earned five Academy Awards, including Best Picture, Best Adapted Screenplay (written by Ernest Tidyman), and Best Actor (Gene Hackman). Jimmy \"Popeye\" Doyle (Hackman) and his partner, Buddy Russo (Roy Scheider), are New York City police detectives on narcotics detail, trying to track down the source of heroin from Europe into the United States. Suave Alain Charnier (Fernando Rey) is the French drug kingpin who provides a large percentage of New York City's dope, and Pierre Nicoli (Marcel Bozzuffi) is a hired killer and Charnier's right-hand man. Acting on a hunch, Popeye and Buddy start tailing Sal Boca (Tony Lo Bianco) and his wife, Angie (Arlene Faber), who live pretty high for a couple whose corner store brings in about 7,000 dollars a year. It turns out Popeye's suspicions are right -- Sal and Angie are the New York agents for Charnier, who will be smuggling 32 million dollars' worth of heroin into the city in a car shipped over from France. The French Connection broke plenty of new ground for screen thrillers; Popeye Doyle was a highly unusual \"hero,\" an often violent, racist, and mean-spirited cop whose dedication to his job fell just short of dangerous obsession. The film's high point, a high-speed car chase with Popeye tailing an elevated train, was one of the most viscerally exciting screen moments of its day and set the stage for dozens of action sequences to follow. And the film's grimy realism (and downbeat ending) was a big change from the buff-and-shine gloss and good-guys-always-win heroics of most police dramas that preceded it. The French Connection was inspired by a true story, and Eddie Egan and Sonny Grosso, Popeye and Buddy's real life counterparts, both have small roles in the film. A sequel followed four years later.",
         "R",
         "Action and Adventure|Classics|Drama",
         "William Friedkin",
         "Ernest Tidyman",
         "Oct 9, 1971",
         "Sep 25, 2001",
         null,
         null,
         "104 minutes",
         null
        ],
        [
         "1",
         "3",
         "New York City, not-too-distant-future: Eric Packer, a 28 year-old finance golden boy dreaming of living in a civilization ahead of this one, watches a dark shadow cast over the firmament of the Wall Street galaxy, of which he is the uncontested king. As he is chauffeured across midtown Manhattan to get a haircut at his father's old barber, his anxious eyes are glued to the yuan's exchange rate: it is mounting against all expectations, destroying Eric's bet against it. Eric Packer is losing his empire with every tick of the clock. Meanwhile, an eruption of wild activity unfolds in the city's streets. Petrified as the threats of the real world infringe upon his cloud of virtual convictions, his paranoia intensifies during the course of his 24-hour cross-town odyssey. Packer starts to piece together clues that lead him to a most terrifying secret: his imminent assassination. -- (C) Official Site",
         "R",
         "Drama|Science Fiction and Fantasy",
         "David Cronenberg",
         "David Cronenberg|Don DeLillo",
         "Aug 17, 2012",
         "Jan 1, 2013",
         "$",
         "600,000",
         "108 minutes",
         "Entertainment One"
        ],
        [
         "2",
         "5",
         "Illeana Douglas delivers a superb performance as Denise Waverly, a fictional singer and songwriter whose life bears more than a passing resemblance to that of real-life pop star Carole King. Edna Buxton, the daughter of a Philadelphia steel tycoon, aspires to a career as a singer, and when against her mother's bidding she sings a sultry version of \"Hey There (You With the Stars in Your Eyes)\" (instead of Mom's choice, \"You'll Never Walk Alone\") at a talent contest, she wins a recording contact and moves to New York City. She cuts a record and gains a new stage name, Denise Waverly; however, she soon finds that girl singers are a dime a dozen in the Big Apple and her career as a vocalist goes nowhere. But she has a knack for writing songs, and eccentric producer Joel Milner (John Turturro) asks her to pen some songs for his upcoming projects. Teamed with Howard Caszatt (Eric Stoltz), a hipster songwriter who wants to express his political and social ideals through pop tunes, she finds both a successful collaborator and husband. While her work with Howard gains Denise writing credits on a string of hit records and respect within the industry, their marriage falls apart, and she becomes involved with Jay Phillips (Matt Dillon), the gifted but unstable leader of a popular West Coast surf music combo. Students of pop music history will have a ball with the various characters modeled after real-life rock legends, and the 1960s-style song score includes numbers written by Joni Mitchell and J. Mascis (of the band Dinosaur Jr.), as well as one-time King collaborator Gerry Goffin; a collaboration between Elvis Costello and Burt Bacharach, \"God Give Me Strength,\" led to a full album written by the two great tunesmiths.",
         "R",
         "Drama|Musical and Performing Arts",
         "Allison Anders",
         "Allison Anders",
         "Sep 13, 1996",
         "Apr 18, 2000",
         null,
         null,
         "116 minutes",
         null
        ],
        [
         "3",
         "6",
         "Michael Douglas runs afoul of a treacherous supervisor in this film version of Michael Crichton's novel. Douglas plays Tom Sanders, an executive at DigiCom, a leading computer software firm. DigiCom is about to launch a new virtual reality-based data storage system that is expected to revolutionize the industry, and Bob Garvin (Donald Sutherland), the owner of the company, is in the midst of negotiating a merger that could bring",
         "R",
         "Drama|Mystery and Suspense",
         "Barry Levinson",
         "Paul Attanasio|Michael Crichton",
         "Dec 9, 1994",
         "Aug 27, 1997",
         null,
         null,
         "128 minutes",
         null
        ],
        [
         "4",
         "7",
         null,
         "NR",
         "Drama|Romance",
         "Rodney Bennett",
         "Giles Cooper",
         null,
         null,
         null,
         null,
         "200 minutes",
         null
        ],
        [
         "5",
         "8",
         "The year is 1942. As the Allies unite overseas to keep the world safe for democracy, there are voices at home that are barely heard. One of them belongs to Willie Morris, a shy and gawky eight-year-old whose childhood is even more quiet and isolated than his home town of Yazoo, Mississippi. An only child, ignored at school and uncomfortable with girls, Willie looks up to and confides in next-door neighbor Dink Jenkins, the town's star athlete, who's preparing to ship out in the service of Uncle Sam. Willie's father, Jack Morris, a stern but good-hearted veteran who lost his leg in the Spanish Civil War, is chiefly responsible for Willie's overprotective upbringing. Pushing in the other direction is his mother, Ellen Morris, a capable woman who knows that what Willie needs most is some freedom and a friend. Willie's ninth birthday gives her an opportunity to offer him both, in the form of a Jack Russell terrier puppy that the delighted Willie names Skip. Skip's outgoing personality helps Willie to build a friendship with Rivers Applewhite, the prettiest girl in school. Skip then further serves as matchmaker for Willie and Rivers at the movie theater, and lends a paw after Willie is challenged by Big Boy Wilkinson, Henjie Henick and Spit McGee to prove his worth in a football game. With Skip's canine help, Willie starts becoming \"one of the boys.\" Then unexpectedly, Dink returns to Yazoo. But the dark truth soon emerges: Dink, when confronted by the realities of war, went AWOL. In trying to reconcile his hero worship of the Dink he once knew with his disappointment in the disgraced soldier, Willie begins to contend with the complexities of war and human conduct. He reaches a new perspective on these matters through his father's eyes and his own. Dink fails to show up at Willie's first baseball game, and the disappointed Willie takes it out on Skip, who runs away. The dog's disappearance and subsequent recovery teach Willie the strength of forgiveness, and give Dink a chance to embrace the power of redemption. Ultimately, it is a dog's love that teaches Willie Morris lifelong lessons of the human spirit.",
         "PG",
         "Drama|Kids and Family",
         "Jay Russell",
         "Gail Gilchriest",
         "Mar 3, 2000",
         "Jul 11, 2000",
         null,
         null,
         "95 minutes",
         "Warner Bros. Pictures"
        ],
        [
         "6",
         "10",
         "Some cast and crew from NBC's highly acclaimed, little-seen series Freaks and Geeks reunite for this teen comedy that also marks the first starring role for Tom Hanks' son, Colin. The younger Hanks plays Shaun Brumder, a high schooler eager to propel himself out of the land of surf bums and ranch homes to which the film's title refers. He's had his sights set on Stanford ever since he read the works of professor Marcus Skinner (Kevin Kline), and his transcript is stellar enough to gain him admission. Shaun is understandably furious, then, when he receives a rejection letter in the mail; after some detective work on his part, he realizes that his flaky counselor (Lily Tomlin) mistakenly sent the university the wrong papers. It's up to him to get to Stanford within 24 hours to set the record straight -- literally -- and he enlists the help of his slacker brother Lance (Jack Black) to do so. Orange County co-stars Catharine O'Hara and John Lithgow as Shaun and Lance's slightly unhinged parents; the film was directed by Jake Kasdan and written by Mike White, both of whom contributed to several episodes of Freaks and Geeks.",
         "PG-13",
         "Comedy",
         "Jake Kasdan",
         "Mike White",
         "Jan 11, 2002",
         "Jun 18, 2002",
         "$",
         "41,032,915",
         "82 minutes",
         "Paramount Pictures"
        ],
        [
         "7",
         "13",
         "Stewart Kane, an Irishman living in the Australian town of Jindabyne, is on a fishing trip in isolated hill country with three other men when they discover the body of a murdered girl in the river. Rather than return to the town immediately, they continue fishing and report their gruesome find days later. Stewart's wife Claire is the last to find out. Deeply disturbed by her husband's actions, her faith in her relationship with Stewart is shaken to the core. She wants to understand and tries to make things right. In her determination to help the victim's family Claire sets herself not only against her own family and friends but also those of the dead girl. Her marriage is taken to the brink and her peaceful life with Stewart and their young son hangs in the balance.",
         "R",
         "Drama",
         "Ray Lawrence",
         "Raymond Carver|Beatrix Christian",
         "Apr 27, 2006",
         "Oct 2, 2007",
         "$",
         "224,114",
         "123 minutes",
         "Sony Pictures Classics"
        ],
        [
         "8",
         "14",
         "\"Love Ranch\" is a bittersweet love story that turns explosive when the players in a romantic triangle lose control and cross the line. Set in the late-1970s, the film depicts larger than life personalities living on the edge, Grace Bontempo and Charlie Bontempo, the husband and wife team who own and run Nevada's first legalized brothel. Their lives are suddenly altered when Armando Bruza, a husky, world famous heavy weight boxer from South America is brought to the Ranch to train as part of Charlie's ever-expanding entrepreneurial empire. Plans quickly go awry when Bruza comes between Grace and Charlie as an unforeseen love triangle develops that erupts into uncontrollable passion and murder.",
         "R",
         "Drama",
         "Taylor Hackford",
         "Mark Jacobson",
         "Jun 30, 2010",
         "Nov 9, 2010",
         "$",
         "134,904",
         "117 minutes",
         null
        ],
        [
         "9",
         "15",
         "When a diamond expedition in the Congo is lost, a scientist is sent in to find out what happened. Tagging along is an primatologist taking a trained gorilla back to the wild and a Romanian treasure hunter. Jungle adventure flick is fun but never realistic.",
         "PG-13",
         "Action and Adventure|Mystery and Suspense|Science Fiction and Fantasy",
         "Frank Marshall",
         "John Patrick Shanley",
         "Jun 9, 1995",
         "Jul 27, 1999",
         null,
         null,
         "108 minutes",
         null
        ],
        [
         "10",
         "17",
         null,
         null,
         null,
         null,
         null,
         null,
         null,
         null,
         null,
         null,
         null
        ],
        [
         "11",
         "18",
         "In 1979, Bill Viola and Frank Caliguri dreamed up a contest pitting barroom bigmouths against wrestlers, martial artists, boxers, bouncers and brawlers, billed as no-holds-barred new type of competitive fighting. When the fights succeeded beyond their wildest expectations, they were swept up in a chain of events that ended in the first mixed-martial arts ban in the nation. \"Tough Guys\" chronicles the inception of Caliguri and Viola's first bouts and the colorful, crazy cast of fighters who made them a hit as well as the politicians who brought it all crashing down. The film brings to life a moment when the national martial arts craze was building to a crescendo as the economies of Pennsylvania steel towns were plummeting to levels of unemployment never seen, breeding desperate men looking for a chance to prove their worth and make some money in the ring.",
         "NR",
         "Documentary",
         null,
         "Robert Zullo",
         null,
         null,
         null,
         null,
         null,
         "Showtime Documentary Films"
        ],
        [
         "12",
         "19",
         "While Microsoft may be the biggest software company in the world, not every computer user is a fan of their products, or their way of doing business. While Microsoft's Windows became the most widely used operating system for personal computers in the world, many experts took issue with Microsoft's strict policies regarding licensing, ownership, distribution, and alteration of their software. The objections of many high-profile technology experts, most notably Richard Stallman, led to what has become known as \"the Open Source Movement,\" which is centered on the belief that computer software should be free both in the economic and intellectual senses of the word. Eventually, one of Stallman's admirers, Linus Torvalds, created a new operating system called Linux, a freely distributed software which many programmers consider to be markedly superior to Windows. Revolution OS is a documentary that examines the genesis of the Open Source Movement, and explores and explains the technical and intellectual issues involved in a manner understandable to computer aficionados and non-techheads alike.",
         "NR",
         "Documentary|Special Interest",
         null,
         null,
         "Aug 23, 2002",
         "Sep 30, 2003",
         null,
         null,
         "90 minutes",
         "Seventh Art Releasing"
        ],
        [
         "13",
         "20",
         "Rachel (Britt Ekland) is an Amish girl who rejects her religious upbringing and travels to the big city. She meets Raymond Paine (Jason Robards) and Billy Minsky (Elliot Gould) who put her on stage. A sensual striptease emerges from what was supposed to be a religious dance, eventually causing the cops to bust the place. Soon her father comes after his daughter who by now is coveted by gangsters. Forrest Tucker plays gangster Trim Houlihan, the quick-tempered Irishman. The film accurately reflects the mood of the burlesque halls which had died out by the time the feature was released. Veteran comic Burt Lahr, one of the last true burlesque and vaudeville performers, makes his last film appearance as Professor Spats. British comedian Norman Wisdom steals the show in his role as Chick Williams. Rudy Valee, the top crooning heartthrob of the 1920s, narrates and sings a few songs. The surviving Minsky brother Morton acted as technical advisor for this song and dance filled slice of Americana. Burlesque had all but died out by the time the film was release, and this feature accurately recalls the bygone era that started before talking pictures and even radio were mainstream items.",
         "PG-13",
         "Classics|Comedy|Drama",
         "William Friedkin",
         "Sidney Michaels|Arnold Schulman|Norman Lear",
         "Dec 22, 1968",
         "May 20, 2008",
         null,
         null,
         "97 minutes",
         null
        ],
        [
         "14",
         "21",
         "Old-school comic Rodney \"I get no respect\" Dangerfield headlines this broad-based comedy satire of trashy '90s-style television talk-shows. He plays the title host of an afternoon show that has become so sleazy that all but his most die-hard fans have stopped watching. Studio executive Lenny Spencer (Burt Reynolds) is so disgusted, that he gives Sparks one week to improve the ratings or else. To this end, Sparks attends a special reception hosted by his arch nemesis, ultra-conservative Governor Floyd Preston (David Ogden Stiers).",
         "R",
         "Comedy",
         "Peter Baldwin",
         "Rodney Dangerfield|Harry Basil",
         "Jan 31, 1997",
         "Sep 20, 1999",
         null,
         null,
         "106 minutes",
         null
        ],
        [
         "15",
         "22",
         "Two-time Academy Award Winner Kevin Spacey gives the performance of a lifetime in CASINO JACK, a riotous new film starring Spacey as a man hell bent on acquiring all that the good life has to offer. He plays in the same game as the highest of rollers and resorts to awe-inspiring levels of conning, scheming and fraudulent antics to get what he wants. Inspired by true events that are too over-the-top for even the wildest imaginations to conjure, CASINO JACK lays bare the wild excesses and escapades of Jack Abramoff. Aided by his business partner Michael Scanlon (Barry Pepper), Jack parlays his clout over some of the world's most powerful men with the goal of creating a personal empire of wealth and influence. When the two enlist a mob-connected buddy (Jon Lovitz) to help with one of their illegal schemes, they soon find themselves in over their heads, entrenched in a world of mafia assassins, murder and a scandal that spins so out of control that it makes worldwide headlines. Directed by George Hickenlooper (FACTORY GIRL, THE MAN FROM ELYSIAN FIELDS), CASINO JACK returns Spacey to the type of role that made him famous - a cool-headed, articulate snake charmer whose wild ambitions knows no limits or boundaries. The film also stars Kelly Preston and Rachelle Lefevre and is produced by Gary Howsam, Bill Marks and George Vitetzakis from an original screenplay by Norman Snider. Executive Producers are Richard Rionda Del Castro, Lewin Webb, Donald Zuckerman, Dana Brunetti, Patricia Eberle, Warren Nimchuk, Angelo Paletta and Domenic Serafino. The Associate Producer is Rick Chad. -- (C) Art Takes Over",
         "R",
         "Comedy|Drama|Mystery and Suspense",
         "George Hickenlooper",
         "Norman Snider",
         "Dec 17, 2010",
         "Apr 5, 2011",
         "$",
         "1,039,869",
         "108 minutes",
         "ATO Pictures"
        ],
        [
         "16",
         "23",
         "A fictional film set in the alluring world of one of the most stunning scandals to rock our nation, American Hustle tells the story of brilliant con man Irving Rosenfeld (Christian Bale), who along with his equally cunning and seductive British partner Sydney Prosser (Amy Adams) is forced to work for a wild FBI agent Richie DiMaso (Bradley Cooper). DiMaso pushes them into a world of Jersey powerbrokers and mafia that's as dangerous as it is enchanting. Jeremy Renner is Carmine Polito, the passionate, volatile, New Jersey political operator caught between the con-artists and Feds. Irving's unpredictable wife Rosalyn (Jennifer Lawrence) could be the one to pull the thread that brings the entire world crashing down. Like David O. Russell's previous films, American Hustle defies genre, hinging on raw emotion, and life and death stakes. (c) Sony",
         "R",
         "Drama",
         null,
         null,
         "Dec 20, 2013",
         "Mar 18, 2014",
         "$",
         "99,165,609",
         "129 minutes",
         "Sony Pictures"
        ],
        [
         "17",
         "24",
         "Three young boys discover a stranded Russian sailor on the shores of Key West in this well-meaning but unexciting drama. Initially viewing him as an enemy, the boys soon grow to like their new companion and agree to help him find a way back to his homeland.",
         "PG",
         "Action and Adventure|Comedy|Drama",
         "Rick Rosenthal",
         "Sheldon Lettich|Michael Nankin|Alan Jay Glueckman",
         "Nov 6, 1987",
         "Mar 8, 2005",
         null,
         null,
         "98 minutes",
         null
        ],
        [
         "18",
         "25",
         "From ancient Japan's most enduring tale, the epic 3D fantasy-adventure 47 Ronin is born. Keanu Reeves leads the cast as Kai, an outcast who joins Oishi (Hiroyuki Sanada), the leader of 47 outcast samurai. Together they seek vengeance upon the treacherous overlord who killed their master and banished their kind. To restore honor to their homeland, the warriors embark upon a quest that challenges them with a series of trials that would destroy ordinary warriors. 47 Ronin is helmed by visionary director Carl Erik Rinsch (The Gift). Inspired by styles as diverse as Miyazaki and Hokusai, Rinsch will bring to life the stunning landscapes and enormous battles that will display the timeless Ronin story to global audiences in a way that's never been seen before. -- (C) Universal",
         "PG-13",
         "Action and Adventure|Drama|Science Fiction and Fantasy",
         "Carl Erik Rinsch",
         "Chris Morgan|Hossein Amini",
         "Dec 25, 2013",
         "Apr 1, 2014",
         "$",
         "20,518,224",
         "127 minutes",
         "Universal Pictures"
        ],
        [
         "19",
         "26",
         "A comic series of short vignettes build on one another to create a cumulative effect, as the characters discuss things as diverse as caffeine popsicles, Paris in the '20s, and the use of nicotine as an insecticide--all the while sitting around sipping coffee and smoking cigarettes. As director Jim Jarmusch delves into the normal pace of our world from an extraordinary angle, he shows just how absorbing the obsessions, joys and addictions of life can be, if truly observed.",
         "R",
         "Art House and International|Comedy|Drama|Musical and Performing Arts",
         "Jim Jarmusch",
         "Jim Jarmusch",
         "May 14, 2004",
         "Sep 21, 2004",
         "$",
         "1,971,135",
         "96 minutes",
         "MGM"
        ],
        [
         "20",
         "27",
         null,
         "NR",
         "Musical and Performing Arts",
         null,
         null,
         null,
         null,
         null,
         null,
         null,
         null
        ],
        [
         "21",
         "28",
         "Elvis goes Hawaiian for the second time in this tuneful romantic adventure. He plays an irresponsible pilot who, with a partner, struggles to set up a charter helicopter business. When not toiling at that, the King is wooing island beauties and singing.",
         "G",
         "Classics|Comedy|Musical and Performing Arts|Romance",
         null,
         "Allan Weiss|Anthony Lawrence",
         "Jun 15, 1966",
         "Jan 7, 2003",
         null,
         null,
         "90 minutes",
         null
        ],
        [
         "22",
         "29",
         "This futuristic adventure stars Lee Majors as a former racing champ who reassembles his old Porsche and drives to California in a world where cars have been outlawed by the powers that be.",
         "PG",
         "Action and Adventure|Drama|Science Fiction and Fantasy",
         "Martyn Burke",
         null,
         "Apr 1, 1981",
         "May 10, 2011",
         null,
         null,
         "101 minutes",
         null
        ],
        [
         "23",
         "33",
         "Howard W. Campbell Jr. (Nick Nolte) is an American playwright living in pre-World War II Berlin. He is happily married to his lovely wife Helga (Sheryl Lee), and is acclaimed for his work, which gains him entree into Berlin's highest political and social circles. Then one day he's approached by Frank Wirtenan (John Goodman), an American intelligence agent who offers Campbell the opportunity to spy for his country. Campbell refuses. He wonders why he was asked. \"You're obsessed with the notion of pure hearts and heroism. You love good and you hate evil ...and you'd sacrifice anything in the name of romance,\" Wirtenan tells him. So Campbell agrees. He seamlessly infiltrates the Nazis and gets a job spewing hateful Nazi propaganda on a weekly radio show beamed across Europe. He barely survives the war, his wife supposedly doesn't, and finds himself living in New York City, penniless and befriended by a next-door neighbor, a painter and fellow widower (Alan Arkin). He might have lived quietly beyond that, but gets found by a ragged group of American neo-Nazis -- and, incredibly, his wife. The neo-Nazis publicize his presence and he learns that his neighbor is actually a spy and that his wife is really her little sister. Guilt-stricken and alone, Campbell turns himself in to the Israelis, who charge him with being a war criminal. He's about to go on trial in Israel when he receives a letter from Wirteman promising to reveal his heroic spying and exonerate him, but Campbell hangs himself in his cell.",
         "R",
         "Action and Adventure|Drama|Mystery and Suspense",
         "Keith Gordon",
         null,
         "Nov 1, 1996",
         "Aug 22, 2000",
         null,
         null,
         "114 minutes",
         null
        ],
        [
         "24",
         "34",
         "Director John Woo brings Hong Kong-style martial arts action to this comic book-flavored sequel that eschews the complicated plot and political maneuverings of its predecessor in favor of pure, adrenaline-charged thrills. Tom Cruise returns as Ethan Hunt, an operative for the top-secret government agency IMF (Impossible Missions Force). Fellow agent Sean Ambrose (Dougray Scott) has gone rogue, stealing a sample of a deadly synthetic virus named Chimera that could rapidly wipe out the world's population. Ambrose's plan is to sell Chimera to the highest bidder in exchange for shares of stock in the winner's company. Summoned by the new IMF chief (Anthony Hopkins in an uncredited cameo role), Ethan is assigned to recruit the help of Ambrose's former lover Nyah Nordoff-Hall (Thandie Newton), a gorgeous woman who left Ambrose broken-hearted and who may be able to quickly regain his confidence. Once he meets and spends a night with Nyah, however, Ethan is smitten, and now must both capture Ambrose and keep Nyah alive as she infiltrates a nest of vipers. Sophisticated disguises, gun battles, and high-speed chases are the order of the day, very much in the James Bond mold. Mission: Impossible 2 is based on a story by Star Trek: The Next Generation writers Ronald D. Moore and Brannon Braga, with a script polish by Robert Towne.",
         "PG-13",
         "Action and Adventure|Mystery and Suspense",
         "John Woo",
         "William Goldman|John Logan|David Marconi|Michael Tolkin|Robert Towne|Rick Berman",
         "Dec 31, 2000",
         "Nov 7, 2000",
         null,
         null,
         "123 minutes",
         "Paramount Pictures"
        ],
        [
         "25",
         "35",
         "In this film, conjoined twins Blake and Francis Falls share many vital organs. They have come to the big city to find their long-lost mother and end their suffering. Befriending a prostitute, Blake reveals that Francis is dying. He must choose between dying with his brother or a risky operation.",
         "R",
         "Drama",
         "Michael Polish",
         "Michael Polish|Mark Polish",
         "Jul 30, 1999",
         "Jan 18, 2000",
         null,
         null,
         "110 minutes",
         null
        ],
        [
         "26",
         "38",
         "You'd think they would know better from their first glance at the foreboding stone exterior of the blood-sucking Count's castle, but apparently they didn't, for this young couple, who are looking for the young man's missing brother, walks right into Dracula's lair. Christopher Lee plays Count Dracula in this gory and violent scare-maker.",
         "R",
         "Art House and International|Classics|Horror|Mystery and Suspense",
         "Roy Ward Baker",
         "Anthony Hinds|John Elder",
         "Dec 23, 1970",
         "Aug 7, 2001",
         null,
         null,
         "96 minutes",
         null
        ],
        [
         "27",
         "39",
         "A group of stoners at a rock festival is stalked by a serial killer wearing a Ronald Reagan mask in the unrated version of this outrageous horror comedy featuring a cast that includes Courteney Cox and David Arquette, who also co-wrote and directed. Jaime King, Thomas Jane, Jason Mewes, Balthazar Getty.",
         "R",
         "Horror",
         "David Arquette",
         "David Arquette|Joe Harris",
         "Apr 20, 2007",
         "Oct 30, 2007",
         null,
         null,
         "97 minutes",
         "After Dark Films/Freestyle Releasing"
        ],
        [
         "28",
         "40",
         "John Sayles' Casa de los Babys tells the tale of a half-dozen American women who travel to Latin America in order to pick up their adopted children. They all stay at the same motel while they each wade through the bureaucracy. Sharing with each other their fears, hopes, dreams, and frustrations at the thoughts of becoming mothers comprises the majority of the drama in the film. The cast includes Maggie Gyllenhaal, Daryl Hannah, Marcia Gay Harden, Susan Lynch, Mary Steenburgen, Lili Taylor, and Rita Moreno.",
         "R",
         "Drama",
         "John Sayles",
         "John Sayles",
         "Sep 19, 2003",
         "Apr 13, 2004",
         "$",
         "312,136",
         "95 minutes",
         null
        ],
        [
         "29",
         "41",
         "Ken Loach directs Sweet Sixteen, a gritty drama about a young man slowly succumbing to a life of crime. Liam (Martin Compson) hopes that his imprisoned mother (Michelle Coulter) will be free by his 16th birthday. Hoping to help his mother escape her abusive heroin-dealing boyfriend (Gary McCormack), Liam rats him out to the cops. Liam's sister, Chantelle (Annmarie Fulton), suggests that a new trailer park might be a better place for their mother to live. With the help of his best friend, Pinball (William Ruanne), Liam sells the boyfriend's supply in order to raise the money, but this gets him into trouble with gangsters whose turf he was selling in. Soon Liam is on the way up in the criminal world, but that success comes with a toll. The accents in this Scottish-set film are so thick that English subtitles are used throughout. Sweet Sixteen was screened in competition at the 2002 Cannes Film Festival.",
         "R",
         "Drama",
         "Ken Loach",
         "Paul Laverty",
         "May 16, 2003",
         "Oct 7, 2003",
         "$",
         "201,010",
         "106 minutes",
         "Lions Gate Films"
        ],
        [
         "30",
         "42",
         "Warner Bros.' \"Perry Mason\" series quietly slipped from the \"A\" to the \"B\" category with this adaptation of Erle Stanley Gardner's The Case of the Caretaker's Cat. Ricardo Cortez and June Travis take over from Warren William and Claire Dodd as criminal attorney Perry Mason and his faithful secretary Della Street. Though the characters had been married in Case of the Velvet Claws, they're unattached again here, though Della is still hoping. This time there are three murders, all connected with a hectic treasure hunt and a screeching feline (grey, not black",
         "G",
         "Action and Adventure|Classics|Drama|Mystery and Suspense",
         null,
         "Frederick Hugh Herbert",
         null,
         null,
         null,
         null,
         "65 minutes",
         null
        ],
        [
         "31",
         "43",
         "Based on the play",
         "NR",
         "Classics|Comedy|Musical and Performing Arts",
         "William Wellman",
         "Nunnally Johnson",
         null,
         null,
         null,
         null,
         "75 minutes",
         null
        ],
        [
         "32",
         "44",
         "Can death be a good career move? The star of Bio-Dome, Jury Duty, and In the Army Now decides to find out in this satirical comedy. Pauly Shore (playing himself) takes a role on a new situation comedy series for FOX TV after a string of awful movies puts paid to his film career, but when the show is axed at the last moment, Shore finds himself flat broke and unable to find work in Hollywood. At the end of his rope, one night Shore is visited by the ghost of comic Sam Kinison, who suggests that killing himself might be the answer. Shore lacks the nerve to go quite that far, but he goes half-way by faking his own death and is amazed to discover an outpouring of post-mortem enthusiasm for him and his body of work, with the dead comic now praised as a genius; however, as Shore tries to figure out how to capitalize on this outpouring of acceptance, word begins to spread that the comic is actually alive and well, which only causes more problems for him. Produced under the title You'll Never Wiez In This Town Again, Pauly Shore Is Dead was written and directed by Shore himself and features an impressive list of celebrity cameos including Chris Rock, Sean Penn, Ellen DeGeneres, Britney Spears, Vince Vaughn, Andy Dick, Paris Hilton, and lots more.",
         "R",
         "Comedy",
         "Pauly Shore",
         "Pauly Shore|Kirk Fox",
         "Mar 11, 2003",
         "Jan 25, 2005",
         null,
         null,
         "82 minutes",
         "Regent Releasing"
        ],
        [
         "33",
         "45",
         "Hawaiian surfer dudes Stew (Steve Van Wormer) and Phil Deedle (Paul Walker), fraternal twins, are about to be expelled from school, so their wealthy and concerned father (Eric Braeden) offers summer camp in Wyoming as a solution. Arriving in Jackson Hole with their wet suits, the Deedle twins are like fish out of water, and a series of accidents put them in a hospital. Mistaken for new recruits by Yellowstone Park ranger Capt. Pine (Douglas Ashton), the duo go along with the error after meeting their training officer, the attractive Lt. Jesse Ryan (A.J. Langer), but they are unprepared to adapt to life in the wild, as they cope with mountainside rappelling, sleeping in tents, eating worms, and dealing with hordes of prairie dogs unleashed by ex-ranger Frank Slater (Dennis Hopper), who seeks vengeance for his past problems in the park. There are several pop-culture references, including a cameo by Bart the Bear (of The Edge).",
         "PG",
         "Comedy|Kids and Family",
         "Steve Boyum",
         "Jim Herzfeld|Dale Pollock",
         null,
         null,
         null,
         null,
         "92 minutes",
         null
        ],
        [
         "34",
         "46",
         "Six guys with nothing left to lose try losing their clothing for fun and profit in this international hit comedy. Gaz (Robert Carlyle) and Dave (Mark Addy) are two former steelworkers in the British industrial town of Sheffield who have been devastated by the economic downturn in their community. Gaz is threatened with losing visitation rights with his son if he can't pay his child support, while Dave feels emasculated by his inability to support his wife. One day, Gaz stops by a local pub for a drink and is told it's women only tonight -- the Chippendales male exotic dancing troupe is playing, and they are demanding a hefty cover charge. Gaz decides there's nothing a bunch of pantywaists from America can do that he and his pals can't do better, and decides to form his own crew of male strippers, called \"Hard Steel.\" However, the local talent pool leaves a bit to be desired. Gaz isn't bad looking, but Dave is a bit heavy and very self conscious about it. Horse (Paul Barber) was probably hot stuff at Soul Night in the mid-70's, but his joints don't move like they used to. Guy (Hugo Speer) can't dance to save his life, but makes the troupe because ... well, let's say he and Dirk Diggler would have a lot to say to each other. Lomper (Steve Huison) is sometimes too busy attempting suicide to practice. And Gerald (Tom Wilkinson), their choreographer, isn't much on male exotic dancing -- ballroom dancing is more his speed. While \"Hard Steel\"'s performances are more amusing then enticing, for the first time since they lost their jobs the men have a reason to get up in the morning; joining the group has given them a circle of friendship, and a renewed sense of purpose. Combining broad comedy with believable and well-drawn characters, The Full Monty was a major box-office hit both in England and the United States and was nominated for Academy Awards as Best Picture, Best Director, and Best Original Screenplay.",
         "R",
         "Comedy|Musical and Performing Arts",
         "Peter Cattaneo",
         "Simon Beaufoy|Simon Beaufor",
         "Aug 13, 1997",
         "Nov 2, 1999",
         null,
         null,
         "91 minutes",
         null
        ],
        [
         "35",
         "48",
         "To fully enjoy the rugged outdoors adventure The Mountain, one must accept the notion that 55-year-old Spencer Tracy and 25-year-old Robert Wagner are brothers. Tracy plays veteran mountain guide Zachary Wheeler, who is coaxed out of retirement when a passenger plane crashes on high mountain. He decides it isn't worth risking his life to recover the bodies of the passengers, but hot-headed younger brother Chris (Robert Wagner), hoping to claim the victims' valuables, talks Zachary into accompanying him to the mountaintop. After their treacherous upward journey, the brothers discover that one of the passengers, a Hindu girl (Anna Kashfi), is still alive. Zachary wants to bring her back to safety, but the greedy Chris would rather abandon her and make off with the valuables. It is, inevitable, then, that not everyone involved is going to get off the mountain alive. A worthwhile character study enhanced by superb location photography, The Mountain is compromised by its overreliance on phony-looking studio \"exteriors\".",
         "NR",
         "Action and Adventure|Drama|Western",
         "Edward Dmytryk",
         "Ranald MacDougall",
         null,
         null,
         null,
         null,
         "73 minutes",
         null
        ],
        [
         "36",
         "49",
         "Two gorgeous women -- Donna (Dona Speir) and Taryn (Hope Marie Carlton) -- operate a airplane cargo delivery service in Hawaii. Their latest shipment includes a very large, very nasty snake destined for the local zoo. But the delivery is interrupted when they stumble on a cache of diamonds that were to go to a ruthless drug dealer, Seth (Rodrigo Obregon). Seth sends a transvestite to kidnap the owner of a restaurant, Edy (Cynthia Brimhall), so his men can torture her with a female bodybuilder into revealing where Donna and Taryn are. Luckily for all the good guys, Special Agent Rowdy Abilene (Ronn Moss) has a bazooka, and he knows how to use it. And unluckily for Seth, that nasty snake has broken out of its box.",
         "R",
         "Action and Adventure|Comedy|Mystery and Suspense",
         "Andy Sidaris",
         "Andy Sidaris",
         null,
         null,
         null,
         null,
         "100 minutes",
         null
        ],
        [
         "37",
         "50",
         "A New York City police officer (Don Murray) uses brutal methods to dispose of a would-be mugger (James Earl Jones) and then entreats the mugger's victim (Diahn Williams) to keep the affair a secret. While initially agreeing, she begins to suspect that he's holding something back.",
         "R",
         "Action and Adventure|Drama",
         "Ivan Nagy",
         "Don Petersen|George Wislocki",
         null,
         null,
         null,
         null,
         "99 minutes",
         null
        ],
        [
         "38",
         "51",
         "Wait Until Dark is an innovative, highly entertaining and suspenseful thriller about a blind housewife, Susy Hendrix (Audrey Hepburn). Independent and resourceful, Susy is learning to cope with her blindness, which resulted from a recent accident. She is aided by her difficult, slightly unreliable young neighbor Gloria (Julie Herrod) with whom she has an exasperated but lovingly maternal relationship. Susy's life is changed as she is terrorized by a group of criminals who believe she has hidden a baby doll used by them to smuggle heroin into the country. Unknown to Susy, her photographer husband Sam (Efrem Zimbalist Jr.) took the doll as a favor for a woman he met on an international plane flight and unwittingly brought the doll to the couple's New York apartment when the woman became afraid of the customs officials. Alone in her apartment and cut-off from the outside world, Susy must fight for her life against a gang of ruthless criminals, led by the violent, psychotic Roat (Alan Arkin). The tension builds as Roat, aided by his gang, impersonates police officers and friends of her husband in order to win Susy's confidence, gaining access to her apartment to look for the doll. The climax of the film, a violent physical confrontation between Susie and Roat in her dark kitchen, is one of the most memorable and frightening scenes in screen history. All performances are outstanding, particularly those of Audrey Hepburn who plays a vulnerable, but self-reliant woman, and Alan Arkin, in perhaps his best role, as the ruthless, manipulative Roat.",
         "NR",
         "Mystery and Suspense",
         "Terence Young",
         "Jane-Howard Carrington|Robert Carrington",
         "Oct 26, 1967",
         "Aug 5, 2003",
         null,
         null,
         "108 minutes",
         null
        ],
        [
         "39",
         "52",
         "This offbeat romantic comedy has some rather dark underpinnings that add, rather than detract from the fun. It is the story of Lucy, an extremely lonely young woman who works as a toll-taker for the Chicago Transit Authority. She is secretly in love with a handsome stranger in a camel-hair coat who passes by her every day but never even says hello to her. Just before Christmas, she is at work when she sees her \"love\" pushed, mugged and shoved off the train platform. Without hesitation she leaps down to pull the unconscious fellow out of the path of a speeding train. Later in the hospital, a series of complex misunderstandings occur and the woman is mistaken for the man's fiancee. As he is deeply comatose, Lucy goes along with it, much to the delight of the man's loud, dysfunctional family. Lucy has no real family, and she is happy to be a part of his strange brood. To make sure she stays, she decides to take certain liberties with her sleeping husband-to-be. Meanwhile, she and the patient's brother find themselves drawn to each other.",
         "PG",
         "Comedy|Drama|Romance",
         "Jon Turteltaub",
         null,
         "Apr 21, 1995",
         "Feb 3, 1998",
         null,
         null,
         "103 minutes",
         null
        ],
        [
         "40",
         "53",
         "La autobiograf",
         "PG",
         "Drama|Romance",
         null,
         null,
         null,
         null,
         null,
         null,
         "112 minutes",
         null
        ],
        [
         "41",
         "54",
         "Journalist Jep Gambardella (the dazzling Toni Servillo, Il divo and Gomorrah) has charmed and seduced his way through the lavish nightlife of Rome for decades. Since the legendary success of his one and only novel, he has been a permanent fixture in the city's literary and social circles, but when his sixty-fifth birthday coincides with a shock from the past, Jep finds himself unexpectedly taking stock of his life, turning his cutting wit on himself and his contemporaries, and looking past the extravagant nightclubs, parties, and caf",
         "NR",
         "Comedy|Drama",
         "Paolo Sorrentino",
         "Paolo Sorrentino|Umberto Contarello",
         "Nov 15, 2013",
         "Mar 25, 2014",
         null,
         null,
         "142 minutes",
         "Janus Films"
        ],
        [
         "42",
         "55",
         "A progressive scientist builds a machine that allows him time travel in this adaptation of the classic from H.G. Wells.",
         "NR",
         "Action and Adventure|Science Fiction and Fantasy",
         "Henning Schellerup",
         null,
         null,
         null,
         null,
         null,
         "99 minutes",
         null
        ],
        [
         "43",
         "56",
         "Albert Hughes and his brother Allen Hughes followed their striking debut Menace II Society with this ambitious look at the social and political lives of the African-American community in the late 1960s and early 1970s. Anthony Curtis (Larenz Tate) is a young man coming of age in the Bronx in 1968. Working two part-time jobs -- one as a milkman's helper and another for local numbers runner Kirby (Keith David) -- Anthony is torn between doing the right thing and trying to get by in a environment that offers few opportunities to young black men. After graduating from high school, Anthony decides to join the Marines, news that is not well-received by his parents, who want him to go to college, or his girlfriend Juanita (Rose Jackson), with whom Anthony recently lost his virginity. After serving a horrific tour of duty in Viet Nam with his friends Skip (Chris Tucker) and Jose (Freddy Rodriguez), Anthony finds himself back home in 1973, where Juanita has been raising the child he fathered before he shipped out, drugs and crime have crippled his community, and honest job prospects are practically nil. Eventually, Anthony falls in with Kirby, Skip, and Jose, who have teamed with Juanita's sister Delilah (N'Bushe Wright), a Black Power activist, and Cleon (Bokeem Woodbine), in a scheme to rob an armored truck taking worn greenbacks (\"dead presidents\") to a mint to be destroyed. Martin Sheen and Seymour Cassel appear unbilled in small roles.",
         "R",
         "Drama",
         "Allen Hughes|Albert Hughes",
         "Michael Henry Brown|Albert Hughes|Allen Hughes",
         "Oct 6, 1995",
         "May 19, 1998",
         null,
         null,
         "119 minutes",
         null
        ],
        [
         "44",
         "57",
         "Life doesn't always go according to plan. Pat Solatano (Bradley Cooper) has lost everything -- his house, his job, and his wife. He now finds himself living back with his mother (Jacki Weaver) and father (Robert DeNiro) after spending eight months is a state institution on a plea bargain. Pat is determined to rebuild his life, remain positive and reunite with his wife, despite the challenging circumstances of their separation. All Pat's parents want is for him to get back on his feet-and to share their family's obsession with the Philadelphia Eagles football team. When Pat meets Tiffany (Jennifer Lawrence), a mysterious girl with problems of her own, things get complicated. Tiffany offers to help Pat reconnect with his wife, but only if he'll do something very important for her in return. As their deal plays out, an unexpected bond begins to form between them, and silver linings appear in both of their lives. -- (C) Weinstein",
         "R",
         "Comedy",
         null,
         null,
         "Nov 21, 2012",
         "Apr 30, 2013",
         "$",
         "132,088,910",
         "122 minutes",
         "The Weinstein Company"
        ],
        [
         "45",
         "58",
         "A smaller, amusing comedy from writer/director Woody Allen, Broadway Danny Rose begins with a bunch of show business vets sitting around a table at New York's Carnegie Deli and reminiscing about the legendary titular character, a loser of an agent who would represent anyone, including blind xylophonists, piano-playing birds, and has-been crooners with drinking problems. Allen plays Rose as a befuddled, warm-hearted schlub who finally has a shot at getting somewhere when he signs washed-up lounge singer Lou Canova (Nick Apollo Forte) and nearly brings his career back to life. Danny gets him a date at the Waldorf, where Milton Berle is in the audience, looking for guests for his TV special. Canova has a complicated love life, juggling both a wife and a girlfriend. so he enlists Danny to take the girlfriend, Tina Vitale (Mia Farrow), to the concert. But Canova and Tina have a fight, she goes back to her Mafioso boyfriend, and Danny winds up getting chased halfway around New York and New Jersey by the Mob. And of course, once Canova gets his big break, he dumps Danny for another agent. Allen, Forte, and especially Farrow all do strong work with characters that could have easily become stereotypes, and the film has a lighter, warmer touch than the Allen films that preceded it (Stardust Memories and Zelig).",
         "PG",
         "Comedy|Romance",
         "Woody Allen",
         "Woody Allen",
         "Jan 27, 1984",
         "Nov 6, 2001",
         null,
         null,
         "86 minutes",
         null
        ],
        [
         "46",
         "59",
         "Set in the northern province of Shandong during the 1920s and early 30s, a young bride, on her way to a prearranged future with the leprous owner of a wine distillery, avoids rape and then abduction, is seduced, takes over her mysteriously dead husband's business, is captured, then ransomed and ultimately perishes during the Manchurian invasion by the Japanese.",
         "NR",
         "Art House and International|Drama",
         "Yimou Zhang",
         null,
         null,
         null,
         null,
         null,
         "91 minutes",
         null
        ],
        [
         "47",
         "60",
         "In 1982, Crippen High School was the scene of a gruesome series of dismemberment murders, but the killer was never identified. Five years later, Cosmic Pictures arrives at the long-abandoned campus to make a low-budget horror movie based on the tragedy, and suddenly the terror begins anew. The police department arrives at the school to find the building and grounds covered in gore and human body parts, the remains of the unfortunate film crew. The only survivor of this new massacre is the screenwriter, Arthur (Richard Brestoff), who tries to explain the horrifying events to the authorities. The troubled production's leading lady is angered over the demeaning nature of her role, the producer and director argue over the film's lack of artistic merits, and when cast members start disappearing, everyone else assumes that they're just quitting out of disgust. Who is the culprit? Is it the school's principal, appearing as himself in the film for the sake of realism? The janitor, who hopes to parlay his cameo into a pornography career? Or maybe Steven (Brendan Hughes), who was a student at Crippen during the original murder spree and finds himself reluctantly cast as the hero? This self-referential slasher parody features George Clooney in a small part as the film's first victim, and The Brady Bunch's Maureen McCormick as a policewoman with a lust for blood and hot dogs.",
         "R",
         "Horror",
         "Bill Froehlich",
         null,
         "Jan 1, 1987",
         "Nov 27, 2001",
         null,
         null,
         "95 minutes",
         null
        ],
        [
         "48",
         "61",
         "Death once again shows he's determined to get what he wants in this teen-centric thriller. Wendy (Mary Elizabeth Winstead) is a high school student hanging out with her friends at an amusement park one night when they decide to ride on the roller coaster. Wendy, however, has a premonition that something horrible will happen, and finds a way to save herself shortly before the ride goes off the rails, killing most of its passengers, including her boyfriend, Jason (Jesse Moss), and best friend, Carrie (Gina Holden). However, while Wendy may have survived the night at the park, she soon discovers that a malevolent spirit is following her and her classmates as they begin dying in strange and horrible ways. Wendy learns that a series of snapshots taken that evening give clues to the mayhem that followed her pals, and she teams up with Kevin (Ryan Merriman), Carrie's sweetheart, to try to warn the potential victims about the fates soon to befall them. Final Destination 3 was directed and co-scripted by James Wong, who also helmed the first two films in the franchise.",
         "R",
         "Action and Adventure|Drama|Horror|Mystery and Suspense",
         "James Wong",
         "James Wong|Glen Morgan",
         "Feb 10, 2006",
         "Jul 25, 2006",
         "$",
         "54,100,000",
         "93 minutes",
         "New Line Cinema"
        ],
        [
         "49",
         "63",
         "A policeman plays Good Samaritan to a visitor from Ireland, only to discover that he has a potentially deadly secret. Belfast-born Frankie McGuire (Brad Pitt) saw his father gunned down by enemy soldiers at the age of eight, and when he grew up he joined the Irish Republican Army, determined that one day his father's death would be avenged. An especially ruthless \"volunteer,\" Frankie is responsible for the death of 13 British soldiers and 11 policemen. After a particularly bloody battle, Frankie sails to the United States in a ragged tugboat he has restored; with a huge bundle of cash, Frankie intends to buy a stock of Stinger missiles from an underground arms dealer in America, Billy Burke (Treat Williams). Upon arrival in New York, Frankie is met by a judge who is sympathetic to the IRA's cause and who arranges a place for him to stay. Using the name Rory Devaney, Frankie moves into the home of Tom O'Meara (Harrison Ford), a scrupulously honest cop. Tom is already in the midst of a personal crisis; his friend and partner Edwin Diaz (Ruben Blades) recently shot a man that he knew was unarmed in the line of duty, and while Edwin wants Tom to help him cover up the matter, Tom's conscience will not allow it. When Tom begins to realize that \"Rory\" is not simply a man running from the violence of his homeland, he's torn between his sympathy for Frankie's tragic childhood and his desire to see justice served and prevent needless death in Ireland.",
         "R",
         "Action and Adventure|Drama|Mystery and Suspense",
         null,
         "David Aaron Cohen|Kevin Jarre|Vincent Patrick|Robin Squibb|Karen Wookey|Gary Capo",
         "Mar 26, 1997",
         "Feb 24, 1998",
         null,
         null,
         "111 minutes",
         null
        ]
       ],
       "shape": {
        "columns": 12,
        "rows": 1560
       }
      },
      "text/html": [
       "<div>\n",
       "<style scoped>\n",
       "    .dataframe tbody tr th:only-of-type {\n",
       "        vertical-align: middle;\n",
       "    }\n",
       "\n",
       "    .dataframe tbody tr th {\n",
       "        vertical-align: top;\n",
       "    }\n",
       "\n",
       "    .dataframe thead th {\n",
       "        text-align: right;\n",
       "    }\n",
       "</style>\n",
       "<table border=\"1\" class=\"dataframe\">\n",
       "  <thead>\n",
       "    <tr style=\"text-align: right;\">\n",
       "      <th></th>\n",
       "      <th>id</th>\n",
       "      <th>synopsis</th>\n",
       "      <th>rating</th>\n",
       "      <th>genre</th>\n",
       "      <th>director</th>\n",
       "      <th>writer</th>\n",
       "      <th>theater_date</th>\n",
       "      <th>dvd_date</th>\n",
       "      <th>currency</th>\n",
       "      <th>box_office</th>\n",
       "      <th>runtime</th>\n",
       "      <th>studio</th>\n",
       "    </tr>\n",
       "  </thead>\n",
       "  <tbody>\n",
       "    <tr>\n",
       "      <th>0</th>\n",
       "      <td>1</td>\n",
       "      <td>This gritty, fast-paced, and innovative police...</td>\n",
       "      <td>R</td>\n",
       "      <td>Action and Adventure|Classics|Drama</td>\n",
       "      <td>William Friedkin</td>\n",
       "      <td>Ernest Tidyman</td>\n",
       "      <td>Oct 9, 1971</td>\n",
       "      <td>Sep 25, 2001</td>\n",
       "      <td>NaN</td>\n",
       "      <td>NaN</td>\n",
       "      <td>104 minutes</td>\n",
       "      <td>NaN</td>\n",
       "    </tr>\n",
       "    <tr>\n",
       "      <th>1</th>\n",
       "      <td>3</td>\n",
       "      <td>New York City, not-too-distant-future: Eric Pa...</td>\n",
       "      <td>R</td>\n",
       "      <td>Drama|Science Fiction and Fantasy</td>\n",
       "      <td>David Cronenberg</td>\n",
       "      <td>David Cronenberg|Don DeLillo</td>\n",
       "      <td>Aug 17, 2012</td>\n",
       "      <td>Jan 1, 2013</td>\n",
       "      <td>$</td>\n",
       "      <td>600,000</td>\n",
       "      <td>108 minutes</td>\n",
       "      <td>Entertainment One</td>\n",
       "    </tr>\n",
       "    <tr>\n",
       "      <th>2</th>\n",
       "      <td>5</td>\n",
       "      <td>Illeana Douglas delivers a superb performance ...</td>\n",
       "      <td>R</td>\n",
       "      <td>Drama|Musical and Performing Arts</td>\n",
       "      <td>Allison Anders</td>\n",
       "      <td>Allison Anders</td>\n",
       "      <td>Sep 13, 1996</td>\n",
       "      <td>Apr 18, 2000</td>\n",
       "      <td>NaN</td>\n",
       "      <td>NaN</td>\n",
       "      <td>116 minutes</td>\n",
       "      <td>NaN</td>\n",
       "    </tr>\n",
       "    <tr>\n",
       "      <th>3</th>\n",
       "      <td>6</td>\n",
       "      <td>Michael Douglas runs afoul of a treacherous su...</td>\n",
       "      <td>R</td>\n",
       "      <td>Drama|Mystery and Suspense</td>\n",
       "      <td>Barry Levinson</td>\n",
       "      <td>Paul Attanasio|Michael Crichton</td>\n",
       "      <td>Dec 9, 1994</td>\n",
       "      <td>Aug 27, 1997</td>\n",
       "      <td>NaN</td>\n",
       "      <td>NaN</td>\n",
       "      <td>128 minutes</td>\n",
       "      <td>NaN</td>\n",
       "    </tr>\n",
       "    <tr>\n",
       "      <th>4</th>\n",
       "      <td>7</td>\n",
       "      <td>NaN</td>\n",
       "      <td>NR</td>\n",
       "      <td>Drama|Romance</td>\n",
       "      <td>Rodney Bennett</td>\n",
       "      <td>Giles Cooper</td>\n",
       "      <td>NaN</td>\n",
       "      <td>NaN</td>\n",
       "      <td>NaN</td>\n",
       "      <td>NaN</td>\n",
       "      <td>200 minutes</td>\n",
       "      <td>NaN</td>\n",
       "    </tr>\n",
       "    <tr>\n",
       "      <th>...</th>\n",
       "      <td>...</td>\n",
       "      <td>...</td>\n",
       "      <td>...</td>\n",
       "      <td>...</td>\n",
       "      <td>...</td>\n",
       "      <td>...</td>\n",
       "      <td>...</td>\n",
       "      <td>...</td>\n",
       "      <td>...</td>\n",
       "      <td>...</td>\n",
       "      <td>...</td>\n",
       "      <td>...</td>\n",
       "    </tr>\n",
       "    <tr>\n",
       "      <th>1555</th>\n",
       "      <td>1996</td>\n",
       "      <td>Forget terrorists or hijackers -- there's a ha...</td>\n",
       "      <td>R</td>\n",
       "      <td>Action and Adventure|Horror|Mystery and Suspense</td>\n",
       "      <td>NaN</td>\n",
       "      <td>NaN</td>\n",
       "      <td>Aug 18, 2006</td>\n",
       "      <td>Jan 2, 2007</td>\n",
       "      <td>$</td>\n",
       "      <td>33,886,034</td>\n",
       "      <td>106 minutes</td>\n",
       "      <td>New Line Cinema</td>\n",
       "    </tr>\n",
       "    <tr>\n",
       "      <th>1556</th>\n",
       "      <td>1997</td>\n",
       "      <td>The popular Saturday Night Live sketch was exp...</td>\n",
       "      <td>PG</td>\n",
       "      <td>Comedy|Science Fiction and Fantasy</td>\n",
       "      <td>Steve Barron</td>\n",
       "      <td>Terry Turner|Tom Davis|Dan Aykroyd|Bonnie Turner</td>\n",
       "      <td>Jul 23, 1993</td>\n",
       "      <td>Apr 17, 2001</td>\n",
       "      <td>NaN</td>\n",
       "      <td>NaN</td>\n",
       "      <td>88 minutes</td>\n",
       "      <td>Paramount Vantage</td>\n",
       "    </tr>\n",
       "    <tr>\n",
       "      <th>1557</th>\n",
       "      <td>1998</td>\n",
       "      <td>Based on a novel by Richard Powell, when the l...</td>\n",
       "      <td>G</td>\n",
       "      <td>Classics|Comedy|Drama|Musical and Performing Arts</td>\n",
       "      <td>Gordon Douglas</td>\n",
       "      <td>NaN</td>\n",
       "      <td>Jan 1, 1962</td>\n",
       "      <td>May 11, 2004</td>\n",
       "      <td>NaN</td>\n",
       "      <td>NaN</td>\n",
       "      <td>111 minutes</td>\n",
       "      <td>NaN</td>\n",
       "    </tr>\n",
       "    <tr>\n",
       "      <th>1558</th>\n",
       "      <td>1999</td>\n",
       "      <td>The Sandlot is a coming-of-age story about a g...</td>\n",
       "      <td>PG</td>\n",
       "      <td>Comedy|Drama|Kids and Family|Sports and Fitness</td>\n",
       "      <td>David Mickey Evans</td>\n",
       "      <td>David Mickey Evans|Robert Gunter</td>\n",
       "      <td>Apr 1, 1993</td>\n",
       "      <td>Jan 29, 2002</td>\n",
       "      <td>NaN</td>\n",
       "      <td>NaN</td>\n",
       "      <td>101 minutes</td>\n",
       "      <td>NaN</td>\n",
       "    </tr>\n",
       "    <tr>\n",
       "      <th>1559</th>\n",
       "      <td>2000</td>\n",
       "      <td>Suspended from the force, Paris cop Hubert is ...</td>\n",
       "      <td>R</td>\n",
       "      <td>Action and Adventure|Art House and Internation...</td>\n",
       "      <td>NaN</td>\n",
       "      <td>Luc Besson</td>\n",
       "      <td>Sep 27, 2001</td>\n",
       "      <td>Feb 11, 2003</td>\n",
       "      <td>NaN</td>\n",
       "      <td>NaN</td>\n",
       "      <td>94 minutes</td>\n",
       "      <td>Columbia Pictures</td>\n",
       "    </tr>\n",
       "  </tbody>\n",
       "</table>\n",
       "<p>1560 rows × 12 columns</p>\n",
       "</div>"
      ],
      "text/plain": [
       "        id                                           synopsis rating  \\\n",
       "0        1  This gritty, fast-paced, and innovative police...      R   \n",
       "1        3  New York City, not-too-distant-future: Eric Pa...      R   \n",
       "2        5  Illeana Douglas delivers a superb performance ...      R   \n",
       "3        6  Michael Douglas runs afoul of a treacherous su...      R   \n",
       "4        7                                                NaN     NR   \n",
       "...    ...                                                ...    ...   \n",
       "1555  1996  Forget terrorists or hijackers -- there's a ha...      R   \n",
       "1556  1997  The popular Saturday Night Live sketch was exp...     PG   \n",
       "1557  1998  Based on a novel by Richard Powell, when the l...      G   \n",
       "1558  1999  The Sandlot is a coming-of-age story about a g...     PG   \n",
       "1559  2000  Suspended from the force, Paris cop Hubert is ...      R   \n",
       "\n",
       "                                                  genre            director  \\\n",
       "0                   Action and Adventure|Classics|Drama    William Friedkin   \n",
       "1                     Drama|Science Fiction and Fantasy    David Cronenberg   \n",
       "2                     Drama|Musical and Performing Arts      Allison Anders   \n",
       "3                            Drama|Mystery and Suspense      Barry Levinson   \n",
       "4                                         Drama|Romance      Rodney Bennett   \n",
       "...                                                 ...                 ...   \n",
       "1555   Action and Adventure|Horror|Mystery and Suspense                 NaN   \n",
       "1556                 Comedy|Science Fiction and Fantasy        Steve Barron   \n",
       "1557  Classics|Comedy|Drama|Musical and Performing Arts      Gordon Douglas   \n",
       "1558    Comedy|Drama|Kids and Family|Sports and Fitness  David Mickey Evans   \n",
       "1559  Action and Adventure|Art House and Internation...                 NaN   \n",
       "\n",
       "                                                writer  theater_date  \\\n",
       "0                                       Ernest Tidyman   Oct 9, 1971   \n",
       "1                         David Cronenberg|Don DeLillo  Aug 17, 2012   \n",
       "2                                       Allison Anders  Sep 13, 1996   \n",
       "3                      Paul Attanasio|Michael Crichton   Dec 9, 1994   \n",
       "4                                         Giles Cooper           NaN   \n",
       "...                                                ...           ...   \n",
       "1555                                               NaN  Aug 18, 2006   \n",
       "1556  Terry Turner|Tom Davis|Dan Aykroyd|Bonnie Turner  Jul 23, 1993   \n",
       "1557                                               NaN   Jan 1, 1962   \n",
       "1558                  David Mickey Evans|Robert Gunter   Apr 1, 1993   \n",
       "1559                                        Luc Besson  Sep 27, 2001   \n",
       "\n",
       "          dvd_date currency  box_office      runtime             studio  \n",
       "0     Sep 25, 2001      NaN         NaN  104 minutes                NaN  \n",
       "1      Jan 1, 2013        $     600,000  108 minutes  Entertainment One  \n",
       "2     Apr 18, 2000      NaN         NaN  116 minutes                NaN  \n",
       "3     Aug 27, 1997      NaN         NaN  128 minutes                NaN  \n",
       "4              NaN      NaN         NaN  200 minutes                NaN  \n",
       "...            ...      ...         ...          ...                ...  \n",
       "1555   Jan 2, 2007        $  33,886,034  106 minutes    New Line Cinema  \n",
       "1556  Apr 17, 2001      NaN         NaN   88 minutes  Paramount Vantage  \n",
       "1557  May 11, 2004      NaN         NaN  111 minutes                NaN  \n",
       "1558  Jan 29, 2002      NaN         NaN  101 minutes                NaN  \n",
       "1559  Feb 11, 2003      NaN         NaN   94 minutes  Columbia Pictures  \n",
       "\n",
       "[1560 rows x 12 columns]"
      ]
     },
     "execution_count": 33,
     "metadata": {},
     "output_type": "execute_result"
    }
   ],
   "source": [
    "rt_info_df = pd.read_csv('rt.movie_info.tsv', sep='\\t')\n",
    "rt_info_df"
   ]
  },
  {
   "cell_type": "code",
   "execution_count": null,
   "id": "162a0587",
   "metadata": {},
   "outputs": [],
   "source": [
    "# establish a connection to the database\n",
    "path = (\"Data\\im.db\\im.db\")\n",
    "conn = sqlite3.connect(path)"
   ]
  },
  {
   "cell_type": "code",
   "execution_count": null,
   "id": "7e9ec8b4",
   "metadata": {},
   "outputs": [],
   "source": [
    "#create a cursor \n",
    "cursor = conn.cursor()"
   ]
  },
  {
   "cell_type": "code",
   "execution_count": 37,
   "id": "ecfbd22b",
   "metadata": {},
   "outputs": [
    {
     "data": {
      "application/vnd.microsoft.datawrangler.viewer.v0+json": {
       "columns": [
        {
         "name": "index",
         "rawType": "int64",
         "type": "integer"
        },
        {
         "name": "name",
         "rawType": "object",
         "type": "string"
        }
       ],
       "ref": "6dad73cb-6a0d-4588-a9a9-90cd2c25ac52",
       "rows": [
        [
         "0",
         "movie_basics"
        ],
        [
         "1",
         "directors"
        ],
        [
         "2",
         "known_for"
        ],
        [
         "3",
         "movie_akas"
        ],
        [
         "4",
         "movie_ratings"
        ],
        [
         "5",
         "persons"
        ],
        [
         "6",
         "principals"
        ],
        [
         "7",
         "writers"
        ]
       ],
       "shape": {
        "columns": 1,
        "rows": 8
       }
      },
      "text/html": [
       "<div>\n",
       "<style scoped>\n",
       "    .dataframe tbody tr th:only-of-type {\n",
       "        vertical-align: middle;\n",
       "    }\n",
       "\n",
       "    .dataframe tbody tr th {\n",
       "        vertical-align: top;\n",
       "    }\n",
       "\n",
       "    .dataframe thead th {\n",
       "        text-align: right;\n",
       "    }\n",
       "</style>\n",
       "<table border=\"1\" class=\"dataframe\">\n",
       "  <thead>\n",
       "    <tr style=\"text-align: right;\">\n",
       "      <th></th>\n",
       "      <th>name</th>\n",
       "    </tr>\n",
       "  </thead>\n",
       "  <tbody>\n",
       "    <tr>\n",
       "      <th>0</th>\n",
       "      <td>movie_basics</td>\n",
       "    </tr>\n",
       "    <tr>\n",
       "      <th>1</th>\n",
       "      <td>directors</td>\n",
       "    </tr>\n",
       "    <tr>\n",
       "      <th>2</th>\n",
       "      <td>known_for</td>\n",
       "    </tr>\n",
       "    <tr>\n",
       "      <th>3</th>\n",
       "      <td>movie_akas</td>\n",
       "    </tr>\n",
       "    <tr>\n",
       "      <th>4</th>\n",
       "      <td>movie_ratings</td>\n",
       "    </tr>\n",
       "    <tr>\n",
       "      <th>5</th>\n",
       "      <td>persons</td>\n",
       "    </tr>\n",
       "    <tr>\n",
       "      <th>6</th>\n",
       "      <td>principals</td>\n",
       "    </tr>\n",
       "    <tr>\n",
       "      <th>7</th>\n",
       "      <td>writers</td>\n",
       "    </tr>\n",
       "  </tbody>\n",
       "</table>\n",
       "</div>"
      ],
      "text/plain": [
       "            name\n",
       "0   movie_basics\n",
       "1      directors\n",
       "2      known_for\n",
       "3     movie_akas\n",
       "4  movie_ratings\n",
       "5        persons\n",
       "6     principals\n",
       "7        writers"
      ]
     },
     "execution_count": 37,
     "metadata": {},
     "output_type": "execute_result"
    }
   ],
   "source": [
    "# Query the SQLite database to list all table names\n",
    "pd.read_sql_query(\"SELECT name FROM sqlite_master WHERE type='table';\", conn)"
   ]
  },
  {
   "cell_type": "markdown",
   "id": "46a231fc",
   "metadata": {},
   "source": [
    "# Data Preparation & Cleaning\n",
    "\n",
    "Before conducting meaningful analysis, it is essential to prepare and clean the data appropriately. Although our earlier exploration suggests that the datasets are relatively high quality, they originate from diverse sources and therefore require alignment for consistency and accuracy.\n",
    "\n",
    "Data preparation involves:\n",
    "\n",
    "- Filtering relevant columns\n",
    "- Renaming fields for consistency\n",
    "- Handling duplicates or inconsistencies\n",
    "- Parsing multi-value fields\n",
    "- Merging datasets where necessary\n",
    "\n",
    "This step ensures that our analysis is based on a reliable, well-structured foundation.\n",
    "\n",
    "\n",
    "\n",
    "## Preparing Rotten Tomatoes Ratings and Genres Data\n",
    "\n",
    "To explore the relationship between **movie genres**, **ratings**, and **success metrics**, we focus first on preparing the **Rotten Tomatoes Movies** dataset. This dataset offers rich metadata for a wide array of films, including elements crucial to understanding **audience perception** and **genre trends**.\n",
    "\n",
    "Our objectives here are to:\n",
    "\n",
    "- Extract key attributes that reflect critical and audience reception\n",
    "- Standardize genre information for analytical use\n",
    "- Enable cross-comparison with financial and market performance data\n",
    "\n",
    "\n",
    "\n",
    "## Extracting Ratings and Genres\n",
    "\n",
    "We will extract and clean the following key columns from the dataset:\n",
    "\n",
    "- **`movie_title`** – The title of the movie as listed on Rotten Tomatoes.\n",
    "- **`genres`** – A comma-separated list of genres assigned to each movie (e.g., *Drama, Comedy, Action*).\n",
    "- **`audience_rating`** – The average rating given by audiences, usually on a scale of 0 to 100.\n",
    "- **`tomatometer_rating`** – The percentage of positive critic reviews (Tomatometer score).\n",
    "\n",
    "> **Note**: Since many movies belong to **multiple genres**, genre parsing must be handled carefully to allow accurate aggregation and trend analysis.\n",
    "\n",
    "By preparing this data effectively, we enable deeper insights into how **genre** and **reception** correlate with **film success**, supporting the strategic decision-making goals of our new studio."
   ]
  },
  {
   "cell_type": "code",
   "execution_count": 46,
   "id": "6e63821f",
   "metadata": {},
   "outputs": [
    {
     "data": {
      "application/vnd.microsoft.datawrangler.viewer.v0+json": {
       "columns": [
        {
         "name": "index",
         "rawType": "int64",
         "type": "integer"
        },
        {
         "name": "genres",
         "rawType": "object",
         "type": "string"
        }
       ],
       "ref": "59305148-4b1e-4cd9-a9a2-8e35e7fc605e",
       "rows": [
        [
         "0",
         "Action,Crime,Drama"
        ],
        [
         "1",
         "Biography,Drama"
        ],
        [
         "2",
         "Drama"
        ],
        [
         "3",
         "Comedy,Drama"
        ],
        [
         "4",
         "Comedy,Drama,Fantasy"
        ],
        [
         "5",
         "Horror,Thriller"
        ],
        [
         "6",
         "Adventure,Animation,Comedy"
        ],
        [
         "7",
         "Drama"
        ],
        [
         "8",
         "History"
        ],
        [
         "9",
         "Documentary"
        ],
        [
         "10",
         "Drama"
        ],
        [
         "11",
         "Documentary"
        ],
        [
         "12",
         "Animation,Drama,History"
        ],
        [
         "13",
         "Drama"
        ],
        [
         "14",
         "Drama"
        ],
        [
         "15",
         "Drama,Mystery"
        ],
        [
         "16",
         "Action,Animation,Comedy"
        ],
        [
         "17",
         "Crime,Drama"
        ],
        [
         "18",
         null
        ],
        [
         "19",
         "Biography,Comedy,Drama"
        ],
        [
         "20",
         "Documentary"
        ],
        [
         "21",
         "Drama"
        ],
        [
         "22",
         "Action,Drama"
        ],
        [
         "23",
         "Documentary,History"
        ],
        [
         "24",
         "Sci-Fi"
        ],
        [
         "25",
         "Comedy"
        ],
        [
         "26",
         "Documentary"
        ],
        [
         "27",
         "Thriller"
        ],
        [
         "28",
         "Crime,Drama"
        ],
        [
         "29",
         null
        ],
        [
         "30",
         "Adventure,Animation,Sci-Fi"
        ],
        [
         "31",
         "Action,Crime,Drama"
        ],
        [
         "32",
         "Drama,Horror"
        ],
        [
         "33",
         null
        ],
        [
         "34",
         "Drama,Mystery,Thriller"
        ],
        [
         "35",
         "Drama,Family"
        ],
        [
         "36",
         "Adventure,Comedy,Romance"
        ],
        [
         "37",
         null
        ],
        [
         "38",
         null
        ],
        [
         "39",
         "Comedy,Drama"
        ],
        [
         "40",
         "Adventure,Animation,Comedy"
        ],
        [
         "41",
         "Adventure,Drama,Romance"
        ],
        [
         "42",
         "Comedy,Crime,Drama"
        ],
        [
         "43",
         "Biography"
        ],
        [
         "44",
         "Horror"
        ],
        [
         "45",
         "Comedy,Drama"
        ],
        [
         "46",
         "Drama"
        ],
        [
         "47",
         "Adventure,Comedy,Drama"
        ],
        [
         "48",
         "Drama,Sci-Fi,Thriller"
        ],
        [
         "49",
         "Action"
        ]
       ],
       "shape": {
        "columns": 1,
        "rows": 73856
       }
      },
      "text/html": [
       "<div>\n",
       "<style scoped>\n",
       "    .dataframe tbody tr th:only-of-type {\n",
       "        vertical-align: middle;\n",
       "    }\n",
       "\n",
       "    .dataframe tbody tr th {\n",
       "        vertical-align: top;\n",
       "    }\n",
       "\n",
       "    .dataframe thead th {\n",
       "        text-align: right;\n",
       "    }\n",
       "</style>\n",
       "<table border=\"1\" class=\"dataframe\">\n",
       "  <thead>\n",
       "    <tr style=\"text-align: right;\">\n",
       "      <th></th>\n",
       "      <th>genres</th>\n",
       "    </tr>\n",
       "  </thead>\n",
       "  <tbody>\n",
       "    <tr>\n",
       "      <th>0</th>\n",
       "      <td>Action,Crime,Drama</td>\n",
       "    </tr>\n",
       "    <tr>\n",
       "      <th>1</th>\n",
       "      <td>Biography,Drama</td>\n",
       "    </tr>\n",
       "    <tr>\n",
       "      <th>2</th>\n",
       "      <td>Drama</td>\n",
       "    </tr>\n",
       "    <tr>\n",
       "      <th>3</th>\n",
       "      <td>Comedy,Drama</td>\n",
       "    </tr>\n",
       "    <tr>\n",
       "      <th>4</th>\n",
       "      <td>Comedy,Drama,Fantasy</td>\n",
       "    </tr>\n",
       "    <tr>\n",
       "      <th>...</th>\n",
       "      <td>...</td>\n",
       "    </tr>\n",
       "    <tr>\n",
       "      <th>73851</th>\n",
       "      <td>Documentary</td>\n",
       "    </tr>\n",
       "    <tr>\n",
       "      <th>73852</th>\n",
       "      <td>Drama,Family</td>\n",
       "    </tr>\n",
       "    <tr>\n",
       "      <th>73853</th>\n",
       "      <td>Documentary</td>\n",
       "    </tr>\n",
       "    <tr>\n",
       "      <th>73854</th>\n",
       "      <td>None</td>\n",
       "    </tr>\n",
       "    <tr>\n",
       "      <th>73855</th>\n",
       "      <td>Documentary</td>\n",
       "    </tr>\n",
       "  </tbody>\n",
       "</table>\n",
       "<p>73856 rows × 1 columns</p>\n",
       "</div>"
      ],
      "text/plain": [
       "                     genres\n",
       "0        Action,Crime,Drama\n",
       "1           Biography,Drama\n",
       "2                     Drama\n",
       "3              Comedy,Drama\n",
       "4      Comedy,Drama,Fantasy\n",
       "...                     ...\n",
       "73851           Documentary\n",
       "73852          Drama,Family\n",
       "73853           Documentary\n",
       "73854                  None\n",
       "73855           Documentary\n",
       "\n",
       "[73856 rows x 1 columns]"
      ]
     },
     "execution_count": 46,
     "metadata": {},
     "output_type": "execute_result"
    }
   ],
   "source": [
    "#using sql\n",
    "genre = pd.read_sql_query(\"\"\"SELECT genres FROM movie_basics JOIN movie_ratings USING (movie_id) \"\"\", conn)\n",
    "genre"
   ]
  },
  {
   "cell_type": "markdown",
   "id": "2449b19d",
   "metadata": {},
   "source": []
  }
 ],
 "metadata": {
  "kernelspec": {
   "display_name": "learn-env",
   "language": "python",
   "name": "python3"
  },
  "language_info": {
   "codemirror_mode": {
    "name": "ipython",
    "version": 3
   },
   "file_extension": ".py",
   "mimetype": "text/x-python",
   "name": "python",
   "nbconvert_exporter": "python",
   "pygments_lexer": "ipython3",
   "version": "3.8.5"
  }
 },
 "nbformat": 4,
 "nbformat_minor": 5
}
